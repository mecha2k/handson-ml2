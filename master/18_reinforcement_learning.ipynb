{
 "cells": [
  {
   "cell_type": "markdown",
   "metadata": {},
   "source": [
    "**Chapter 18 – Reinforcement Learning**"
   ]
  },
  {
   "cell_type": "markdown",
   "metadata": {},
   "source": [
    "_This notebook contains all the sample code in chapter 18_."
   ]
  },
  {
   "cell_type": "markdown",
   "metadata": {},
   "source": [
    "<table align=\"left\">\n",
    "  <td>\n",
    "    <a target=\"_blank\" href=\"https://colab.research.google.com/github/ageron/handson-ml2/blob/master/18_reinforcement_learning.ipynb\"><img src=\"https://www.tensorflow.org/images/colab_logo_32px.png\" />Run in Google Colab</a>\n",
    "  </td>\n",
    "</table>"
   ]
  },
  {
   "cell_type": "markdown",
   "metadata": {},
   "source": [
    "# Setup"
   ]
  },
  {
   "cell_type": "markdown",
   "metadata": {},
   "source": [
    "First, let's import a few common modules, ensure MatplotLib plots figures inline and prepare a function to save the figures. We also check that Python 3.5 or later is installed (although Python 2.x may work, it is deprecated so we strongly recommend you use Python 3 instead), as well as Scikit-Learn ≥0.20 and TensorFlow ≥2.0."
   ]
  },
  {
   "cell_type": "code",
   "execution_count": 1,
   "metadata": {},
   "outputs": [
    {
     "name": "stdout",
     "output_type": "stream",
     "text": [
      "No GPU was detected. CNNs can be very slow without a GPU.\n"
     ]
    }
   ],
   "source": [
    "# Python ≥3.5 is required\n",
    "import sys\n",
    "assert sys.version_info >= (3, 5)\n",
    "\n",
    "# Scikit-Learn ≥0.20 is required\n",
    "import sklearn\n",
    "assert sklearn.__version__ >= \"0.20\"\n",
    "\n",
    "try:\n",
    "    # %tensorflow_version only exists in Colab.\n",
    "    %tensorflow_version 2.x\n",
    "    !apt update && apt install -y libpq-dev libsdl2-dev swig xorg-dev xvfb\n",
    "    !pip install -q -U tf-agents-nightly pyvirtualdisplay gym[atari]\n",
    "    IS_COLAB = True\n",
    "except Exception:\n",
    "    IS_COLAB = False\n",
    "\n",
    "# TensorFlow ≥2.0 is required\n",
    "import tensorflow as tf\n",
    "from tensorflow import keras\n",
    "assert tf.__version__ >= \"2.0\"\n",
    "\n",
    "if not tf.config.list_physical_devices('GPU'):\n",
    "    print(\"No GPU was detected. CNNs can be very slow without a GPU.\")\n",
    "    if IS_COLAB:\n",
    "        print(\"Go to Runtime > Change runtime and select a GPU hardware accelerator.\")\n",
    "\n",
    "# Common imports\n",
    "import numpy as np\n",
    "import os\n",
    "\n",
    "# to make this notebook's output stable across runs\n",
    "np.random.seed(42)\n",
    "tf.random.set_seed(42)\n",
    "\n",
    "# To plot pretty figures\n",
    "%matplotlib inline\n",
    "import matplotlib as mpl\n",
    "import matplotlib.pyplot as plt\n",
    "mpl.rc('axes', labelsize=14)\n",
    "mpl.rc('xtick', labelsize=12)\n",
    "mpl.rc('ytick', labelsize=12)\n",
    "\n",
    "# To get smooth animations\n",
    "import matplotlib.animation as animation\n",
    "mpl.rc('animation', html='jshtml')\n",
    "\n",
    "# Where to save the figures\n",
    "PROJECT_ROOT_DIR = \".\"\n",
    "CHAPTER_ID = \"rl\"\n",
    "IMAGES_PATH = os.path.join(PROJECT_ROOT_DIR, \"images\", CHAPTER_ID)\n",
    "os.makedirs(IMAGES_PATH, exist_ok=True)\n",
    "\n",
    "def save_fig(fig_id, tight_layout=True, fig_extension=\"png\", resolution=300):\n",
    "    path = os.path.join(IMAGES_PATH, fig_id + \".\" + fig_extension)\n",
    "    print(\"Saving figure\", fig_id)\n",
    "    if tight_layout:\n",
    "        plt.tight_layout()\n",
    "    plt.savefig(path, format=fig_extension, dpi=resolution)"
   ]
  },
  {
   "cell_type": "markdown",
   "metadata": {},
   "source": [
    "# Introduction to OpenAI gym"
   ]
  },
  {
   "cell_type": "markdown",
   "metadata": {},
   "source": [
    "In this notebook we will be using [OpenAI gym](https://gym.openai.com/), a great toolkit for developing and comparing Reinforcement Learning algorithms. It provides many environments for your learning *agents* to interact with. Let's start by importing `gym`:"
   ]
  },
  {
   "cell_type": "code",
   "execution_count": 2,
   "metadata": {},
   "outputs": [],
   "source": [
    "import gym"
   ]
  },
  {
   "cell_type": "markdown",
   "metadata": {},
   "source": [
    "Let's list all the available environments:"
   ]
  },
  {
   "cell_type": "code",
   "execution_count": 3,
   "metadata": {},
   "outputs": [
    {
     "data": {
      "text/plain": [
       "dict_values([EnvSpec(Copy-v0), EnvSpec(RepeatCopy-v0), EnvSpec(ReversedAddition-v0), EnvSpec(ReversedAddition3-v0), EnvSpec(DuplicatedInput-v0), EnvSpec(Reverse-v0), EnvSpec(CartPole-v0), EnvSpec(CartPole-v1), EnvSpec(MountainCar-v0), EnvSpec(MountainCarContinuous-v0), EnvSpec(Pendulum-v0), EnvSpec(Acrobot-v1), EnvSpec(LunarLander-v2), EnvSpec(LunarLanderContinuous-v2), EnvSpec(BipedalWalker-v3), EnvSpec(BipedalWalkerHardcore-v3), EnvSpec(CarRacing-v0), EnvSpec(Blackjack-v0), EnvSpec(KellyCoinflip-v0), EnvSpec(KellyCoinflipGeneralized-v0), EnvSpec(FrozenLake-v0), EnvSpec(FrozenLake8x8-v0), EnvSpec(CliffWalking-v0), EnvSpec(NChain-v0), EnvSpec(Roulette-v0), EnvSpec(Taxi-v3), EnvSpec(GuessingGame-v0), EnvSpec(HotterColder-v0), EnvSpec(Reacher-v2), EnvSpec(Pusher-v2), EnvSpec(Thrower-v2), EnvSpec(Striker-v2), EnvSpec(InvertedPendulum-v2), EnvSpec(InvertedDoublePendulum-v2), EnvSpec(HalfCheetah-v2), EnvSpec(HalfCheetah-v3), EnvSpec(Hopper-v2), EnvSpec(Hopper-v3), EnvSpec(Swimmer-v2), EnvSpec(Swimmer-v3), EnvSpec(Walker2d-v2), EnvSpec(Walker2d-v3), EnvSpec(Ant-v2), EnvSpec(Ant-v3), EnvSpec(Humanoid-v2), EnvSpec(Humanoid-v3), EnvSpec(HumanoidStandup-v2), EnvSpec(FetchSlide-v1), EnvSpec(FetchPickAndPlace-v1), EnvSpec(FetchReach-v1), EnvSpec(FetchPush-v1), EnvSpec(HandReach-v0), EnvSpec(HandManipulateBlockRotateZ-v0), EnvSpec(HandManipulateBlockRotateZTouchSensors-v0), EnvSpec(HandManipulateBlockRotateZTouchSensors-v1), EnvSpec(HandManipulateBlockRotateParallel-v0), EnvSpec(HandManipulateBlockRotateParallelTouchSensors-v0), EnvSpec(HandManipulateBlockRotateParallelTouchSensors-v1), EnvSpec(HandManipulateBlockRotateXYZ-v0), EnvSpec(HandManipulateBlockRotateXYZTouchSensors-v0), EnvSpec(HandManipulateBlockRotateXYZTouchSensors-v1), EnvSpec(HandManipulateBlockFull-v0), EnvSpec(HandManipulateBlock-v0), EnvSpec(HandManipulateBlockTouchSensors-v0), EnvSpec(HandManipulateBlockTouchSensors-v1), EnvSpec(HandManipulateEggRotate-v0), EnvSpec(HandManipulateEggRotateTouchSensors-v0), EnvSpec(HandManipulateEggRotateTouchSensors-v1), EnvSpec(HandManipulateEggFull-v0), EnvSpec(HandManipulateEgg-v0), EnvSpec(HandManipulateEggTouchSensors-v0), EnvSpec(HandManipulateEggTouchSensors-v1), EnvSpec(HandManipulatePenRotate-v0), EnvSpec(HandManipulatePenRotateTouchSensors-v0), EnvSpec(HandManipulatePenRotateTouchSensors-v1), EnvSpec(HandManipulatePenFull-v0), EnvSpec(HandManipulatePen-v0), EnvSpec(HandManipulatePenTouchSensors-v0), EnvSpec(HandManipulatePenTouchSensors-v1), EnvSpec(FetchSlideDense-v1), EnvSpec(FetchPickAndPlaceDense-v1), EnvSpec(FetchReachDense-v1), EnvSpec(FetchPushDense-v1), EnvSpec(HandReachDense-v0), EnvSpec(HandManipulateBlockRotateZDense-v0), EnvSpec(HandManipulateBlockRotateZTouchSensorsDense-v0), EnvSpec(HandManipulateBlockRotateZTouchSensorsDense-v1), EnvSpec(HandManipulateBlockRotateParallelDense-v0), EnvSpec(HandManipulateBlockRotateParallelTouchSensorsDense-v0), EnvSpec(HandManipulateBlockRotateParallelTouchSensorsDense-v1), EnvSpec(HandManipulateBlockRotateXYZDense-v0), EnvSpec(HandManipulateBlockRotateXYZTouchSensorsDense-v0), EnvSpec(HandManipulateBlockRotateXYZTouchSensorsDense-v1), EnvSpec(HandManipulateBlockFullDense-v0), EnvSpec(HandManipulateBlockDense-v0), EnvSpec(HandManipulateBlockTouchSensorsDense-v0), EnvSpec(HandManipulateBlockTouchSensorsDense-v1), EnvSpec(HandManipulateEggRotateDense-v0), EnvSpec(HandManipulateEggRotateTouchSensorsDense-v0), EnvSpec(HandManipulateEggRotateTouchSensorsDense-v1), EnvSpec(HandManipulateEggFullDense-v0), EnvSpec(HandManipulateEggDense-v0), EnvSpec(HandManipulateEggTouchSensorsDense-v0), EnvSpec(HandManipulateEggTouchSensorsDense-v1), EnvSpec(HandManipulatePenRotateDense-v0), EnvSpec(HandManipulatePenRotateTouchSensorsDense-v0), EnvSpec(HandManipulatePenRotateTouchSensorsDense-v1), EnvSpec(HandManipulatePenFullDense-v0), EnvSpec(HandManipulatePenDense-v0), EnvSpec(HandManipulatePenTouchSensorsDense-v0), EnvSpec(HandManipulatePenTouchSensorsDense-v1), EnvSpec(Adventure-v0), EnvSpec(Adventure-v4), EnvSpec(AdventureDeterministic-v0), EnvSpec(AdventureDeterministic-v4), EnvSpec(AdventureNoFrameskip-v0), EnvSpec(AdventureNoFrameskip-v4), EnvSpec(Adventure-ram-v0), EnvSpec(Adventure-ram-v4), EnvSpec(Adventure-ramDeterministic-v0), EnvSpec(Adventure-ramDeterministic-v4), EnvSpec(Adventure-ramNoFrameskip-v0), EnvSpec(Adventure-ramNoFrameskip-v4), EnvSpec(AirRaid-v0), EnvSpec(AirRaid-v4), EnvSpec(AirRaidDeterministic-v0), EnvSpec(AirRaidDeterministic-v4), EnvSpec(AirRaidNoFrameskip-v0), EnvSpec(AirRaidNoFrameskip-v4), EnvSpec(AirRaid-ram-v0), EnvSpec(AirRaid-ram-v4), EnvSpec(AirRaid-ramDeterministic-v0), EnvSpec(AirRaid-ramDeterministic-v4), EnvSpec(AirRaid-ramNoFrameskip-v0), EnvSpec(AirRaid-ramNoFrameskip-v4), EnvSpec(Alien-v0), EnvSpec(Alien-v4), EnvSpec(AlienDeterministic-v0), EnvSpec(AlienDeterministic-v4), EnvSpec(AlienNoFrameskip-v0), EnvSpec(AlienNoFrameskip-v4), EnvSpec(Alien-ram-v0), EnvSpec(Alien-ram-v4), EnvSpec(Alien-ramDeterministic-v0), EnvSpec(Alien-ramDeterministic-v4), EnvSpec(Alien-ramNoFrameskip-v0), EnvSpec(Alien-ramNoFrameskip-v4), EnvSpec(Amidar-v0), EnvSpec(Amidar-v4), EnvSpec(AmidarDeterministic-v0), EnvSpec(AmidarDeterministic-v4), EnvSpec(AmidarNoFrameskip-v0), EnvSpec(AmidarNoFrameskip-v4), EnvSpec(Amidar-ram-v0), EnvSpec(Amidar-ram-v4), EnvSpec(Amidar-ramDeterministic-v0), EnvSpec(Amidar-ramDeterministic-v4), EnvSpec(Amidar-ramNoFrameskip-v0), EnvSpec(Amidar-ramNoFrameskip-v4), EnvSpec(Assault-v0), EnvSpec(Assault-v4), EnvSpec(AssaultDeterministic-v0), EnvSpec(AssaultDeterministic-v4), EnvSpec(AssaultNoFrameskip-v0), EnvSpec(AssaultNoFrameskip-v4), EnvSpec(Assault-ram-v0), EnvSpec(Assault-ram-v4), EnvSpec(Assault-ramDeterministic-v0), EnvSpec(Assault-ramDeterministic-v4), EnvSpec(Assault-ramNoFrameskip-v0), EnvSpec(Assault-ramNoFrameskip-v4), EnvSpec(Asterix-v0), EnvSpec(Asterix-v4), EnvSpec(AsterixDeterministic-v0), EnvSpec(AsterixDeterministic-v4), EnvSpec(AsterixNoFrameskip-v0), EnvSpec(AsterixNoFrameskip-v4), EnvSpec(Asterix-ram-v0), EnvSpec(Asterix-ram-v4), EnvSpec(Asterix-ramDeterministic-v0), EnvSpec(Asterix-ramDeterministic-v4), EnvSpec(Asterix-ramNoFrameskip-v0), EnvSpec(Asterix-ramNoFrameskip-v4), EnvSpec(Asteroids-v0), EnvSpec(Asteroids-v4), EnvSpec(AsteroidsDeterministic-v0), EnvSpec(AsteroidsDeterministic-v4), EnvSpec(AsteroidsNoFrameskip-v0), EnvSpec(AsteroidsNoFrameskip-v4), EnvSpec(Asteroids-ram-v0), EnvSpec(Asteroids-ram-v4), EnvSpec(Asteroids-ramDeterministic-v0), EnvSpec(Asteroids-ramDeterministic-v4), EnvSpec(Asteroids-ramNoFrameskip-v0), EnvSpec(Asteroids-ramNoFrameskip-v4), EnvSpec(Atlantis-v0), EnvSpec(Atlantis-v4), EnvSpec(AtlantisDeterministic-v0), EnvSpec(AtlantisDeterministic-v4), EnvSpec(AtlantisNoFrameskip-v0), EnvSpec(AtlantisNoFrameskip-v4), EnvSpec(Atlantis-ram-v0), EnvSpec(Atlantis-ram-v4), EnvSpec(Atlantis-ramDeterministic-v0), EnvSpec(Atlantis-ramDeterministic-v4), EnvSpec(Atlantis-ramNoFrameskip-v0), EnvSpec(Atlantis-ramNoFrameskip-v4), EnvSpec(BankHeist-v0), EnvSpec(BankHeist-v4), EnvSpec(BankHeistDeterministic-v0), EnvSpec(BankHeistDeterministic-v4), EnvSpec(BankHeistNoFrameskip-v0), EnvSpec(BankHeistNoFrameskip-v4), EnvSpec(BankHeist-ram-v0), EnvSpec(BankHeist-ram-v4), EnvSpec(BankHeist-ramDeterministic-v0), EnvSpec(BankHeist-ramDeterministic-v4), EnvSpec(BankHeist-ramNoFrameskip-v0), EnvSpec(BankHeist-ramNoFrameskip-v4), EnvSpec(BattleZone-v0), EnvSpec(BattleZone-v4), EnvSpec(BattleZoneDeterministic-v0), EnvSpec(BattleZoneDeterministic-v4), EnvSpec(BattleZoneNoFrameskip-v0), EnvSpec(BattleZoneNoFrameskip-v4), EnvSpec(BattleZone-ram-v0), EnvSpec(BattleZone-ram-v4), EnvSpec(BattleZone-ramDeterministic-v0), EnvSpec(BattleZone-ramDeterministic-v4), EnvSpec(BattleZone-ramNoFrameskip-v0), EnvSpec(BattleZone-ramNoFrameskip-v4), EnvSpec(BeamRider-v0), EnvSpec(BeamRider-v4), EnvSpec(BeamRiderDeterministic-v0), EnvSpec(BeamRiderDeterministic-v4), EnvSpec(BeamRiderNoFrameskip-v0), EnvSpec(BeamRiderNoFrameskip-v4), EnvSpec(BeamRider-ram-v0), EnvSpec(BeamRider-ram-v4), EnvSpec(BeamRider-ramDeterministic-v0), EnvSpec(BeamRider-ramDeterministic-v4), EnvSpec(BeamRider-ramNoFrameskip-v0), EnvSpec(BeamRider-ramNoFrameskip-v4), EnvSpec(Berzerk-v0), EnvSpec(Berzerk-v4), EnvSpec(BerzerkDeterministic-v0), EnvSpec(BerzerkDeterministic-v4), EnvSpec(BerzerkNoFrameskip-v0), EnvSpec(BerzerkNoFrameskip-v4), EnvSpec(Berzerk-ram-v0), EnvSpec(Berzerk-ram-v4), EnvSpec(Berzerk-ramDeterministic-v0), EnvSpec(Berzerk-ramDeterministic-v4), EnvSpec(Berzerk-ramNoFrameskip-v0), EnvSpec(Berzerk-ramNoFrameskip-v4), EnvSpec(Bowling-v0), EnvSpec(Bowling-v4), EnvSpec(BowlingDeterministic-v0), EnvSpec(BowlingDeterministic-v4), EnvSpec(BowlingNoFrameskip-v0), EnvSpec(BowlingNoFrameskip-v4), EnvSpec(Bowling-ram-v0), EnvSpec(Bowling-ram-v4), EnvSpec(Bowling-ramDeterministic-v0), EnvSpec(Bowling-ramDeterministic-v4), EnvSpec(Bowling-ramNoFrameskip-v0), EnvSpec(Bowling-ramNoFrameskip-v4), EnvSpec(Boxing-v0), EnvSpec(Boxing-v4), EnvSpec(BoxingDeterministic-v0), EnvSpec(BoxingDeterministic-v4), EnvSpec(BoxingNoFrameskip-v0), EnvSpec(BoxingNoFrameskip-v4), EnvSpec(Boxing-ram-v0), EnvSpec(Boxing-ram-v4), EnvSpec(Boxing-ramDeterministic-v0), EnvSpec(Boxing-ramDeterministic-v4), EnvSpec(Boxing-ramNoFrameskip-v0), EnvSpec(Boxing-ramNoFrameskip-v4), EnvSpec(Breakout-v0), EnvSpec(Breakout-v4), EnvSpec(BreakoutDeterministic-v0), EnvSpec(BreakoutDeterministic-v4), EnvSpec(BreakoutNoFrameskip-v0), EnvSpec(BreakoutNoFrameskip-v4), EnvSpec(Breakout-ram-v0), EnvSpec(Breakout-ram-v4), EnvSpec(Breakout-ramDeterministic-v0), EnvSpec(Breakout-ramDeterministic-v4), EnvSpec(Breakout-ramNoFrameskip-v0), EnvSpec(Breakout-ramNoFrameskip-v4), EnvSpec(Carnival-v0), EnvSpec(Carnival-v4), EnvSpec(CarnivalDeterministic-v0), EnvSpec(CarnivalDeterministic-v4), EnvSpec(CarnivalNoFrameskip-v0), EnvSpec(CarnivalNoFrameskip-v4), EnvSpec(Carnival-ram-v0), EnvSpec(Carnival-ram-v4), EnvSpec(Carnival-ramDeterministic-v0), EnvSpec(Carnival-ramDeterministic-v4), EnvSpec(Carnival-ramNoFrameskip-v0), EnvSpec(Carnival-ramNoFrameskip-v4), EnvSpec(Centipede-v0), EnvSpec(Centipede-v4), EnvSpec(CentipedeDeterministic-v0), EnvSpec(CentipedeDeterministic-v4), EnvSpec(CentipedeNoFrameskip-v0), EnvSpec(CentipedeNoFrameskip-v4), EnvSpec(Centipede-ram-v0), EnvSpec(Centipede-ram-v4), EnvSpec(Centipede-ramDeterministic-v0), EnvSpec(Centipede-ramDeterministic-v4), EnvSpec(Centipede-ramNoFrameskip-v0), EnvSpec(Centipede-ramNoFrameskip-v4), EnvSpec(ChopperCommand-v0), EnvSpec(ChopperCommand-v4), EnvSpec(ChopperCommandDeterministic-v0), EnvSpec(ChopperCommandDeterministic-v4), EnvSpec(ChopperCommandNoFrameskip-v0), EnvSpec(ChopperCommandNoFrameskip-v4), EnvSpec(ChopperCommand-ram-v0), EnvSpec(ChopperCommand-ram-v4), EnvSpec(ChopperCommand-ramDeterministic-v0), EnvSpec(ChopperCommand-ramDeterministic-v4), EnvSpec(ChopperCommand-ramNoFrameskip-v0), EnvSpec(ChopperCommand-ramNoFrameskip-v4), EnvSpec(CrazyClimber-v0), EnvSpec(CrazyClimber-v4), EnvSpec(CrazyClimberDeterministic-v0), EnvSpec(CrazyClimberDeterministic-v4), EnvSpec(CrazyClimberNoFrameskip-v0), EnvSpec(CrazyClimberNoFrameskip-v4), EnvSpec(CrazyClimber-ram-v0), EnvSpec(CrazyClimber-ram-v4), EnvSpec(CrazyClimber-ramDeterministic-v0), EnvSpec(CrazyClimber-ramDeterministic-v4), EnvSpec(CrazyClimber-ramNoFrameskip-v0), EnvSpec(CrazyClimber-ramNoFrameskip-v4), EnvSpec(Defender-v0), EnvSpec(Defender-v4), EnvSpec(DefenderDeterministic-v0), EnvSpec(DefenderDeterministic-v4), EnvSpec(DefenderNoFrameskip-v0), EnvSpec(DefenderNoFrameskip-v4), EnvSpec(Defender-ram-v0), EnvSpec(Defender-ram-v4), EnvSpec(Defender-ramDeterministic-v0), EnvSpec(Defender-ramDeterministic-v4), EnvSpec(Defender-ramNoFrameskip-v0), EnvSpec(Defender-ramNoFrameskip-v4), EnvSpec(DemonAttack-v0), EnvSpec(DemonAttack-v4), EnvSpec(DemonAttackDeterministic-v0), EnvSpec(DemonAttackDeterministic-v4), EnvSpec(DemonAttackNoFrameskip-v0), EnvSpec(DemonAttackNoFrameskip-v4), EnvSpec(DemonAttack-ram-v0), EnvSpec(DemonAttack-ram-v4), EnvSpec(DemonAttack-ramDeterministic-v0), EnvSpec(DemonAttack-ramDeterministic-v4), EnvSpec(DemonAttack-ramNoFrameskip-v0), EnvSpec(DemonAttack-ramNoFrameskip-v4), EnvSpec(DoubleDunk-v0), EnvSpec(DoubleDunk-v4), EnvSpec(DoubleDunkDeterministic-v0), EnvSpec(DoubleDunkDeterministic-v4), EnvSpec(DoubleDunkNoFrameskip-v0), EnvSpec(DoubleDunkNoFrameskip-v4), EnvSpec(DoubleDunk-ram-v0), EnvSpec(DoubleDunk-ram-v4), EnvSpec(DoubleDunk-ramDeterministic-v0), EnvSpec(DoubleDunk-ramDeterministic-v4), EnvSpec(DoubleDunk-ramNoFrameskip-v0), EnvSpec(DoubleDunk-ramNoFrameskip-v4), EnvSpec(ElevatorAction-v0), EnvSpec(ElevatorAction-v4), EnvSpec(ElevatorActionDeterministic-v0), EnvSpec(ElevatorActionDeterministic-v4), EnvSpec(ElevatorActionNoFrameskip-v0), EnvSpec(ElevatorActionNoFrameskip-v4), EnvSpec(ElevatorAction-ram-v0), EnvSpec(ElevatorAction-ram-v4), EnvSpec(ElevatorAction-ramDeterministic-v0), EnvSpec(ElevatorAction-ramDeterministic-v4), EnvSpec(ElevatorAction-ramNoFrameskip-v0), EnvSpec(ElevatorAction-ramNoFrameskip-v4), EnvSpec(Enduro-v0), EnvSpec(Enduro-v4), EnvSpec(EnduroDeterministic-v0), EnvSpec(EnduroDeterministic-v4), EnvSpec(EnduroNoFrameskip-v0), EnvSpec(EnduroNoFrameskip-v4), EnvSpec(Enduro-ram-v0), EnvSpec(Enduro-ram-v4), EnvSpec(Enduro-ramDeterministic-v0), EnvSpec(Enduro-ramDeterministic-v4), EnvSpec(Enduro-ramNoFrameskip-v0), EnvSpec(Enduro-ramNoFrameskip-v4), EnvSpec(FishingDerby-v0), EnvSpec(FishingDerby-v4), EnvSpec(FishingDerbyDeterministic-v0), EnvSpec(FishingDerbyDeterministic-v4), EnvSpec(FishingDerbyNoFrameskip-v0), EnvSpec(FishingDerbyNoFrameskip-v4), EnvSpec(FishingDerby-ram-v0), EnvSpec(FishingDerby-ram-v4), EnvSpec(FishingDerby-ramDeterministic-v0), EnvSpec(FishingDerby-ramDeterministic-v4), EnvSpec(FishingDerby-ramNoFrameskip-v0), EnvSpec(FishingDerby-ramNoFrameskip-v4), EnvSpec(Freeway-v0), EnvSpec(Freeway-v4), EnvSpec(FreewayDeterministic-v0), EnvSpec(FreewayDeterministic-v4), EnvSpec(FreewayNoFrameskip-v0), EnvSpec(FreewayNoFrameskip-v4), EnvSpec(Freeway-ram-v0), EnvSpec(Freeway-ram-v4), EnvSpec(Freeway-ramDeterministic-v0), EnvSpec(Freeway-ramDeterministic-v4), EnvSpec(Freeway-ramNoFrameskip-v0), EnvSpec(Freeway-ramNoFrameskip-v4), EnvSpec(Frostbite-v0), EnvSpec(Frostbite-v4), EnvSpec(FrostbiteDeterministic-v0), EnvSpec(FrostbiteDeterministic-v4), EnvSpec(FrostbiteNoFrameskip-v0), EnvSpec(FrostbiteNoFrameskip-v4), EnvSpec(Frostbite-ram-v0), EnvSpec(Frostbite-ram-v4), EnvSpec(Frostbite-ramDeterministic-v0), EnvSpec(Frostbite-ramDeterministic-v4), EnvSpec(Frostbite-ramNoFrameskip-v0), EnvSpec(Frostbite-ramNoFrameskip-v4), EnvSpec(Gopher-v0), EnvSpec(Gopher-v4), EnvSpec(GopherDeterministic-v0), EnvSpec(GopherDeterministic-v4), EnvSpec(GopherNoFrameskip-v0), EnvSpec(GopherNoFrameskip-v4), EnvSpec(Gopher-ram-v0), EnvSpec(Gopher-ram-v4), EnvSpec(Gopher-ramDeterministic-v0), EnvSpec(Gopher-ramDeterministic-v4), EnvSpec(Gopher-ramNoFrameskip-v0), EnvSpec(Gopher-ramNoFrameskip-v4), EnvSpec(Gravitar-v0), EnvSpec(Gravitar-v4), EnvSpec(GravitarDeterministic-v0), EnvSpec(GravitarDeterministic-v4), EnvSpec(GravitarNoFrameskip-v0), EnvSpec(GravitarNoFrameskip-v4), EnvSpec(Gravitar-ram-v0), EnvSpec(Gravitar-ram-v4), EnvSpec(Gravitar-ramDeterministic-v0), EnvSpec(Gravitar-ramDeterministic-v4), EnvSpec(Gravitar-ramNoFrameskip-v0), EnvSpec(Gravitar-ramNoFrameskip-v4), EnvSpec(Hero-v0), EnvSpec(Hero-v4), EnvSpec(HeroDeterministic-v0), EnvSpec(HeroDeterministic-v4), EnvSpec(HeroNoFrameskip-v0), EnvSpec(HeroNoFrameskip-v4), EnvSpec(Hero-ram-v0), EnvSpec(Hero-ram-v4), EnvSpec(Hero-ramDeterministic-v0), EnvSpec(Hero-ramDeterministic-v4), EnvSpec(Hero-ramNoFrameskip-v0), EnvSpec(Hero-ramNoFrameskip-v4), EnvSpec(IceHockey-v0), EnvSpec(IceHockey-v4), EnvSpec(IceHockeyDeterministic-v0), EnvSpec(IceHockeyDeterministic-v4), EnvSpec(IceHockeyNoFrameskip-v0), EnvSpec(IceHockeyNoFrameskip-v4), EnvSpec(IceHockey-ram-v0), EnvSpec(IceHockey-ram-v4), EnvSpec(IceHockey-ramDeterministic-v0), EnvSpec(IceHockey-ramDeterministic-v4), EnvSpec(IceHockey-ramNoFrameskip-v0), EnvSpec(IceHockey-ramNoFrameskip-v4), EnvSpec(Jamesbond-v0), EnvSpec(Jamesbond-v4), EnvSpec(JamesbondDeterministic-v0), EnvSpec(JamesbondDeterministic-v4), EnvSpec(JamesbondNoFrameskip-v0), EnvSpec(JamesbondNoFrameskip-v4), EnvSpec(Jamesbond-ram-v0), EnvSpec(Jamesbond-ram-v4), EnvSpec(Jamesbond-ramDeterministic-v0), EnvSpec(Jamesbond-ramDeterministic-v4), EnvSpec(Jamesbond-ramNoFrameskip-v0), EnvSpec(Jamesbond-ramNoFrameskip-v4), EnvSpec(JourneyEscape-v0), EnvSpec(JourneyEscape-v4), EnvSpec(JourneyEscapeDeterministic-v0), EnvSpec(JourneyEscapeDeterministic-v4), EnvSpec(JourneyEscapeNoFrameskip-v0), EnvSpec(JourneyEscapeNoFrameskip-v4), EnvSpec(JourneyEscape-ram-v0), EnvSpec(JourneyEscape-ram-v4), EnvSpec(JourneyEscape-ramDeterministic-v0), EnvSpec(JourneyEscape-ramDeterministic-v4), EnvSpec(JourneyEscape-ramNoFrameskip-v0), EnvSpec(JourneyEscape-ramNoFrameskip-v4), EnvSpec(Kangaroo-v0), EnvSpec(Kangaroo-v4), EnvSpec(KangarooDeterministic-v0), EnvSpec(KangarooDeterministic-v4), EnvSpec(KangarooNoFrameskip-v0), EnvSpec(KangarooNoFrameskip-v4), EnvSpec(Kangaroo-ram-v0), EnvSpec(Kangaroo-ram-v4), EnvSpec(Kangaroo-ramDeterministic-v0), EnvSpec(Kangaroo-ramDeterministic-v4), EnvSpec(Kangaroo-ramNoFrameskip-v0), EnvSpec(Kangaroo-ramNoFrameskip-v4), EnvSpec(Krull-v0), EnvSpec(Krull-v4), EnvSpec(KrullDeterministic-v0), EnvSpec(KrullDeterministic-v4), EnvSpec(KrullNoFrameskip-v0), EnvSpec(KrullNoFrameskip-v4), EnvSpec(Krull-ram-v0), EnvSpec(Krull-ram-v4), EnvSpec(Krull-ramDeterministic-v0), EnvSpec(Krull-ramDeterministic-v4), EnvSpec(Krull-ramNoFrameskip-v0), EnvSpec(Krull-ramNoFrameskip-v4), EnvSpec(KungFuMaster-v0), EnvSpec(KungFuMaster-v4), EnvSpec(KungFuMasterDeterministic-v0), EnvSpec(KungFuMasterDeterministic-v4), EnvSpec(KungFuMasterNoFrameskip-v0), EnvSpec(KungFuMasterNoFrameskip-v4), EnvSpec(KungFuMaster-ram-v0), EnvSpec(KungFuMaster-ram-v4), EnvSpec(KungFuMaster-ramDeterministic-v0), EnvSpec(KungFuMaster-ramDeterministic-v4), EnvSpec(KungFuMaster-ramNoFrameskip-v0), EnvSpec(KungFuMaster-ramNoFrameskip-v4), EnvSpec(MontezumaRevenge-v0), EnvSpec(MontezumaRevenge-v4), EnvSpec(MontezumaRevengeDeterministic-v0), EnvSpec(MontezumaRevengeDeterministic-v4), EnvSpec(MontezumaRevengeNoFrameskip-v0), EnvSpec(MontezumaRevengeNoFrameskip-v4), EnvSpec(MontezumaRevenge-ram-v0), EnvSpec(MontezumaRevenge-ram-v4), EnvSpec(MontezumaRevenge-ramDeterministic-v0), EnvSpec(MontezumaRevenge-ramDeterministic-v4), EnvSpec(MontezumaRevenge-ramNoFrameskip-v0), EnvSpec(MontezumaRevenge-ramNoFrameskip-v4), EnvSpec(MsPacman-v0), EnvSpec(MsPacman-v4), EnvSpec(MsPacmanDeterministic-v0), EnvSpec(MsPacmanDeterministic-v4), EnvSpec(MsPacmanNoFrameskip-v0), EnvSpec(MsPacmanNoFrameskip-v4), EnvSpec(MsPacman-ram-v0), EnvSpec(MsPacman-ram-v4), EnvSpec(MsPacman-ramDeterministic-v0), EnvSpec(MsPacman-ramDeterministic-v4), EnvSpec(MsPacman-ramNoFrameskip-v0), EnvSpec(MsPacman-ramNoFrameskip-v4), EnvSpec(NameThisGame-v0), EnvSpec(NameThisGame-v4), EnvSpec(NameThisGameDeterministic-v0), EnvSpec(NameThisGameDeterministic-v4), EnvSpec(NameThisGameNoFrameskip-v0), EnvSpec(NameThisGameNoFrameskip-v4), EnvSpec(NameThisGame-ram-v0), EnvSpec(NameThisGame-ram-v4), EnvSpec(NameThisGame-ramDeterministic-v0), EnvSpec(NameThisGame-ramDeterministic-v4), EnvSpec(NameThisGame-ramNoFrameskip-v0), EnvSpec(NameThisGame-ramNoFrameskip-v4), EnvSpec(Phoenix-v0), EnvSpec(Phoenix-v4), EnvSpec(PhoenixDeterministic-v0), EnvSpec(PhoenixDeterministic-v4), EnvSpec(PhoenixNoFrameskip-v0), EnvSpec(PhoenixNoFrameskip-v4), EnvSpec(Phoenix-ram-v0), EnvSpec(Phoenix-ram-v4), EnvSpec(Phoenix-ramDeterministic-v0), EnvSpec(Phoenix-ramDeterministic-v4), EnvSpec(Phoenix-ramNoFrameskip-v0), EnvSpec(Phoenix-ramNoFrameskip-v4), EnvSpec(Pitfall-v0), EnvSpec(Pitfall-v4), EnvSpec(PitfallDeterministic-v0), EnvSpec(PitfallDeterministic-v4), EnvSpec(PitfallNoFrameskip-v0), EnvSpec(PitfallNoFrameskip-v4), EnvSpec(Pitfall-ram-v0), EnvSpec(Pitfall-ram-v4), EnvSpec(Pitfall-ramDeterministic-v0), EnvSpec(Pitfall-ramDeterministic-v4), EnvSpec(Pitfall-ramNoFrameskip-v0), EnvSpec(Pitfall-ramNoFrameskip-v4), EnvSpec(Pong-v0), EnvSpec(Pong-v4), EnvSpec(PongDeterministic-v0), EnvSpec(PongDeterministic-v4), EnvSpec(PongNoFrameskip-v0), EnvSpec(PongNoFrameskip-v4), EnvSpec(Pong-ram-v0), EnvSpec(Pong-ram-v4), EnvSpec(Pong-ramDeterministic-v0), EnvSpec(Pong-ramDeterministic-v4), EnvSpec(Pong-ramNoFrameskip-v0), EnvSpec(Pong-ramNoFrameskip-v4), EnvSpec(Pooyan-v0), EnvSpec(Pooyan-v4), EnvSpec(PooyanDeterministic-v0), EnvSpec(PooyanDeterministic-v4), EnvSpec(PooyanNoFrameskip-v0), EnvSpec(PooyanNoFrameskip-v4), EnvSpec(Pooyan-ram-v0), EnvSpec(Pooyan-ram-v4), EnvSpec(Pooyan-ramDeterministic-v0), EnvSpec(Pooyan-ramDeterministic-v4), EnvSpec(Pooyan-ramNoFrameskip-v0), EnvSpec(Pooyan-ramNoFrameskip-v4), EnvSpec(PrivateEye-v0), EnvSpec(PrivateEye-v4), EnvSpec(PrivateEyeDeterministic-v0), EnvSpec(PrivateEyeDeterministic-v4), EnvSpec(PrivateEyeNoFrameskip-v0), EnvSpec(PrivateEyeNoFrameskip-v4), EnvSpec(PrivateEye-ram-v0), EnvSpec(PrivateEye-ram-v4), EnvSpec(PrivateEye-ramDeterministic-v0), EnvSpec(PrivateEye-ramDeterministic-v4), EnvSpec(PrivateEye-ramNoFrameskip-v0), EnvSpec(PrivateEye-ramNoFrameskip-v4), EnvSpec(Qbert-v0), EnvSpec(Qbert-v4), EnvSpec(QbertDeterministic-v0), EnvSpec(QbertDeterministic-v4), EnvSpec(QbertNoFrameskip-v0), EnvSpec(QbertNoFrameskip-v4), EnvSpec(Qbert-ram-v0), EnvSpec(Qbert-ram-v4), EnvSpec(Qbert-ramDeterministic-v0), EnvSpec(Qbert-ramDeterministic-v4), EnvSpec(Qbert-ramNoFrameskip-v0), EnvSpec(Qbert-ramNoFrameskip-v4), EnvSpec(Riverraid-v0), EnvSpec(Riverraid-v4), EnvSpec(RiverraidDeterministic-v0), EnvSpec(RiverraidDeterministic-v4), EnvSpec(RiverraidNoFrameskip-v0), EnvSpec(RiverraidNoFrameskip-v4), EnvSpec(Riverraid-ram-v0), EnvSpec(Riverraid-ram-v4), EnvSpec(Riverraid-ramDeterministic-v0), EnvSpec(Riverraid-ramDeterministic-v4), EnvSpec(Riverraid-ramNoFrameskip-v0), EnvSpec(Riverraid-ramNoFrameskip-v4), EnvSpec(RoadRunner-v0), EnvSpec(RoadRunner-v4), EnvSpec(RoadRunnerDeterministic-v0), EnvSpec(RoadRunnerDeterministic-v4), EnvSpec(RoadRunnerNoFrameskip-v0), EnvSpec(RoadRunnerNoFrameskip-v4), EnvSpec(RoadRunner-ram-v0), EnvSpec(RoadRunner-ram-v4), EnvSpec(RoadRunner-ramDeterministic-v0), EnvSpec(RoadRunner-ramDeterministic-v4), EnvSpec(RoadRunner-ramNoFrameskip-v0), EnvSpec(RoadRunner-ramNoFrameskip-v4), EnvSpec(Robotank-v0), EnvSpec(Robotank-v4), EnvSpec(RobotankDeterministic-v0), EnvSpec(RobotankDeterministic-v4), EnvSpec(RobotankNoFrameskip-v0), EnvSpec(RobotankNoFrameskip-v4), EnvSpec(Robotank-ram-v0), EnvSpec(Robotank-ram-v4), EnvSpec(Robotank-ramDeterministic-v0), EnvSpec(Robotank-ramDeterministic-v4), EnvSpec(Robotank-ramNoFrameskip-v0), EnvSpec(Robotank-ramNoFrameskip-v4), EnvSpec(Seaquest-v0), EnvSpec(Seaquest-v4), EnvSpec(SeaquestDeterministic-v0), EnvSpec(SeaquestDeterministic-v4), EnvSpec(SeaquestNoFrameskip-v0), EnvSpec(SeaquestNoFrameskip-v4), EnvSpec(Seaquest-ram-v0), EnvSpec(Seaquest-ram-v4), EnvSpec(Seaquest-ramDeterministic-v0), EnvSpec(Seaquest-ramDeterministic-v4), EnvSpec(Seaquest-ramNoFrameskip-v0), EnvSpec(Seaquest-ramNoFrameskip-v4), EnvSpec(Skiing-v0), EnvSpec(Skiing-v4), EnvSpec(SkiingDeterministic-v0), EnvSpec(SkiingDeterministic-v4), EnvSpec(SkiingNoFrameskip-v0), EnvSpec(SkiingNoFrameskip-v4), EnvSpec(Skiing-ram-v0), EnvSpec(Skiing-ram-v4), EnvSpec(Skiing-ramDeterministic-v0), EnvSpec(Skiing-ramDeterministic-v4), EnvSpec(Skiing-ramNoFrameskip-v0), EnvSpec(Skiing-ramNoFrameskip-v4), EnvSpec(Solaris-v0), EnvSpec(Solaris-v4), EnvSpec(SolarisDeterministic-v0), EnvSpec(SolarisDeterministic-v4), EnvSpec(SolarisNoFrameskip-v0), EnvSpec(SolarisNoFrameskip-v4), EnvSpec(Solaris-ram-v0), EnvSpec(Solaris-ram-v4), EnvSpec(Solaris-ramDeterministic-v0), EnvSpec(Solaris-ramDeterministic-v4), EnvSpec(Solaris-ramNoFrameskip-v0), EnvSpec(Solaris-ramNoFrameskip-v4), EnvSpec(SpaceInvaders-v0), EnvSpec(SpaceInvaders-v4), EnvSpec(SpaceInvadersDeterministic-v0), EnvSpec(SpaceInvadersDeterministic-v4), EnvSpec(SpaceInvadersNoFrameskip-v0), EnvSpec(SpaceInvadersNoFrameskip-v4), EnvSpec(SpaceInvaders-ram-v0), EnvSpec(SpaceInvaders-ram-v4), EnvSpec(SpaceInvaders-ramDeterministic-v0), EnvSpec(SpaceInvaders-ramDeterministic-v4), EnvSpec(SpaceInvaders-ramNoFrameskip-v0), EnvSpec(SpaceInvaders-ramNoFrameskip-v4), EnvSpec(StarGunner-v0), EnvSpec(StarGunner-v4), EnvSpec(StarGunnerDeterministic-v0), EnvSpec(StarGunnerDeterministic-v4), EnvSpec(StarGunnerNoFrameskip-v0), EnvSpec(StarGunnerNoFrameskip-v4), EnvSpec(StarGunner-ram-v0), EnvSpec(StarGunner-ram-v4), EnvSpec(StarGunner-ramDeterministic-v0), EnvSpec(StarGunner-ramDeterministic-v4), EnvSpec(StarGunner-ramNoFrameskip-v0), EnvSpec(StarGunner-ramNoFrameskip-v4), EnvSpec(Tennis-v0), EnvSpec(Tennis-v4), EnvSpec(TennisDeterministic-v0), EnvSpec(TennisDeterministic-v4), EnvSpec(TennisNoFrameskip-v0), EnvSpec(TennisNoFrameskip-v4), EnvSpec(Tennis-ram-v0), EnvSpec(Tennis-ram-v4), EnvSpec(Tennis-ramDeterministic-v0), EnvSpec(Tennis-ramDeterministic-v4), EnvSpec(Tennis-ramNoFrameskip-v0), EnvSpec(Tennis-ramNoFrameskip-v4), EnvSpec(TimePilot-v0), EnvSpec(TimePilot-v4), EnvSpec(TimePilotDeterministic-v0), EnvSpec(TimePilotDeterministic-v4), EnvSpec(TimePilotNoFrameskip-v0), EnvSpec(TimePilotNoFrameskip-v4), EnvSpec(TimePilot-ram-v0), EnvSpec(TimePilot-ram-v4), EnvSpec(TimePilot-ramDeterministic-v0), EnvSpec(TimePilot-ramDeterministic-v4), EnvSpec(TimePilot-ramNoFrameskip-v0), EnvSpec(TimePilot-ramNoFrameskip-v4), EnvSpec(Tutankham-v0), EnvSpec(Tutankham-v4), EnvSpec(TutankhamDeterministic-v0), EnvSpec(TutankhamDeterministic-v4), EnvSpec(TutankhamNoFrameskip-v0), EnvSpec(TutankhamNoFrameskip-v4), EnvSpec(Tutankham-ram-v0), EnvSpec(Tutankham-ram-v4), EnvSpec(Tutankham-ramDeterministic-v0), EnvSpec(Tutankham-ramDeterministic-v4), EnvSpec(Tutankham-ramNoFrameskip-v0), EnvSpec(Tutankham-ramNoFrameskip-v4), EnvSpec(UpNDown-v0), EnvSpec(UpNDown-v4), EnvSpec(UpNDownDeterministic-v0), EnvSpec(UpNDownDeterministic-v4), EnvSpec(UpNDownNoFrameskip-v0), EnvSpec(UpNDownNoFrameskip-v4), EnvSpec(UpNDown-ram-v0), EnvSpec(UpNDown-ram-v4), EnvSpec(UpNDown-ramDeterministic-v0), EnvSpec(UpNDown-ramDeterministic-v4), EnvSpec(UpNDown-ramNoFrameskip-v0), EnvSpec(UpNDown-ramNoFrameskip-v4), EnvSpec(Venture-v0), EnvSpec(Venture-v4), EnvSpec(VentureDeterministic-v0), EnvSpec(VentureDeterministic-v4), EnvSpec(VentureNoFrameskip-v0), EnvSpec(VentureNoFrameskip-v4), EnvSpec(Venture-ram-v0), EnvSpec(Venture-ram-v4), EnvSpec(Venture-ramDeterministic-v0), EnvSpec(Venture-ramDeterministic-v4), EnvSpec(Venture-ramNoFrameskip-v0), EnvSpec(Venture-ramNoFrameskip-v4), EnvSpec(VideoPinball-v0), EnvSpec(VideoPinball-v4), EnvSpec(VideoPinballDeterministic-v0), EnvSpec(VideoPinballDeterministic-v4), EnvSpec(VideoPinballNoFrameskip-v0), EnvSpec(VideoPinballNoFrameskip-v4), EnvSpec(VideoPinball-ram-v0), EnvSpec(VideoPinball-ram-v4), EnvSpec(VideoPinball-ramDeterministic-v0), EnvSpec(VideoPinball-ramDeterministic-v4), EnvSpec(VideoPinball-ramNoFrameskip-v0), EnvSpec(VideoPinball-ramNoFrameskip-v4), EnvSpec(WizardOfWor-v0), EnvSpec(WizardOfWor-v4), EnvSpec(WizardOfWorDeterministic-v0), EnvSpec(WizardOfWorDeterministic-v4), EnvSpec(WizardOfWorNoFrameskip-v0), EnvSpec(WizardOfWorNoFrameskip-v4), EnvSpec(WizardOfWor-ram-v0), EnvSpec(WizardOfWor-ram-v4), EnvSpec(WizardOfWor-ramDeterministic-v0), EnvSpec(WizardOfWor-ramDeterministic-v4), EnvSpec(WizardOfWor-ramNoFrameskip-v0), EnvSpec(WizardOfWor-ramNoFrameskip-v4), EnvSpec(YarsRevenge-v0), EnvSpec(YarsRevenge-v4), EnvSpec(YarsRevengeDeterministic-v0), EnvSpec(YarsRevengeDeterministic-v4), EnvSpec(YarsRevengeNoFrameskip-v0), EnvSpec(YarsRevengeNoFrameskip-v4), EnvSpec(YarsRevenge-ram-v0), EnvSpec(YarsRevenge-ram-v4), EnvSpec(YarsRevenge-ramDeterministic-v0), EnvSpec(YarsRevenge-ramDeterministic-v4), EnvSpec(YarsRevenge-ramNoFrameskip-v0), EnvSpec(YarsRevenge-ramNoFrameskip-v4), EnvSpec(Zaxxon-v0), EnvSpec(Zaxxon-v4), EnvSpec(ZaxxonDeterministic-v0), EnvSpec(ZaxxonDeterministic-v4), EnvSpec(ZaxxonNoFrameskip-v0), EnvSpec(ZaxxonNoFrameskip-v4), EnvSpec(Zaxxon-ram-v0), EnvSpec(Zaxxon-ram-v4), EnvSpec(Zaxxon-ramDeterministic-v0), EnvSpec(Zaxxon-ramDeterministic-v4), EnvSpec(Zaxxon-ramNoFrameskip-v0), EnvSpec(Zaxxon-ramNoFrameskip-v4), EnvSpec(CubeCrash-v0), EnvSpec(CubeCrashSparse-v0), EnvSpec(CubeCrashScreenBecomesBlack-v0), EnvSpec(MemorizeDigits-v0)])"
      ]
     },
     "execution_count": 3,
     "metadata": {},
     "output_type": "execute_result"
    }
   ],
   "source": [
    "gym.envs.registry.all()"
   ]
  },
  {
   "cell_type": "markdown",
   "metadata": {},
   "source": [
    "The Cart-Pole is a very simple environment composed of a cart that can move left or right, and pole placed vertically on top of it. The agent must move the cart left or right to keep the pole upright."
   ]
  },
  {
   "cell_type": "code",
   "execution_count": 4,
   "metadata": {},
   "outputs": [],
   "source": [
    "env = gym.make('CartPole-v1')"
   ]
  },
  {
   "cell_type": "markdown",
   "metadata": {},
   "source": [
    "Let's initialize the environment by calling is `reset()` method. This returns an observation:"
   ]
  },
  {
   "cell_type": "code",
   "execution_count": 5,
   "metadata": {},
   "outputs": [],
   "source": [
    "env.seed(42)\n",
    "obs = env.reset()"
   ]
  },
  {
   "cell_type": "markdown",
   "metadata": {},
   "source": [
    "Observations vary depending on the environment. In this case it is a 1D NumPy array composed of 4 floats: they represent the cart's horizontal position, its velocity, the angle of the pole (0 = vertical), and the angular velocity."
   ]
  },
  {
   "cell_type": "code",
   "execution_count": 6,
   "metadata": {},
   "outputs": [
    {
     "data": {
      "text/plain": [
       "array([-0.01258566, -0.00156614,  0.04207708, -0.00180545])"
      ]
     },
     "execution_count": 6,
     "metadata": {},
     "output_type": "execute_result"
    }
   ],
   "source": [
    "obs"
   ]
  },
  {
   "cell_type": "markdown",
   "metadata": {},
   "source": [
    "An environment can be visualized by calling its `render()` method, and you can pick the rendering mode (the rendering options depend on the environment)."
   ]
  },
  {
   "cell_type": "markdown",
   "metadata": {},
   "source": [
    "**Warning**: some environments (including the Cart-Pole) require access to your display, which opens up a separate window, even if you specify `mode=\"rgb_array\"`. In general you can safely ignore that window. However, if Jupyter is running on a headless server (ie. without a screen) it will raise an exception. One way to avoid this is to install a fake X server like [Xvfb](http://en.wikipedia.org/wiki/Xvfb). On Debian or Ubuntu:\n",
    "\n",
    "```bash\n",
    "$ apt update\n",
    "$ apt install -y xvfb\n",
    "```\n",
    "\n",
    "You can then start Jupyter using the `xvfb-run` command:\n",
    "\n",
    "```bash\n",
    "$ xvfb-run -s \"-screen 0 1400x900x24\" jupyter notebook\n",
    "```\n",
    "\n",
    "Alternatively, you can install the [pyvirtualdisplay](https://github.com/ponty/pyvirtualdisplay) Python library which wraps Xvfb:\n",
    "\n",
    "```bash\n",
    "python3 -m pip install -U pyvirtualdisplay\n",
    "```\n",
    "\n",
    "And run the following code:"
   ]
  },
  {
   "cell_type": "code",
   "execution_count": 7,
   "metadata": {},
   "outputs": [],
   "source": [
    "try:\n",
    "    import pyvirtualdisplay\n",
    "    display = pyvirtualdisplay.Display(visible=0, size=(1400, 900)).start()\n",
    "except ImportError:\n",
    "    pass"
   ]
  },
  {
   "cell_type": "code",
   "execution_count": 8,
   "metadata": {},
   "outputs": [
    {
     "data": {
      "text/plain": [
       "True"
      ]
     },
     "execution_count": 8,
     "metadata": {},
     "output_type": "execute_result"
    }
   ],
   "source": [
    "env.render()"
   ]
  },
  {
   "cell_type": "markdown",
   "metadata": {},
   "source": [
    "In this example we will set `mode=\"rgb_array\"` to get an image of the environment as a NumPy array:"
   ]
  },
  {
   "cell_type": "code",
   "execution_count": 9,
   "metadata": {},
   "outputs": [
    {
     "data": {
      "text/plain": [
       "(800, 1200, 3)"
      ]
     },
     "execution_count": 9,
     "metadata": {},
     "output_type": "execute_result"
    }
   ],
   "source": [
    "img = env.render(mode=\"rgb_array\")\n",
    "img.shape"
   ]
  },
  {
   "cell_type": "code",
   "execution_count": 10,
   "metadata": {},
   "outputs": [],
   "source": [
    "def plot_environment(env, figsize=(5,4)):\n",
    "    plt.figure(figsize=figsize)\n",
    "    img = env.render(mode=\"rgb_array\")\n",
    "    plt.imshow(img)\n",
    "    plt.axis(\"off\")\n",
    "    return img"
   ]
  },
  {
   "cell_type": "code",
   "execution_count": 11,
   "metadata": {},
   "outputs": [
    {
     "data": {
      "image/png": "[encoded data removed]",
      "text/plain": [
       "<Figure size 360x288 with 1 Axes>"
      ]
     },
     "metadata": {
      "needs_background": "light"
     },
     "output_type": "display_data"
    }
   ],
   "source": [
    "plot_environment(env)\n",
    "plt.show()"
   ]
  },
  {
   "cell_type": "markdown",
   "metadata": {},
   "source": [
    "Let's see how to interact with an environment. Your agent will need to select an action from an \"action space\" (the set of possible actions). Let's see what this environment's action space looks like:"
   ]
  },
  {
   "cell_type": "code",
   "execution_count": 12,
   "metadata": {},
   "outputs": [
    {
     "data": {
      "text/plain": [
       "Discrete(2)"
      ]
     },
     "execution_count": 12,
     "metadata": {},
     "output_type": "execute_result"
    }
   ],
   "source": [
    "env.action_space"
   ]
  },
  {
   "cell_type": "markdown",
   "metadata": {},
   "source": [
    "Yep, just two possible actions: accelerate towards the left or towards the right."
   ]
  },
  {
   "cell_type": "markdown",
   "metadata": {},
   "source": [
    "Since the pole is leaning toward the right (`obs[2] > 0`), let's accelerate the cart toward the right:"
   ]
  },
  {
   "cell_type": "code",
   "execution_count": 13,
   "metadata": {},
   "outputs": [
    {
     "data": {
      "text/plain": [
       "array([-0.01261699,  0.19292789,  0.04204097, -0.28092127])"
      ]
     },
     "execution_count": 13,
     "metadata": {},
     "output_type": "execute_result"
    }
   ],
   "source": [
    "action = 1  # accelerate right\n",
    "obs, reward, done, info = env.step(action)\n",
    "obs"
   ]
  },
  {
   "cell_type": "markdown",
   "metadata": {},
   "source": [
    "Notice that the cart is now moving toward the right (`obs[1] > 0`). The pole is still tilted toward the right (`obs[2] > 0`), but its angular velocity is now negative (`obs[3] < 0`), so it will likely be tilted toward the left after the next step."
   ]
  },
  {
   "cell_type": "code",
   "execution_count": 14,
   "metadata": {},
   "outputs": [
    {
     "name": "stdout",
     "output_type": "stream",
     "text": [
      "Saving figure cart_pole_plot\n"
     ]
    },
    {
     "data": {
      "image/png": "[encoded data removed]",
      "text/plain": [
       "<Figure size 360x288 with 1 Axes>"
      ]
     },
     "metadata": {
      "needs_background": "light"
     },
     "output_type": "display_data"
    }
   ],
   "source": [
    "plot_environment(env)\n",
    "save_fig(\"cart_pole_plot\")"
   ]
  },
  {
   "cell_type": "markdown",
   "metadata": {},
   "source": [
    "Looks like it's doing what we're telling it to do!"
   ]
  },
  {
   "cell_type": "markdown",
   "metadata": {},
   "source": [
    "The environment also tells the agent how much reward it got during the last step:"
   ]
  },
  {
   "cell_type": "code",
   "execution_count": 14,
   "metadata": {},
   "outputs": [
    {
     "data": {
      "text/plain": [
       "1.0"
      ]
     },
     "execution_count": 14,
     "metadata": {},
     "output_type": "execute_result"
    }
   ],
   "source": [
    "reward"
   ]
  },
  {
   "cell_type": "markdown",
   "metadata": {},
   "source": [
    "When the game is over, the environment returns `done=True`:"
   ]
  },
  {
   "cell_type": "code",
   "execution_count": 16,
   "metadata": {},
   "outputs": [
    {
     "data": {
      "text/plain": [
       "False"
      ]
     },
     "execution_count": 16,
     "metadata": {},
     "output_type": "execute_result"
    }
   ],
   "source": [
    "done"
   ]
  },
  {
   "cell_type": "markdown",
   "metadata": {},
   "source": [
    "Finally, `info` is an environment-specific dictionary that can provide some extra information that you may find useful for debugging or for training. For example, in some games it may indicate how many lives the agent has."
   ]
  },
  {
   "cell_type": "code",
   "execution_count": 17,
   "metadata": {},
   "outputs": [
    {
     "data": {
      "text/plain": [
       "{}"
      ]
     },
     "execution_count": 17,
     "metadata": {},
     "output_type": "execute_result"
    }
   ],
   "source": [
    "info"
   ]
  },
  {
   "cell_type": "markdown",
   "metadata": {},
   "source": [
    "The sequence of steps between the moment the environment is reset until it is done is called an \"episode\". At the end of an episode (i.e., when `step()` returns `done=True`), you should reset the environment before you continue to use it."
   ]
  },
  {
   "cell_type": "code",
   "execution_count": 18,
   "metadata": {},
   "outputs": [],
   "source": [
    "if done:\n",
    "    obs = env.reset()"
   ]
  },
  {
   "cell_type": "markdown",
   "metadata": {},
   "source": [
    "Now how can we make the poll remain upright? We will need to define a _policy_ for that. This is the strategy that the agent will use to select an action at each step. It can use all the past actions and observations to decide what to do."
   ]
  },
  {
   "cell_type": "markdown",
   "metadata": {},
   "source": [
    "# A simple hard-coded policy"
   ]
  },
  {
   "cell_type": "markdown",
   "metadata": {},
   "source": [
    "Let's hard code a simple strategy: if the pole is tilting to the left, then push the cart to the left, and _vice versa_. Let's see if that works:"
   ]
  },
  {
   "cell_type": "code",
   "execution_count": 15,
   "metadata": {},
   "outputs": [],
   "source": [
    "env.seed(42)\n",
    "\n",
    "def basic_policy(obs):\n",
    "    angle = obs[2]\n",
    "    return 0 if angle < 0 else 1\n",
    "\n",
    "totals = []\n",
    "for episode in range(500):\n",
    "    episode_rewards = 0\n",
    "    obs = env.reset()\n",
    "    for step in range(200):\n",
    "        action = basic_policy(obs)\n",
    "        obs, reward, done, info = env.step(action)\n",
    "        episode_rewards += reward\n",
    "        if done:\n",
    "            break\n",
    "    totals.append(episode_rewards)"
   ]
  },
  {
   "cell_type": "code",
   "execution_count": 16,
   "metadata": {},
   "outputs": [
    {
     "data": {
      "text/plain": [
       "(41.718, 8.858356280936096, 24.0, 68.0)"
      ]
     },
     "execution_count": 16,
     "metadata": {},
     "output_type": "execute_result"
    }
   ],
   "source": [
    "np.mean(totals), np.std(totals), np.min(totals), np.max(totals)"
   ]
  },
  {
   "cell_type": "markdown",
   "metadata": {},
   "source": [
    "Well, as expected, this strategy is a bit too basic: the best it did was to keep the poll up for only 68 steps. This environment is considered solved when the agent keeps the poll up for 200 steps."
   ]
  },
  {
   "cell_type": "markdown",
   "metadata": {},
   "source": [
    "Let's visualize one episode:"
   ]
  },
  {
   "cell_type": "code",
   "execution_count": 18,
   "metadata": {},
   "outputs": [],
   "source": [
    "env.seed(42)\n",
    "\n",
    "frames = []\n",
    "\n",
    "obs = env.reset()\n",
    "for step in range(200):\n",
    "    img = env.render(mode=\"rgb_array\")\n",
    "    frames.append(img)\n",
    "    action = basic_policy(obs)\n",
    "\n",
    "    obs, reward, done, info = env.step(action)\n",
    "    if done:\n",
    "        break"
   ]
  },
  {
   "cell_type": "markdown",
   "metadata": {},
   "source": [
    "Now show the animation:"
   ]
  },
  {
   "cell_type": "code",
   "execution_count": 19,
   "metadata": {},
   "outputs": [],
   "source": [
    "def update_scene(num, frames, patch):\n",
    "    patch.set_data(frames[num])\n",
    "    return patch,\n",
    "\n",
    "def plot_animation(frames, repeat=False, interval=40):\n",
    "    fig = plt.figure()\n",
    "    patch = plt.imshow(frames[0])\n",
    "    plt.axis('off')\n",
    "    anim = animation.FuncAnimation(\n",
    "        fig, update_scene, fargs=(frames, patch),\n",
    "        frames=len(frames), repeat=repeat, interval=interval)\n",
    "    plt.close()\n",
    "    return anim"
   ]
  },
  {
   "cell_type": "code",
   "execution_count": 20,
   "metadata": {},
   "outputs": [
    {
     "data": {
      "text/html": [
       "\n",
       "<link rel=\"stylesheet\"\n",
       "href=\"https://maxcdn.bootstrapcdn.com/font-awesome/4.4.0/css/font-awesome.min.css\">\n",
       "<script language=\"javascript\">\n",
       "  function isInternetExplorer() {\n",
       "    ua = navigator.userAgent;\n",
       "    /* MSIE used to detect old browsers and Trident used to newer ones*/\n",
       "    return ua.indexOf(\"MSIE \") > -1 || ua.indexOf(\"Trident/\") > -1;\n",
       "  }\n",
       "\n",
       "  /* Define the Animation class */\n",
       "  function Animation(frames, img_id, slider_id, interval, loop_select_id){\n",
       "    this.img_id = img_id;\n",
       "    this.slider_id = slider_id;\n",
       "    this.loop_select_id = loop_select_id;\n",
       "    this.interval = interval;\n",
       "    this.current_frame = 0;\n",
       "    this.direction = 0;\n",
       "    this.timer = null;\n",
       "    this.frames = new Array(frames.length);\n",
       "\n",
       "    for (var i=0; i<frames.length; i++)\n",
       "    {\n",
       "     this.frames[i] = new Image();\n",
       "     this.frames[i].src = frames[i];\n",
       "    }\n",
       "    var slider = document.getElementById(this.slider_id);\n",
       "    slider.max = this.frames.length - 1;\n",
       "    if (isInternetExplorer()) {\n",
       "        // switch from oninput to onchange because IE <= 11 does not conform\n",
       "        // with W3C specification. It ignores oninput and onchange behaves\n",
       "        // like oninput. In contrast, Mircosoft Edge behaves correctly.\n",
       "        slider.setAttribute('onchange', slider.getAttribute('oninput'));\n",
       "        slider.setAttribute('oninput', null);\n",
       "    }\n",
       "    this.set_frame(this.current_frame);\n",
       "  }\n",
       "\n",
       "  Animation.prototype.get_loop_state = function(){\n",
       "    var button_group = document[this.loop_select_id].state;\n",
       "    for (var i = 0; i < button_group.length; i++) {\n",
       "        var button = button_group[i];\n",
       "        if (button.checked) {\n",
       "            return button.value;\n",
       "        }\n",
       "    }\n",
       "    return undefined;\n",
       "  }\n",
       "\n",
       "  Animation.prototype.set_frame = function(frame){\n",
       "    this.current_frame = frame;\n",
       "    document.getElementById(this.img_id).src =\n",
       "            this.frames[this.current_frame].src;\n",
       "    document.getElementById(this.slider_id).value = this.current_frame;\n",
       "  }\n",
       "\n",
       "  Animation.prototype.next_frame = function()\n",
       "  {\n",
       "    this.set_frame(Math.min(this.frames.length - 1, this.current_frame + 1));\n",
       "  }\n",
       "\n",
       "  Animation.prototype.previous_frame = function()\n",
       "  {\n",
       "    this.set_frame(Math.max(0, this.current_frame - 1));\n",
       "  }\n",
       "\n",
       "  Animation.prototype.first_frame = function()\n",
       "  {\n",
       "    this.set_frame(0);\n",
       "  }\n",
       "\n",
       "  Animation.prototype.last_frame = function()\n",
       "  {\n",
       "    this.set_frame(this.frames.length - 1);\n",
       "  }\n",
       "\n",
       "  Animation.prototype.slower = function()\n",
       "  {\n",
       "    this.interval /= 0.7;\n",
       "    if(this.direction > 0){this.play_animation();}\n",
       "    else if(this.direction < 0){this.reverse_animation();}\n",
       "  }\n",
       "\n",
       "  Animation.prototype.faster = function()\n",
       "  {\n",
       "    this.interval *= 0.7;\n",
       "    if(this.direction > 0){this.play_animation();}\n",
       "    else if(this.direction < 0){this.reverse_animation();}\n",
       "  }\n",
       "\n",
       "  Animation.prototype.anim_step_forward = function()\n",
       "  {\n",
       "    this.current_frame += 1;\n",
       "    if(this.current_frame < this.frames.length){\n",
       "      this.set_frame(this.current_frame);\n",
       "    }else{\n",
       "      var loop_state = this.get_loop_state();\n",
       "      if(loop_state == \"loop\"){\n",
       "        this.first_frame();\n",
       "      }else if(loop_state == \"reflect\"){\n",
       "        this.last_frame();\n",
       "        this.reverse_animation();\n",
       "      }else{\n",
       "        this.pause_animation();\n",
       "        this.last_frame();\n",
       "      }\n",
       "    }\n",
       "  }\n",
       "\n",
       "  Animation.prototype.anim_step_reverse = function()\n",
       "  {\n",
       "    this.current_frame -= 1;\n",
       "    if(this.current_frame >= 0){\n",
       "      this.set_frame(this.current_frame);\n",
       "    }else{\n",
       "      var loop_state = this.get_loop_state();\n",
       "      if(loop_state == \"loop\"){\n",
       "        this.last_frame();\n",
       "      }else if(loop_state == \"reflect\"){\n",
       "        this.first_frame();\n",
       "        this.play_animation();\n",
       "      }else{\n",
       "        this.pause_animation();\n",
       "        this.first_frame();\n",
       "      }\n",
       "    }\n",
       "  }\n",
       "\n",
       "  Animation.prototype.pause_animation = function()\n",
       "  {\n",
       "    this.direction = 0;\n",
       "    if (this.timer){\n",
       "      clearInterval(this.timer);\n",
       "      this.timer = null;\n",
       "    }\n",
       "  }\n",
       "\n",
       "  Animation.prototype.play_animation = function()\n",
       "  {\n",
       "    this.pause_animation();\n",
       "    this.direction = 1;\n",
       "    var t = this;\n",
       "    if (!this.timer) this.timer = setInterval(function() {\n",
       "        t.anim_step_forward();\n",
       "    }, this.interval);\n",
       "  }\n",
       "\n",
       "  Animation.prototype.reverse_animation = function()\n",
       "  {\n",
       "    this.pause_animation();\n",
       "    this.direction = -1;\n",
       "    var t = this;\n",
       "    if (!this.timer) this.timer = setInterval(function() {\n",
       "        t.anim_step_reverse();\n",
       "    }, this.interval);\n",
       "  }\n",
       "</script>\n",
       "\n",
       "<style>\n",
       ".animation {\n",
       "    display: inline-block;\n",
       "    text-align: center;\n",
       "}\n",
       "input[type=range].anim-slider {\n",
       "    width: 374px;\n",
       "    margin-left: auto;\n",
       "    margin-right: auto;\n",
       "}\n",
       ".anim-buttons {\n",
       "    margin: 8px 0px;\n",
       "}\n",
       ".anim-buttons button {\n",
       "    padding: 0;\n",
       "    width: 36px;\n",
       "}\n",
       ".anim-state label {\n",
       "    margin-right: 8px;\n",
       "}\n",
       ".anim-state input {\n",
       "    margin: 0;\n",
       "    vertical-align: middle;\n",
       "}\n",
       "</style>\n",
       "\n",
       "<div class=\"animation\">\n",
       "  <img id=\"_anim_imgd3140552793e4016aafccc5c4a17bf8e\">\n",
       "  <div class=\"anim-controls\">\n",
       "    <input id=\"_anim_sliderd3140552793e4016aafccc5c4a17bf8e\" type=\"range\" class=\"anim-slider\"\n",
       "           name=\"points\" min=\"0\" max=\"1\" step=\"1\" value=\"0\"\n",
       "           oninput=\"animd3140552793e4016aafccc5c4a17bf8e.set_frame(parseInt(this.value));\"></input>\n",
       "    <div class=\"anim-buttons\">\n",
       "      <button title=\"Decrease speed\" onclick=\"animd3140552793e4016aafccc5c4a17bf8e.slower()\">\n",
       "          <i class=\"fa fa-minus\"></i></button>\n",
       "      <button title=\"First frame\" onclick=\"animd3140552793e4016aafccc5c4a17bf8e.first_frame()\">\n",
       "        <i class=\"fa fa-fast-backward\"></i></button>\n",
       "      <button title=\"Previous frame\" onclick=\"animd3140552793e4016aafccc5c4a17bf8e.previous_frame()\">\n",
       "          <i class=\"fa fa-step-backward\"></i></button>\n",
       "      <button title=\"Play backwards\" onclick=\"animd3140552793e4016aafccc5c4a17bf8e.reverse_animation()\">\n",
       "          <i class=\"fa fa-play fa-flip-horizontal\"></i></button>\n",
       "      <button title=\"Pause\" onclick=\"animd3140552793e4016aafccc5c4a17bf8e.pause_animation()\">\n",
       "          <i class=\"fa fa-pause\"></i></button>\n",
       "      <button title=\"Play\" onclick=\"animd3140552793e4016aafccc5c4a17bf8e.play_animation()\">\n",
       "          <i class=\"fa fa-play\"></i></button>\n",
       "      <button title=\"Next frame\" onclick=\"animd3140552793e4016aafccc5c4a17bf8e.next_frame()\">\n",
       "          <i class=\"fa fa-step-forward\"></i></button>\n",
       "      <button title=\"Last frame\" onclick=\"animd3140552793e4016aafccc5c4a17bf8e.last_frame()\">\n",
       "          <i class=\"fa fa-fast-forward\"></i></button>\n",
       "      <button title=\"Increase speed\" onclick=\"animd3140552793e4016aafccc5c4a17bf8e.faster()\">\n",
       "          <i class=\"fa fa-plus\"></i></button>\n",
       "    </div>\n",
       "    <form title=\"Repetition mode\" action=\"#n\" name=\"_anim_loop_selectd3140552793e4016aafccc5c4a17bf8e\"\n",
       "          class=\"anim-state\">\n",
       "      <input type=\"radio\" name=\"state\" value=\"once\" id=\"_anim_radio1_d3140552793e4016aafccc5c4a17bf8e\"\n",
       "             checked>\n",
       "      <label for=\"_anim_radio1_d3140552793e4016aafccc5c4a17bf8e\">Once</label>\n",
       "      <input type=\"radio\" name=\"state\" value=\"loop\" id=\"_anim_radio2_d3140552793e4016aafccc5c4a17bf8e\"\n",
       "             >\n",
       "      <label for=\"_anim_radio2_d3140552793e4016aafccc5c4a17bf8e\">Loop</label>\n",
       "      <input type=\"radio\" name=\"state\" value=\"reflect\" id=\"_anim_radio3_d3140552793e4016aafccc5c4a17bf8e\"\n",
       "             >\n",
       "      <label for=\"_anim_radio3_d3140552793e4016aafccc5c4a17bf8e\">Reflect</label>\n",
       "    </form>\n",
       "  </div>\n",
       "</div>\n",
       "\n",
       "\n",
       "<script language=\"javascript\">\n",
       "  /* Instantiate the Animation class. */\n",
       "  /* The IDs given should match those used in the template above. */\n",
       "  (function() {\n",
       "    var img_id = \"_anim_imgd3140552793e4016aafccc5c4a17bf8e\";\n",
       "    var slider_id = \"_anim_sliderd3140552793e4016aafccc5c4a17bf8e\";\n",
       "    var loop_select_id = \"_anim_loop_selectd3140552793e4016aafccc5c4a17bf8e\";\n",
       "    var frames = new Array(55);\n",
       "    \n",
       "  frames[0] = \"data:image/png;base64,iVBORw0KGgoAAAANSUhEUgAAAbAAAAEgCAYAAADVKCZpAAAAOXRFWHRTb2Z0d2FyZQBNYXRwbG90\\\n",
       "bGliIHZlcnNpb24zLjMuMywgaHR0cHM6Ly9tYXRwbG90bGliLm9yZy/Il7ecAAAACXBIWXMAAAsT\\\n",
       "AAALEwEAmpwYAAAIHklEQVR4nO3dP48U9x3H8e/sn7sTHGfAwbaoEheUSJFFlcYSFQ8gJVGaPAGK\\\n",
       "8DjSp4jyANKkoCVRushVkBwlkRMZBeyEC2DY+8PtzqSIFeVYE46Fm/HneL26+2nv9ovYn943t7Mz\\\n",
       "Tdd1BQBpRkMPAACrEDAAIgkYAJEEDIBIAgZAJAEDIJKAARBJwACIJGAARBIwACIJGACRBAyASAIG\\\n",
       "QCQBAyCSgAEQScAAiCRgAEQSMAAiCRgAkQQMgEgCBkAkAQMgkoABEEnAAIgkYABEEjAAIgkYAJEE\\\n",
       "DIBIAgZAJAEDIJKAARBJwACIJGAARBIwACJNhh6gR93QAwB8CzVDD7AqR2AARBIwACIJGACRBAyA\\\n",
       "SAIGQCQBAyCSgAEQScAAiCRgAEQSMAAiCRgAkQQMgEgCBkAkAQMgkoABEEnAAIgkYABEEjAAIgkY\\\n",
       "AJEEDIBIAgZAJAEDIJKAARBJwACIJGAARBIwACIJGACRBAyASAIGQCQBAyCSgAEQScAAiCRgAEQS\\\n",
       "MAAiCRgAkQQMgEgCBkAkAQMgkoABEEnAAIgkYABEEjAAIgkYAJEEDIBIAgZAJAEDIJKAARBJwACI\\\n",
       "JGAARBIwACIJGACRBAyASAIGQCQBAyCSgAEQScAAiCRgAEQSMAAiCRgAkQQMgEgCBkAkAQMgkoAB\\\n",
       "EEnAAIgkYABEEjAAIgkYAJEEDIBIAgZAJAEDIJKAARBJwACIJGAARBIwACIJGACRBAyASAIGQCQB\\\n",
       "AyCSgAEQScAAiCRgAEQSMAAiCRgAkQQMgEgCBkAkAQMgkoABEEnAAIgkYABEEjAAIgkYAJEmQw8A\\\n",
       "b5N2Ma/2YO/Q2mi6Xs1oUk3TDDQVZBIw6NGTv39af/vNL6uq+3qlqY2zH9R3P/5xrZ95d8jRII6A\\\n",
       "QY/axbzmu18dWps92632YH+giSCX98CgR107X1prmqaaka0Ir8qugR7NvvxsaW1t83xNT58bYBrI\\\n",
       "JmDQo3axfARWzaiaxlaEV2XXABBJwACIJGAARBIw6EnXdS9/EHBkAgY96dpF7T28t7S+dvqs0+hh\\\n",
       "BXYN9KXrar4/W1pe37pQzWg8wECQTcAAiCRgAEQSMAAiCRgAkQQMetIuDqp7waWkgFdn50BPDnYe\\\n",
       "1bPZo6X1zfc/7H8YOAEEDPrygs8xN+Npv3PACSFgAEQSMAAiCRgAkQQMgEgCBj3Ze/xFde3h0+hH\\\n",
       "k7Va37ow0ESQTcCgJ/PdJ1XP3VKlGY1rsnF6oIkgm4ABEEnAAIgkYABEEjAAIgkY9KDrumrnz5bW\\\n",
       "m/GkGhfzhZXYOdCT2T/+urS2vvVeTTY2B5gG8gkY9KRr26W1/xx9Nf0PAyeAgAEQScAAiCRgAEQS\\\n",
       "MOjNC+5oCaxEwKAH7cF+7T68v7S+/s57VY2TOGAVAgY96Lq22vn+0vra5vlqBAxWImAARBIwACIJ\\\n",
       "GACRBAyASAIGPWgP9qpbzJfWm9F4gGngZBAw6MGzp/+q+f7s8GLT1Ob7Hw4zEJwAAgY96LoXfIjZ\\\n",
       "rVRgZXYPAJEEDIBIAgZAJAGDwTQuIwWvQcCgB7vbd6ueO5Fjsn661s68O9BEkE/AoAfz/Z2ltWY8\\\n",
       "rtFkfYBp4GQQMAAiCRgAkQQMgEgCBkAkAYNj1nVdLZ4tn8Qxnm5UM7IFYVV2Dxy3rqudB58vLW+c\\\n",
       "/cBZiPAaBAz68I3X8vUhZngdAgZAJAEDIJKAARBpMvQAkOiFN6j8psdWV13XvvbPcuFfOKx5lY0Y\\\n",
       "7q35h3L8ZrNZ3bhxo7a3t1/62DMb4/rJD87V+vjwS/DXn9yvO9trR3q+mzdv1pUrV1aaFV4i9jcj\\\n",
       "R2Cwgvl8Xrdu3aq7d+++9LEXzp6qH330w2o3ztfjg+/UxmhWW9Pt+sMf/1K/+u2nR3q+69evv+7I\\\n",
       "cOIIGPTgi73v1edPP6699nSNm3ld2vykuu53Q48F0QQMjtmim9afZ9+vbrr536//9PSjejI/N/Bk\\\n",
       "kM1ZiHDMDtq12pmfObS26Cb16ODCQBPBySBgcMzWRvv1zvRB/e95RNNmv85O/zncUHACCBgcs3Ob\\\n",
       "k7q0+fs6VfdqPt+r0eJRXTp1u6btl0OPBtHemvfAFovF0CNwgrzK6+ne9pP66c9+XovuF7W7OFPT\\\n",
       "0X6tjXbq3oOvjvwz2rb1GuZYjMfjoUdY2VsTsNu3bw89AifIbDarvb29Iz12Z++gPrv/8OuvVvuz\\\n",
       "4Z07d2pra2ul74X/5+rVq0OPsLK3JmDJ/0l8+zx+/Lg2NjZ6e77Lly97DcNzvAcGQCQBAyCSgAEQ\\\n",
       "ScAAiCRgAEQSMAAivTWn0cObNJlM6tq1a0e6H9ibcPHixV6eB5K4oSWsYIh9447MHJPYF5YjMFiB\\\n",
       "mMDwvAcGQCQBAyCSgAEQScAAiCRgAEQSMAAiCRgAkQQMgEgCBkAkAQMgkoABEEnAAIgkYABEEjAA\\\n",
       "IgkYAJEEDIBIAgZAJAEDIJKAARBJwACIJGAARBIwACIJGACRBAyASAIGQCQBAyCSgAEQScAAiCRg\\\n",
       "AEQSMAAiCRgAkQQMgEgCBkAkAQMgkoABEEnAAIgkYABEEjAAIgkYAJEEDIBIAgZAJAEDIJKAARBJ\\\n",
       "wACINBl6gB41Qw8AwJvjCAyASAIGQCQBAyCSgAEQScAAiCRgAEQSMAAiCRgAkQQMgEgCBkAkAQMg\\\n",
       "koABEEnAAIgkYABEEjAAIgkYAJEEDIBIAgZAJAEDIJKAARBJwACIJGAARBIwACIJGACRBAyASAIG\\\n",
       "QCQBAyCSgAEQScAAiCRgAEQSMAAiCRgAkQQMgEgCBkAkAQMg0r8BiTMkTtHffE0AAAAASUVORK5C\\\n",
       "YII=\\\n",
       "\"\n",
       "  frames[1] = \"data:image/png;base64,iVBORw0KGgoAAAANSUhEUgAAAbAAAAEgCAYAAADVKCZpAAAAOXRFWHRTb2Z0d2FyZQBNYXRwbG90\\\n",
       "bGliIHZlcnNpb24zLjMuMywgaHR0cHM6Ly9tYXRwbG90bGliLm9yZy/Il7ecAAAACXBIWXMAAAsT\\\n",
       "AAALEwEAmpwYAAAIB0lEQVR4nO3dPW9caRnH4fvMjO3ZdWzyQqJVRLFIiAYpElqlolkpVT4AZRAN\\\n",
       "XyBN+Bx0FDR8ABqKlCxo262ItCtACAgkKwVv4k3GL5mXQ8EK4QwhziQ+Z//2dXV+NPbcUc7Rz8dz\\\n",
       "Zp6mbdsCgDSDvgcAgFUIGACRBAyASAIGQCQBAyCSgAEQScAAiCRgAEQSMAAiCRgAkQQMgEgCBkAk\\\n",
       "AQMgkoABEEnAAIgkYABEEjAAIgkYAJEEDIBIAgZAJAEDIJKAARBJwACIJGAARBIwACIJGACRBAyA\\\n",
       "SAIGQCQBAyCSgAEQScAAiCRgAEQSMAAiCRgAkUZ9D9Chtu8BAL6Gmr4HWJUrMAAiCRgAkQQMgEgC\\\n",
       "BkAkAQMgkoABEEnAAIgkYABEEjAAIgkYAJEEDIBIAgZAJAEDIJKAARBJwACIJGAARBIwACIJGACR\\\n",
       "BAyASAIGQCQBAyCSgAEQScAAiCRgAEQSMAAiCRgAkQQMgEgCBkAkAQMgkoABEEnAAIgkYABEEjAA\\\n",
       "IgkYAJEEDIBIAgZAJAEDIJKAARBJwACIJGAARBIwACIJGACRBAyASAIGQCQBAyCSgAEQScAAiCRg\\\n",
       "AEQSMAAiCRgAkQQMgEgCBkAkAQMgkoABEEnAAIgkYABEEjAAIgkYAJEEDIBIAgZAJAEDIJKAARBJ\\\n",
       "wACIJGAARBIwACIJGACRBAyASAIGQCQBAyCSgAEQScAAiCRgAEQSMAAiCRgAkQQMgEgCBkAkAQMg\\\n",
       "koABEEnAAIgkYABEEjAAIgkYAJEEDIBIAgZAJAEDIJKAARBJwACIJGAARBIwACIJGACRBAyASKO+\\\n",
       "B4CzZDGf1WJ6cGRtsLZRzWBUTdP0NBVkEjDo0NN/fFp/+e0vq6r9aqWp8fn36v0Pf1wbW5f6HA3i\\\n",
       "CBh0aDGf1Wz/yyNrk+f7tZge9jQR5PIaGHRofjhZWmuappqBUxFel7MGOjR59NeltfVzF2tt80IP\\\n",
       "00A2AYO+NYNqGqcivC5nDQCRBAyASAIGQCQBg460bfvqBwHHJmDQkXYxr4PHD5bW37l4tZrhsIeJ\\\n",
       "IJuAQVfatmb/431go41NdyHCCpw1AEQSMAAiCRgAkQQMgEgCBh1ZzKfVzmdL64O1cQ/TQD4Bg45M\\\n",
       "957U88mTpfXNK+93PgucBgIGXXnp+5jtxAyrEDAAIgkYAJEEDIBIAgZAJAGDjhzsfl7t4uht9IPR\\\n",
       "em1sX+5pIsgmYNCR2f7Tqhe2VGkGwxqNN3uaCLIJGACRBAyASAIGQCQBAyCSgEEH2rat6d7u0noz\\\n",
       "HNmNGVbkzIGO7H/xYGltY/tKjcbnepgG8gkY9OjfV18+zBdWIWAARBIwACIJGACRBAw689IdLYEV\\\n",
       "CBh0YDE9rP3HD5fWN75xpapxEwesQsCgA227qMXscGl9/dzFagQMViJgAEQSMAAiCRgAkQQMgEgC\\\n",
       "Bh1YTA+qnc+W1u3GDKsTMOjA82df1OxwcnSxaeqdi9/qZyA4BQQMOtC23sQMb5uAARBJwACIJGAA\\\n",
       "RBIw6E3jY6TgDQgYdGB/537VCzdyjDY2a33rUk8TQT4Bgw7MDveW1prhsAajjR6mgdNBwACIJGAA\\\n",
       "RBIwACIJGACRBAxOWNu29fzpP5fWh2vjagZOQViVswdOWtvW4ZfLARuff89diPAGBAx6403M8CYE\\\n",
       "DIBIAgZAJAEDINKo7wEg0etsUNlWW227eOOf5YN/4ajmDO0Ue2b+oZy8yWRSt2/frp2dnVc+dms8\\\n",
       "rJ/84EJtDI8egr/+5GHd21k/1vPduXOnrl+/vtKs8Aqxvxm5AoMVzGazunv3bt2/f/+Vj718/t36\\\n",
       "0Qc/rMX4Yu1Ov1njwaS213bq95/9qX71u0+P9Xy3bt1605Hh1BEw6MDnB9+uvz37sA4WmzVsZvXd\\\n",
       "c59U237c91gQTcDghM3btfrj5PvVrp37z9d/ePZBPZ1d6HkyyOYuRDhh08V67c22jqzN21E9mV7u\\\n",
       "aSI4HQQMTtiomdZ4uFf/fR/RWnNY59ce9TcUnAICBifs0tagvrf1cb1bD2o2O6jB/El9Z/ybOpy8\\\n",
       "+gYQ4OXOzGtg8/m87xE4RV7neHqw87R++rOf17z9Re3Pt2ptcFjrg736+6PdY/+MxWLhGOZEDIfD\\\n",
       "vkdY2ZkJ2EcffdT3CJwik8mkDg4OjvXYvYNp/fnh46++Wu3Phvfu3avt7e2Vvhf+nxs3bvQ9wsrO\\\n",
       "TMCS/5P4+tnd3a3xeNzZ8127ds0xDC/wGhgAkQQMgEgCBkAkAQMgkoABEEnAAIh0Zm6jh7dpNBrV\\\n",
       "zZs3j7Uf2Ntw9erVTp4HktjQElbQx3ljR2ZOSOyB5QoMViAm0D+vgQEQScAAiCRgAEQSMAAiCRgA\\\n",
       "kQQMgEgCBkAkAQMgkoABEEnAAIgkYABEEjAAIgkYAJEEDIBIAgZAJAEDIJKAARBJwACIJGAARBIw\\\n",
       "ACIJGACRBAyASAIGQCQBAyCSgAEQScAAiCRgAEQSMAAiCRgAkQQMgEgCBkAkAQMgkoABEEnAAIgk\\\n",
       "YABEEjAAIgkYAJEEDIBIAgZAJAEDIJKAARBJwACIJGAARBIwACKN+h6gQ03fAwDw9rgCAyCSgAEQ\\\n",
       "ScAAiCRgAEQSMAAiCRgAkQQMgEgCBkAkAQMgkoABEEnAAIgkYABEEjAAIgkYAJEEDIBIAgZAJAED\\\n",
       "IJKAARBJwACIJGAARBIwACIJGACRBAyASAIGQCQBAyCSgAEQScAAiCRgAEQSMAAiCRgAkQQMgEgC\\\n",
       "BkAkAQMgkoABEEnAAIj0L3ncHiccydbSAAAAAElFTkSuQmCC\\\n",
       "\"\n",
       "  frames[2] = \"data:image/png;base64,iVBORw0KGgoAAAANSUhEUgAAAbAAAAEgCAYAAADVKCZpAAAAOXRFWHRTb2Z0d2FyZQBNYXRwbG90\\\n",
       "bGliIHZlcnNpb24zLjMuMywgaHR0cHM6Ly9tYXRwbG90bGliLm9yZy/Il7ecAAAACXBIWXMAAAsT\\\n",
       "AAALEwEAmpwYAAAHxElEQVR4nO3dT28U9x3H8e/s+h8YShonlLSERpVyrIRUVTwApApVeQQ9c+7T\\\n",
       "6Ik71z4AeqnUQ3soRzgmUg7pJQ2VqxDcEOPiGK93fz2kQjEbCbPEM/nYr9fBkn8aeb6WZ/X2amZ2\\\n",
       "utZaAUCa0dADAMAiBAyASAIGQCQBAyCSgAEQScAAiCRgAEQSMAAiCRgAkQQMgEgCBkAkAQMgkoAB\\\n",
       "EEnAAIgkYABEEjAAIgkYAJEEDIBIAgZAJAEDIJKAARBJwACIJGAARBIwACIJGACRBAyASAIGQCQB\\\n",
       "AyCSgAEQScAAiCRgAEQSMAAiCRgAkQQMgEhLQw/Qozb0AAA/QN3QAyzKOzAAIgkYAJEEDIBIAgZA\\\n",
       "JAEDIJKAARBJwACIJGAARBIwACIJGACRBAyASAIGQCQBAyCSgAEQScAAiCRgAEQSMAAiCRgAkQQM\\\n",
       "gEgCBkAkAQMgkoABEEnAAIgkYABEEjAAIgkYAJEEDIBIAgZAJAEDIJKAARBJwACIJGAARBIwACIJ\\\n",
       "GACRBAyASAIGQCQBAyCSgAEQScAAiCRgAEQSMAAiCRgAkQQMgEgCBkAkAQMgkoABEEnAAIgkYABE\\\n",
       "EjAAIgkYAJEEDIBIAgZAJAEDIJKAARBJwACIJGAARBIwACIJGACRBAyASAIGQCQBAyCSgAEQScAA\\\n",
       "iCRgAEQSMAAiCRgAkQQMgEgCBkAkAQMgkoABEEnAAIgkYABEEjAAIgkYAJEEDIBIAgZAJAEDIJKA\\\n",
       "ARBJwACIJGAARBIwACIJGACRBAyASAIGQCQBAyCSgAEQScAAiCRgAEQSMAAiCRgAkQQMgEhLQw8A\\\n",
       "p8lselCzyd7hxW5U45Uz1XXdMENBKAGDHj388K/1xcd/r6r2fG3l3Ea9/9vf19Lq+nCDQSABgx7t\\\n",
       "P31cB18/ObS2tHa+RuOVgSaCXM6BARBJwACIJGAARBIwACIJGACRBAx60lqrNp3MrY/Gy1VuAYNX\\\n",
       "JmDQkzY9qN2tB3PrZ9++Ut3IHS3wqgQMetTabG6t60Y+hQMWIGAARBIwACIJGACRBAyASAIGvWkv\\\n",
       "3wQ4MgGDnkx2n9Rkd3tufeXcxgDTQD4Bg57MDvZrdjB/I/PqhYsDTAP5BAyASAIGQCQBAyCSgAEQ\\\n",
       "ScAAiCRg0JPZdFLVXrgXrOu+eZwK8MoEDHqyu/Wg2uzg0Np4ea3OvPnTgSaCbAIGffmOR6lUVZVH\\\n",
       "qcBCBAyASAIGQCQBAyCSgAEQScCgB+3Fy+efcwEHLErAoCe7Ww/m1lbOb9TS6voA00A+AYOeHOw9\\\n",
       "nVsbL69VN1oaYBrIJ2AARBIwACIJGACRBAyASAIGQCQBgx602bQO9nbm1kdLK24FgwUJGPRgdrBf\\\n",
       "z3a25tbXL75XCgaLETAYUjeqzuNUYCECBkAkAQMgkoABEEnAAIgkYABEEjDowf7O1nd8Gn1XZ996\\\n",
       "d5B54CQQMOjBdPKs2uzg8GJXNV45O8xAcAIIGACRBAyASAIGQCQBAyCSgAEQScCgB5Pd7ap2eK3r\\\n",
       "xjUaLw8zEJwAAgY92Pvq83qxYEtr52r1wtvDDAQngIDBULrnX4AFCBgAkQQMgEgCBkAkAQMgkoDB\\\n",
       "MWut1dw19FXlAg54PUtDDwCpvgnTkTas3a0Hc8trb1yq0fLqkX9O1wkefFt35BdhvlPzi3L8Wmt1\\\n",
       "69atunfv3ku37arqd7/+UV358eGblj95+Kz+9OF/j7S/Gzdu1M2bNxcZFV4m9j8j78BgQffv3687\\\n",
       "d+68dLtR19Vv3vug3rlwpR5PflJdtXpz5WFtbn5ad+787Uj7unTp0uuOCyeOgEEPnk4v1L0vP6jt\\\n",
       "yUZ1VfXO2qc1aZ8NPRZEcxEHHLNWVf/Y+VVtT96qqlG1GtW/935Rm1+/P/RoEE3A4Nh1tTdbr8On\\\n",
       "Grp6vH9xqIHgRBAwOHat1sfb9e3riLqa1cXVfw03EpwAzoHBMVtbGdcvNz6q/fHP6otn71ZXrX6+\\\n",
       "/nFN6pOhR4NopyZg0+l06BE4QVprR75/a38yrT/88c/VdX+p3en56qrVmfFOffnk6SvtzzHMcRiP\\\n",
       "x0OPsLBTE7C7d+8OPQInzKNHj4603XTW6p+ff/X/7/6z0L42NzcdwxyL69evDz3Cwk5NwJL/SPzw\\\n",
       "tNbq9u3bve3v8uXLjmF4gYs4AIgkYABEEjAAIgkYAJEEDIBIAgZApFNzGT18365du3b0h1q+pqtX\\\n",
       "r/ayH0jigZawoL5fO57IzDGJPbC8A4MFCQoMyzkwACIJGACRBAyASAIGQCQBAyCSgAEQScAAiCRg\\\n",
       "AEQSMAAiCRgAkQQMgEgCBkAkAQMgkoABEEnAAIgkYABEEjAAIgkYAJEEDIBIAgZAJAEDIJKAARBJ\\\n",
       "wACIJGAARBIwACIJGACRBAyASAIGQCQBAyCSgAEQScAAiCRgAEQSMAAiCRgAkQQMgEgCBkAkAQMg\\\n",
       "koABEEnAAIgkYABEEjAAIgkYAJEEDIBIAgZApKWhB+hRN/QAAHx/vAMDIJKAARBJwACIJGAARBIw\\\n",
       "ACIJGACRBAyASAIGQCQBAyCSgAEQScAAiCRgAEQSMAAiCRgAkQQMgEgCBkAkAQMgkoABEEnAAIgk\\\n",
       "YABEEjAAIgkYAJEEDIBIAgZAJAEDIJKAARBJwACIJGAARBIwACIJGACRBAyASAIGQCQBAyCSgAEQ\\\n",
       "ScAAiPQ/CI//ECjxI8gAAAAASUVORK5CYII=\\\n",
       "\"\n",
       "  frames[3] = \"data:image/png;base64,iVBORw0KGgoAAAANSUhEUgAAAbAAAAEgCAYAAADVKCZpAAAAOXRFWHRTb2Z0d2FyZQBNYXRwbG90\\\n",
       "bGliIHZlcnNpb24zLjMuMywgaHR0cHM6Ly9tYXRwbG90bGliLm9yZy/Il7ecAAAACXBIWXMAAAsT\\\n",
       "AAALEwEAmpwYAAAHrElEQVR4nO3dz2tcex3H4c/JTCaZpuntVZF7pYiIghWuiFZw350gdCv+Ee66\\\n",
       "snvpzj/CfTdupUXQRam46sJ7UarhXiutuU2b33PmuBChuQk2TnPP8Z08z/Kb+fEJzOGVMzPnm6br\\\n",
       "ugKANEtDDwAAixAwACIJGACRBAyASAIGQCQBAyCSgAEQScAAiCRgAEQSMAAiCRgAkQQMgEgCBkAk\\\n",
       "AQMgkoABEEnAAIgkYABEEjAAIgkYAJEEDIBIAgZAJAEDIJKAARBJwACIJGAARBIwACIJGACRBAyA\\\n",
       "SAIGQCQBAyCSgAEQScAAiCRgAEQSMAAijYceoEfd0AMA/B9qhh5gUc7AAIgkYABEEjAAIgkYAJEE\\\n",
       "DIBIAgZAJAEDIJKAARBJwACIJGAARBIwACIJGACRBAyASAIGQCQBAyCSgAEQScAAiCRgAEQSMAAi\\\n",
       "CRgAkQQMgEgCBkAkAQMgkoABEEnAAIgkYABEEjAAIgkYAJEEDIBIAgZAJAEDIJKAARBJwACIJGAA\\\n",
       "RBIwACIJGACRBAyASAIGQCQBAyCSgAEQScAAiCRgAEQSMAAiCRgAkQQMgEgCBkAkAQMgkoABEEnA\\\n",
       "AIgkYABEEjAAIgkYAJEEDIBIAgZAJAEDIJKAARBJwACIJGAARBIwACIJGACRBAyASAIGQCQBAyCS\\\n",
       "gAEQScAAiCRgAEQSMAAiCRgAkQQMgEgCBkAkAQMgkoABEEnAAIgkYABEEjAAIgkYAJEEDIBIAgZA\\\n",
       "JAEDIJKAARBJwACIJGAARBIwACIJGACRBAyASAIGQCQBAyCSgAEQScAAiCRgAEQSMAAijYceAC6S\\\n",
       "9nCvunZ2dLFZqtFkWk3TDDMUhBIw6NEnf/h1Pf/T74+srV59r775o59VM1oeaCrIJGDQo/Zgr2a7\\\n",
       "L4+szVbXq7qBBoJgPgODnnSdSsFZEjDoSTdva2/z42Pr0y98pZrRaICJIJuAQV+6rmb728eWxytr\\\n",
       "1TQORfhfOWoAiCRgAEQSMAAiCRgAkQQMgEgCBkAkAQMgkoABEEnAoCfdvK1uPj/hJ3ahh0UIGPTk\\\n",
       "YHuzDrc3j62vfflr/Q8D54CAQV+67sQNfZeWVwcYBvIJGACRBAyASAIGQCQBAyCSgAEQScAAiCRg\\\n",
       "AEQSMAAiCRj0pD3cq/rshczNUo2WV4YZCMIJGPRk958b1c1nR9ZGyyu1evX9gSaCbAIGfTlhG6mq\\\n",
       "spcvLEjAAIgkYABEEjAAIgkYAJEEDIBIAgZAJAEDIJKAARBJwKAHXdfVbO/VsfWl5dVqlsYDTAT5\\\n",
       "BAx6svPsb8fWVta/WOOVtQGmgXwCBoOyjxQsSsAAiCRgAEQSMAAiCRgAkQQMgEgCBkAkAQMgkoAB\\\n",
       "EEnAoAfz2UHtb/3j2Pry2juuZYYFCRj0oJu3NdvfPra+evX9ahqHISzCkQNAJAEDIJKAARBJwACI\\\n",
       "JGAARBIwACIJGACRBAyASAIGQCQBgx4cvHxWs73P7sTR1KUvfXWQeeA8EDDoQXu4X918dnSxqRpN\\\n",
       "psMMBOeAgAEQaTz0AJCq67reH6dpbF0P/9Gc1UEY4ML8ovRjY2Ojbt++XQcHB2+87bWr4/rpD67U\\\n",
       "0msBmndd/erhVm18Ovsv9/y3yWRSd+/erWvXrr3VzHCC2L+KnIHBgra2turevXu1u7v7xtt+9xvv\\\n",
       "1U++/+Pa6d6pV7N36/J4s6bNp/XgwYP640d/f+P9p9Np3blz5yzGhnNDwKAH866pD199r/66+0Ed\\\n",
       "dis1Wdqrb1/+bV2cN0Dg7PkSB/Tg1ezd+vP2d+qwW62qpg7m03r88od1MF8dejSIJWDQg1k3qbY7\\\n",
       "+obHfnupdtr1gSaCfAIGPZgs7dRy8/qXPbpaG7+oy+MXg80E6QQMejBdelFfn/6uRvPNOjzcr0n3\\\n",
       "rL516Tc1qv2hR4NYF+ZLHG3bDj0C58x8Pj/1NVwfbjyvn//yF3XYrdZ+O63V0U4tN/v18fOXp36+\\\n",
       "tm29jjlzo9Fo6BEWdmECdv/+/aFH4Jx58uRJzefzU91272BWf/lkc+Hnatu2Hj58WE+fPl34MeAk\\\n",
       "N2/eHHqEhbmQGRb0+PHjunHjxqmuA3tb0+m0Hj16VNevX//cn4sLJ/ZCZp+BARBJwACIJGAARBIw\\\n",
       "ACIJGACRBAyASBfmOjA4a1euXKlbt26d6v+Bva3JZFLr6/ZNhNe5DgwWNMSx4z8y8zmIfVE5A4MF\\\n",
       "iQkMy2dgAEQSMAAiCRgAkQQMgEgCBkAkAQMgkoABEEnAAIgkYABEEjAAIgkYAJEEDIBIAgZAJAED\\\n",
       "IJKAARBJwACIJGAARBIwACIJGACRBAyASAIGQCQBAyCSgAEQScAAiCRgAEQSMAAiCRgAkQQMgEgC\\\n",
       "BkAkAQMgkoABEEnAAIgkYABEEjAAIgkYAJEEDIBIAgZAJAEDIJKAARBJwACIJGAARBIwACIJGACR\\\n",
       "BAyASOOhB+hRM/QAAJwdZ2AARBIwACIJGACRBAyASAIGQCQBAyCSgAEQScAAiCRgAEQSMAAiCRgA\\\n",
       "kQQMgEgCBkAkAQMgkoABEEnAAIgkYABEEjAAIgkYAJEEDIBIAgZAJAEDIJKAARBJwACIJGAARBIw\\\n",
       "ACIJGACRBAyASAIGQCQBAyCSgAEQScAAiCRgAEQSMAAiCRgAkf4FJZAS9+D7sRUAAAAASUVORK5C\\\n",
       "YII=\\\n",
       "\"\n",
       "  frames[4] = \"data:image/png;base64,iVBORw0KGgoAAAANSUhEUgAAAbAAAAEgCAYAAADVKCZpAAAAOXRFWHRTb2Z0d2FyZQBNYXRwbG90\\\n",
       "bGliIHZlcnNpb24zLjMuMywgaHR0cHM6Ly9tYXRwbG90bGliLm9yZy/Il7ecAAAACXBIWXMAAAsT\\\n",
       "AAALEwEAmpwYAAAG7UlEQVR4nO3dT2scdRzH8e90d036h5ZqTqEGERXqzZPiwQpF8Gwfjo+ghV69\\\n",
       "+Bh6tIKnHqqHHhSx4KleiqVoKbVbk91md8aDFIx/SJvEmX6a1+v4Y2bnG7LDeyczYZuu6woA0hwZ\\\n",
       "egAA2AsBAyCSgAEQScAAiCRgAEQSMAAiCRgAkQQMgEgCBkAkAQMgkoABEEnAAIgkYABEEjAAIgkY\\\n",
       "AJEEDIBIAgZAJAEDIJKAARBJwACIJGAARBIwACIJGACRBAyASAIGQCQBAyCSgAEQScAAiCRgAEQS\\\n",
       "MAAiCRgAkQQMgEgCBkAkAQMg0njoAXrUDT0AwHOoGXqAvXIFBkAkAQMgkoABEEnAAIgkYABEEjAA\\\n",
       "IgkYAJEEDIBIAgZAJAEDIJKAARBJwACIJGAARBIwACIJGACRBAyASAIGQCQBAyCSgAEQScAAiCRg\\\n",
       "AEQSMAAiCRgAkQQMgEgCBkAkAQMgkoABEEnAAIgkYABEEjAAIgkYAJEEDIBIAgZAJAEDIJKAARBJ\\\n",
       "wACIJGAARBIwACIJGACRBAyASAIGQCQBAyCSgAEQScAAiCRgAEQSMAAiCRgAkQQMgEgCBkAkAQMg\\\n",
       "koABEEnAAIgkYABEEjAAIgkYAJEEDIBIAgZAJAEDIJKAARBJwACIJGAARBIwACIJGACRBAyASAIG\\\n",
       "QCQBAyCSgAEQScAAiCRgAEQSMAAiCRgAkQQMgEgCBkAkAQMgkoABEEnAAIgkYABEEjAAIgkYAJEE\\\n",
       "DIBIAgZAJAEDIJKAARBJwACIJGAARBIwACIJGACRBAyASAIGQCQBAyCSgAEQaTz0AHBYdF1Xy8db\\\n",
       "VV27Y70ZTWo0WRloKsglYNCTrl3Ura8+q9mDuzvWX3nr/Trz7icDTQW5BAz60lUtZo9qsTXdsdxu\\\n",
       "zwYaCLK5BwZAJAEDIJKAARBJwKAni/mjWsx+/8f6aOX4ANNAPgGDniznW38+Rv83x9Y2BpgG8gkY\\\n",
       "AJEEDIBIAgZAJAEDIJKAARBJwACIJGAARBIwACIJGACRBAyASAIGQCQBAyCSgAEQScAAiCRgAEQS\\\n",
       "MAAiCRgAkQQMgEgCBkAkAQMgkoABEEnAAIgkYABEEjAAIgkYAJEEDIBIAgZAJAEDIJKAARBJwACI\\\n",
       "JGDQk3b5uKrrdi42TR0ZT4YZCMIJGPRk897t6trFjrXRZLWOnl4faCLIJmDQl6799/Wm6XcOeEEI\\\n",
       "GACRBAyASAIGQCQBAyCSgAEQScAAiCRgAEQSMAAiCRgAkQQMgEgCBkAkAQMgkoABEEnAAIgkYABE\\\n",
       "EjAAIgkYAJEEDIBIAgZAJAEDINJ46AEgWdd1B/Aiz/Y6TdPs/5jwAmgO5ATMcGh+UPpz48aNunTp\\\n",
       "0lNt+86Zlfr47RM71mbbbX3+zW/1aN7uuv/a2lpdvny5jh8/vqdZ4T/EfiJyBQb7cOfOnbpy5cpT\\\n",
       "bdt9cLY+OvthTbdfrll7rE5N7tX29v26evWL+vXB5q77b2xs1MWLF/c7MrwwBAx6smwn9f2Dc3V3\\\n",
       "9lq1Napjo4f1xktfDj0WxPIQB/Tkl/mZujN7vdoaV1VTm8uT9eP0vWq70dCjQSQBg548bldr5ynX\\\n",
       "1NbyRC27yVAjQTQBg54cG0+rqeVfVro6OblXkyPzwWaCZAIGPTk9/rleXfm2muXDWixmdaK5XW8e\\\n",
       "/brq8DwJDAfq0DzEsVwud98InlHb7v74+xPXvrtVP/z0ac3bo7VoV+roaFpNbdf96dZT7d91XS2X\\\n",
       "S+9lDtRolHsP9tAE7Nq1a0OPwAvo5s2bT73tw815Pdzc+58L5/N5Xb9+3f+BcaDOnz8/9Ah7dmgC\\\n",
       "lvxL4vk1nU57O9bq6mqdO3euTp061dsx4XnmHhgAkQQMgEgCBkAkAQMgkoABEEnAAIh0aB6jh//D\\\n",
       "+vp6XbhwoZdjra2t1XjslIUnfKEl7MMQ549vZOaAxb6hfJyDfRATGI57YABEEjAAIgkYAJEEDIBI\\\n",
       "AgZAJAEDIJKAARBJwACIJGAARBIwACIJGACRBAyASAIGQCQBAyCSgAEQScAAiCRgAEQSMAAiCRgA\\\n",
       "kQQMgEgCBkAkAQMgkoABEEnAAIgkYABEEjAAIgkYAJEEDIBIAgZAJAEDIJKAARBJwACIJGAARBIw\\\n",
       "ACIJGACRBAyASAIGQCQBAyCSgAEQScAAiCRgAEQSMAAiCRgAkQQMgEjjoQfoUTP0AAAcHFdgAEQS\\\n",
       "MAAiCRgAkQQMgEgCBkAkAQMgkoABEEnAAIgkYABEEjAAIgkYAJEEDIBIAgZAJAEDIJKAARBJwACI\\\n",
       "JGAARBIwACIJGACRBAyASAIGQCQBAyCSgAEQScAAiCRgAEQSMAAiCRgAkQQMgEgCBkAkAQMgkoAB\\\n",
       "EEnAAIgkYABEEjAAIgkYAJH+ANW6zWlecFl+AAAAAElFTkSuQmCC\\\n",
       "\"\n",
       "  frames[5] = \"data:image/png;base64,iVBORw0KGgoAAAANSUhEUgAAAbAAAAEgCAYAAADVKCZpAAAAOXRFWHRTb2Z0d2FyZQBNYXRwbG90\\\n",
       "bGliIHZlcnNpb24zLjMuMywgaHR0cHM6Ly9tYXRwbG90bGliLm9yZy/Il7ecAAAACXBIWXMAAAsT\\\n",
       "AAALEwEAmpwYAAAHMklEQVR4nO3dTW9UZRjH4fv0TEvbgSAviQswJiaGmJiYuFPcsXDlhqVfwz3G\\\n",
       "DVviJ/ATgH4EdkRjXGFCWGiMIgYI8mKhdKZzXKgJpYvSoZ7Dn17X8mlP5p50Jr85nTPzNF3XFQCk\\\n",
       "WRh6AACYh4ABEEnAAIgkYABEEjAAIgkYAJEEDIBIAgZAJAEDIJKAARBJwACIJGAARBIwACIJGACR\\\n",
       "BAyASAIGQCQBAyCSgAEQScAAiCRgAEQSMAAiCRgAkQQMgEgCBkAkAQMgkoABEEnAAIgkYABEEjAA\\\n",
       "IgkYAJEEDIBIAgZAJAEDIJKAARBpNPQAPeqGHgDgJdQMPcC8nIEBEEnAAIgkYABEEjAAIgkYAJEE\\\n",
       "DIBIAgZAJAEDIJKAARBJwACIJGAARBIwACIJGACRBAyASAIGQCQBAyCSgAEQScAAiCRgAEQSMAAi\\\n",
       "CRgAkQQMgEgCBkAkAQMgkoABEEnAAIgkYABEEjAAIgkYAJEEDIBIAgZAJAEDIJKAARBJwACIJGAA\\\n",
       "RBIwACIJGACRBAyASAIGQCQBAyCSgAEQScAAiCRgAEQSMAAiCRgAkQQMgEgCBkAkAQMgkoABEEnA\\\n",
       "AIgkYABEEjAAIgkYAJEEDIBIAgZAJAEDIJKAARBJwACIJGAARBIwACIJGACRBAyASAIGQCQBAyCS\\\n",
       "gAEQScAAiCRgAEQSMAAiCRgAkQQMgEgCBkAkAQMgkoABEEnAAIgkYABEEjAAIgkYAJEEDIBIAgZA\\\n",
       "JAEDIJKAARBJwACIJGAARBIwACIJGACRBAyASAIGQCQBAyCSgAEQScAAiCRgAEQaDT0A7Bez6aRm\\\n",
       "0yfb1tsDq9U0XkvCbgkY9OTPn76v3769uGWtXVqtU598VourhweaCnIJGPRkNt2o6eOHW9a6zWl1\\\n",
       "3WygiSCb/1sAEEnAAIgkYABEEjAAIgkY9GRhcbmqmi1rXdfVbLIxzEAQTsCgJ6vHTlbTtlvWZpP1\\\n",
       "Wr93c6CJIJuAQW+aevYMrOqfszBg9wQMgEgCBkAkAQMgkoABEEnAAIgkYABEEjAAIgkYAJEEDIBI\\\n",
       "AgZAJAEDIJKAARBJwACIJGAARBIwACIJGACRBAz6sn0vy6qqmk03+p0DXhECBj1ZGh+ppfFr29bX\\\n",
       "bv3c/zDwChAw6EmzMKqmHW3/QTfrfxh4BQgYAJEEDIBIAgZAJAEDIJKAARBJwACIJGAARBIwACIJ\\\n",
       "GACRBAyASAIGQCQBAyCSgAEQScAAiCRgAEQSMAAiCRj0qtm20nVddV03wCyQTcCgJ03b1srRE9vW\\\n",
       "H9+9Ud1sc4CJIJuAQU+aZqHapZVt65sbj6ucgcGuCRgAkQQMgEgCBkAkAQMgkoABEEnAAIgkYABE\\\n",
       "EjAAIgkYAJEEDIBIAgZAJAEDIJKAARBpNPQAkG5v9vLa3Z5gTbN9XzHYb5p9tJHevrmj9OvatWt1\\\n",
       "7ty5ms1mO/7ux++M6/03lres3X44ra++vV+bOx9e4/G4Lly4UEePHp13XHhW7KshZ2Dwgu7cuVOX\\\n",
       "Ll2qzc2dN6V8+9OP6r2T79a9jddr0i3VodHduv/gl/rm629qY7rz8UeOHKnz58/vxdgQT8CgR7Ou\\\n",
       "rR8ffFi/PjpVXS3U8sJaHdq4OPRYEMlFHNCja7fG/8arraqm1mfj+n36Qa0uL+94LLCVgEGPrt94\\\n",
       "VLPu6addU+Pxa3X44MpgM0EqAYMerbRrNWqmT610tdo+qKZ5jis4gC0EDHp0sL1dby5/V93mXzWd\\\n",
       "PKmV+qPeWr5S1QkY7Na+uYjjea4Qg3k8z+Xz//nh+o36/Msvan3zYE27Ua20a9U2T+rGnQe7uj2P\\\n",
       "Z/ZK27ZDjzC3fROwy5cvDz0Cr6irV68+94eQ19Yn9fPNu1V1d67bmkwmdeXKlTp27Nhcx8Ozzpw5\\\n",
       "M/QIc9s3AUv+I/FyO3DgQG/fjLG4uFinT5+uEydO9HJ78DLzHhgAkQQMgEgCBkAkAQMgkoABEEnA\\\n",
       "AIi0by6jh//L8ePH6+zZs7v6QPO8xuNxraz43kSosqElvLAhnkN2ZGYPxT6YnIHBCxITGIb3wACI\\\n",
       "JGAARBIwACIJGACRBAyASAIGQCQBAyCSgAEQScAAiCRgAEQSMAAiCRgAkQQMgEgCBkAkAQMgkoAB\\\n",
       "EEnAAIgkYABEEjAAIgkYAJEEDIBIAgZAJAEDIJKAARBJwACIJGAARBIwACIJGACRBAyASAIGQCQB\\\n",
       "AyCSgAEQScAAiCRgAEQSMAAiCRgAkQQMgEgCBkAkAQMgkoABEEnAAIgkYABEEjAAIgkYAJFGQw/Q\\\n",
       "o2boAQDYO87AAIgkYABEEjAAIgkYAJEEDIBIAgZAJAEDIJKAARBJwACIJGAARBIwACIJGACRBAyA\\\n",
       "SAIGQCQBAyCSgAEQScAAiCRgAEQSMAAiCRgAkQQMgEgCBkAkAQMgkoABEEnAAIgkYABEEjAAIgkY\\\n",
       "AJEEDIBIAgZAJAEDIJKAARBJwACIJGAARBIwACL9DZLe3Lwmnj4bAAAAAElFTkSuQmCC\\\n",
       "\"\n",
       "  frames[6] = \"data:image/png;base64,iVBORw0KGgoAAAANSUhEUgAAAbAAAAEgCAYAAADVKCZpAAAAOXRFWHRTb2Z0d2FyZQBNYXRwbG90\\\n",
       "bGliIHZlcnNpb24zLjMuMywgaHR0cHM6Ly9tYXRwbG90bGliLm9yZy/Il7ecAAAACXBIWXMAAAsT\\\n",
       "AAALEwEAmpwYAAAIQklEQVR4nO3dv48cdx3H4c/s7u3d+WI7ThQTgYWikMYSAqSYliZCVEiu4f9I\\\n",
       "F9H7P6BMQUMViRopbmgsS0gIF/xSHFngIw627+z7tbszFAFks0Y+by4zvH3PU3594/ucdKuXx/Od\\\n",
       "mabrugKANKOhBwCAVQgYAJEEDIBIAgZAJAEDIJKAARBJwACIJGAARBIwACIJGACRBAyASAIGQCQB\\\n",
       "AyCSgAEQScAAiCRgAEQSMAAiCRgAkQQMgEgCBkAkAQMgkoABEEnAAIgkYABEEjAAIgkYAJEEDIBI\\\n",
       "AgZAJAEDIJKAARBJwACIJGAARBIwACIJGACRJkMP0KNu6AEA/g81Qw+wKmdgAEQSMAAiCRgAkQQM\\\n",
       "gEgCBkAkAQMgkoABEEnAAIgkYABEEjAAIgkYAJEEDIBIAgZAJAEDIJKAARBJwACIJGAARBIwACIJ\\\n",
       "GACRBAyASAIGQCQBAyCSgAEQScAAiCRgAEQSMAAiCRgAkQQMgEgCBkAkAQMgkoABEEnAAIgkYABE\\\n",
       "EjAAIgkYAJEEDIBIAgZAJAEDIJKAARBJwACIJGAARBIwACIJGACRBAyASAIGQCQBAyCSgAEQScAA\\\n",
       "iCRgAEQSMAAiCRgAkQQMgEgCBkAkAQMgkoABEEnAAIgkYABEEjAAIgkYAJEEDIBIAgZAJAEDIJKA\\\n",
       "ARBJwACIJGAARBIwACIJGACRBAyASAIGQCQBAyCSgAEQScAAiCRgAEQSMAAiCRgAkQQMgEgCBkAk\\\n",
       "AQMgkoABEEnAAIgkYABEEjAAIgkYAJEEDIBIAgZAJAEDIJKAARBJwACIJGAARBIwACIJGACRJkMP\\\n",
       "AKdB13VVXVuLo/2n1keTaY0m04GmgmwCBj1o50d1+/qHtfu3P1ZV95/1N7/7o/rad3443GAQTMCg\\\n",
       "D11be/c+rfn+zlPLs/3d6rqumqYZaDDI5RoY9GC0tlEbF76+tL732SdVXbd8APBcAgY9aZrlj1vX\\\n",
       "LgaYBF4OAgaD8l+HsCoBAyCSgAEQScBgUDZwwKoEDHqyfv7i0trhzmc1P3w0wDSQT8CgB03T1PrZ\\\n",
       "15fW2/mRnYiwIgEDIJKAARBJwACIJGAARBIw6Ml4/Uz995M3unb5FSvA8QgY9GTzwjeqGT/9Aoh2\\\n",
       "fliHD/8+0ESQTcBgYJ2n0cNKBAyASAIGQCQBAyCSgEFf/servzxKClYjYNCTtc3ztXbm/NL64+0/\\\n",
       "DzAN5BMw6MloMq3RZG1p3RkYrEbAAIgkYABEEjAAIgkYAJEEDHrSjEY13Xptaf3o0X0bOWAFAgY9\\\n",
       "aUbjmp59fWn9cPdedW07wESQTcAAiCRgAEQSMAAiCRgAkQQMetSMlj9y3WJW7WI2wDSQTcCgR1sX\\\n",
       "315aO3r8oGZ7D/ofBsIJGPRoNJk++w+6fueAl4GAARBJwACIJGAARBIwACIJGPRo/dwbSxs5unZe\\\n",
       "Bw/uDjQR5BIw6NFkfaua0fjpxa6r+cHuMANBMAEDIJKAARBJwACIJGAARBIw6FEzGlUzniytt/Oj\\\n",
       "6jrPk4IXIWDQo8nGK7V+7uLS+qPtvwwwDWQTMOhVU03TLC87+4IXJmAARBIwACIJGACRBAz69qxr\\\n",
       "YN5oCS9MwKBPTVNbb7y1tLx//6/Vzg77nweCCRj0qGmaGq2tL61/cR9YO8BEkEvAAIgkYABEEjAA\\\n",
       "IgkYAJEEDHo22Xhlaa1bzKudHQwwDeRafiw28MJe5Enym69d+uJesCeOmR8+rsPdz2tt68Kx/55n\\\n",
       "PlMRTpHmFL3C4dT8oPTvzp079f7779fR0dFzv/bSq5P66ffP1eiJALVdV7+4sVN3Hsyfe/x0Oq1r\\\n",
       "167VpUuXvtTM8C+x/xJyBgYnYGdnpz766KPa399/7td+75036ydXflyPFq/Wo/mrtTV+WBuj+3X9\\\n",
       "+vX67Z/uPvf4zc3N+uCDD05ibIgmYDCAuwdv1e93f1BH7UaNm1l9c/N31Xa/GnosiGITB/Rs3q3V\\\n",
       "H3bfraN2s6qaWnTT+uTxt+vR/PjXvwABg94dLM7U3uLpnYiLblLNeGOgiSCTgEHPPv/H3To6+Lye\\\n",
       "3Fe0Pp7Vu986O9xQEEjAoGez2X69s/7rmnb3ajY7rHF7v97e/E1tTXaGHg2inJpNHIvFYugReIm1\\\n",
       "bXvse8H2Dmb1s59/WF3zyzpYnKn18V5Nm8O6v/v8HYz/tlgs/E5zIsbj8dAjrOzUBOzjjz8eegRe\\\n",
       "Yrdv3662Pd7rUNquq0+3H1bVw5W+12KxqBs3btT29vZKx8OT3nvvvaFHWJkbmeEE3Lp1q65cuXKs\\\n",
       "+8C+rM3Nzbp582Zdvnz5K/9enAqxNzK7BgZAJAEDIJKAARBJwACIJGAARBIwACKdmvvA4Kt07ty5\\\n",
       "unr16rHeB/ZlTafTOnvWY6fAfWBwAob4HHkjMyck9hfJGRicADGB/rkGBkAkAQMgkoABEEnAAIgk\\\n",
       "YABEEjAAIgkYAJEEDIBIAgZAJAEDIJKAARBJwACIJGAARBIwACIJGACRBAyASAIGQCQBAyCSgAEQ\\\n",
       "ScAAiCRgAEQSMAAiCRgAkQQMgEgCBkAkAQMgkoABEEnAAIgkYABEEjAAIgkYAJEEDIBIAgZAJAED\\\n",
       "IJKAARBJwACIJGAARBIwACIJGACRBAyASAIGQCQBAyCSgAEQScAAiDQZeoAeNUMPAMDJcQYGQCQB\\\n",
       "AyCSgAEQScAAiCRgAEQSMAAiCRgAkQQMgEgCBkAkAQMgkoABEEnAAIgkYABEEjAAIgkYAJEEDIBI\\\n",
       "AgZAJAEDIJKAARBJwACIJGAARBIwACIJGACRBAyASAIGQCQBAyCSgAEQScAAiCRgAEQSMAAiCRgA\\\n",
       "kQQMgEgCBkAkAQMgkoABEOmfsOdIhjQodHkAAAAASUVORK5CYII=\\\n",
       "\"\n",
       "  frames[7] = \"data:image/png;base64,iVBORw0KGgoAAAANSUhEUgAAAbAAAAEgCAYAAADVKCZpAAAAOXRFWHRTb2Z0d2FyZQBNYXRwbG90\\\n",
       "bGliIHZlcnNpb24zLjMuMywgaHR0cHM6Ly9tYXRwbG90bGliLm9yZy/Il7ecAAAACXBIWXMAAAsT\\\n",
       "AAALEwEAmpwYAAAI4klEQVR4nO3dT28c9R3H8e/s+r9DIYQ/EpSKglSk9lJVHCqukape6PPoDR4D\\\n",
       "D6PqU2ilop6qSqgXqlail4rSG1IJAZrYBGPvrnd3phdU4Wyi2I6ZySd+vU7RL7b3a9mjdybz25mm\\\n",
       "67oCgDSjoQcAgPMQMAAiCRgAkQQMgEgCBkAkAQMgkoABEEnAAIgkYABEEjAAIgkYAJEEDIBIAgZA\\\n",
       "JAEDIJKAARBJwACIJGAARBIwACIJGACRBAyASAIGQCQBAyCSgAEQScAAiCRgAEQSMAAiCRgAkQQM\\\n",
       "gEgCBkAkAQMgkoABEEnAAIgkYABEEjAAIq0NPUCPuqEHAHgENUMPcF7OwACIJGAARBIwACIJGACR\\\n",
       "BAyASAIGQCQBAyCSgAEQScAAiCRgAEQSMAAiCRgAkQQMgEgCBkAkAQMgkoABEEnAAIgkYABEEjAA\\\n",
       "IgkYAJEEDIBIAgZAJAEDIJKAARBJwACIJGAARBIwACIJGACRBAyASAIGQCQBAyCSgAEQScAAiCRg\\\n",
       "AEQSMAAiCRgAkQQMgEgCBkAkAQMgkoABEEnAAIgkYABEEjAAIgkYAJEEDIBIAgZAJAEDIJKAARBJ\\\n",
       "wACIJGAARBIwACIJGACRBAyASAIGQCQBAyCSgAEQScAAiCRgAEQSMAAiCRgAkQQMgEgCBkAkAQMg\\\n",
       "koABEEnAAIgkYABEEjAAIgkYAJEEDIBIAgZAJAEDIJKAARBJwACIJGAARBIwACIJGACRBAyASAIG\\\n",
       "QCQBAyCSgAEQScAAiCRgAEQSMAAiCRgAkQQMgEgCBkAkAQMgkoABEEnAAIgkYABEEjAAIq0NPQBc\\\n",
       "Bl3X/f/P7eK4uuW8qqrGG9vVjMZDjQXRBAx6MN2/WTf+9rvquq7mR3dqfvRlNc2oXv3Fr2v3uR8O\\\n",
       "PR5EEjDowWJ2WHf+88+qb52JVdNUu1wMNxSEcw0MgEgCBj1Y27pSo7XNk4tdV5O9T4YZCB4DAgY9\\\n",
       "WN95ssYbWyvri+nhANPA40HAAIgkYABEEjDoQdM0NRqvr6zPj+6ceI8YcHoCBj0YrW/V1tUXVtan\\\n",
       "+zdPbq0HTk3AoCdN43CDi+SIAiCSgEFPmvHqPQ+X82l1rbtxwHkIGPTkyvOvrqwdH9yuxcx7weA8\\\n",
       "BAx60DTNfe46bwMHnJeAARBJwKAv99uFaBs9nIuAQU92nvlBNaOTTzBazqc12ft0oIkgm4BBT0bj\\\n",
       "9aqmObnYddV+83Rm4GwEDIBIAgaDcw0MzkPAoCdrW7u1trW7sn74xcf9DwOPAQGDnow3dmq8sb2y\\\n",
       "3s6nA0wD+QQMgEgCBo8AzwSDsxMw6EkzGtXG7tWV9cnejera5QATQTYBg540o3FtPPHMyvpiduRu\\\n",
       "HHAOAgZAJAEDIJKAQY82dp9aWWvn01raSg9nJmDQo62rL6yszScHtZgcDDANZBMwACIJGACRBAx6\\\n",
       "1IzGVXX3I1XaWswOB5kHkgkY9Gj76RdqtL55Yq1rlzXdvznQRJBLwKBHTTOu5u6HWlaVR6rA2QkY\\\n",
       "AJEEDPrUNFXN6mG3PJ64oS+ckYBBj9a2rtTWk8+trB/+9+P+h4FwAgY9aprRNzsR7+LkC85MwACI\\\n",
       "JGDQN7sQ4UIIGPSpaWr32ZdXlif7N6udz/qfB4IJGPSoaZqVNzJXVbWLWXVdO8BEkEvAAIgkYABE\\\n",
       "EjDo2caVaytri+lhHR/cGmAayCVg0LPN7z27shOxaxe1tIkDzkTAAIgkYABEEjDo2drmTo3WNk4u\\\n",
       "dlXzozvDDAShBAx6tr57tcYb23etdjX98rNB5oFUAgZAJAEDIJKAQc+aprnnI1UW0wMPtYQzEDDo\\\n",
       "2Wh9q7affnFlfXL7RpWAwakJGAygaRx68LAcRQBEEjAYwL2ugbWLWXXtYoBpIJOAwQB2n3tlZW32\\\n",
       "1a1azA4HmAYyCRj0rGmaGq2t3+NvbOCAs1gbegB4XJxlC/x9P7I729dp7rqrPVwmzSV638ml+UYZ\\\n",
       "xt7eXr399tt1ePjg/wb86Yub9csf754I0HTe1m/fv1NfTdsHfv5oNKp33nmnXnvttYeaGaoq9l9B\\\n",
       "zsDggkwmk3r33Xdrf3//gR/70cvP1vUf/armzVN1sHi6dsYHtTO6Xf/6x/v11w8/eeDnj8fjeuut\\\n",
       "ty5gasglYDCAyWxRX8xerI8Or9e03am15rhe2v53baz/eejRIIZNHDCARbdeH37185q2O1XV1KLb\\\n",
       "rI+PflL7x88PPRrEEDAYwKzdqcnyifr25Ye2G9W82xxuKAgjYDCA+fR21fHN+vbeorXRon72ys5w\\\n",
       "Q0EYAYMBfD05qpfGf6rt+qwW81mN2736/vgvtVWfDz0axLg0mziWy+XQI/CYWy6Xp34P12LZ1m9+\\\n",
       "/8f6/Ms/1GS5W5ujSXXLw/p8/+tTv17btn6veWjj8eptzVJcmoC99957Q4/AY+7WrVu1WJzuXoZt\\\n",
       "29XfP/r03K/VdV198MEHNZvNzv01oKrq+vXrQ49wbpcmYMk/JDLcuHGj1tfvdYuoi9c0Tb3++uv1\\\n",
       "xhtv9PJ68ChyDQyASAIGQCQBAyCSgAEQScAAiCRgAES6NNvo4bu2vb1db7755qmeB/awRqNRXbt2\\\n",
       "7Tt/HXiUeaAlXJAhjiVPZOYCxP4SOQODCyIm0C/XwACIJGAARBIwACIJGACRBAyASAIGQCQBAyCS\\\n",
       "gAEQScAAiCRgAEQSMAAiCRgAkQQMgEgCBkAkAQMgkoABEEnAAIgkYABEEjAAIgkYAJEEDIBIAgZA\\\n",
       "JAEDIJKAARBJwACIJGAARBIwACIJGACRBAyASAIGQCQBAyCSgAEQScAAiCRgAEQSMAAiCRgAkQQM\\\n",
       "gEgCBkAkAQMgkoABEEnAAIgkYABEEjAAIgkYAJHWhh6gR83QAwBwcZyBARBJwACIJGAARBIwACIJ\\\n",
       "GACRBAyASAIGQCQBAyCSgAEQScAAiCRgAEQSMAAiCRgAkQQMgEgCBkAkAQMgkoABEEnAAIgkYABE\\\n",
       "EjAAIgkYAJEEDIBIAgZAJAEDIJKAARBJwACIJGAARBIwACIJGACRBAyASAIGQCQBAyCSgAEQScAA\\\n",
       "iCRgAET6HwAecLzzU1hxAAAAAElFTkSuQmCC\\\n",
       "\"\n",
       "  frames[8] = \"data:image/png;base64,iVBORw0KGgoAAAANSUhEUgAAAbAAAAEgCAYAAADVKCZpAAAAOXRFWHRTb2Z0d2FyZQBNYXRwbG90\\\n",
       "bGliIHZlcnNpb24zLjMuMywgaHR0cHM6Ly9tYXRwbG90bGliLm9yZy/Il7ecAAAACXBIWXMAAAsT\\\n",
       "AAALEwEAmpwYAAAJXUlEQVR4nO3dzW8cdx3H8e/srtdrx0mbxLRSRCv1wEO5gXi45NYDJy498m9w\\\n",
       "77HH/gFc4IbEoVLFCSSgt4gTlwARQtAHUNokrZvYjr327g6HCqnJuqq9RDP5xK+XlIN/8cM3ildv\\\n",
       "zc7Mb5q2bQsA0gz6HgAAViFgAEQSMAAiCRgAkQQMgEgCBkAkAQMgkoABEEnAAIgkYABEEjAAIgkY\\\n",
       "AJEEDIBIAgZAJAEDIJKAARBJwACIJGAARBIwACIJGACRBAyASAIGQCQBAyCSgAEQScAAiCRgAEQS\\\n",
       "MAAiCRgAkQQMgEgCBkAkAQMgkoABEEnAAIgkYABEGvU9QIfavgcAeAo1fQ+wKkdgAEQSMAAiCRgA\\\n",
       "kQQMgEgCBkAkAQMgkoABEEnAAIgkYABEEjAAIgkYAJEEDIBIAgZAJAEDIJKAARBJwACIJGAARBIw\\\n",
       "ACIJGACRBAyASAIGQCQBAyCSgAEQScAAiCRgAEQSMAAiCRgAkQQMgEgCBkAkAQMgkoABEEnAAIgk\\\n",
       "YABEEjAAIgkYAJEEDIBIAgZAJAEDIJKAARBJwACIJGAARBIwACIJGACRBAyASAIGQCQBAyCSgAEQ\\\n",
       "ScAAiCRgAEQSMAAiCRgAkQQMgEgCBkAkAQMgkoABEEnAAIgkYABEEjAAIgkYAJEEDIBIAgZAJAED\\\n",
       "IJKAARBJwACIJGAARBIwACIJGACRBAyASAIGQCQBAyCSgAEQScAAiCRgAEQSMAAiCRgAkQQMgEgC\\\n",
       "BkAkAQMgkoABEEnAAIgkYABEEjAAIgkYAJEEDIBIAgZAJAEDIJKAARBJwACIJGAARBIwACIJGACR\\\n",
       "Rn0PAOdB27Zf/Kjm04Oqqhqub1bTNP0MBeEEDDrw4N9/qTs3//j5B+2iDnZu12iyVd/6yc9qON7o\\\n",
       "dzgIJWDQgf0779WDD28+tto+dmQGnIVzYABEEjDowHjr8tLafPqwjvY+6WEaeDYIGHRg/dILVY9d\\\n",
       "rLGYH9f86LCniSCfgAEQScCgA4PRuJrB8NHFtup4f6efgeAZIGDQgfVL2zWabD222tbh/Tu9zAPP\\\n",
       "AgGDTrhZGZ40AYOONM3yy21xfOheMFiRgEEHhuNJTS5fW1rfv/telYDBSgQMOtHUYLi2vCxesDIB\\\n",
       "gx59/vahiMEqBAw6snFl+S3E6YM7NTvc62EayCdg0IGmaWpt87ml9XY+q7Zd9DAR5BMwACIJGHRk\\\n",
       "tHFpaT/EdjGv2eF+TxNBNgGDjkyee7GawaOP4FvMjmr64G5PE0E2AQMgkoBBV75kN6l2ftztHPCM\\\n",
       "EDDoyNrm8zW+8PzS+t7H/+x+GHgGCBh0ZDBcq2Y4Wv4Ll9HDSgQMeta2rQ19YQUCBh1pBoNav/i1\\\n",
       "pfWDTz6sdjHvYSLIJmDQkWYwrLUTzoHNj6c29YUVCBgAkQQMOjSabC2tzQ73aja1oS+clYBBhza3\\\n",
       "X15amx8d1Hx60MM0kE3AAIgkYNChZjCspS052kXNpjb0hbMSMOjQxpVrNVhbf2StXczrcOd2TxNB\\\n",
       "LgGDDjXNsJrmpE0RXUYPZyVg8JSwGwecjYBBh0aTCzW+uL20/vDeBz1MA9kEDDrUDEY1fOwcWFV5\\\n",
       "KjOsQMAAiCRg0KWmajjeWFo+fni/2vmsh4Egl4BBp5oTd+M42v+0Fp7MDGciYNChpmmqTryMHjgr\\\n",
       "AYOONc3yy65dzGsxO+phGsglYNCxCy+8snQUNjvcr6Pdez1NBJkEDDrWDNdOWG3dyAxnJGDwtGgX\\\n",
       "fU8AUQQMOjbeulLD8eaji21b+3fe62UeSCVg0LHheKMGo+W3EV1GD2cjYPAUcR4MTk/AoGOD4ahG\\\n",
       "k4tL6wef/qc8VgVOT8CgY81wrdYvXl1anx3s6hecgYABEEnAoAeD0QmPVJnu12JuNw44LQGDHlx4\\\n",
       "8ZWlteP9nZofHfQwDWQSMOhY0zQn7ocInI1XEfTiS3akdxk9nJqAQQ82t1+qZjB6ZG1+fFgHO7d7\\\n",
       "mgjyCBj0YDBaXz4Ia1uPVIEzEDAAIgkY9GCwNj7xUvrDzz7qYRrIJGDQg7WNS7W2eWlp/Xh/p4dp\\\n",
       "IJOAARBJwKAXzdJViFVVs8O9aj3YEk5FwOAJatv2VH+a4ag2t19e+vqDndvVzuen/j4ev8J51pyj\\\n",
       "F8C5+YfSn1u3btUbb7xRi8VXH0X9+NUL9b2XJo+s3d2d1S/+dL/mpzgI29raqrfeequuXLmy6rhQ\\\n",
       "9aV31T/9lt/DAFZ27969evvtt2s+n3/l537jp9fru1//Tu3OrtTD+cW6OPq09vY+rN+8804dHM2+\\\n",
       "8usvX75cb7755pMYGyIJGPTkr+/fqx88/Hb9bfdHNWvHtT44qJcnN+qFy7+r9z/+rO/x4KnnHBj0\\\n",
       "5OMH47q1+8OatetV1dR0sVn/2P9+TdutvkeDCAIGPdmbPV/H7fiRtaPFpObtWk8TQRYBg55M9z+o\\\n",
       "wWK3vnh90db4qF596UJ/Q0EQAYOePHhwt7658fsaLXZqdjytSftRbc9/W+PmYd+jQYRzcxHHaa4K\\\n",
       "g//XaS6f/5/dh9P6+a9/VX+//cuazie1Mdyv+7uf1e7B6Xekn8/nfrf5vwyHw75HWNm5Cdi7777b\\\n",
       "9wicAzdv3jz1zcUHR7P6w5//tfLPms1mdePGjbp69erK3wNee+21vkdY2bkJWPJ/EjnW19erabq5\\\n",
       "L3Q0GtX169fr2rVrnfw8eNo4BwZAJAEDIJKAARBJwACIJGAARBIwACKdm8vooQvb29v1+uuvn+mG\\\n",
       "5lVtbW3VZDL56k+EZ5QHWsIT1Mfrqav7znhmxf4COQKDJ0hMoDvOgQEQScAAiCRgAEQSMAAiCRgA\\\n",
       "kQQMgEgCBkAkAQMgkoABEEnAAIgkYABEEjAAIgkYAJEEDIBIAgZAJAEDIJKAARBJwACIJGAARBIw\\\n",
       "ACIJGACRBAyASAIGQCQBAyCSgAEQScAAiCRgAEQSMAAiCRgAkQQMgEgCBkAkAQMgkoABEEnAAIgk\\\n",
       "YABEEjAAIgkYAJEEDIBIAgZAJAEDIJKAARBJwACIJGAARBIwACKN+h6gQ03fAwDw5DgCAyCSgAEQ\\\n",
       "ScAAiCRgAEQSMAAiCRgAkQQMgEgCBkAkAQMgkoABEEnAAIgkYABEEjAAIgkYAJEEDIBIAgZAJAED\\\n",
       "IJKAARBJwACIJGAARBIwACIJGACRBAyASAIGQCQBAyCSgAEQScAAiCRgAEQSMAAiCRgAkQQMgEgC\\\n",
       "BkAkAQMgkoABEEnAAIj0XyzL0mmWc4MlAAAAAElFTkSuQmCC\\\n",
       "\"\n",
       "  frames[9] = \"data:image/png;base64,iVBORw0KGgoAAAANSUhEUgAAAbAAAAEgCAYAAADVKCZpAAAAOXRFWHRTb2Z0d2FyZQBNYXRwbG90\\\n",
       "bGliIHZlcnNpb24zLjMuMywgaHR0cHM6Ly9tYXRwbG90bGliLm9yZy/Il7ecAAAACXBIWXMAAAsT\\\n",
       "AAALEwEAmpwYAAAJlUlEQVR4nO3dy44cZxnH4bf6MEeT2I5NsOI4EVeQBZEiFmzCJnvWsAg3wgVk\\\n",
       "nauIWLK1BAhvCAiRRAQpiaUYHA+x48Mc+1AsEgnG7cg9Y7vK/5nnWVnftNTvyN36TVVXf9W0bVsA\\\n",
       "kGbQ9wAAcBwCBkAkAQMgkoABEEnAAIgkYABEEjAAIgkYAJEEDIBIAgZAJAEDIJKAARBJwACIJGAA\\\n",
       "RBIwACIJGACRBAyASAIGQCQBAyCSgAEQScAAiCRgAEQSMAAiCRgAkQQMgEgCBkAkAQMgkoABEEnA\\\n",
       "AIgkYABEEjAAIgkYAJEEDIBIAgZApFHfA3So7XsAgOdQ0/cAx+UIDIBIAgZAJAEDIJKAARBJwACI\\\n",
       "JGAARBIwACIJGACRBAyASAIGQCQBAyCSgAEQScAAiCRgAEQSMAAiCRgAkQQMgEgCBkAkAQMgkoAB\\\n",
       "EEnAAIgkYABEEjAAIgkYAJEEDIBIAgZAJAEDIJKAARBJwACIJGAARBIwACIJGACRBAyASAIGQCQB\\\n",
       "AyCSgAEQScAAiCRgAEQSMAAiCRgAkQQMgEgCBkAkAQMgkoABEEnAAIgkYABEEjAAIgkYAJEEDIBI\\\n",
       "AgZAJAEDIJKAARBJwACIJGAARBIwACIJGACRBAyASAIGQCQBAyCSgAEQScAAiCRgAEQSMAAiCRgA\\\n",
       "kQQMgEgCBkAkAQMgkoABEEnAAIgkYABEEjAAIgkYAJEEDIBIAgZAJAEDIJKAARBJwACIJGAARBIw\\\n",
       "ACIJGACRBAyASAIGQCQBAyCSgAEQScAAiCRgAEQSMAAiCRgAkQQMgEgCBkAkAQMg0qjvAeC0aNv2\\\n",
       "f/+eTaqdz2owXqumaXqcCnIJGDxjbdvWnc/+XNu3Pq+9b25WVdV0736tn3+lXvvZL3ueDnIJGDxr\\\n",
       "bVtbH12tBzf/eWh5ZfN8TwPByeAzMHjWmqrh6sbC8sH27Wpnkx4GgpNBwOCZa2rjwqsLq5OduzWf\\\n",
       "TXuYB04GAYNn7NuLNFyoAU+bgEEHVl+4WA9HbLq3Xfv3tvoZCE4AAYMOrJw5v3AQ1s6nNZ8e9DMQ\\\n",
       "nAACBkAkAYMOjDderOF4/fBi29bO1vV+BoITQMCgA6O1MzUYryyszyZ7PUwDJ4OAQZ/a9tAWU8Dy\\\n",
       "BAw6MBiNv72Q4yE7/7leVQIGxyFg0IFmMKrx+osL67ODPf2CYxIw6Mojdp1v59Nq23kPw0A+AYOO\\\n",
       "bF58fWFt7+6tmu496H4YOAEEDDrQNE0NV9YWf9DOyzlEOB4Bg6486hRi21ZrQ184FgGDjmy89Go1\\\n",
       "g8O34JtP9mr39r96mgiyCRh0ZDBa/Z6jMBdxwHEIGHTle+6o4qaWcDwCBh0Zb5ytlc2zC+sPvvqs\\\n",
       "+2HgBBAw6MhgOK5mOFr8gVOIcCwCBl1pqgbDxQ19J7v3qp2LGByVgEFHmsGoNi5cWVjf++arauez\\\n",
       "HiaCbAIGHWma5pFXIQLHI2DQocFo8RTifLLnvmBwDAIGHTrz8o8X1ia792u6e7+HaSCbgEGXGm85\\\n",
       "eFq8m6BDg+Fo8XOwdl6T3Xv9DATBBAw6tH7+lRqOD+9K385ntX/3q54mglwCBp1yFSI8LQIGHRqM\\\n",
       "xjVc3VhY3719o9rWfcHgKAQMOjRc2aiVzXML65Mdn4HBUQkYAJEEDLrUVI03XlxY3r+3VfPpQQ8D\\\n",
       "QS4Bgw41zaDWzl1aWJ/uP7AfIhyRgAEQScCgY486hTjb363J9p0epoFcAgYdWzt7aWE3jvnsoKb7\\\n",
       "Oz1NBJkEDJ4X7swMRyJg0LGVM+druPLQl5nbtrZvfdHLPJBKwKBjw5X1GozGC+vz2aSHaSCXgMFz\\\n",
       "op3PbCcFRyBg0LHBaKVWX7i4sL596/OqEjBYloBBx5rBsEarmwvr7WyqX3AEAgbPibadl4LB8gQM\\\n",
       "erB+/vLC2v7dWzXde9DDNJBJwKBjTdPUeOOFhfV2Pv3uKAxYhoBBH5rFt17bzms+2e9hGMgkYNCD\\\n",
       "jQtXqhmMDq3NJ/u1983NniaCPAIGPRgMx1XN4rrvgcHyBAz60DTVPOI04uxgt4dhIJOAQQ9WNs/V\\\n",
       "ePPcwvrO1hfdDwOhBAx60AwG1Qy8/eBJeAdBL77/FKJL6WE5AgY9aIaj2rhwZWF95+svq53NepgI\\\n",
       "8ggY9KBpmmqGi7dUAZYnYNCT4cr6wtpsf7tmBzs9TAN5BAx6snnx9YW16f5OTfe3ux8GAgkY9OUR\\\n",
       "X2QGljd6/EOAo1h2N43BaO3bPRH/76rDdj6rgwe3a+3spaWfr2mUkNOpOUVb15yaX5T+tG1b7733\\\n",
       "Xl27du2xj/3BalO//unZWhsfPhHyu48f1F+/XG5T33feeafefffdY80K34n9C8gRGDxl165dqw8+\\\n",
       "+OCxj/vh2c361Zu/qOHwTN2ZvFxNzevc+FZ9+OFf6re//2Sp57p0afkjNThpBAx6MpnN6u7euD7e\\\n",
       "/XltHbxSTVWdW7lZF85/UlXLBQxOMxdxQE/ubu/XH69fqa2Dy1U1qLYGdfvgUrVn3ux7NIggYNCT\\\n",
       "tm3q64Mf1eGPIJq6P3mpr5EgioBBX9p5Hdz7Rx2+vqitn7y2U+urzu7D4wgY9KStqtXdP9TltY9q\\\n",
       "Nt2t+XSnNqd/rZWDv1WTe2EYdObU/Jk3s0EqHWjb9kh3Vf7T3z+rT7/8TX3677aaams++bru3N+p\\\n",
       "yXS5HenbtvXa5okMh8O+Rzi2UxOwq1ev9j0Cp8TW1tbSj/34+lbV9eUf/7AbN254bfNE3n777b5H\\\n",
       "OLZTE7Dk/yRytG1b77//fmfPd/nyZa9tTi2fgQEQScAAiCRgAEQSMAAiCRgAkQQMgEin5jJ66Mpb\\\n",
       "b73V2XO98cYbnT0XPG/c0BKesq7fU+7IzBOKfQE5AoOnTFCgGz4DAyCSgAEQScAAiCRgAEQSMAAi\\\n",
       "CRgAkQQMgEgCBkAkAQMgkoABEEnAAIgkYABEEjAAIgkYAJEEDIBIAgZAJAEDIJKAARBJwACIJGAA\\\n",
       "RBIwACIJGACRBAyASAIGQCQBAyCSgAEQScAAiCRgAEQSMAAiCRgAkQQMgEgCBkAkAQMgkoABEEnA\\\n",
       "AIgkYABEEjAAIgkYAJEEDIBIAgZAJAEDIJKAARBJwACIJGAARBr1PUCHmr4HAODpcQQGQCQBAyCS\\\n",
       "gAEQScAAiCRgAEQSMAAiCRgAkQQMgEgCBkAkAQMgkoABEEnAAIgkYABEEjAAIgkYAJEEDIBIAgZA\\\n",
       "JAEDIJKAARBJwACIJGAARBIwACIJGACRBAyASAIGQCQBAyCSgAEQScAAiCRgAEQSMAAiCRgAkQQM\\\n",
       "gEgCBkAkAQMgkoABEOm/wjOuiakpxwQAAAAASUVORK5CYII=\\\n",
       "\"\n",
       "  frames[10] = \"data:image/png;base64,iVBORw0KGgoAAAANSUhEUgAAAbAAAAEgCAYAAADVKCZpAAAAOXRFWHRTb2Z0d2FyZQBNYXRwbG90\\\n",
       "bGliIHZlcnNpb24zLjMuMywgaHR0cHM6Ly9tYXRwbG90bGliLm9yZy/Il7ecAAAACXBIWXMAAAsT\\\n",
       "AAALEwEAmpwYAAAJwElEQVR4nO3dz49dZR3H8e+5986Pdgq0QiGC2FQTEo2yYoULSVi4ccfOv4i/\\\n",
       "gbh12eCamAjBRLe6UKmEIgEJUKQz7czczv1xXOAPhjOWudNyDp+Z12vRNE+nvd+mvXnnzHnOc5u2\\\n",
       "bQsA0oyGHgAATkLAAIgkYABEEjAAIgkYAJEEDIBIAgZAJAEDIJKAARBJwACIJGAARBIwACIJGACR\\\n",
       "BAyASAIGQCQBAyCSgAEQScAAiCRgAEQSMAAiCRgAkQQMgEgCBkAkAQMgkoABEEnAAIgkYABEEjAA\\\n",
       "IgkYAJEEDIBIAgZAJAEDIJKAARBJwACINBl6gB61Qw8A8A3UDD3ASbkCAyCSgAEQScAAiCRgAEQS\\\n",
       "MAAiCRgAkQQMgEgCBkAkAQMgkoABEEnAAIgkYABEEjAAIgkYAJEEDIBIAgZAJAEDIJKAARBJwACI\\\n",
       "JGAARBIwACIJGACRBAyASAIGQCQBAyCSgAEQScAAiCRgAEQSMAAiCRgAkQQMgEgCBkAkAQMgkoAB\\\n",
       "EEnAAIgkYABEEjAAIgkYAJEEDIBIAgZAJAEDIJKAARBJwACIJGAARBIwACIJGACRBAyASAIGQCQB\\\n",
       "AyCSgAEQScAAiCRgAEQSMAAiCRgAkQQMgEgCBkAkAQMgkoABEEnAAIgkYABEEjAAIgkYAJEEDIBI\\\n",
       "AgZAJAEDIJKAARBJwACIJGAARBIwACIJGACRBAyASAIGQCQBAyCSgAEQScAAiCRgAEQSMAAiCRgA\\\n",
       "kQQMgEgCBkAkAQMgkoABEEnAAIgkYABEEjAAIgkYAJEEDIBIAgZAJAEDIJKAARBJwACINBl6ADgr\\\n",
       "2rb9388Xs6pqajRZG24gCCdg8DVbzKb16fU/1OLubu1+fKPatq359HZd/uFP69Fnnq+maYYeESIJ\\\n",
       "GPTgkz+/UdPP/nFo7fYHb9Wjzzw/0ESQzz0w+JqNxus12djqrC/nBwNMA6eHgEEfjvg24XJ+t+oL\\\n",
       "98WA1QgYfN2aprYev9pZ3v/sw1rMpgMMBKeDgMHXrGmaGk3Wj/gVV19wPwQMejBe2+ysLWcHNZ/e\\\n",
       "GWAaOB0EDHpw/vKVzn2wxWy/ZnvbA00E+QQMgEgCBj2YbF6o0WTj8GLb1v6n7w8zEJwCAgY9WDv/\\\n",
       "SI3Xu/fB5nd3B5gGTgcBg950nwVrl/NDZyQCxydg0IPx2kZtPvJEZ333oxseZoYTEjDoQzOq8fq5\\\n",
       "znK7XAwwDJwOAgY9acbjztpiNq12OR9gGsgnYNCTC098v7N2cPtTGznghAQMetA0TTWj7hVYVetE\\\n",
       "KTghAYOejDe26ss7ERezuzW99eEwA0E4AYOenLv0ZDXjL32GbLusxezuMANBOAGDvnQfA6uqqnYx\\\n",
       "63cOOCUEDHqydv5irW9d7Kzf+eid/oeBU0DAoCej8Vr3W4hVVe2y/2HgFBAw6EtTNRp3P9hytr9T\\\n",
       "7VLEYFUCBj1pRpM6/9h3O+vTWx85kQNOQMCgJ03TdD7UEjg5AYMeHbWJY76/U7P9nf6HgXACBj3a\\\n",
       "vPRkZ20xu1tLz4LBygQMBtdWaycirEzAoEcbD1+u0eTwTsR2Ma+9m+8NNBHkEjDo0WRj68hDfZ3G\\\n",
       "AasTMOhT01Q13bfd4mBarU9mhpUIGPRosnmhNh95vLO++8m7/Q8D4QQMetQ0o6M/F8zVF6xMwKBP\\\n",
       "TdV4/Vxneba3Xe1iPsBAkEvAoFfNkcdJHez+s5Y2csBKBAx65DgpeHAEDHq2fuHRztp8ulsHt28O\\\n",
       "MA3kEjDo2cbDlztXYe1yXgvHScFKBAy+IXykCqxGwKBnGw89VpONrcOLbVu7H98YZiAIJWDQs9Ha\\\n",
       "RjXjSWfdFRisRsCgZ03THPkw83x6x3FSsAIBg56N1jbr3KWnOuv7n77vRA5YgYDBAJqRtx7cL+8i\\\n",
       "GMBk86HO2mzvVi1m+wNMA5kEDAZw/rGnO2vz6Z1azg8GmAYyCRj0rLnXUVLugcGxCRgM4PPTOA6/\\\n",
       "/Razae1/9uFAE0EeAYMBrJ2/2N3I0ba+hQgrEDAYQvPfHw4RMDg+AYMBrG9dqvWti5313Y/f6X8Y\\\n",
       "CCVgMIBmND7yOCmbOOD4BAyG0DQ1Gq93lmd729UulwMMBHkEDAbQjCZHPgs23f7Yob5wTAIGA2ia\\\n",
       "prONHliNdxAM5KhNHPP9nZrt7/Q/DAQSMBjI5qVvd9YWs7u1nN8dYBrII2DwjdLaxAHHJGAwkI2H\\\n",
       "H6/R5PBOxHYxr72b7w00EWQRMBjIZGPryE9mbhfzAaaBPEc8SQncj/a4DyM3deROxMXB3vH/jP/8\\\n",
       "Ufc64R5OqWbVN0qwM/MXZVivvfZavfLKK1/5dU27rF8891B999HNQ+t//eigXv3j7WO91pUrV+rl\\\n",
       "l1+utbW1E80KddShnCFcgcEDduPGjbp27dpXft2oaepn3/t5fedbT9Wt2eWaLTfq4ton9cEH79S1\\\n",
       "a7851ms9++yztVgsBIwzScBgIG21tbO3qLduP1c3dn9UyxrX+fFOjc4d1Prkt3UwdyIH3ItNHDCQ\\\n",
       "tq16429b9c7uj2tZk6pqam/xSO2s/aQmE1dU8FUEDAa0M7tU7ZfehnfmF/8dNOBeBAwGNN25XqOa\\\n",
       "fWGlrauXtuvpxzb/7+8BPidgMKDpzlv1g4d+X83yds3n09pcvlvn9t+oUWPTLHyVM/N9isXCDXH6\\\n",
       "sVzhKKj3P9muX736y/rT3/frzrSptdqum7e2j72Bo23bWiwW/n9zYuNx92H6FGcmYK+//vrQI3BG\\\n",
       "XL9+/dhfe3N7r379u7+c+LV2d3frzTfftI2eE3vxxReHHuHEzkzAkv+RyPL222/39loXLlyoF154\\\n",
       "oTY33TPj7HEPDIBIAgZAJAEDIJKAARBJwACIJGAARDoz2+ihL1evXq2XXnqpl9e6cuVK9IOocD98\\\n",
       "oCU8YEO8p3wiM/ch9j+PKzB4wMQE+uEeGACRBAyASAIGQCQBAyCSgAEQScAAiCRgAEQSMAAiCRgA\\\n",
       "kQQMgEgCBkAkAQMgkoABEEnAAIgkYABEEjAAIgkYAJEEDIBIAgZAJAEDIJKAARBJwACIJGAARBIw\\\n",
       "ACIJGACRBAyASAIGQCQBAyCSgAEQScAAiCRgAEQSMAAiCRgAkQQMgEgCBkAkAQMgkoABEEnAAIgk\\\n",
       "YABEEjAAIgkYAJEEDIBIAgZAJAEDINJk6AF61Aw9AAAPjiswACIJGACRBAyASAIGQCQBAyCSgAEQ\\\n",
       "ScAAiCRgAEQSMAAiCRgAkQQMgEgCBkAkAQMgkoABEEnAAIgkYABEEjAAIgkYAJEEDIBIAgZAJAED\\\n",
       "IJKAARBJwACIJGAARBIwACIJGACRBAyASAIGQCQBAyCSgAEQScAAiCRgAEQSMAAiCRgAkQQMgEj/\\\n",
       "At7LuaxBN++IAAAAAElFTkSuQmCC\\\n",
       "\"\n",
       "  frames[11] = \"data:image/png;base64,iVBORw0KGgoAAAANSUhEUgAAAbAAAAEgCAYAAADVKCZpAAAAOXRFWHRTb2Z0d2FyZQBNYXRwbG90\\\n",
       "bGliIHZlcnNpb24zLjMuMywgaHR0cHM6Ly9tYXRwbG90bGliLm9yZy/Il7ecAAAACXBIWXMAAAsT\\\n",
       "AAALEwEAmpwYAAAJ1ElEQVR4nO3dyY8cZxnA4bd6melZvEywHRIUGwNCQkAOiAviEpQTErfc+Ivy\\\n",
       "N0RcOVpw4BQhJVGQ4AIHJIRiojhkYfGa2Tw9011VHIxExjXBMx27Pr+e5zlZn1vq1/KMfqqqr6qq\\\n",
       "tm0DALIZlB4AABYhYACkJGAApCRgAKQkYACkJGAApCRgAKQkYACkJGAApCRgAKQkYACkJGAApCRg\\\n",
       "AKQkYACkJGAApCRgAKQkYACkJGAApCRgAKQkYACkJGAApCRgAKQkYACkJGAApCRgAKQkYACkJGAA\\\n",
       "pCRgAKQkYACkJGAApCRgAKQkYACkJGAApCRgAKQ0Kj1Aj9rSAwA8harSAyzKERgAKQkYACkJGAAp\\\n",
       "CRgAKQkYACkJGAApCRgAKQkYACkJGAApCRgAKQkYACkJGAApCRgAKQkYACkJGAApCRgAKQkYACkJ\\\n",
       "GAApCRgAKQkYACkJGAApCRgAKQkYACkJGAApCRgAKQkYACkJGAApCRgAKQkYACkJGAApCRgAKQkY\\\n",
       "ACkJGAApCRgAKQkYACkJGAApCRgAKQkYACkJGAApCRgAKQkYACkJGAApCRgAKQkYACkJGAApCRgA\\\n",
       "KQkYACkJGAApCRgAKQkYACkJGAApCRgAKQkYACkJGAApCRgAKQkYACkJGAApCRgAKQkYACkJGAAp\\\n",
       "CRgAKQkYACkJGAApCRgAKQkYACkJGAApCRgAKQkYACkJGAApCRgAKQkYACkJGAApCRgAKQkYACkJ\\\n",
       "GAApCRgAKQkYACkJGAApCRgAKQkYACkJGAApCRgAKQkYACkJGAApCRgAKQkYACkJGAApCRgAKQkY\\\n",
       "ACkJGAApCRgAKY1KDwCnRdu2//tzPYuIKgajcbmBIDkBgyesnk3jzvU/RL2/G7s3b0TbtjGfbsel\\\n",
       "7/4kvvLtH5UeD9ISMHjCmtl+/POPv4n5dPvQ+v7W7WjbNqqqKjQZ5OYaGDxho8l6LJ+71Fnfu/tp\\\n",
       "gWng2SFg8MRVjrLgCRAweNKqiPHquc7y/vataOYHBQaCZ4OAwRNWVYOYbLzYWZ9Pd6Jt6gITwbNB\\\n",
       "wKCUNiI+t7UeOBkBgx6sbLwQEYevg82nO7G/dbPMQPAMEDDowWjl7MP9irato6nnZQaCZ4CAQQ+q\\\n",
       "ahCdgsWDe8SAxQgY9GD53MUYTdYPL7Zt7N76sMg88CwQMOhBNRhFNTjq16099IxE4PgEDHowGI6O\\\n",
       "vBds784n8WA7InBSAgY9qIbjWFp7rrM+n+7qFyxIwKCgtq1DwWAxAgY9Wb1wubO2v3kzZnvbR3wa\\\n",
       "eBQBgx5UVRWjyVpn/cGjpByBwSIEDHpSDbqv32ubJuqDvQLTQH4CBj1ZvXA5quHhiDXz/djf9Dgp\\\n",
       "WISAQU+qwTCOehqH+8BgMQIGPRmMlmIwGnfW9zf/XWAayE/AoCfj1bNH3sx8sHO3wDSQn4BBb7qn\\\n",
       "DyMenEJ0GhFOTsCgJ9VgEMtnLnbW9+587M3MsAABg55Ug2GM18531uvZvjczwwIEDHpUVUfsQmxq\\\n",
       "R2CwAAGDHq1dutpZm+3ei4PdewWmgdwEDHo0GE86a23bOoUICxAw6NFgOIp4+DRi28Rsb6vMQJCY\\\n",
       "gEGPVp77WgwfOgprm9rNzLAAAYNeHX0vGHByAgY9GozGMVxe7azv3f3UzcxwQgIGPRourcbS2kZn\\\n",
       "fXbfNTA4KQGDp0DbNqVHgHQEDPpUVTHZeLGzPL33j2hm0wIDQV4CBj2qqirGq2c76009cw0MTkjA\\\n",
       "oGfD8UpnrZntx3y6XWAayEvAoGerFy93bmauZ1MbOeCEBAx6514weBwEDHo2XjkTg9Hy4cW2jb07\\\n",
       "H5cZCJISMOjZaOVsDJe6D/Wd798vMA3kJWDwlGjruZ2IcAICBj0bjpdjcu6rnfXdmx94rQqcgIBB\\\n",
       "36rBkacQ28bTOOAkBAwKqIajzlo924umnhWYBnISMChg/flvdtYOtu9GfWAjBxyXgEHPqqqKajA8\\\n",
       "4m9c/4KTEDAoYLi8Fg/f0NzMZ3GwfbfMQJCQgEEBKxsvRDU8fBTWNvOY7XmcFByXgEERX/Q4KacR\\\n",
       "4bgEDAoYTdZjNFnvrO/evFFgGshJwKCA4dIkhktHv1YFOB4BgyKqOOo0YjM/8DgpOCYBgwKq4ShW\\\n",
       "L7zUWb9/+6No63mBiSAfAYMCqqrqvlIlwtEXnICAQSGD0VJnrT7Yi3o2LTAN5CNgUMj689/orM2n\\\n",
       "OzGfbheYBvIRMCil+qJ7wYDjEDAoZDQ503kmYtvMY3rvX4UmglwEDApZPnOhex2sbWM+3SkzECTT\\\n",
       "fSkR8KUcfyfh0Z9r2/rEuxErpyM5hapTtG331PxDKevNN9+MN95445Gfa+tZ/PwHq/H1588eWr9+\\\n",
       "u4lrf7p3rO+6cuVKvP766zEejxeaFeKLH8z51HMEBo/ZjRs34tq1a4/83KCq4qff+llcvnQ+Pptd\\\n",
       "jFmzHOfHt+Ljj/4S16799ljf9fLLL0dd1wLGqSRgUEgbbWzdr+O97R/Gjd3vRRPDWB1uxWDlIJZG\\\n",
       "b8XBvC49IjzVbOKAQto24p2/rcUHu9+PJkYRUcX9+lxsjX8co5EjKngUAYOCtmYb0T70a7gzP//f\\\n",
       "oAH/j4BBQdOt6zGI2edW2ri6sRkvXZgUmwmyEDAoaLr1XnznzO+jarZjPp/GpPkwVvbeiUFl0yw8\\\n",
       "yqk5T1HXLojTj6Zpjv3ZT25txi9/9Yv489/3YmdaxTg24/Znm8fewNG2bdR17eebhQ2Hw0d/6Cl1\\\n",
       "agL29ttvlx6BU+L69evH/uztzfvx69/9deHv2t3djXfffdc2ehb26quvlh5hYacmYJn/k8jl/fff\\\n",
       "7+271tfX45VXXonJxDUzTh/XwABIScAASEnAAEhJwABIScAASEnAAEjp1Gyjh75cvXo1XnvttV6+\\\n",
       "68qVK6lvRIUvwwst4TEr8Tvljcx8CWl/eByBwWMmJtAP18AASEnAAEhJwABIScAASEnAAEhJwABI\\\n",
       "ScAASEnAAEhJwABIScAASEnAAEhJwABIScAASEnAAEhJwABIScAASEnAAEhJwABIScAASEnAAEhJ\\\n",
       "wABIScAASEnAAEhJwABIScAASEnAAEhJwABIScAASEnAAEhJwABIScAASEnAAEhJwABIScAASEnA\\\n",
       "AEhJwABIScAASEnAAEhJwABIScAASEnAAEhJwABIScAASEnAAEhpVHqAHlWlBwDg8XEEBkBKAgZA\\\n",
       "SgIGQEoCBkBKAgZASgIGQEoCBkBKAgZASgIGQEoCBkBKAgZASgIGQEoCBkBKAgZASgIGQEoCBkBK\\\n",
       "AgZASgIGQEoCBkBKAgZASgIGQEoCBkBKAgZASgIGQEoCBkBKAgZASgIGQEoCBkBKAgZASgIGQEoC\\\n",
       "BkBKAgZASgIGQEoCBkBKAgZASv8BV3vNSUZGMewAAAAASUVORK5CYII=\\\n",
       "\"\n",
       "  frames[12] = \"data:image/png;base64,iVBORw0KGgoAAAANSUhEUgAAAbAAAAEgCAYAAADVKCZpAAAAOXRFWHRTb2Z0d2FyZQBNYXRwbG90\\\n",
       "bGliIHZlcnNpb24zLjMuMywgaHR0cHM6Ly9tYXRwbG90bGliLm9yZy/Il7ecAAAACXBIWXMAAAsT\\\n",
       "AAALEwEAmpwYAAAJpUlEQVR4nO3dTW9cZxnH4fvMjO1xHJomoYlSIqqyYF0kEEUsyyZ7PgBSxQfh\\\n",
       "A3TdT1GxQWJbCSHCgqpCkEpdQIMatdRt0rzYsT0z57BohXAmJR4nOad/+7pW0ZOR5o7i0c/nZZ7T\\\n",
       "dF1XAJBmNPQAAHAcAgZAJAEDIJKAARBJwACIJGAARBIwACIJGACRBAyASAIGQCQBAyCSgAEQScAA\\\n",
       "iCRgAEQSMAAiCRgAkQQMgEgCBkAkAQMgkoABEEnAAIgkYABEEjAAIgkYAJEEDIBIAgZAJAEDIJKA\\\n",
       "ARBJwACIJGAARBIwACIJGACRBAyASAIGQKTJ0AP0qBt6AIBvoWboAY7LERgAkQQMgEgCBkAkAQMg\\\n",
       "koABEEnAAIgkYABEEjAAIgkYAJEEDIBIAgZAJAEDIJKAARBJwACIJGAARBIwACIJGACRBAyASAIG\\\n",
       "QCQBAyCSgAEQScAAiCRgAEQSMAAiCRgAkQQMgEgCBkAkAQMgkoABEEnAAIgkYABEEjAAIgkYAJEE\\\n",
       "DIBIAgZAJAEDIJKAARBJwACIJGAARBIwACIJGACRBAyASAIGQCQBAyCSgAEQScAAiCRgAEQSMAAi\\\n",
       "CRgAkQQMgEgCBkAkAQMgkoABEEnAAIgkYABEEjAAIgkYAJEEDIBIAgZAJAEDIJKAARBJwACIJGAA\\\n",
       "RBIwACIJGACRBAyASAIGQCQBAyCSgAEQScAAiCRgAEQSMAAiCRgAkQQMgEgCBkAkAQMgkoABEEnA\\\n",
       "AIgkYABEEjAAIgkYAJEEDIBIAgZAJAEDIJKAARBJwACIJGAARBIwACIJGACRBAyASAIGQKTJ0APA\\\n",
       "adF13X//3M72qhlNajRZG3AiyCZg8JwtZnv1xYfXa//edu19+WlVVe3f264rP7pWF3/4s4Gng1wC\\\n",
       "Bs9ZO9uvT/7yu5rv3T+0vn/v8+q6rpqmGWgyyOYaGDxnk+nZ2jh3aWn94e1bA0wDJ4eAwXPXOMqC\\\n",
       "50DA4HlrqtbOnFta3r+/Xe38YICB4GQQMHjOmmZU0/MvL63P9x5U1y4GmAhOBgGDoXRV9T+31gOr\\\n",
       "ETDoweb5K1V1+DrYfO9B7d/7bJiB4AQQMOjBZPOFR/tVXbeodjEfZiA4AQQMhuQUIhybgEEP1s+e\\\n",
       "r/H6mcOLXVc72/8cZiA4AQQMejBeP/PYfQ/b+WyAaeBkEDDoSdMsf9za2d6hTX6BoxMw6MF4ffrY\\\n",
       "74LtbH/kOhgck4BBL5oajR/z6BTxgmMTMOjJeH26tDbfe1DtfH+AaSCfgEFPti69urQ2271bi9ne\\\n",
       "ANNAPgGDHtiNHp49AYOejNam9eh2HO1iXrPde8MMBOEEDHpy5uLVasbjQ2vdYlYHD24PNBFkEzDo\\\n",
       "TVNLGyICxyZg0JPxxmaN1zeX1nc//9cA00A+AYOeTDbO1mS6tbS+2N8ZYBrIJ2DQq+VTiF27sJ0U\\\n",
       "HIOAQU+a8bg2LzxuO6mb1XkuGKxMwKAnTTNafqRKfXUEBqxOwGBoXVtd1w49BcQRMOjR1kuvLK0d\\\n",
       "PLhds507A0wD2QQMejTeWL4Lseu66lpHYLAqAYMeNaNxLd2J2LU1dys9rEzAoEebF16u0drGobWu\\\n",
       "XdTenU8GmghyCRj0qGnG37Azve+BwaoEDHrUjCdf70p/2N7df/syM6xIwKBHk42t2vjOxaX1g/t2\\\n",
       "pIdVCRgAkQQM+tRUTaZnl5YPHtyubjEbYCDIJWDQq6Y2L1xdWp09vFut/RBhJQIGPWqa5v8809JN\\\n",
       "HLAKAYOeTc9drkcrNt97UPv3tocZCEIJGPRsbev8YzbjWFQ7dw0MViFg0LOvvsi8fB6xnR/0PwwE\\\n",
       "EzDo2cYLL9Vk+simvl1Xu9sfDTIPpBIw6FkzXvt6U9/D7MQBqxEwGMTjTiHuixisQMCgZ+O1aW2e\\\n",
       "v7K0vvPZR1UCBkcmYNC3pqnRZH15XbxgJQIGAxhNNpbW5vs71S7ciQhHJWAwgK3Lry6tzXbu1OLg\\\n",
       "4QDTQCYBg541TVNN46MHT8unCAYw2Xyh6pEnM7fzA9tJwQoEDAYwPXd56btgXbuo+d7OQBNBHgED\\\n",
       "IJKAwQDG69Mar20urT+8fWuAaSCTgMEAJtOzNdlcfjLz/OG9AaaBTAIG3yJd29pOCo5IwGAAzWhS\\\n",
       "0xeXt5Pa/fxmde18gIkgj4DBAJrRqCbT5VOI7WJe5QAMjkTAYCDNaPnj1y1m1S48mRmOQsBgIFuX\\\n",
       "frC0drDzZc127w4wDeQRMBjIaLL2DX/jHCIcxWToAeCkOepdhI/dD7HranGwt9KdiE2z/HBMOA2a\\\n",
       "U3TL7qn5hzKcruvqrbfequvXrz/xtWfX2vr1zy/UdP3wllK/v7FT73+8d6T3u3btWr355pvHmhW+\\\n",
       "FvsbkCMweMauX79e77zzzhNfd+nFrfrVT39Z48m07swuV1NtnV/7rN5777367R8+ONJ7XbmyfCs+\\\n",
       "nBYCBgOZLRZ1d2+tbjz8RW0ffK+aqjq//ml998IHVXW0gMFp5iYOGMjdnf36483v1/bB1aoaVVej\\\n",
       "un1wpbqzPxl6NIggYDCQrmvqzsGlOnwJoqn7s4tDjQRRBAyG0rU1u3+jDt9f1NWPX9mtzQ1n9+FJ\\\n",
       "BAwG0lXVZPfPdXX691rMH1Y7362t+fu1fvDXanJvDIPenJpf8xaLxdAjcAp0XbfSd7j+9Ld/1Icf\\\n",
       "/6Y+/KSrprpqZ1/Unfu7NZu3R34/P9s8jfF4/OQXfUudmoC9++67Q4/AKbG9vX3k1964uV118+iv\\\n",
       "f9StW7f8bPNU3njjjaFHOLZTE7Dk/yRydF1Xb7/9dm/vd/XqVT/bnFqugQEQScAAiCRgAEQSMAAi\\\n",
       "CRgAkQQMgEin5jZ66Mvrr7/e23u99tprvb0XfNt4oCU8Y31/pjyRmacU+wPkCAyeMUGBfrgGBkAk\\\n",
       "AQMgkoABEEnAAIgkYABEEjAAIgkYAJEEDIBIAgZAJAEDIJKAARBJwACIJGAARBIwACIJGACRBAyA\\\n",
       "SAIGQCQBAyCSgAEQScAAiCRgAEQSMAAiCRgAkQQMgEgCBkAkAQMgkoABEEnAAIgkYABEEjAAIgkY\\\n",
       "AJEEDIBIAgZAJAEDIJKAARBJwACIJGAARBIwACIJGACRBAyASAIGQCQBAyCSgAEQScAAiDQZeoAe\\\n",
       "NUMPAMCz4wgMgEgCBkAkAQMgkoABEEnAAIgkYABEEjAAIgkYAJEEDIBIAgZAJAEDIJKAARBJwACI\\\n",
       "JGAARBIwACIJGACRBAyASAIGQCQBAyCSgAEQScAAiCRgAEQSMAAiCRgAkQQMgEgCBkAkAQMgkoAB\\\n",
       "EEnAAIgkYABEEjAAIgkYAJEEDIBIAgZAJAEDINJ/ANsNuzeVqpj5AAAAAElFTkSuQmCC\\\n",
       "\"\n",
       "  frames[13] = \"data:image/png;base64,iVBORw0KGgoAAAANSUhEUgAAAbAAAAEgCAYAAADVKCZpAAAAOXRFWHRTb2Z0d2FyZQBNYXRwbG90\\\n",
       "bGliIHZlcnNpb24zLjMuMywgaHR0cHM6Ly9tYXRwbG90bGliLm9yZy/Il7ecAAAACXBIWXMAAAsT\\\n",
       "AAALEwEAmpwYAAAJi0lEQVR4nO3dz28c9R3H4c/sbtaO4xDyC1oKSFSqBL3Rqu0lPXGo1CPH/jEc\\\n",
       "OfIvVFx7QEVVe+ih4gZVrxFFpQUBUiHEELAd22vvzvRQWhHWbWyTzOQdP4+0kfL1r08Ur16anfnO\\\n",
       "Nl3XFQCkGQ09AACchIABEEnAAIgkYABEEjAAIgkYAJEEDIBIAgZAJAEDIJKAARBJwACIJGAARBIw\\\n",
       "ACIJGACRBAyASAIGQCQBAyCSgAEQScAAiCRgAEQSMAAiCRgAkQQMgEgCBkAkAQMgkoABEEnAAIgk\\\n",
       "YABEEjAAIgkYAJEEDIBIAgZAJAEDIJKAARBpMvQAPeqGHgDgAdQMPcBJOQIDIJKAARBJwACIJGAA\\\n",
       "RBIwACIJGACRBAyASAIGQCQBAyCSgAEQScAAiCRgAEQSMAAiCRgAkQQMgEgCBkAkAQMgkoABEEnA\\\n",
       "AIgkYABEEjAAIgkYAJEEDIBIAgZAJAEDIJKAARBJwACIJGAARBIwACIJGACRBAyASAIGQCQBAyCS\\\n",
       "gAEQScAAiCRgAEQSMAAiCRgAkQQMgEgCBkAkAQMgkoABEEnAAIgkYABEEjAAIgkYAJEEDIBIAgZA\\\n",
       "JAEDIJKAARBJwACIJGAARBIwACIJGACRBAyASAIGQCQBAyCSgAEQScAAiCRgAEQSMAAiCRgAkQQM\\\n",
       "gEgCBkAkAQMgkoABEEnAAIgkYABEEjAAIgkYAJEEDIBIAgZAJAEDIJKAARBJwACIJGAARBIwACIJ\\\n",
       "GACRBAyASAIGQCQBAyCSgAEQScAAiCRgAEQSMAAiCRgAkQQMgEgCBkAkAQMgkoABEEnAAIg0GXoA\\\n",
       "OA26rvv632ox263RZFqjyZnBZoJ0Agb3Wbs4qM/+9lZtfnS92sW8qmtr99bHdfW5n9d3nv9lNU0z\\\n",
       "9IgQScDgPmuaUX3+7lu1/cnf71jf2fhooIng4eAcGNx3zVcP4F4SMOjDIS8TtvNZ1R3nxoDjEDC4\\\n",
       "35qmzj32zNLy7q2Pa3GwN8BA8HAQMLjPmqap0WR6yEccfcG3IWDQg8OuNOzaRXWLgwGmgYeDgEEP\\\n",
       "zj32zNJ5sPne7Zpt3hxoIsgnYNCDZnzYhuXuGxucgeMQMBiSgMGJCRj0YLp+scbTtTsXu65u33x/\\\n",
       "mIHgISBg0IPxdO3Q+x62cxdxwEkJGAypa50HgxMSMOjBaDKtlUeuLq3f/vT9sh8MTkbAoAfNaFyT\\\n",
       "lfWl9Xa+r19wQgIGQCQBg56cvfTE0tr+7Vu12N8dYBrIJ2DQg6Zp6szahaX1xWyn2sX+ABNBPgED\\\n",
       "IJKAQU8mZx9Zuh9iO9+v2ebGQBNBNgGDnqxeeLya0eSOta5d1Hxve6CJIJuAARBJwKAn4+lqjc+s\\\n",
       "LK0f7Hw5wDSQT8CgJ5PV8zU5e35pfe/WPweYBvIJGACRBAz60lSNxtOl5YPdzeradoCBIJuAQU+a\\\n",
       "0aTWrjy9tL73xY3q2sUAE0E2AYOeNE2ztA8MODkBgx6NJssvIbYHe7U42BtgGsgmYNCj9ce/v7R2\\\n",
       "sLtV892tAaaBbAIGfWo85eBe8WyCHjWHnQPrumoXB/0PA+EEDHq0+uh3a/SNu3F07bx2Nj4caCLI\\\n",
       "JWDQo9FkWs1hLyN29oHBcQkY9Kn57x93aOf71XVd7+NAMgGDHk1W1mvlkatL69s33htgGsgmYNCj\\\n",
       "ZjSu0eTM8gccfcGxCRg8EAQMjkvAoE9NUysXHl9a3r31cbUHswEGglwCBj1qmqam6xeX1tv5rDpX\\\n",
       "IsKxCBg8MLyMCMchYNCz1QuP1zcvpZ/vbdds8+YwA0EoAYOenTl3cWkrWNcuqp27nRQch4ABEEnA\\\n",
       "oGfj6WqNxt/YC9Z1Nfvy02EGglACBj2brl+u8cra0vr+7VsDTAO5BAyASAIGPWtG4xpPl4/AZl/e\\\n",
       "cENfOAYBg56NJtNavfDY0vr+9i33RIRjEDAAIgkYDGCyen5pbXGwW+3CXjA4KgGDAaxdeWppbX/r\\\n",
       "81rs7wwwDWQSMOhZ0yy/I/O/Of8FxyFgMIBmNFla69pFLWaOwOCoBAwGsHb16WrGd0asne/Xnrtx\\\n",
       "wJEJGAygacZDjwDxBAwG0IxGh0asa+cDTAOZBAwGcObcxUPfmfn2jfcGmAYyCRgMoGmaqkOuRuza\\\n",
       "xQDTQCYBgwdIu5i7HyIckYDBPdR13ZEezWhSZy89ufT1OxsfVPdVxI76gNOqOUVPgFPzD2U477zz\\\n",
       "Tr300kvVtu1dP/cXz52rHz21esfaza15/frPX9bi7l9e6+vr9corr9SlS5dOOi5UVf2vnfUPvOXd\\\n",
       "lMCJbWxs1GuvvVaLxd3PZf3gV9fq+Sd/WFvzS7WzOF/nJ5/X9vZH9bvXX6/d/btfjXjx4sV6+eWX\\\n",
       "78XYEEnAYCBvf7BRP9l5tv669bOad9NaGe3W91b+Uo9d/GN9cOOLoceDB55zYDCQG5vTemfrpzXv\\\n",
       "VqqqqVm7Vv+4/eOadct3qgeWCRgMZHv+aB100zvW5t2ZWnReGIGjEDAYyOz2hzVqt+rr1xetT/fr\\\n",
       "uafODTcUBBEwGMjm5s16du1PNelu1fxgVtP2k3pk9oeaNu5ID0dxal6rOMpVYfBtHeXy+f/Y2pnV\\\n",
       "q7/9Tb390au1vT+tldF2ffbF5zU7OPrv6mKx8LvNtzIe595Y+tQE7I033hh6BE6B69evH3lz8e7+\\\n",
       "vH7/1rsn/lnz+bzefPPNunz58om/B7zwwgtDj3BipyZgyf9J5FhZWfk/77h8b00mk7p27Vo98cQT\\\n",
       "vfw8eNA4BwZAJAEDIJKAARBJwACIJGAARBIwACKdmsvooQ9XrlypF1988Vgbmk9qfX29VldX7/6J\\\n",
       "8JDyhpZwDw3xfOpr3xkPrdhfIEdgcA+JCfTHOTAAIgkYAJEEDIBIAgZAJAEDIJKAARBJwACIJGAA\\\n",
       "RBIwACIJGACRBAyASAIGQCQBAyCSgAEQScAAiCRgAEQSMAAiCRgAkQQMgEgCBkAkAQMgkoABEEnA\\\n",
       "AIgkYABEEjAAIgkYAJEEDIBIAgZAJAEDIJKAARBJwACIJGAARBIwACIJGACRBAyASAIGQCQBAyCS\\\n",
       "gAEQScAAiCRgAEQSMAAiCRgAkQQMgEgCBkCkydAD9KgZegAA7h1HYABEEjAAIgkYAJEEDIBIAgZA\\\n",
       "JAEDIJKAARBJwACIJGAARBIwACIJGACRBAyASAIGQCQBAyCSgAEQScAAiCRgAEQSMAAiCRgAkQQM\\\n",
       "gEgCBkAkAQMgkoABEEnAAIgkYABEEjAAIgkYAJEEDIBIAgZAJAEDIJKAARBJwACIJGAARBIwACIJ\\\n",
       "GACR/gXEHt/vb/tK4wAAAABJRU5ErkJggg==\\\n",
       "\"\n",
       "  frames[14] = \"data:image/png;base64,iVBORw0KGgoAAAANSUhEUgAAAbAAAAEgCAYAAADVKCZpAAAAOXRFWHRTb2Z0d2FyZQBNYXRwbG90\\\n",
       "bGliIHZlcnNpb24zLjMuMywgaHR0cHM6Ly9tYXRwbG90bGliLm9yZy/Il7ecAAAACXBIWXMAAAsT\\\n",
       "AAALEwEAmpwYAAAJDElEQVR4nO3dPY9cZxnH4fvMzL47tmMHrLwAFViAKJAihFLQuIEiX4HPkHyG\\\n",
       "fA46egpLNAjhiiAKQxVASOAQHOIXvH7Z2d3ZnZlDQ5HNOLJ3snuO/+vr6vx4Zue2vKufj+eZ8zRt\\\n",
       "2xYApBn0PQAALEPAAIgkYABEEjAAIgkYAJEEDIBIAgZAJAEDIJKAARBJwACIJGAARBIwACIJGACR\\\n",
       "BAyASAIGQCQBAyCSgAEQScAAiCRgAEQSMAAiCRgAkQQMgEgCBkAkAQMgkoABEEnAAIgkYABEEjAA\\\n",
       "IgkYAJEEDIBIAgZAJAEDIJKAARBJwACINOp7gA61fQ8A8AJq+h5gWa7AAIgkYABEEjAAIgkYAJEE\\\n",
       "DIBIAgZAJAEDIJKAARBJwACIJGAARBIwACIJGACRBAyASAIGQCQBAyCSgAEQScAAiCRgAEQSMAAi\\\n",
       "CRgAkQQMgEgCBkAkAQMgkoABEEnAAIgkYABEEjAAIgkYAJEEDIBIAgZAJAEDIJKAARBJwACIJGAA\\\n",
       "RBIwACIJGACRBAyASAIGQCQBAyCSgAEQScAAiCRgAEQSMAAiCRgAkQQMgEgCBkAkAQMgkoABEEnA\\\n",
       "AIgkYABEEjAAIgkYAJEEDIBIAgZAJAEDIJKAARBJwACIJGAARBIwACIJGACRBAyASAIGQCQBAyCS\\\n",
       "gAEQScAAiCRgAEQSMAAiCRgAkQQMgEgCBkAkAQMgkoABEEnAAIgkYABEEjAAIgkYAJEEDIBIAgZA\\\n",
       "JAEDIJKAARBJwACIJGAARBIwACIJGACRBAyASAIGQCQBAyCSgAEQScAAiCRgAEQSMAAijfoeAM66\\\n",
       "tm2P/Ho+Pah2dljNYFiDlfVqmqanySCbgMGpa+v2H39Vew8+raqqw91Hdbj7sC588wf1rZ/8vOfZ\\\n",
       "IJeAwWlrq8Z3/lk7n/39yPJsstvTQHA2eA8MTlvT1Nr5ry0s723/p+aHkx4GgrNBwOCUNU1Tq69c\\\n",
       "XlifTyfVtvMeJoKzQcAAiCRg0Je2rXIFBksTMOjA5uW3qurodvnp/k7tP7rbz0BwBggYdGC4tvXF\\\n",
       "flXbzqudz/oZCM4AAQMgkoBBBwaj1WoGw4V12+hheQIGHVg7/1qN1s8dXWzbGt+71cs8cBYIGHTC\\\n",
       "/Q7hpAkYAJEEDDrQDIaL/4VYVfvbn7obByxJwKADg9Fqrb2yeD/Ew91HVe1TngA8k4ABEEnAoHcu\\\n",
       "wWAZAgYdWb94ZWFt8vheTSfjHqaBfAIGHWiaplbPXVpYn08P3E4KliRgAEQSMOjM0z/M7AoMliNg\\\n",
       "0JGNS28s3A9xdrBfew8+7WkiyCZg0JHh6mZV88UfudYVGCxJwACIJGDQkWY4qsFwtLA+P9zvYRrI\\\n",
       "J2DQkdWti7WydXFhfXz3VuezwFkgYNCZLztSxZ04YBkCBkAkAYOuNE2tbJxfWD7cfVzt3JEqcFwC\\\n",
       "Bh0ZDEe1dmHxfoj7j+7YSg9LEDAAIgkY9K4tGzng+AQMOvS0I1UOxw/rYPyw+2EgnIBBh1bPXV5Y\\\n",
       "m8+m1c6mPUwD2QQMgEgCBr1zQ19YhoBBh9YvXqnBaO3IWjub1u79j3uaCHIJGHRouLJRzWDxx84V\\\n",
       "GByfgAEQScCgS03zlEMtq2YHe9W2PgsGxyFg0KHR+rlav/D1hfXxvVvdDwPhBAw61DSDagbDxd9w\\\n",
       "8QXHJmAARBIw6FJTtbJ5YWF5uv/ETkQ4JgGDDjXNoNZffX1hffLkfs2nBz1MBLkEDIBIAgYvDDs5\\\n",
       "4DgEDDq2fuFKVTVH1qb7OzV5fK+fgSCUgEHHVrZe/WK/qp3Paj497GcgCCVgAEQSMHhB2EYPxyNg\\\n",
       "0LG186/VaG3r6GLb1vjuP/oZCEIJGHRsMFqrZjhaWG/n8x6mgVwCBkAkAYMeNE89UmXXkSpwDAIG\\\n",
       "HRuurtfGpTcX1nfv/6tKwOC5CRh0rnGkCpwAAQMgkoBBD1a2Xl1Ym07G7kgPxyBg0LGmaWrjKUeq\\\n",
       "HI63a3a418NEkGnxwyjAUo6zg/BLH9ke7+s0TfPsB8EZ1bxE23Zfmj8o/Xjw4EG9//77NR6Pn/nY\\\n",
       "H761Vj/93rkja/uH8/rFh4/q8f6zP9A8GAzqgw8+qKtXry49L/xf7L+CXIHBCdnb26vr16/X9vb2\\\n",
       "Mx/7yXffrGtXf1YH7YV6Mr1Um8MntTn4b/3lTx/WHz769zOfPxwO67333juBqSGXgEEP7j/crTt7\\\n",
       "b9Rfx9dqf75Zo+agvrHxt1pd+W3fo0EMmzigB9N2pT56/OPan29WVVPTdq1u7X6/tg+u9D0axBAw\\\n",
       "6MH+bLP2Zq/U599+mLeDaoab/Q0FYQQMerCzc7cm40/q83uLRoNp/ejbW1/+JOAIAYMeTKeT+s7G\\\n",
       "72qjPqvp4aQGs4f1+uD3NZ/c7ns0iPHSbOKYzZx2y+mazWbP/Rmu6Wxev/z1b+rju9dr53CzVgf7\\\n",
       "VbOdurO989yvN5/PfV/zlQ2HT7kvZ4iXJmA3btzoewTOuPv379d0On2ux87nbd34862lX6tt27p5\\\n",
       "82ZNJpOlvwZUVV27dq3vEZb20gQs+S+JDLdv366VlZVOXqtpmnr77bfrnXfe6eT14EXkPTAAIgkY\\\n",
       "AJEEDIBIAgZAJAEDIJKAARDppdlGD6dtY2Oj3n333ec6D+yrGgwGdfny5VN/HXiROdASTkgfP0tO\\\n",
       "ZOYExH4TuQKDEyIm0C3vgQEQScAAiCRgAEQSMAAiCRgAkQQMgEgCBkAkAQMgkoABEEnAAIgkYABE\\\n",
       "EjAAIgkYAJEEDIBIAgZAJAEDIJKAARBJwACIJGAARBIwACIJGACRBAyASAIGQCQBAyCSgAEQScAA\\\n",
       "iCRgAEQSMAAiCRgAkQQMgEgCBkAkAQMgkoABEEnAAIgkYABEEjAAIgkYAJEEDIBIAgZAJAEDIJKA\\\n",
       "ARBJwACIJGAARBIwACKN+h6gQ03fAwBwclyBARBJwACIJGAARBIwACIJGACRBAyASAIGQCQBAyCS\\\n",
       "gAEQScAAiCRgAEQSMAAiCRgAkQQMgEgCBkAkAQMgkoABEEnAAIgkYABEEjAAIgkYAJEEDIBIAgZA\\\n",
       "JAEDIJKAARBJwACIJGAARBIwACIJGACRBAyASAIGQCQBAyCSgAEQScAAiCRgAET6H7YKjW9cNsqx\\\n",
       "AAAAAElFTkSuQmCC\\\n",
       "\"\n",
       "  frames[15] = \"data:image/png;base64,iVBORw0KGgoAAAANSUhEUgAAAbAAAAEgCAYAAADVKCZpAAAAOXRFWHRTb2Z0d2FyZQBNYXRwbG90\\\n",
       "bGliIHZlcnNpb24zLjMuMywgaHR0cHM6Ly9tYXRwbG90bGliLm9yZy/Il7ecAAAACXBIWXMAAAsT\\\n",
       "AAALEwEAmpwYAAAIg0lEQVR4nO3dS2tchxnH4ffMjEYaXxQ7bd2SmBBCoASyKNTdduN1wOv2YxSy\\\n",
       "C93nG3TZRTddBfoFkkULxQQKbbPohdSJF7EbXyTbsqSZOaebEGxPiiVFPid/6XkWXrxInleg4efj\\\n",
       "OZem67oCgDSjoRcAgKMQMAAiCRgAkQQMgEgCBkAkAQMgkoABEEnAAIgkYABEEjAAIgkYAJEEDIBI\\\n",
       "AgZAJAEDIJKAARBJwACIJGAARBIwACIJGACRBAyASAIGQCQBAyCSgAEQScAAiCRgAEQSMAAiCRgA\\\n",
       "kQQMgEgCBkAkAQMgkoABEEnAAIgkYABEEjAAIk2GXqBH3dALAHwHNUMvcFSOwACIJGAARBIwACIJ\\\n",
       "GACRBAyASAIGQCQBAyCSgAEQScAAiCRgAEQSMAAiCRgAkQQMgEgCBkAkAQMgkoABEEnAAIgkYABE\\\n",
       "EjAAIgkYAJEEDIBIAgZAJAEDIJKAARBJwACIJGAARBIwACIJGACRBAyASAIGQCQBAyCSgAEQScAA\\\n",
       "iCRgAEQSMAAiCRgAkQQMgEgCBkAkAQMgkoABEEnAAIgkYABEEjAAIgkYAJEEDIBIAgZAJAEDIJKA\\\n",
       "ARBJwACIJGAARBIwACIJGACRBAyASAIGQCQBAyCSgAEQScAAiCRgAEQSMAAiCRgAkQQMgEgCBkAk\\\n",
       "AQMgkoABEEnAAIgkYABEEjAAIgkYAJEEDIBIAgZAJAEDIJKAARBJwACIJGAARBIwACIJGACRBAyA\\\n",
       "SAIGQCQBAyCSgAEQScAAiCRgAEQSMAAiCRgAkQQMgEgCBkAkAQMgkoABEEnAAIgkYABEEjAAIk2G\\\n",
       "XgBOg67rqqqqXexVt1x8NW1qvH6mmqYZbjEIJmDQg3v/vl53/vnn2n94txa7D6qqau3MhfrxO7+q\\\n",
       "8XQ28HaQScCgB7tbt2v78789NWtG46+PzIDD8xkYAJEEDHowPXdxZdbO92ux+3CAbeBkEDDowfrm\\\n",
       "papnTtZYzh/XfGdroI0gn4ABEEnAAIgkYABEEjDowXhto0bjtaeHXdVyb2eYheAEEDDowfT892q8\\\n",
       "fuaZaVc7dz4fZB84CQQMgEgCBkAkAQMgkoBBD5qmWT2Jo6raxb77IcIRCRj0YLS2URsXX1mZP7r9\\\n",
       "aZWAwZEIGPSkab7h7da1/S8CJ4SAwaA8zBKOSsAAiCRg0JNmtPp267q2qnwGBkchYNCTs5feWJnt\\\n",
       "bd/2TDA4IgGDHjRNU6PJ6mn03XLx1VEYcFgCBkAkAQMgkoBBb5wyD8dJwKAns5dfqWY0fmq2nO/V\\\n",
       "7v1bA20E2QQMejKenql69m4cXVvL/cfDLAThBAyASAIGQCQBAyCSgEFPJhtna7JxdmW+t+UkDjgK\\\n",
       "AYOejKdnajydrcz3H94dYBvIJ2AARBIwACIJGACRBAz60jS1NttcGc93tqtr3ZEeDkvAoCej8aTW\\\n",
       "X/rhynx361Z17XKAjSCbgAEQScAAiCRgAEQSMOjRN13I3C3n1S7nA2wD2QQMenT20usrs/1H92u+\\\n",
       "c7/3XSCdgEGv/s9Tmbt+t4CTQMAAiCRgAEQSMOhRMxrX6n8jdtW1iyHWgWgCBj2avfxqjacbT826\\\n",
       "5aJ2vvxsoI0gl4BBj5rmm99ybiUFhydgAEQSMAAiCRj0qfn6j6d0XVdd52IwOAwBgx5NNs7V+ks/\\\n",
       "WJk/uv3pANtANgGDHjXNuEbjtZV5O98bYBvIJmAARBIwACIJGACRBAz61DQ1e/nVlfHe9u1qF/sD\\\n",
       "LAS5BAx61DRNTWbnV+aLvUfuxgGHJGAARBIwACIJGACRJkMvACfBYW4DNT33/ZVZO9+rxeMHNZ7O\\\n",
       "Dvz3NM3qLangNGlO0f3XTs0PSv9u3rxZ7777bu3vP/9MwssXJvXLn23W6IkAtV1Xv7u+XTfvP//B\\\n",
       "ltPptN5///26fPnyt9oZvhL7LyFHYHAMtre364MPPqjHjx8/92t/8uaP6hdX3qmHywv1cHGhzo63\\\n",
       "amN0rz766KP6y7++eO73z2azeu+9945jbYgmYDCAL3Zfr78/+Hnttxs1bub12uyv1XZ/GHotiOIk\\\n",
       "DujZspvUPx78tPbbWVU1teym9Z9Hb9fDxcWhV4MoAgY9u7czqu299admbU3q3NnNgTaCTAIGPbt7\\\n",
       "77/V7t+uJ88rmo7m9fZrBz8DERAw6N2oWdabsz/WtPuy5vO9Grf36o3Zn6rmd4ZeDaKcmpM4lkv3\\\n",
       "mePFadv2wNeC7ezO69e/+W11ze9rd3mm1sc7tdbs1Rd3Hxz49ZbLpd9pjsV4PB56hSM7NQH78MMP\\\n",
       "h16BE+zGjRvVtu2Bvrbtuvrs1lZVbR3ptZbLZV2/fr1u3bp1pO+HJ129enXoFY7MhcxwDD755JO6\\\n",
       "cuXKga4D+7Zms1l9/PHH9dZbb73w1+JUiL2Q2WdgAEQSMAAiCRgAkQQMgEgCBkAkAQMg0qm5Dgxe\\\n",
       "pM3Nzbp27dqBngf2bU2n0zp//vwLfx34rnMdGByDId5HnsjMMYn9RXIEBsdATKB/PgMDIJKAARBJ\\\n",
       "wACIJGAARBIwACIJGACRBAyASAIGQCQBAyCSgAEQScAAiCRgAEQSMAAiCRgAkQQMgEgCBkAkAQMg\\\n",
       "koABEEnAAIgkYABEEjAAIgkYAJEEDIBIAgZAJAEDIJKAARBJwACIJGAARBIwACIJGACRBAyASAIG\\\n",
       "QCQBAyCSgAEQScAAiCRgAEQSMAAiCRgAkQQMgEgCBkAkAQMgkoABEEnAAIgkYABEmgy9QI+aoRcA\\\n",
       "4Pg4AgMgkoABEEnAAIgkYABEEjAAIgkYAJEEDIBIAgZAJAEDIJKAARBJwACIJGAARBIwACIJGACR\\\n",
       "BAyASAIGQCQBAyCSgAEQScAAiCRgAEQSMAAiCRgAkQQMgEgCBkAkAQMgkoABEEnAAIgkYABEEjAA\\\n",
       "IgkYAJEEDIBIAgZAJAEDIJKAARBJwACI9D+am1NL5ZB/RAAAAABJRU5ErkJggg==\\\n",
       "\"\n",
       "  frames[16] = \"data:image/png;base64,iVBORw0KGgoAAAANSUhEUgAAAbAAAAEgCAYAAADVKCZpAAAAOXRFWHRTb2Z0d2FyZQBNYXRwbG90\\\n",
       "bGliIHZlcnNpb24zLjMuMywgaHR0cHM6Ly9tYXRwbG90bGliLm9yZy/Il7ecAAAACXBIWXMAAAsT\\\n",
       "AAALEwEAmpwYAAAHk0lEQVR4nO3dPW9caRnH4fvMiz3DeDfrJFqKgBCgFUJaCYmSUCBFgj4l34Av\\\n",
       "EUSTNqKi5Btkt6ZKFy0FVVaKkFgEKFo28QbZieO3mTlUQMwU60y85+QfX1f5SJ5zW57Rz2fmmXOa\\\n",
       "tm0LANIM+h4AANYhYABEEjAAIgkYAJEEDIBIAgZAJAEDIJKAARBJwACIJGAARBIwACIJGACRBAyA\\\n",
       "SAIGQCQBAyCSgAEQScAAiCRgAEQSMAAiCRgAkQQMgEgCBkAkAQMgkoABEEnAAIgkYABEEjAAIgkY\\\n",
       "AJEEDIBIAgZAJAEDIJKAARBJwACIJGAARBr1PUCH2r4HAHgDNX0PsC5nYABEEjAAIgkYAJEEDIBI\\\n",
       "AgZAJAEDIJKAARBJwACIJGAARBIwACIJGACRBAyASAIGQCQBAyCSgAEQScAAiCRgAEQSMAAiCRgA\\\n",
       "kQQMgEgCBkAkAQMgkoABEEnAAIgkYABEEjAAIgkYAJEEDIBIAgZAJAEDIJKAARBJwACIJGAARBIw\\\n",
       "ACIJGACRBAyASAIGQCQBAyCSgAEQScAAiCRgAEQSMAAiCRgAkQQMgEgCBkAkAQMgkoABEEnAAIgk\\\n",
       "YABEEjAAIgkYAJEEDIBIAgZAJAEDIJKAARBJwACIJGAARBIwACIJGACRBAyASAIGQCQBAyCSgAEQ\\\n",
       "ScAAiCRgAEQSMAAiCRgAkQQMgEgCBkAkAQMgkoABEEnAAIgkYABEEjAAIgkYAJEEDIBIAgZAJAED\\\n",
       "IJKAARBJwACIJGAARBIwACIJGACRBAyASAIGQCQBAyCSgAEQScAAiCRgAEQSMAAiCRgAkUZ9DwAX\\\n",
       "Qbtc1OL4YGV9uDGtZjDsYSLIJ2DQgRc7f6+//OF31bbL/641zaC+//Nf1ez97/Y4GeQSMOjAcjGv\\\n",
       "k4O9qrb932LT1HIx728oCOczMAAiCRgAkQQMOjDa/EYNhhunF9uq+cFePwPBW0DAoAPj2XYNN6f/\\\n",
       "t9rWwb8+72UeeBsIGACRBAyASAIGQCQBAyCSgAEQScAAiCRgAEQSMAAiCRh0YDAa18bW5ZX1o93H\\\n",
       "1b58gV/gzAQMOtAMRjWeXlpZP37+5ekr1ANnJmDQq6bvASCWgAEQScCgV94+hHUJGPTKW4iwLgED\\\n",
       "IJKAARBJwACIJGAARBIw6MjGO1dW1uaHz2o5P+phGsgnYNCBpmlqcun9lfWTF7u1ODnsYSLIJ2AA\\\n",
       "RBIwACIJGACRBAyASAIGQCQBAyCSgAEQScAAiCRg0JHR9N2q5vTtU5bz4zrae9LTRJBNwKAjk0vf\\\n",
       "rGYwOrXWLhc1P9zvaSLIJmAARBIwACIJGACRBAyASAIGQCQBAyCSgAEQScAAiCRg0JHRZKtGk62V\\\n",
       "9aPdL3qYBvIJGHRkuDGt4cZkZf34+dMepoF8AgZAJAEDIJKAARBJwACIJGAARBIwACIJGACRBAyA\\\n",
       "SAIGHWkGg9rYuryyfvz8abXLRQ8TQTYBg440g2FtbF1ZWT969mW1y2UPE0E2AQMgkoABEEnAAIgk\\\n",
       "YABEGvU9AKRr2/Y8HuWVHqdpmnM4JmRrzufFF+HC/KJ06+HDh3Xr1q1anmEn4S9+OKsff/v0PcGe\\\n",
       "PJvX7z/ZrcUZNiLOZrO6c+dOXb68uh0f1hT735AzMHhNOzs7dffu3Vosvvq7XB/88qf1o299WM/n\\\n",
       "23Ww2Kp3Rk9rd+9v9fFHH9fx/Kt/fnt7u27fvn0eY0M8AYMOLdthfbr3k3p08EEt2lFNBvu1dfRR\\\n",
       "32NBJJs4oEOffDasf7z4QS3acVU1dbic1ePmZ/Xeu1t9jwZxBAw69MXuspbtyy+7pgbjSzUaCxi8\\\n",
       "KgGDDk2H+zVq5i+ttPXe+HFtDA56mwlSCRh0aGv4pL4z+WMNFrs1Pzmqaf2zvje5X9W6FiK8qguz\\\n",
       "ieMsO8RgHWfZPv8ff/rzo/r1b39Tx8tJHS8nNR3u17A5qkc7e690PM9nzstwOOx7hLVdmIDdu3ev\\\n",
       "7xF4Sz148ODMX0LePzypv37+dO1jnZyc1P379+vKldWr2sM6bty40fcIa7swAUv+I/Fm29zc7OzK\\\n",
       "GOPxuK5fv17Xrl3r5HjwJvMZGACRBAyASAIGQCQBAyCSgAEQScAAiHRhttHD1+Xq1at18+bNV/pC\\\n",
       "87pms1lNp9Ov/TiQwA0t4TX18RpyR2bOUeyTyRkYvCYxgX74DAyASAIGQCQBAyCSgAEQScAAiCRg\\\n",
       "AEQSMAAiCRgAkQQMgEgCBkAkAQMgkoABEEnAAIgkYABEEjAAIgkYAJEEDIBIAgZAJAEDIJKAARBJ\\\n",
       "wACIJGAARBIwACIJGACRBAyASAIGQCQBAyCSgAEQScAAiCRgAEQSMAAiCRgAkQQMgEgCBkAkAQMg\\\n",
       "koABEEnAAIgkYABEEjAAIgkYAJEEDIBIAgZAJAEDIJKAARBp1PcAHWr6HgCA8+MMDIBIAgZAJAED\\\n",
       "IJKAARBJwACIJGAARBIwACIJGACRBAyASAIGQCQBAyCSgAEQScAAiCRgAEQSMAAiCRgAkQQMgEgC\\\n",
       "BkAkAQMgkoABEEnAAIgkYABEEjAAIgkYAJEEDIBIAgZAJAEDIJKAARBJwACIJGAARBIwACIJGACR\\\n",
       "BAyASAIGQCQBAyDSvwECAPPQoIAl5AAAAABJRU5ErkJggg==\\\n",
       "\"\n",
       "  frames[17] = \"data:image/png;base64,iVBORw0KGgoAAAANSUhEUgAAAbAAAAEgCAYAAADVKCZpAAAAOXRFWHRTb2Z0d2FyZQBNYXRwbG90\\\n",
       "bGliIHZlcnNpb24zLjMuMywgaHR0cHM6Ly9tYXRwbG90bGliLm9yZy/Il7ecAAAACXBIWXMAAAsT\\\n",
       "AAALEwEAmpwYAAAGxklEQVR4nO3dP29cWR2A4TNj58+usxsE7IqSwEpJhSioaJMoX4COliIfIR2f\\\n",
       "g5oGIVFSpYm0K1FBsyFFhLbwSgh2YSEydpyxZ4YCig0rkWQwc/PGz9P56GrOz/Idvb66157Zer0e\\\n",
       "AFAzn3oAANiEgAGQJGAAJAkYAEkCBkCSgAGQJGAAJAkYAEkCBkCSgAGQJGAAJAkYAEkCBkCSgAGQ\\\n",
       "JGAAJAkYAEkCBkCSgAGQJGAAJAkYAEkCBkCSgAGQJGAAJAkYAEkCBkCSgAGQJGAAJAkYAEkCBkCS\\\n",
       "gAGQJGAAJAkYAEkCBkCSgAGQtDv1AFu0nnoAgNfQbOoBNuUKDIAkAQMgScAASBIwAJIEDIAkAQMg\\\n",
       "ScAASBIwAJIEDIAkAQMgScAASBIwAJIEDIAkAQMgScAASBIwAJIEDIAkAQMgScAASBIwAJIEDIAk\\\n",
       "AQMgScAASBIwAJIEDIAkAQMgScAASBIwAJIEDIAkAQMgScAASBIwAJIEDIAkAQMgScAASBIwAJIE\\\n",
       "DIAkAQMgScAASBIwAJIEDIAkAQMgScAASBIwAJIEDIAkAQMgScAASBIwAJIEDIAkAQMgScAASBIw\\\n",
       "AJIEDIAkAQMgScAASBIwAJIEDIAkAQMgScAASBIwAJIEDIAkAQMgScAASBIwAJIEDIAkAQMgScAA\\\n",
       "SBIwAJIEDIAkAQMgScAASBIwAJIEDIAkAQMgScAASBIwAJIEDIAkAQMgScAASBIwAJIEDIAkAQMg\\\n",
       "ScAASBIwAJIEDIAkAQMgScAASBIwAJIEDIAkAQMgScAASNqdegA4D9br9VidHI/1avnc+my+M+YX\\\n",
       "Lo/ZbDbRZNAlYLAln/7ml+PJ/sfPre29/53x3dt3xxAweGUCBluyfPZ0nD49+I+1o4mmgT73wABI\\\n",
       "EjCY1HrqASBLwGBS7n3BpgQMgCQBAyBJwABIEjAAkgQMtmC9Oh0nT598Zf3ila/7I2bYkIDBFqxO\\\n",
       "T8biH198Zf3S1ff9GynYkIABkCRgACQJGABJAgZAkoABkCRgACQJGABJAgZAkoABkCRgACQJGABJ\\\n",
       "AgZAkoABkCRgACQJGABJAgZAkoABkCRgACQJGABJAgZAkoABkCRgACQJGABJAgZAkoABkCRgACQJ\\\n",
       "GABJAgZAkoABkCRgACQJGABJAgZAkoABkCRgACQJGABJAgZAkoABkCRgACQJGABJAgZAkoABkCRg\\\n",
       "ACQJGABJAgZAkoABkCRgACQJGABJAgZAkoABkLQ79QBQtV6vz+JVXul1ZrPZGewJb4bZ2bwJE87N\\\n",
       "N8p2LBaLce/evbG/v//CYy/tzsZPfnh1vHt557n1D/9wND765OlL7Xf37t1x69atjWaF/yL7W5Er\\\n",
       "MNjQarUa9+/fHw8fPnzhsVfeujh+/P0fjUsX3ht/P3lvXJg/G1+78Pl49OjR+NWvf/dS+925c+d/\\\n",
       "HRneKAIGW/KnZ98ev//rzXG0fHfMx3Jc2/t4rMZvpx4LsjzEAVuwXO+Oxwc/GEfLq2OM2ViN3fHJ\\\n",
       "4ffGF4tvTT0aZAkYbMFqPR+L1aXn1tZjPp6cfHOiiaBPwGALdmbL8fbOwfjys0Q7s9PxjYt/nG4o\\\n",
       "iBMw2IL5bDk+ePuj8c7s03F6ejzG8mB88NaH48rOZ1OPBlnn5iGO5XI59Qi8YV7lnDo6Phk//dnP\\\n",
       "x3z+i3F0+s7YnZ+My/PD8beDl3uEfox/PfXoPOas7ezsvPig19S5CdiDBw+mHoE3zGKxGIeHhy91\\\n",
       "7Gq9Hvt/fvLvr/6y0X6PHz92HnPmbt68OfUIGzs3ASv/kHg9HR8fj729va3td+PGDecxfIl7YAAk\\\n",
       "CRgASQIGQJKAAZAkYAAkCRgASefmMXo4a/P5fNy+fXtcv359K/tdu3ZtK/tAhQ+0hA1N8d7xicz8\\\n",
       "H2RPKldgsCExgWm5BwZAkoABkCRgACQJGABJAgZAkoABkCRgACQJGABJAgZAkoABkCRgACQJGABJ\\\n",
       "AgZAkoABkCRgACQJGABJAgZAkoABkCRgACQJGABJAgZAkoABkCRgACQJGABJAgZAkoABkCRgACQJ\\\n",
       "GABJAgZAkoABkCRgACQJGABJAgZAkoABkCRgACQJGABJAgZAkoABkCRgACQJGABJAgZAkoABkCRg\\\n",
       "ACQJGABJu1MPsEWzqQcA4Oy4AgMgScAASBIwAJIEDIAkAQMgScAASBIwAJIEDIAkAQMgScAASBIw\\\n",
       "AJIEDIAkAQMgScAASBIwAJIEDIAkAQMgScAASBIwAJIEDIAkAQMgScAASBIwAJIEDIAkAQMgScAA\\\n",
       "SBIwAJIEDIAkAQMgScAASBIwAJIEDIAkAQMgScAASBIwAJL+CSdDvAHF4pQsAAAAAElFTkSuQmCC\\\n",
       "\"\n",
       "  frames[18] = \"data:image/png;base64,iVBORw0KGgoAAAANSUhEUgAAAbAAAAEgCAYAAADVKCZpAAAAOXRFWHRTb2Z0d2FyZQBNYXRwbG90\\\n",
       "bGliIHZlcnNpb24zLjMuMywgaHR0cHM6Ly9tYXRwbG90bGliLm9yZy/Il7ecAAAACXBIWXMAAAsT\\\n",
       "AAALEwEAmpwYAAAH4UlEQVR4nO3dP28U+R3H8e/sru3DEDhjuCgnoUh0XMMzIAV1TieFgibPBSnP\\\n",
       "I1HqK9KkD1CkSJooUigoLkRK4OB04p8Bm92ZSXFRdMZImMW7w2f9enX+aeX5Wp7Re2d3dqfp+74A\\\n",
       "IM1o6AEAYB4CBkAkAQMgkoABEEnAAIgkYABEEjAAIgkYAJEEDIBIAgZAJAEDIJKAARBJwACIJGAA\\\n",
       "RBIwACIJGACRBAyASAIGQCQBAyCSgAEQScAAiCRgAEQSMAAiCRgAkQQMgEgCBkAkAQMgkoABEEnA\\\n",
       "AIgkYABEEjAAIgkYAJEEDIBIAgZApMnQAyxRP/QAAB+hZugB5uUMDIBIAgZAJAEDIJKAARBJwACI\\\n",
       "JGAARBIwACIJGACRBAyASAIGQCQBAyCSgAEQScAAiCRgAEQSMAAiCRgAkQQMgEgCBkAkAQMgkoAB\\\n",
       "EEnAAIgkYABEEjAAIgkYAJEEDIBIAgZAJAEDIJKAARBJwACIJGAARBIwACIJGACRBAyASAIGQCQB\\\n",
       "AyCSgAEQScAAiCRgAEQSMAAiCRgAkQQMgEgCBkAkAQMgkoABEEnAAIgkYABEEjAAIgkYAJEEDIBI\\\n",
       "AgZAJAEDIJKAARBJwACIJGAARBIwACIJGACRBAyASAIGQCQBAyCSgAEQScAAiCRgAEQSMAAiCRgA\\\n",
       "kQQMgEgCBkAkAQMgkoABEEnAAIgkYABEEjAAIgkYAJEEDIBIAgZAJAEDIJKAARBJwACIJGAARBIw\\\n",
       "ACIJGACRBAyASAIGQCQBAyCSgAEQScAAiCRgAEQSMAAiCRgAkQQMgEgCBkAkAQMg0mToAeC46Luu\\\n",
       "2tcv960147UaTdaraZqBpoJcAgZL8vzB3br3p99V37f/X1s/ebZ+/otf1+b2hQEng0wCBkuy9/Rh\\\n",
       "TV8+2bfWt7OabJwcZiAI5z0wGJqXD2EuAgZAJAEDIJKAARBJwACIJGCwBH3f16vH9w+sjzc2azRe\\\n",
       "G2AiyCdgsCTTF08PrK2fPFvj9c0BpoF8AgZAJAEDIJKAwaD6oQeAWAIGg/ItHDAvAYOlcbYFR0nA\\\n",
       "YAm66V69evzgwPrGmfO+CxHmJGCwBH3fVTfbO7C+fmrbvcBgTgIGQCQBAyCSgAEQScAAiCRgsAx9\\\n",
       "V9W7jB6OkoDBEuw+fVSz3Z03Vpva3L4wyDywCgQMlqDv2ur7bv9i88PtVID5CBgAkQQMgEgCBkAk\\\n",
       "AQMgkoDBEnTT3bd8GX1TTeMQhHk5emAJXnz3r3qzYGsnflIbZz4bZiBYAQIGQ2maakbjoaeAWAIG\\\n",
       "QCQBAyCSgAEQScAAiCRgsGB939f05ZMD66PxWjVNs/yBYEUIGCxa39fu428PLH+y9XmN1j4ZYCBY\\\n",
       "DQIGA/EhZvgwjiAAIgkYAJEEDIBIAgZAJAGDBWunu2+9jH5y4tTyh4EVImCwYN1sr2a7OwfWN7cv\\\n",
       "DDANrA4BgwH5IDPMT8AAiCRgAEQSMAAiCRgsWj/0ALCaBAwWbPfpt9VO9/YvNqNaP3V2mIFgRQgY\\\n",
       "LFj7ereq7/atNaNxrZ/aHmgiWA0CBkAkAQMgkoABEEnAAIgkYLBob1zAARwNAYMF23n4zYG1tROn\\\n",
       "a23z9ADTwOoQMFiwvp0eWButrddosjHANLA6BAyASAIGQCQBAyDSZOgBIE3fH9W38/aH/l1ufAkH\\\n",
       "NUd3MH70js0fymJ1XVc3btyoO3fuvPOxTVV9eflMffHT/c8VHz6b1e//8rTaQ1xhf/369bp27dqc\\\n",
       "08I7xT47cgYG76nv+7p9+3bdunXrnY9dn4zrV198Va+7z+vx689q0szq0/VH9dd/3K2vv755qGdV\\\n",
       "ly9f/vChYQUJGCzYs9n5+vP3v6yd2VY11dX5jf/U8927XhKAD+QiDligvpr65sXl2pltVVVTfY3r\\\n",
       "0d6Fur97cejRIJ6AwQL1Narn0x/i9WPPpu4FBh9KwGCBmurq7MaD+vE1RE31tb1+f7ihYEUIGCxQ\\\n",
       "U31d2PhbfTr6Z7WzV9W3O/Wztb/X9tq9oUeDeMfmIo62bYcegRXRtu2hP781nbX1m9/+oSaTP9bL\\\n",
       "9nSNq60T45169nL30Nvrus7+y8KMx+OhR5jbsQnYzZs3hx6BFdF1XT158uRQj+2r6t/fPfvfT9/P\\\n",
       "tb179+7Zf1mYq1evDj3C3I5NwJL/SXxc2ratra2tpW3v4sWL9l94C++BARBJwACIJGAARBIwACIJ\\\n",
       "GACRBAyASMfmMno4Kk3T1JUrV+rcuXNL2d6lS5eWsh1I44aW8J6GOGbckZkFit25nIHBexIT+Dh4\\\n",
       "DwyASAIGQCQBAyCSgAEQScAAiCRgAEQSMAAiCRgAkQQMgEgCBkAkAQMgkoABEEnAAIgkYABEEjAA\\\n",
       "IgkYAJEEDIBIAgZAJAEDIJKAARBJwACIJGAARBIwACIJGACRBAyASAIGQCQBAyCSgAEQScAAiCRg\\\n",
       "AEQSMAAiCRgAkQQMgEgCBkAkAQMgkoABEEnAAIgkYABEEjAAIgkYAJEEDIBIAgZAJAEDIJKAARBp\\\n",
       "MvQAS9QMPQAAR8cZGACRBAyASAIGQCQBAyCSgAEQScAAiCRgAEQSMAAiCRgAkQQMgEgCBkAkAQMg\\\n",
       "koABEEnAAIgkYABEEjAAIgkYAJEEDIBIAgZAJAEDIJKAARBJwACIJGAARBIwACIJGACRBAyASAIG\\\n",
       "QCQBAyCSgAEQScAAiCRgAEQSMAAiCRgAkQQMgEgCBkCk/wJE9Q5r0y/EgAAAAABJRU5ErkJggg==\\\n",
       "\"\n",
       "  frames[19] = \"data:image/png;base64,iVBORw0KGgoAAAANSUhEUgAAAbAAAAEgCAYAAADVKCZpAAAAOXRFWHRTb2Z0d2FyZQBNYXRwbG90\\\n",
       "bGliIHZlcnNpb24zLjMuMywgaHR0cHM6Ly9tYXRwbG90bGliLm9yZy/Il7ecAAAACXBIWXMAAAsT\\\n",
       "AAALEwEAmpwYAAAJGElEQVR4nO3dTW9cZxnH4fvMjF8SO02bhrTqi1EEUhe0BQnYU3XPphskvk/p\\\n",
       "J0D9AiwrsUaVaIsESLBggVhEkFAoaUObJk38MrFn5rCIVCUdlzh2zpz+J9e1fDz23FZ88vPxmXlO\\\n",
       "07ZtAUCaQd8DAMBxCBgAkQQMgEgCBkAkAQMgkoABEEnAAIgkYABEEjAAIgkYAJEEDIBIAgZAJAED\\\n",
       "IJKAARBJwACIJGAARBIwACIJGACRBAyASAIGQCQBAyCSgAEQScAAiCRgAEQSMAAiCRgAkQQMgEgC\\\n",
       "BkAkAQMgkoABEEnAAIgkYABEEjAAIgkYAJFGfQ+wQG3fAwB8AzV9D3BczsAAiCRgAEQSMAAiCRgA\\\n",
       "kQQMgEgCBkAkAQMgkoABEEnAAIgkYABEEjAAIgkYAJEEDIBIAgZAJAEDIJKAARBJwACIJGAARBIw\\\n",
       "ACIJGACRBAyASAIGQCQBAyCSgAEQScAAiCRgAEQSMAAiCRgAkQQMgEgCBkAkAQMgkoABEEnAAIgk\\\n",
       "YABEEjAAIgkYAJEEDIBIAgZAJAEDIJKAARBJwACIJGAARBIwACIJGACRBAyASAIGQCQBAyCSgAEQ\\\n",
       "ScAAiCRgAEQSMAAiCRgAkQQMgEgCBkAkAQMgkoABEEnAAIgkYABEEjAAIgkYAJEEDIBIAgZAJAED\\\n",
       "IJKAARBJwACIJGAARBIwACIJGACRBAyASAIGQCQBAyCSgAEQScAAiCRgAEQSMAAiCRgAkQQMgEgC\\\n",
       "BkAkAQMgkoABEEnAAIgkYABEEjAAIgkYAJEEDIBIAgZAJAEDIJKAARBJwACIJGAARBIwACKN+h4A\\\n",
       "Hhdt29Z0f6+qnVUzHNVgtPblx5qm6XEyyCRgsCDtbFL/+M0va3zzkxqtn6nVzXNVVXV265W68L2f\\\n",
       "9DscBBIwWJS2ajLersne7Zrs3a7xjatVVbV25umeB4NMroHBgkzu7NRkvDO3Plzb6GEayCdgsCDT\\\n",
       "O7t3r4F9xenzWz1MA/kEDIBIAgZAJAGDBdm7cbXa6eS+tWY4qpXTZ3uaCLIJGCzI9M5OVbX3rQ2G\\\n",
       "K7W6+VQ/A0E4AQMgkoDBArRtW23bPviBwJEJGCzIzrXLc2urm+dquHqqh2kgn4DBgswm+3Nrw9VT\\\n",
       "NRiu9jAN5BMw6JVNfOG4BAwWoq3Z9GB+Wb/g2AQMFmC6P/5y8957nT7/7Sq3UoFjETBYkLadza0N\\\n",
       "V0+5Fxgck4ABEEnAYBHaWdUh7wNrBsMehoHlIGCwAOMv/luT8fb9i01TGxcu9jMQLAEBgwVoZ9ND\\\n",
       "r4E5A4PjEzAAIgkYLMDsYDy31gxGNRjZhQOOS8BgAXY+/XDuRRyj9Y1ae+JbPU0E+QQMgEgCBkAk\\\n",
       "AYOOtW1bB7tfzK0Phit24YATEDDoWtseug/i+lPP1WBlvYeBYDkIGCzE/JlW0zj84CQcQQBEEjDo\\\n",
       "2PRgXAe7N+fWR+ubix8GloiAQcdmkzvz+yBW1enzL/YwDSwPAYMeeRUiHJ+AQdfm76ICPAICBh0b\\\n",
       "f3Gtpgd37l9sBrW6ea6fgWBJCBh0bLq/d/eGlvdoBsNa3Xy6p4lgOQgYAJEEDLp2yI0sgZMTMOjY\\\n",
       "9rXLc2srp87U6NSZHqaB5SFg0LF2ejC3NlhZq6F9EOFEBAyASAIGHWrbtmaT/UM+4g3McFICBh1q\\\n",
       "p5Pa/exfc+unz79YzXDUw0SwPAQMOta281txDEZrtpGCExIwACIJGHSobWeHvg9s4M+HcGICBh3a\\\n",
       "3/689rc/n1vfeOY7PUwDy0XAoEtte+g1sGYw7GEYWC4CBkAkAYMOTQ/GVV89A2sGNVxZ62cgWCIC\\\n",
       "Bh3au/5RtbPJfWvDlbVaf/LZniaC5SFg0Kmvux2z94DBSQkYAJEEDDrStm3t79ycW2+Go2oGDj04\\\n",
       "KUcRdGh84+O5tbUnLtRofbOHaWC5CBgs2N09EF0Dg5MSMAAiCRh0pJ0e1P729bn10fqmEzB4BAQM\\\n",
       "OjKbTupg79bc+qlzL5SCwckJGCxaU+4FBo+AgAEQyU2J4CEctrP819m//VlNxjtz66ub5x/q6zhb\\\n",
       "g8M1D3MghXtsvlG68+6779bbb799pMe+8OSofv7jJ2pwT4BmbVu/+tOt+ujm5P985l1bW1v11ltv\\\n",
       "1erq6rHnhSOI/Q3JGRg8hCtXrtQ777xzpMf+4LvP1s9++NO6Ob1QB7P1enLl0xo1O/X+++/XX/7+\\\n",
       "yQM//+WXX64333zzpCPD0hIw6EjTjOrS9o/qw91Xa1bDOj28VS9t/qHvsWBpCBh05LnnX61/7n6/\\\n",
       "2rp79+Xd6dn687VX6j/Xxz1PBsvBqxChI3v1TLVfOcR29kd1e+/B17+ABxMw6MjTq1dr2Nwbq7Y2\\\n",
       "RzdqUNPeZoJlImDQkdmdj+r5wW+rprdqMhnXmebf9dLGH2vQCBg8Co/NNbDp1H8anNxsNjvyY3/9\\\n",
       "u7/V7//6i2pGZ2syW6mNle26cHa1dscHR/4a0+nUzy6dGg6HfY9wbI9NwN57772+R2AJXLp06ciP\\\n",
       "nc7a+vj67aq6/eXalatHf66dnZ364IMPvA+MTr3++ut9j3Bsj03Akv+R+Oa4fPnywp5rY2OjXnvt\\\n",
       "tVpfX1/Yc0IS18AAiCRgAEQSMAAiCRgAkQQMgEgCBkCkx+Zl9PAoXLx4sd54442FPNfW1lYNBn7H\\\n",
       "hK/jhpbwEPo4XtyRmY7F/oA5A4OHICbwzeHvEwBEEjAAIgkYAJEEDIBIAgZAJAEDIJKAARBJwACI\\\n",
       "JGAARBIwACIJGACRBAyASAIGQCQBAyCSgAEQScAAiCRgAEQSMAAiCRgAkQQMgEgCBkAkAQMgkoAB\\\n",
       "EEnAAIgkYABEEjAAIgkYAJEEDIBIAgZAJAEDIJKAARBJwACIJGAARBIwACIJGACRBAyASAIGQCQB\\\n",
       "AyCSgAEQScAAiCRgAEQSMAAiCRgAkQQMgEijvgdYoKbvAQB4dJyBARBJwACIJGAARBIwACIJGACR\\\n",
       "BAyASAIGQCQBAyCSgAEQScAAiCRgAEQSMAAiCRgAkQQMgEgCBkAkAQMgkoABEEnAAIgkYABEEjAA\\\n",
       "IgkYAJEEDIBIAgZAJAEDIJKAARBJwACIJGAARBIwACIJGACRBAyASAIGQCQBAyCSgAEQScAAiCRg\\\n",
       "AET6H8k7ZzPXUxwsAAAAAElFTkSuQmCC\\\n",
       "\"\n",
       "  frames[20] = \"data:image/png;base64,iVBORw0KGgoAAAANSUhEUgAAAbAAAAEgCAYAAADVKCZpAAAAOXRFWHRTb2Z0d2FyZQBNYXRwbG90\\\n",
       "bGliIHZlcnNpb24zLjMuMywgaHR0cHM6Ly9tYXRwbG90bGliLm9yZy/Il7ecAAAACXBIWXMAAAsT\\\n",
       "AAALEwEAmpwYAAAJtUlEQVR4nO3dTW8cdx3A8d/sg+3YeajjJqGtWtEIUXpoJIQqbr30whWkqu+C\\\n",
       "M9e+C268AJA4VNw4VL2AhMQBUbihtKWkNIntJn7c3ZnhEKmSOwlxdndm+tt8Psd/nPgXxatv5r+z\\\n",
       "/ynqug4AyGbQ9wAAMA8BAyAlAQMgJQEDICUBAyAlAQMgJQEDICUBAyAlAQMgJQEDICUBAyAlAQMg\\\n",
       "JQEDICUBAyAlAQMgJQEDICUBAyAlAQMgJQEDICUBAyAlAQMgJQEDICUBAyAlAQMgJQEDICUBAyAl\\\n",
       "AQMgJQEDICUBAyAlAQMgJQEDICUBAyAlAQMgJQEDIKVR3wN0qO57AIDvoKLvAeblCgyAlAQMgJQE\\\n",
       "DICUBAyAlAQMgJQEDICUBAyAlAQMgJQEDICUBAyAlAQMgJQEDICUBAyAlAQMgJQEDICUBAyAlAQM\\\n",
       "gJQEDICUBAyAlAQMgJQEDICUBAyAlAQMgJQEDICUBAyAlAQMgJQEDICUBAyAlAQMgJQEDICUBAyA\\\n",
       "lAQMgJQEDICUBAyAlAQMgJQEDICUBAyAlAQMgJQEDICUBAyAlAQMgJQEDICUBAyAlAQMgJQEDICU\\\n",
       "BAyAlAQMgJQEDICUBAyAlAQMgJQEDICUBAyAlAQMgJQEDICUBAyAlAQMgJQEDICUBAyAlAQMgJQE\\\n",
       "DICUBAyAlAQMgJQEDICUBAyAlAQMgJQEDICUBAyAlAQMgJQEDICUBAyAlAQMgJQEDICUBAyAlAQM\\\n",
       "gJQEDICUBAyAlAQMgJQEDICUBAyAlAQMgJQEDICUBAyAlAQMgJQEDICUBAyAlAQMgJQEDICUBAyA\\\n",
       "lAQMgJQEDICUBAyAlEZ9DwDPk3J6EhFFDEZr36wVRdHfQJCYgEGH7vz1D/Hg3/+M8eaViIhYv3wt\\\n",
       "tq59P67+4O0oBsOep4NcBAw6VE5O4vj+53F8//Nv1h5uvxzbN38iYPCMvAcGHamrMiYP7zfWR+ub\\\n",
       "EbYR4ZkJGHSkrqqYHO421i9cfcXVF8xBwKAz9RN/xY0c8OwEDDoyOdyP6eF+Y339yvXuh4EVIGDQ\\\n",
       "kbqcRVXOGutrF3d6mAbyEzDoSFVOI+rmNqLtQ5iPgEFHju59FnV19gpsMF6PjRde6mkiyE3AoCt1\\\n",
       "1VgqikEMxmuP+WLgaQQMOlDXdVSzafMXiiIibCHCPAQMOnL41b8aa+uXrsVofauHaSA/AYOO1FVz\\\n",
       "C3EwWvMhZpiTgEEH6qqM2elBY30wGttBhDkJGHSgmk3i9MHdxvrW9ddDwWA+AgZ9KgY+BwZzEjDo\\\n",
       "QDk5euxdiIPRuIdpYDUIGHRgcrAX5eTo7GJRxNa11/sZCFaAgEGfbB/C3AQMOnCyd6dxDuJguPbo\\\n",
       "YZbAXAQMOjA9ftBYG65fiPHWdg/TwGoQMABSEjBoWV1XcbL3n8b6aOOiUzhgAQIGbasjpkfNLcT1\\\n",
       "S9diMHISPcxLwKB1ddSPeZQKsBgBg5bNTg7i9MFXjfULV1/pYRpYHQIGLavrKupy1lgfb152jBQs\\\n",
       "QMCgZdV08vgtxMLLDxbhFQQtO9m/E9X09MxaMRjF5ouv9TQRrAYBg5bV3zqBIyIiiiIGQwf5wiIE\\\n",
       "DFpWTo4ba0VROAcRFiRg0LKju5821sZb27HmGClYiIBB65pbiMVg4BQOWJCAQYvqqozJwV5jfTje\\\n",
       "sIUICxIwaFFdVXH68F5j/cLOq67AYEECBj3xIWZYjIBBi8rJUZSnR4314dqFHqaB1SJg0KLZyWHM\\\n",
       "Tg8b61vXv9/9MLBiBAx6YfsQFiVg0KLj3S8aB/kWw1GMN6/0NBGsDgGDFpWTo/j258AGw7EPMcMS\\\n",
       "CBi05LFnIAJLI2DQoqN7nzXWRhuXYjBe72EaWC0CBi2anTTvQBxvXn50EgewEAGD1tRRV2XfQ8DK\\\n",
       "EjBoSTU9jePdLxrrmy++5hxEWAIBg5bUdR113bwCG65vOkYKlkDAoCXV9KTxGbCIiGIw6mEaWD0C\\\n",
       "Bi2ZHOw2j5Eqiti6/no/A8GKETBoyZM+B+YxKrAcAgYtmZ0cNB7GXBSexAzLImDQkkd3IJ4t2Gjj\\\n",
       "Ymxcud7PQLBiBAy6VBQRhZcdLINXErSgrus42f+ysT5c27SFCEsiYNCGuo7p4X5jeePK9RiM1rqf\\\n",
       "B1aQgAGQkoBBC8rpcUyP9hvrowuXuh8GVpSAQQuq2eTRbfTfsrnzqmOkYEkEDNrgYZbQOgGDFhzv\\\n",
       "3YlyenJ2sRjE+uVr/QwEK8iponAOTzoW6kmq2aRxFVYMBjHevHLuP8tWI/x/xbO+MBN7bv6iLF9V\\\n",
       "VfHBBx/EJ598cq6vf+PGWvz81sUzEZqVdfzmz1/HvcOnP+Ty/fffj/fee2/ueeEZpP2fkiswOIe6\\\n",
       "ruPjjz+Ojz766Fxf/8tf/DSmb70de6c3YlTM4vL4Xux+vRe//f2Hsfvw+Km//9atWwtODKtPwKAN\\\n",
       "o+34y+7PYm96I4qo4oXx3Xjh+HdxcDLpezJYGQIGLbgz/XFcnd6IiCLqGMbe9EZ8ffiGjWxYInch\\\n",
       "wpKNRuP43ks/irNvLRTxt0+PYjp7+vtfwPkIGCzZIKrYWf8yzl5u1TEs77sAgyWyhQhLNh4N4vL0\\\n",
       "T3Fy+mIcD38Yg6KKlze/iLvDv/c9GqyU5yZgZWnrhvmVZXnuz28dnUzjV7/+MC5u/jFGG9diWJTx\\\n",
       "1mvr8Y/b/z3396uqys8snRgO8z7e57kJ2Hlvf4bHqaoq9vf3z/W1dURMZmXsPjiIePDoPMQ7529X\\\n",
       "RETcvn3bzyydePfdd/seYW7PTcAy/yPRv7IsY3t7u7Pvd/PmTT+z8BRu4gAgJQEDICUBAyAlAQMg\\\n",
       "JQEDICUBAyCl5+Y2elhEURTxzjvvxM7OTiff78033+zk+0BmHmgJ59DH68QTmelI2h80V2BwDmIC\\\n",
       "3z3eAwMgJQEDICUBAyAlAQMgJQEDICUBAyAlAQMgJQEDICUBAyAlAQMgJQEDICUBAyAlAQMgJQED\\\n",
       "ICUBAyAlAQMgJQEDICUBAyAlAQMgJQEDICUBAyAlAQMgJQEDICUBAyAlAQMgJQEDICUBAyAlAQMg\\\n",
       "JQEDICUBAyAlAQMgJQEDICUBAyAlAQMgJQEDICUBAyAlAQMgJQEDICUBAyAlAQMgJQEDICUBAyAl\\\n",
       "AQMgJQEDIKVR3wN0qOh7AACWxxUYACkJGAApCRgAKQkYACkJGAApCRgAKQkYACkJGAApCRgAKQkY\\\n",
       "ACkJGAApCRgAKQkYACkJGAApCRgAKQkYACkJGAApCRgAKQkYACkJGAApCRgAKQkYACkJGAApCRgA\\\n",
       "KQkYACkJGAApCRgAKQkYACkJGAApCRgAKQkYACkJGAApCRgAKQkYACkJGAAp/Q+0nat2OpN5swAA\\\n",
       "AABJRU5ErkJggg==\\\n",
       "\"\n",
       "  frames[21] = \"data:image/png;base64,iVBORw0KGgoAAAANSUhEUgAAAbAAAAEgCAYAAADVKCZpAAAAOXRFWHRTb2Z0d2FyZQBNYXRwbG90\\\n",
       "bGliIHZlcnNpb24zLjMuMywgaHR0cHM6Ly9tYXRwbG90bGliLm9yZy/Il7ecAAAACXBIWXMAAAsT\\\n",
       "AAALEwEAmpwYAAAKPklEQVR4nO3dzW5cZxnA8efMl8d2vlMSCIUQUFEEUuEWqrSVkNhwE70AVuU6\\\n",
       "2HIFSKyQioS66IaPdYpAClJRQpuSJnHjxBPb83EOi7Joclzs2HPO6TP5/aRsXjvxE2VG/8ycd85b\\\n",
       "VFUVAJBNr+sBAOA4BAyAlAQMgJQEDICUBAyAlAQMgJQEDICUBAyAlAQMgJQEDICUBAyAlAQMgJQE\\\n",
       "DICUBAyAlAQMgJQEDICUBAyAlAQMgJQEDICUBAyAlAQMgJQEDICUBAyAlAQMgJQEDICUBAyAlAQM\\\n",
       "gJQEDICUBAyAlAQMgJQEDICUBAyAlAQMgJQEDICUBl0P0KKq6wEAvoaKrgc4Lq/AAEhJwABIScAA\\\n",
       "SEnAAEhJwABIScAASEnAAEhJwABIScAASEnAAEhJwABIScAASEnAAEhJwABIScAASEnAAEhJwABI\\\n",
       "ScAASEnAAEhJwABIScAASEnAAEhJwABIScAASEnAAEhJwABIScAASEnAAEhJwABIScAASEnAAEhJ\\\n",
       "wABIScAASEnAAEhJwABIScAASEnAAEhJwABIScAASEnAAEhJwABIScAASEnAAEhJwABIScAASEnA\\\n",
       "AEhJwABIScAASEnAAEhJwABIScAASEnAAEhJwABIScAASEnAAEhJwABIScAASEnAAEhJwABIScAA\\\n",
       "SEnAAEhJwABIScAASEnAAEhJwABIScAASEnAAEhJwABIScAASEnAAEhJwABIScAASEnAAEhJwABI\\\n",
       "ScAASEnAAEhJwABIScAASEnAAEhJwABIScAASEnAAEhJwABIScAASEnAAEhJwABIScAASEnAAEhJ\\\n",
       "wABIScAASEnAAEhp0PUA8DKpykVEUUREERERRVF0OxAkJmDQoid3b8W9m3+MotePzUvXojdci9Hm\\\n",
       "+Tj73dejNxh2PR6kImDQor3te/H4479HRMT2nQ8jIqI/Wo/rv/hVjM9e7nI0SMc1MGjR7tYntbXh\\\n",
       "xrkYbZ7vYBrITcCgJVVVRVRV/QtfuiYGHJ2AQUuqch5PH9yprY/PXY6i1+9gIshNwKAtVRXlYlpb\\\n",
       "Hq6fiaLnqQgvyrMGWjJ7+jhmT7dr673huINpID8Bg5aU82mU81ltffPS99ofBlaAgEFLFtOnEVX5\\\n",
       "3GoRRc+nWeA4BAxasrt194s7cXxJfzSO9QtXOpoIchMwaEFVVRFxwBb6CDsQ4ZgEDFoy+exftbXh\\\n",
       "xtno28QBxyJg0JLFdK+2Nhifjt5grYNpID8BgxaU82nsP7lfWx9unHETDjgmAYMWVOUi5ns7tfXx\\\n",
       "+StRFJ6GcByeOdCCajGr7UCMcB4YnISAQQv2H9+P+d7k2cWiiM1L17oZCFaAgEELvmobfdF3iCUc\\\n",
       "l4BBC3Yfflw7SqU3WIvh+umOJoL8BAxaMN+f1Nb6o3EM1s90MA2sBgGDhlVVFfvbn9XW+6MNd+GA\\\n",
       "ExAwaFpVxXRnq7Y8Pns5eoNRBwPBahAwaFhVlVGV8/oXbKGHExEwaNh8byf2DngL0TlgcDICBk2r\\\n",
       "ygPOAYvoD8c+yAwnIGDQsN2tu7GYPXcj36KwAxFOSMCgYeViVvsMWNEbxPjs5Y4mgtUgYNCw6c7D\\\n",
       "2lqvP4iiP+hgGlgdAgYNO+gzYMPNczHaPNf+MLBCBAwaVFVVlIsDttBHEQ4Cg5MRMGhQtZjH0wd3\\\n",
       "auvrF65E0XcXDjgJAYNGVQd+iLk/2nCQJZyQZxA0aDp5FLPJo9r6YHyq/WFgxQgYNKhazA+8Brbx\\\n",
       "ync7mAZWi4BBg2a7j+t34SiK6DnIEk5MwKBB+9v3oioXz6z1h+NYv3Clo4lgdQgYNKSqqqgOuAfi\\\n",
       "F2yhh5MSMGjQ5N5HtbXRqQvRX9voYBpYLQIGDSrns9paf7TuGhgsgYBBQ8r5fuw9+k9tfXT6osMs\\\n",
       "YQkEDBpSlWUsZru19bUz33AOGCyBgEFDytleVAd8BqzouQs9LIOAQUOmO1sx3588u1gUsXnpWjcD\\\n",
       "wYoRMGjIV22hL3pu4gvLIGDQkKf3b9dOYu4P12O4cbajiWC1CBg0oKqqWMz2a+u94ciNfGFJBAwa\\\n",
       "UcXu1ie11cH4dPT6NnHAMggYNKGKmO8+qS2vnb4YhQ8xw1IIGDSgKhdRzutvIdrAAcsjYNCA+f5O\\\n",
       "7D9+UFvfvPT9DqaB1SRg0ICqXBy4jb43GLoLByyJgEEDdrfuRjnbe3ax6MXo1IVuBoIVJGDQgOcP\\\n",
       "sYyIKHq9GJ262ME0sJoEDBpw0F3oe4O16A1GHUwDq0nAoAGzyee1teHGmRhunOlgGlhNAgZLVlVV\\\n",
       "lPPpAV8p/vcLWAYBgyWrFvN4+uBObX3jle9E4S4csDQCBktXRVUetIV+zRZ6WCIBgyWb7nwe08lW\\\n",
       "bX20ea79YWCFCRgsWVUtDnwFNj7/rQ6mgdXlDXk4RPXcmV6Hme5s1T8HVvSiNxgf+c/yViMcrnjR\\\n",
       "J2diL81flOWazWbx7rvvxu3bt4/0/T99dS1+9qNnz/zam5Xxmz8/iif7hz8M33nnnXj77bePNSsc\\\n",
       "Q9r/LXkFBodYLBbx/vvvx82bN4/0/YM3fhw3rr8R27NXol8s4szgYUxnk3jvvT/EZ48mh/7+t956\\\n",
       "66Qjw0tBwGDJfnD1h/HXhz+PJ/MLUUQVF9fuxvrj38b2ZO/w3wwcmYDBkn28/5MYzS9GRBFVRNzf\\\n",
       "fzXm21djNq9v7ACOzy5EWKKNtWG8+s1vx7OXFYq49en+C28GAf4/AYMl6vWKuLi+E8/uGSpj8uRT\\\n",
       "u4hgyQQMlmg06Mfa3l+i3PkwyvnTKMqduLr+jzhb/LPr0WDlvDTXwBaL+vlMcBSLxeLIb/99vrMb\\\n",
       "v/z172Jt9PvY3LwUG2u9eP3qOP70t6NtwY+IKMvS45XW9Pv9rkc4tpcmYB988EHXI5DUbDaLyeTw\\\n",
       "7e8REVUVMZ0tYjrbjSeTL6L10b9f7OfdunXL45XW3Lhxo+sRju2lCVjmfyS6tbe3F6dOnTr8G5fk\\\n",
       "+vXrHq9wBK6BAZCSgAGQkoABkJKAAZCSgAGQkoABkNJLs40ejqvf78ebb74Zr732Wis/79q1a638\\\n",
       "HMjOgZZwiC6eI05kpkVpH2xegcEhxAS+nlwDAyAlAQMgJQEDICUBAyAlAQMgJQEDICUBAyAlAQMg\\\n",
       "JQEDICUBAyAlAQMgJQEDICUBAyAlAQMgJQEDICUBAyAlAQMgJQEDICUBAyAlAQMgJQEDICUBAyAl\\\n",
       "AQMgJQEDICUBAyAlAQMgJQEDICUBAyAlAQMgJQEDICUBAyAlAQMgJQEDICUBAyAlAQMgJQEDICUB\\\n",
       "AyAlAQMgJQEDICUBAyAlAQMgJQEDICUBAyAlAQMgpUHXA7So6HoAAJbHKzAAUhIwAFISMABSEjAA\\\n",
       "UhIwAFISMABSEjAAUhIwAFISMABSEjAAUhIwAFISMABSEjAAUhIwAFISMABSEjAAUhIwAFISMABS\\\n",
       "EjAAUhIwAFISMABSEjAAUhIwAFISMABSEjAAUhIwAFISMABSEjAAUhIwAFISMABSEjAAUhIwAFIS\\\n",
       "MABSEjAAUhIwAFL6L26C35UscXulAAAAAElFTkSuQmCC\\\n",
       "\"\n",
       "  frames[22] = \"data:image/png;base64,iVBORw0KGgoAAAANSUhEUgAAAbAAAAEgCAYAAADVKCZpAAAAOXRFWHRTb2Z0d2FyZQBNYXRwbG90\\\n",
       "bGliIHZlcnNpb24zLjMuMywgaHR0cHM6Ly9tYXRwbG90bGliLm9yZy/Il7ecAAAACXBIWXMAAAsT\\\n",
       "AAALEwEAmpwYAAAKXElEQVR4nO3dzY4c5RWA4VPVfzOesY1tbAPBBAspycJSpNwBQllmE7LLZeQG\\\n",
       "suUO2OUKEKsoioIUxIZFJIiySawoASwCOLaxzXj+urvqyyIi4NRIY4+7uzjt51lZR2P7WJ7SO11d\\\n",
       "VV2VUgIAsqn7XgAATkLAAEhJwABIScAASEnAAEhJwABIScAASEnAAEhJwABIScAASEnAAEhJwABI\\\n",
       "ScAASEnAAEhJwABIScAASEnAAEhJwABIScAASEnAAEhJwABIScAASEnAAEhJwABIScAASEnAAEhJ\\\n",
       "wABIScAASEnAAEhJwABIScAASEnAAEhJwABIScAASGnY9wIrVPpeAOA7qOp7gZPyCgyAlAQMgJQE\\\n",
       "DICUBAyAlAQMgJQEDICUBAyAlAQMgJQEDICUBAyAlAQMgJQEDICUBAyAlAQMgJQEDICUBAyAlAQM\\\n",
       "gJQEDICUBAyAlAQMgJQEDICUBAyAlAQMgJQEDICUBAyAlAQMgJQEDICUBAyAlAQMgJQEDICUBAyA\\\n",
       "lAQMgJQEDICUBAyAlAQMgJQEDICUBAyAlAQMgJQEDICUBAyAlAQMgJQEDICUBAyAlAQMgJQEDICU\\\n",
       "BAyAlAQMgJQEDICUBAyAlAQMgJQEDICUBAyAlAQMgJQEDICUBAyAlAQMgJQEDICUBAyAlAQMgJQE\\\n",
       "DICUBAyAlAQMgJQEDICUBAyAlAQMgJQEDICUBAyAlAQMgJQEDICUBAyAlAQMgJQEDICUBAyAlAQM\\\n",
       "gJQEDICUBAyAlAQMgJQEDICUBAyAlAQMgJQEDICUBAyAlAQMgJQEDICUBAyAlAQMgJQEDICUBAyA\\\n",
       "lAQMgJQEDICUBAyAlIZ9LwBPk1LK/35dVVWPm0B+AgYrdHD38/jXn96O0ebZ2Dj3XIy3L8Tk9IUY\\\n",
       "n74Qw8lW3+tBKgIGK3Rw/2bc/+Qv3wyqKurhJH74s18JGDwm74HBCjWHuw8PSokobdTDcT8LQWIC\\\n",
       "Biu0e+uTzmy8fT5GW+d62AZyEzBYkVJKlGbWmVf1IKrKoQiPy1EDK1KaeezdvtGZb154MarBoIeN\\\n",
       "IDcBgxVpm1m082lnPhhteAUGJ+CogRWZ7d2L6e69znzj3AurXwbWgIDBipSmiYjSmY9OnV39MrAG\\\n",
       "BAxWZO/2jSjN/KFZPZzExjOXe9oIchMwWIFSSpR23plXdR2D8WYPG0F+AgYrsvvvjzqz0amzMRht\\\n",
       "9LAN5CdgsCLzw73ObLhxOurhpIdtID8BgxVoZwdxcPezznx06kyEh9LDiQgYrEApJdojnsKxce4F\\\n",
       "94DBCTlyYAWmO3eiOeIU4nj7fA/bwHoQMFiBZnbQfQVWVTE5c7GfhWANCBiswOFXt/770SnfUg9G\\\n",
       "rkCEJyBgsALTB192ZoPJqRifvtDDNrAeBAyWrJT2yCsQ68EoqsoliHBSAgbLViJme191xhvnXoja\\\n",
       "KUQ4MQGDJWvnhzE/2OnMh5NTPWwD60PAYMma2UHM9u535luXrvawDawPAYMla6b7Udq2M6/qoffA\\\n",
       "4AkIGCzZwb2b0c4PH5pVg2GcevalnjaC9SBgsGRHnT6MqKIaDFa+C6wTAYMlO+oS+vHWMzHeOtfD\\\n",
       "NrA+BAyWqJQ2mtlBZ14Px1HVwx42gvUhYLBEpWli/86nnfmpZ1+KaiBg8CQEDJaolDZK23Tmladw\\\n",
       "wBMTMFii2e7dI5+DuHXx+z1sA+tFwGCJmtnhkfeADSZbPWwD60XAYIn2bt+I0s4fmlWDkQ+yhAUQ\\\n",
       "MFiSUkonXhER9WAYo80zPWwE60XAYIl2b/6zMxtvn4+BB/nCExMwWKJ2PuvMBuPNqAejHraB9SJg\\\n",
       "sCTt/DAO7n3RmY+3L0S4hB6emIDBkpS2iWa235lPzl50DxgsgIDBkhx+dSvmBw868+Fku4dtYP0I\\\n",
       "GCxJO591n8JRVbF54cV+FoI1I2CwJAd3P4so5aFZPRjH0BWIsBACBksy29/pzAaTzRj5GBVYCAGD\\\n",
       "JSilxHTnTmdeDydRVQ47WARHEixDKXH41a3OePPc81GPJj0sBOtHwGAJmtl+zPbudeY+AwwWR8Bg\\\n",
       "Cdr59MhL6Lcvv9LDNrCeBAyWYL7/4MgPshyMN93EDAsiYLAEhzu3o51PH5pVg2FsXrjS00awfgQM\\\n",
       "lqCZdh8hVVV1VPWgh21gPQkYLMHerY87s9HWuRi7BwwWRsBgwUppY36w25lXdR1V7ZCDRXE0wYKV\\\n",
       "pon9u5915pvnv+cyelggAYMFK21z5BWIw8mWp3DAAjmaYMGmu3djtnu3M9+6dLWHbWB9CRgsWGmb\\\n",
       "KKXtzD1CChZLwGDB9m7fiNLMH5rVw3FMzlzqaSNYTwIGC1RKiXZ20JlX9SCGk60eNoL1JWCwYA9u\\\n",
       "/qMzG26edgoRFkzAYMH+//RhRMRo80wMRhs9bAPrS8BggdrZYezf/bwzn5y9HOEhvrBQ7qqEY5RS\\\n",
       "HuNr285DfCMixlvPPNaf5Yn1cLzqcQ7O5J6afyiL9c4778Sbb775SF/70qXT8cufnIpovzmNWEqJ\\\n",
       "tz+4HdfvHH/C48qVK/HGG2/EeDw+8b7wmNL+tOQVGBzj448/jrfeeuuRvvbHr1yOX1z7eey2l2PW\\\n",
       "TuKZ0a0YVrvxuz++Hx/+/Ytjf/+1a9eibbv3kAFdAgYL9MqLL8af7/807ky/F23UcXr4ZVzb/n3s\\\n",
       "H3Yv7ACejIDBAu3UP4pb0yvx9VmZnfn5+PDmD+Jft3f6XQzWkKsQYUGqiHj+4vPx8FsKVXx6/3Qc\\\n",
       "ztO+zQDfWQIGC1JVVVx9dh4R334Pq8T+/b/GdNp9OgfwZAQMFmQ4qGMy+1vUD96PMt+J+fwgLo0/\\\n",
       "ieeGH/S9Gqylp+Y9sKbpfj4TPIpHvSpwOm/i17/5QwyHf4yzZy5G1JP4ydVJXL9x/NWHXyulRNM0\\\n",
       "vl9ZmcFg0PcKJ/bUBOzdd9/tewWSun79+iN/7XTexHTexN7BpxER8dtHb1dEROzu7sZ7773nPjBW\\\n",
       "5rXXXut7hRN7agKW+T+Jfn300Ucr+7u2t7fj1VdfjY0Nz02E43gPDICUBAyAlAQMgJQEDICUBAyA\\\n",
       "lAQMgJSemsvo4aRefvnleP3111fyd125ciXq2s+V8Ch8oCUco49jxCcys0Jpv9m8AoNjiAl8NzlX\\\n",
       "AUBKAgZASgIGQEoCBkBKAgZASgIGQEoCBkBKAgZASgIGQEoCBkBKAgZASgIGQEoCBkBKAgZASgIG\\\n",
       "QEoCBkBKAgZASgIGQEoCBkBKAgZASgIGQEoCBkBKAgZASgIGQEoCBkBKAgZASgIGQEoCBkBKAgZA\\\n",
       "SgIGQEoCBkBKAgZASgIGQEoCBkBKAgZASgIGQEoCBkBKAgZASgIGQEoCBkBKAgZASgIGQEoCBkBK\\\n",
       "AgZASsO+F1ihqu8FAFgcr8AASEnAAEhJwABIScAASEnAAEhJwABIScAASEnAAEhJwABIScAASEnA\\\n",
       "AEhJwABIScAASEnAAEhJwABIScAASEnAAEhJwABIScAASEnAAEhJwABIScAASEnAAEhJwABIScAA\\\n",
       "SEnAAEhJwABIScAASEnAAEhJwABIScAASEnAAEhJwABIScAASEnAAEjpP+7M32WArjNyAAAAAElF\\\n",
       "TkSuQmCC\\\n",
       "\"\n",
       "  frames[23] = \"data:image/png;base64,iVBORw0KGgoAAAANSUhEUgAAAbAAAAEgCAYAAADVKCZpAAAAOXRFWHRTb2Z0d2FyZQBNYXRwbG90\\\n",
       "bGliIHZlcnNpb24zLjMuMywgaHR0cHM6Ly9tYXRwbG90bGliLm9yZy/Il7ecAAAACXBIWXMAAAsT\\\n",
       "AAALEwEAmpwYAAAKhElEQVR4nO3dzYtdBxnA4fec+zlfmUyTtDVarRalLorgpht3RbHgxnX/AdeF\\\n",
       "/iduXbkp7qUuq1K6EAqCFVHa2qApTSadJvN1536c40IQJye0yeTce/rePA8EkpfJzBtyD7+5c889\\\n",
       "p6jrOgAgm7LrBQDgIgQMgJQEDICUBAyAlAQMgJQEDICUBAyAlAQMgJQEDICUBAyAlAQMgJQEDICU\\\n",
       "BAyAlAQMgJQEDICUBAyAlAQMgJQEDICUBAyAlAQMgJQEDICUBAyAlAQMgJQEDICUBAyAlAQMgJQE\\\n",
       "DICUBAyAlAQMgJQEDICUBAyAlAQMgJQEDICUBAyAlPpdL7BCddcLAHwFFV0vcFGegQGQkoABkJKA\\\n",
       "AZCSgAGQkoABkJKAAZCSgAGQkoABkJKAAZCSgAGQkoABkJKAAZCSgAGQkoABkJKAAZCSgAGQkoAB\\\n",
       "kJKAAZCSgAGQkoABkJKAAZCSgAGQkoABkJKAAZCSgAGQkoABkJKAAZCSgAGQkoABkJKAAZCSgAGQ\\\n",
       "koABkJKAAZCSgAGQkoABkJKAAZCSgAGQkoABkJKAAZCSgAGQkoABkJKAAZCSgAGQkoABkJKAAZCS\\\n",
       "gAGQkoABkJKAAZCSgAGQkoABkJKAAZCSgAGQkoABkJKAAZCSgAGQkoABkJKAAZCSgAGQkoABkJKA\\\n",
       "AZCSgAGQkoABkJKAAZCSgAGQkoABkJKAAZCSgAGQkoABkJKAAZCSgAGQkoABkJKAAZCSgAGQkoAB\\\n",
       "kJKAAZCSgAGQkoABkJKAAZCSgAGQkoABkJKAAZCSgAGQkoABkJKAAZCSgAGQkoABkJKAAZCSgAGQ\\\n",
       "koABkJKAAZCSgAGQUr/rBeBJUtf1/35fFEWHm0B+AgYrtDg7jhvvvBmbV74R5WAcW9eej7I/jNHu\\\n",
       "01H2HI7wKBwxsEKnB5/E5x+9Fwcf/CkiIoqyF0VvEC/8+Bdx6Rvf73g7yEXAYIXmk6Ooq8X//lxX\\\n",
       "i4iijMHmbodbQU5O4oAVOtm/0Zj1hhvRG210sA3kJmCwInVdx3xy2Jj3x9vRH213sBHkJmCwInW1\\\n",
       "iNM7/2rMRztXoygdivCoHDWwKnUVi+mkMR5u70VR9jpYCHITMFiR6dFBTI8PGvPx3vUOtoH8BAxW\\\n",
       "pJpPo67mjbkzEOFiBAxW5GT/RtSL8wEren0BgwsSMFiBuq5jMT1tzMveIIbbex1sBPkJGKzI8a0P\\\n",
       "G7PB5m70BuMOtoH8BAxWoa4e+AysP96Jsj/qYCHIT8BgBRazszg9+KQxH+99LcJV6eFCBAxWoa7+\\\n",
       "++s+g81dt1WBCxIwWIHJ3VsxnxzdNy1i88pznewD60DAYAWq2STq+5+BFUX0x1vdLARrQMBgBY5v\\\n",
       "fRTxf3djjojoj7didOlaRxtBfgIGS1bXdczPThrzsjeIojfoYCNYDwIGy1bXcbL/cWM83rsevaH3\\\n",
       "gMFFCRgsWV3NH3gV+v/GyxmIcFECBks2PzuO6eGdxnz7mRc62AbWh4DBks0nRw+8Cn3R63sPGDwG\\\n",
       "AYMlO7u3H9V8em5WlH3vAYPHJGCwZNOj5o8Pi7KM0kV84bEIGCzZ2d1bjdlgay+GW26jAo9DwGCJ\\\n",
       "6moRZ/duN+ZlfxhFr9fBRrA+BAyWqK6qmB5/3phvXv1mFGV/9QvBGhEwWKLFbBLV7EHvAdtwBiI8\\\n",
       "JgGDJZqfHsbs9LAx337mOx1sA+tFwGCJpscHUVeL88OijN5wo5uFYI0IGCzR9HC/cSPL3mAU48vP\\\n",
       "drQRrA8BgyWp6zomdz9tzMvB2FXooQUCBks0PfysMRvtXIn+yI0s4XEJGCxJNZ8+8D1gg81dF6GH\\\n",
       "FggYLEldLWJ+dtSYj/e+FkXh0IPH5SiCJZke7sd8ctyY9wbOQIQ2CBgsyWI2ad5GpShi89o3u1kI\\\n",
       "1oyAwZKc3P44oq7PzcrewDMwaImAwRLUdR3zs5PGvDfajOHOlQ42gvUjYLAUdZzc/mdj2h9vR1G6\\\n",
       "Cj20QcBgGepo3IU5ImK0czXK/rCDhWD9CBgswfzsOM4O9xvz4c7VDraB9SRgsAT1YhbV7KwxH+8+\\\n",
       "7TYq0BIBgyU4PfgkFvcHrChjdOlaNwvBGhIwWIJqNmlchb4oyxhsXu5mIVhDAgZLcPTph43ZYONS\\\n",
       "9Dd2OtgG1pOAQcvquo7F9LQxLwej6A1GHWwE60nAoGV1NY+T/Y8b842nvh5Fr9/BRrCeBAxaVi8W\\\n",
       "Uc1njXlvuOkq9NAiRxO0bHp8ELPjg8Z8fPnZDraB9SVg0LLF9DTqqmrMh9t7HWwD60vAoGWnn/27\\\n",
       "cRuVsj+M0aWnO9oI1pOAQYvquo560Xz9qyh70R9tdbARrC8Bg5YdffpBYzbcuRr9sYBBmwQM2lTX\\\n",
       "sZhOGuPeYBxF6RR6aJOAQYuq+VlMDm425pvXvhXhIr7QKgGDFi1mZ1E94DWw/mjTVeihZQIGLZoe\\\n",
       "7sd8cnzftIitp7/dyT6wzgQMWjSfHEXU9blZUZZRugYitM6ryvAF6vti9GVO7vwrIs7/nf54O0aX\\\n",
       "nnnoz+VHjfBwikc9QBN7Yv6htOfk5CRef/312N/ff6iP//kPr8aLV88/1O6eLuJX796Ns/mXPwTf\\\n",
       "eOONePnlly+0K1xQ2u+YPAODLzCbzeKtt96KGzdufOnHlkURP3n+Z3Fy+Xtxb/5UjMvjuDS4E3/9\\\n",
       "8Ga8+ZvfRfUQ3yy+9tprbawNTwQBg5ZsjAZx0v9B/HH/pzGrR9Er5vHd7ffi6PTDh4oX8GicxAEt\\\n",
       "6Q+3407xo5jV44goYlEP4h9HP4x3/37W9WqwlgQMWvLM3m70BpvnZvOqFzcPtzvaCNabgEFLru32\\\n",
       "Y2c0iXPnC1WncfPm3zrbCdaZgEFLhr15bBz9NhaTT2I+n8Qg7sWLW7+PfnWn69VgLT0xJ3EsFouu\\\n",
       "VyChR3nc/OHP/4x3/vLL2N3+dRT9y/Hc1UFc2ZrHv/fvPfTnqKrKY5WV6vV6Xa9wYU9MwN5+++2u\\\n",
       "VyCh4+PjmEyaV5d/kEVVx6JaxO2DzyLis7h1+9G/3vvvvx+XL19+9L8IF/TKK690vcKFPTEBy/yf\\\n",
       "RHfu3r0b4/F4ZV/vpZde8liFh+Q1MABSEjAAUhIwAFISMABSEjAAUhIwAFJ6Yk6jh4sYDAbx6quv\\\n",
       "PvT9wB7X9evXV/J1YB24oSV8gS6OD3dkZsXSPuA8A4MvICbw1eU1MABSEjAAUhIwAFISMABSEjAA\\\n",
       "UhIwAFISMABSEjAAUhIwAFISMABSEjAAUhIwAFISMABSEjAAUhIwAFISMABSEjAAUhIwAFISMABS\\\n",
       "EjAAUhIwAFISMABSEjAAUhIwAFISMABSEjAAUhIwAFISMABSEjAAUhIwAFISMABSEjAAUhIwAFIS\\\n",
       "MABSEjAAUhIwAFISMABSEjAAUhIwAFISMABSEjAAUhIwAFISMABSEjAAUup3vcAKFV0vAEB7PAMD\\\n",
       "ICUBAyAlAQMgJQEDICUBAyAlAQMgJQEDICUBAyAlAQMgJQEDICUBAyAlAQMgJQEDICUBAyAlAQMg\\\n",
       "JQEDICUBAyAlAQMgJQEDICUBAyAlAQMgJQEDICUBAyAlAQMgJQEDICUBAyAlAQMgJQEDICUBAyAl\\\n",
       "AQMgJQEDICUBAyAlAQMgJQEDICUBAyCl/wD01/VzeP8HAQAAAABJRU5ErkJggg==\\\n",
       "\"\n",
       "  frames[24] = \"data:image/png;base64,iVBORw0KGgoAAAANSUhEUgAAAbAAAAEgCAYAAADVKCZpAAAAOXRFWHRTb2Z0d2FyZQBNYXRwbG90\\\n",
       "bGliIHZlcnNpb24zLjMuMywgaHR0cHM6Ly9tYXRwbG90bGliLm9yZy/Il7ecAAAACXBIWXMAAAsT\\\n",
       "AAALEwEAmpwYAAAKh0lEQVR4nO3dzW8cdxnA8Wd21/vitWMndtPSFlCLhIQQL6dy6LH/QS+cOMG/\\\n",
       "0WOv/SO4U7ihIoRygUpcCkWVKBJUhDZpmzjOi1/W3p0ZDgXUZEKb2Ls7fTafzyl6lDhPFI++2exv\\\n",
       "Z4q6rgMAsum0vQAAnIWAAZCSgAGQkoABkJKAAZCSgAGQkoABkJKAAZCSgAGQkoABkJKAAZCSgAGQ\\\n",
       "koABkJKAAZCSgAGQkoABkJKAAZCSgAGQkoABkJKAAZCSgAGQkoABkJKAAZCSgAGQkoABkJKAAZCS\\\n",
       "gAGQkoABkJKAAZCSgAGQkoABkJKAAZCSgAGQkoABkFKv7QWWqG57AYCvoKLtBc7KKzAAUhIwAFIS\\\n",
       "MABSEjAAUhIwAFISMABSEjAAUhIwAFISMABSEjAAUhIwAFISMABSEjAAUhIwAFISMABSEjAAUhIw\\\n",
       "AFISMABSEjAAUhIwAFISMABSEjAAUhIwAFISMABSEjAAUhIwAFISMABSEjAAUhIwAFISMABSEjAA\\\n",
       "UhIwAFISMABSEjAAUhIwAFISMABSEjAAUhIwAFISMABSEjAAUhIwAFISMABSEjAAUhIwAFISMABS\\\n",
       "EjAAUhIwAFISMABSEjAAUhIwAFISMABSEjAAUhIwAFISMABSEjAAUhIwAFISMABSEjAAUhIwAFIS\\\n",
       "MABSEjAAUhIwAFISMABSEjAAUhIwAFISMABSEjAAUhIwAFISMABSEjAAUhIwAFISMABSEjAAUhIw\\\n",
       "AFISMABSEjAAUhIwAFISMABSEjAAUhIwAFISMABSEjAAUhIwAFISMABSEjAAUhIwAFISMABSEjAA\\\n",
       "UhIwAFISMABSEjAAUuq1vQA8Seq6/t+Pi6JocRPIT8BgicqTw/joj7+K4fYz0RttxOjis9Htr0d/\\\n",
       "42IUnW7b60EqAgZLdLx/Pfb+9oeoqzIiiig6nej21+OFV34aF577TtvrQSreA4Mlmk0O/hOviIg6\\\n",
       "6qqMcjqJtdFWq3tBRgIGS3R082pj1u2PojsYtbAN5CZgsCR1Xcdscq8x7w03ojfYaGEjyE3AYEnq\\\n",
       "qozjvQ8b88HmbhQdlyI8LlcNLEtdRXk6aYydQISzETBYktOD/Tg93G/MhxefbWEbyE/AYEmq2WnU\\\n",
       "1awxX1t3AhHOQsBgSY5uXo26vD9gnd4ghttPt7QR5CZgsAR1XUd5etyYF91udPvrLWwE+QkYLMnh\\\n",
       "p/9ozAabT0VvMG5hG8hPwGAZ6uqhr8A6awMnEOGMBAyWoJyexPH+9cZ8fPmFCHelhzMRMFiCanoS\\\n",
       "dTltzLv9kceqwBkJGCzB6cFezE4O7x8WxWevwIAzETBYguP9axGfe5hlRERRdKK7NmhpI8hPwGDB\\\n",
       "6rqO6dGdxrw33IzBhcstbASrQcBg4eqH3sTXCUQ4HwGDRavrmE0OGuPRxa9Fx38hwpkJGCzY7OQw\\\n",
       "Tu7eaMx7w80WtoHVIWCwYHU5i2p22piv7369hW1gdQgYLNjxrWtRTh94DlhRRG90wWfA4BwEDBas\\\n",
       "nE6aR+g7vRhuuQs9nIeAwYIdfvL3xqzbH0V3MGphG1gdAgYL9NljVCaNeW84jt5go4WNYHUIGCxQ\\\n",
       "Xc7i6ObVxnyw+VQUHZcfnIcrCBaoKqdRzU4a8/7mJR9ihnMSMFig6dHtOD283ZiPL7+4/GVgxQgY\\\n",
       "LNBschhRVw9Mi+j2HeCA8xIwWKDJ/vWoq/K+WWdtEKNLz7a0EawOAYMF+ewu9Lcb805vLTrdteUv\\\n",
       "BCtGwGCBjm9da8wGFy5Hb+gIPZyXgMGC1OXs4c8BG6xHuIUUnJuAwYJU5TROD2815uu734gIAYPz\\\n",
       "EjBYkOnRnf9zF45NN/GFORAwWJDZ5KD5IeaiiNHO8+0sBCtGwGBBJvvXGneh73T7n70HBpybgMEC\\\n",
       "1HUd0+O7jXl3MIq18cUWNoLVI2CwEHUc3fxXY7q2vhWdbq+FfWD1CBgsQl1HeXLYGPfHF6PwIWaY\\\n",
       "CwGDBZhNDuPk7o3GfLj9TAvbwGoSMFiA8vQoymnzCH1/45Ij9DAnAgYLMLn9cVTT+4/QF52uV2Aw\\\n",
       "RwIGCzA9vtccFp3oDTeXvwysKAGDBTjee/gJxLXxVgvbwGoSMJizuqoeehPfTq8fnW6/hY1gNQkY\\\n",
       "zFldlTG582ljvr7z9Sh8BgzmRsBgzsrToyhPjhrzbn/kBCLMkYDBnM1ODmP2kA8xj59+sYVtYHUJ\\\n",
       "GMzZyd0bUVflA9Miuv1hK/vAqhIwmLPp4Z2Iurpv1lkbxOjScy1tBKtJwGCO6rqO41sfNuad3lp0\\\n",
       "3AMR5krAYM4e9hiVwYXL0RtutLANrC4BgzmqZqcx2f+4MR9s7kYULjeYJ1cUzFFdzaKcHjfmgwu7\\\n",
       "jtDDnAkYzNHJ3Zsxmxw05m7iC/MnYDBH1fSkeYS+KGJtfLGdhWCFCRjM0eGnH0TU9X2zbn89+huX\\\n",
       "WtoIVpeAwZzUdf3Q9786vbXo9kctbASrzZ1F4QvUD7ya+pKfHIeffNAYD7eeic7a4JG/lsMe8GiK\\\n",
       "x7pAc3ti/qDMz/vvvx+vvfZaVFX1pT+31y3iJy9txzOb9//Hxl8/Polfvts82PGg8Xgcb7zxRuzs\\\n",
       "7Jx5XziDtP9i8goMvsDe3l68+eabUZYP3tuwaXdrPX72ox/HnelTcVxuxGbvVqx378Vbv38nfvGb\\\n",
       "d7/0129vb8frr78+j7XhiSBgMCejwTDeP3w59g++G2Xdi2HnKH6wdSUOjk7bXg1WkkMcMCdbO9+O\\\n",
       "vep7UdZrEVHEpFqPP916Kf7yz+bTmYHzEzCYk83xdlT15y+pIu5Nx3H7uN/aTrDKBAzm5PvfHEav\\\n",
       "M/vcpI7je1fj7p1PWtsJVpmAwZycHl2NwcGvY3r8ScxmJ7HVuxHfGv4u6tp7YLAIT8whjkc5RQYP\\\n",
       "epTj8//187feie5v/xybG5diONyOH74wio9v3ojp7NG/RlVVvldZqm632/YKZ/bEBOzKlSttr0BC\\\n",
       "77333iN/ALms6iirMvb2b0TEjfjo+uP9XrPZLN5+++3Y3d19/EXhjF555ZW2VzizJyZgmf+SaM9o\\\n",
       "NFranTF6vV68/PLL8fzzzy/l94PsvAcGQEoCBkBKAgZASgIGQEoCBkBKAgZASk/MMXo4i52dnXj1\\\n",
       "1Vcf6wPNZzUej2M08uRmeFQeaAlfoI3rwxOZWbK033BegcEXEBP46vIeGAApCRgAKQkYACkJGAAp\\\n",
       "CRgAKQkYACkJGAApCRgAKQkYACkJGAApCRgAKQkYACkJGAApCRgAKQkYACkJGAApCRgAKQkYACkJ\\\n",
       "GAApCRgAKQkYACkJGAApCRgAKQkYACkJGAApCRgAKQkYACkJGAApCRgAKQkYACkJGAApCRgAKQkY\\\n",
       "ACkJGAApCRgAKQkYACkJGAApCRgAKQkYACkJGAApCRgAKQkYACkJGAApCRgAKfXaXmCJirYXAGB+\\\n",
       "vAIDICUBAyAlAQMgJQEDICUBAyAlAQMgJQEDICUBAyAlAQMgJQEDICUBAyAlAQMgJQEDICUBAyAl\\\n",
       "AQMgJQEDICUBAyAlAQMgJQEDICUBAyAlAQMgJQEDICUBAyAlAQMgJQEDICUBAyAlAQMgJQEDICUB\\\n",
       "AyAlAQMgJQEDICUBAyAlAQMgJQEDICUBAyClfwPeUvv3YWuibwAAAABJRU5ErkJggg==\\\n",
       "\"\n",
       "  frames[25] = \"data:image/png;base64,iVBORw0KGgoAAAANSUhEUgAAAbAAAAEgCAYAAADVKCZpAAAAOXRFWHRTb2Z0d2FyZQBNYXRwbG90\\\n",
       "bGliIHZlcnNpb24zLjMuMywgaHR0cHM6Ly9tYXRwbG90bGliLm9yZy/Il7ecAAAACXBIWXMAAAsT\\\n",
       "AAALEwEAmpwYAAAKkUlEQVR4nO3dO49cdxnA4Xfut3V27d2YEDmEAKJBXKpQuExDnYaKjpKvkDJt\\\n",
       "PgQ9QVQIhJCbKAVFICgSLkhIyMX32Gvvzs7OzDkUBhT7WL6sz8zJO36eynq1tl/LHv08O/9zTqss\\\n",
       "ywCAbNpNLwAAJyFgAKQkYACkJGAApCRgAKQkYACkJGAApCRgAKQkYACkJGAApCRgAKQkYACkJGAA\\\n",
       "pCRgAKQkYACkJGAApCRgAKQkYACkJGAApCRgAKQkYACkJGAApCRgAKQkYACkJGAApCRgAKQkYACk\\\n",
       "JGAApCRgAKQkYACkJGAApCRgAKQkYACkJGAApNRteoE1KpteAOBrqNX0AiflHRgAKQkYACkJGAAp\\\n",
       "CRgAKQkYACkJGAApCRgAKQkYACkJGAApCRgAKQkYACkJGAApCRgAKQkYACkJGAApCRgAKQkYACkJ\\\n",
       "GAApCRgAKQkYACkJGAApCRgAKQkYACkJGAApCRgAKQkYACkJGAApCRgAKQkYACkJGAApCRgAKQkY\\\n",
       "ACkJGAApCRgAKQkYACkJGAApCRgAKQkYACkJGAApCRgAKQkYACkJGAApCRgAKQkYACkJGAApCRgA\\\n",
       "KQkYACkJGAApCRgAKQkYACkJGAApCRgAKQkYACkJGAApCRgAKQkYACkJGAApCRgAKQkYACkJGAAp\\\n",
       "CRgAKQkYACkJGAApCRgAKQkYACkJGAApCRgAKQkYACkJGAApCRgAKQkYACkJGAApCRgAKQkYACkJ\\\n",
       "GAApCRgAKQkYACkJGAApCRgAKQkYACkJGAApCRgAKQkYACkJGAApCRgAKQkYACkJGAApCRgAKQkY\\\n",
       "ACkJGAApCRgAKXWbXgCeJWVZ/v/HrVarwU0gPwGDNVoc3Y7P//K7GO58M7qjrRidfjE6/XH0t05H\\\n",
       "q91pej1IRcBgjQ6vfhzXLr4TUZYR0YpWux2dwSS+97NfxeT5l5teD1LxGRis0XJ+9N94RUSUURbL\\\n",
       "WB5Po93tNboXZCRgsEYHlz+szHrj7eiNthvYBnITMFiTsixjeTytzDu9QbS7/QY2gtwEDNakXC7i\\\n",
       "8Nonlflo91y0Og5wwJMSMFiTYjmPYnFcmXf642i1vBThSXnVwJrMD2/G8cHNynxy9pX1LwMbQMBg\\\n",
       "TZazw4iyuG/aik5/1Mg+kJ2AwZpMb3weZbG8Z9bpD2N05sWGNoLcBAzWoCzLmB/erMxbnW60O64B\\\n",
       "g5MQMFiT6Y3PK7PBc2ejO9xqYBvIT8BgDcpiEfPprcq8OxhHuKkvnIiAwRoUi3kc37lRmY/3Xo4I\\\n",
       "AYOTEDBYg8V0P5bHR5V5d7jlsSpwQgIGazCf3o5iMbt32GrFaPdcMwvBBhAwWIOjm1985S70d7U7\\\n",
       "/bufgQEnImCwYneP0FcPcHQGo+hNTjewEWwGAYOVK2N6/dPKtDfejnbHM2XhpAQMVq0sY3F0pzLu\\\n",
       "T85Ey0XMcGICBiu2mB3EbP9qZT7c+UYD28DmEDBYsXK5eOBjVPpbZxyhh6cgYLBi0xufx3J+7zVg\\\n",
       "rXYnhjsvNLQRbAYBgxVbzo8qR+ij1Y7u6FQzC8GGEDBYsYPL/6zMeuPt6I22G9gGNoeAwQqVZfnA\\\n",
       "W0i1u/1od/sNbASbQ8BghcrlIg6vfVKZj/deipZrwOCpCBis0PL4MBaz6jVgnf7ICUR4SgIGK7Q4\\\n",
       "OojF0UFlPjn7nQa2gc0iYLBCs9vXoiyW901b0emPGtkHNomAwQrND76MKIt7Zu3eIEZnXmxoI9gc\\\n",
       "AgYrUpZlTG98Vpm3u71ouwciPDUBgxWaH+5XZoPnzkZ3uNXANrBZBAxWpFjM4ujWpcq8OxhHOIEI\\\n",
       "T03AYEXKYhnL42llPt77VkQIGDwtAYMVme1fe+BzwLrDU64BgxoIGKxIMT+qHqFvtWK0e66ZhWDD\\\n",
       "CBisyMGVf1XuQt/u9O9+BgY8NQGDFbh7E9/q51+dwSh6k9MNbASbR8BgFcoyDq58WBn3xtvRdhNf\\\n",
       "qIWAwQqUZRHL+awy709OR8tFzFALAYMVWBzdidn+1cp8uPNCA9vAZhIwWIG7JxAXlXl/64wj9FAT\\\n",
       "AYMVOLp5KYr7voXYane8A4MaCRiswHx6uzpstaM7PLX+ZWBDCRiswPT6vyuz3ng7epPtBraBzSRg\\\n",
       "ULOyKGJ+eKsy7w4m0e72G9gINpOAQc3KYhlHt65U5uO9l6LVdg0Y1EXAoGbL48NYzg4r885g4gQi\\\n",
       "1EjAoGaL2UEsZgeV+eT5b69/GdhgAgY1m+1ffcBd6NvRcRNfqJWAQc3mB7ciyuKeWac3iOH22YY2\\\n",
       "gs0kYFCjsixjeuPTyrwzGDuBCDUTMKjZfLpfmfUnp6PT9y1EqJOAQY2KxXEcfXmpMu9v7UY4gQi1\\\n",
       "EjCoUVksYjmvPshy8NyeI/RQMwGDGs32r8Xi6E5l7ia+UD8BgxoV89kDjtC3ojc53cxCsMEEDGp0\\\n",
       "cOWjiLK8Z9bpj6O/daahjWBzCRjUpCzLB37+1e72otMfNbARbDZ3FoWHKO97N/WIL46Dyx9VxsPt\\\n",
       "F6LdGzz2r+WwBzye1hO9QHN7Zv6g1OfixYvxxhtvRFEUj/zabqcVv3h1J144de83Nv5xaRa/fb96\\\n",
       "sON+k8kk3nrrrdjd3T3xvnACaf/H5B0YPMT169fj7bffjuVy+civ3dsexy9/+vO4NX8+psutONW9\\\n",
       "EePO7fjDO+/Fb/74/iN//s7OTrz55pt1rA3PBAGDmowGw7h4cD6+vPODWJbdGLYP48fbF+LO4XHT\\\n",
       "q8FGcogDarK9+/24XvwwlmUvIlpxVIzjrzdejb9/XH06M/D0BAxqcmqyE0X51ZdUK27PJ3Fz6ia+\\\n",
       "sAoCBjX50cvD6LYXX5mUMb39SezfutzYTrDJBAxqcnz4SQzu/D7m08uxWMxiu3s1vjv8c5Slz8Bg\\\n",
       "FZ6ZQxyPc4oM7vc4x+f/59d/eC86f/pbnNo6E8PhTvzklVFcunY15ovH/zWKovBvlbXqdDpNr3Bi\\\n",
       "z0zALly40PQKJPTBBx889gXIy6KMZbGM619ejYir8dkXT/Z7LRaLePfdd2Nvb+/JF4UTeu2115pe\\\n",
       "4cSemYBl/kuiOaPRaG13xuh2u3H+/Pk4d+7cWn4/yM5nYACkJGAApCRgAKQkYACkJGAApCRgAKT0\\\n",
       "zByjh5PY3d2N119//YkuaD6pyWQSo5EnN8Pj8kBLeIgmXh+eyMyapf0H5x0YPISYwNeXz8AASEnA\\\n",
       "AEhJwABIScAASEnAAEhJwABIScAASEnAAEhJwABIScAASEnAAEhJwABIScAASEnAAEhJwABIScAA\\\n",
       "SEnAAEhJwABIScAASEnAAEhJwABIScAASEnAAEhJwABIScAASEnAAEhJwABIScAASEnAAEhJwABI\\\n",
       "ScAASEnAAEhJwABIScAASEnAAEhJwABIScAASEnAAEhJwABIScAASEnAAEhJwABIScAASEnAAEip\\\n",
       "2/QCa9RqegEA6uMdGAApCRgAKQkYACkJGAApCRgAKQkYACkJGAApCRgAKQkYACkJGAApCRgAKQkY\\\n",
       "ACkJGAApCRgAKQkYACkJGAApCRgAKQkYACkJGAApCRgAKQkYACkJGAApCRgAKQkYACkJGAApCRgA\\\n",
       "KQkYACkJGAApCRgAKQkYACkJGAApCRgAKQkYACkJGAApCRgAKf0HxCz863RM5FkAAAAASUVORK5C\\\n",
       "YII=\\\n",
       "\"\n",
       "  frames[26] = \"data:image/png;base64,iVBORw0KGgoAAAANSUhEUgAAAbAAAAEgCAYAAADVKCZpAAAAOXRFWHRTb2Z0d2FyZQBNYXRwbG90\\\n",
       "bGliIHZlcnNpb24zLjMuMywgaHR0cHM6Ly9tYXRwbG90bGliLm9yZy/Il7ecAAAACXBIWXMAAAsT\\\n",
       "AAALEwEAmpwYAAAKa0lEQVR4nO3dzW8cdxnA8Wf2xbv2OrHz4rSkFMIB1EuF1Esv3CohKnGAc/+L\\\n",
       "SpX4Q/gDkLggjkioEqcCQkhIUCERCYFK+pqSxonrOLbX3t0ZDpUQzrghsWd3+mw+n1P7KKmfqDv6\\\n",
       "Zu3Z3xRVVQUAZNNpewEAOAsBAyAlAQMgJQEDICUBAyAlAQMgJQEDICUBAyAlAQMgJQEDICUBAyAl\\\n",
       "AQMgJQEDICUBAyAlAQMgJQEDICUBAyAlAQMgJQEDICUBAyAlAQMgJQEDICUBAyAlAQMgJQEDICUB\\\n",
       "AyAlAQMgJQEDICUBAyAlAQMgJQEDICUBAyAlAQMgJQEDIKVe2wssUNX2AgBfQUXbC5yVd2AApCRg\\\n",
       "AKQkYACkJGAApCRgAKQkYACkJGAApCRgAKQkYACkJGAApCRgAKQkYACkJGAApCRgAKQkYACkJGAA\\\n",
       "pCRgAKQkYACkJGAApCRgAKQkYACkJGAApCRgAKQkYACkJGAApCRgAKQkYACkJGAApCRgAKQkYACk\\\n",
       "JGAApCRgAKQkYACkJGAApCRgAKQkYACkJGAApCRgAKQkYACkJGAApCRgAKQkYACkJGAApCRgAKQk\\\n",
       "YACkJGAApCRgAKQkYACkJGAApCRgAKQkYACkJGAApCRgAKQkYACkJGAApCRgAKQkYACkJGAApCRg\\\n",
       "AKQkYACkJGAApCRgAKQkYACkJGAApCRgAKQkYACkJGAApCRgAKQkYACkJGAApCRgAKQkYACkJGAA\\\n",
       "pCRgAKQkYACkJGAApCRgAKQkYACkJGAApCRgAKQkYACkJGAApCRgAKQkYACkJGAApCRgAKQkYACk\\\n",
       "JGAApCRgAKQkYACkJGAApNRrewF4llRV9d9/LoqixU0gPwGDBRrvfBq3//yrGG3diE5/GKOtG1F0\\\n",
       "uzHceD46vX7b60EqAgYLNN69E5/fejc+v/VuREQUnW4U3X689KOfxOqlr7W8HeTiZ2CwQEe7n534\\\n",
       "96qcRdHpRKfr75LwtAQMFuhob7s2669tRn9to4VtIDcBgwUpZ9M42r1Tm/dXL0QULkV4Wq4aWJSq\\\n",
       "jMnhg9p4uPm8byHCGQgYLMjk4EFMDnZr805/2MI2kJ+AwYKU0+Mop5PafHTtxuKXgSUgYLAgR3vb\\\n",
       "UZWzk8OiE92VtXYWguQEDBZksr8TUZUnZt3+IIabz7W0EeQmYLAAVVXF4c7t2rw7WItO1wkccBYC\\\n",
       "Bgsy2a/fwLEyuuRbiHBGAgYLUE6PY7z779p8Zf1KhEN94UwEDBagKqcxOz6szQcb15xKD2ckYLAA\\\n",
       "Rw+2Yzp+WJv3BqMWtoHlIGCwAOXk6JRb6ItYvfL1dhaCJSBgsAD7d29F/M/DLCMiOt2V6A3cwAFn\\\n",
       "JWAwZ1VVRTk9rs27g9Xojy61sBEsBwGDuavi8N7HtWl/bcMhvnAOAgbzVlWn3sCxMrochQ8xw5kJ\\\n",
       "GMzZ9Gg/jh7crc0dIQXnI2AwZ9VseurPwFbWL/sMGJyDgMGcHd6/HbPJ+OSwKKK3erGdhWBJCBjM\\\n",
       "2Wwyrt1CX3R6MdzwLUQ4DwGDOdu/815t1l1Zje5gtYVtYHkIGMxRVVVRzqa1eW84it5gvYWNYHkI\\\n",
       "GMxRVc7i8N5HtfngwlYUHZcfnIcrCOapKmN2PK6N+6PNKDrdFhaC5SFgMEfHD3fieP9+bb56+YUW\\\n",
       "toHlImAwR+X0uH4KfXxxjBRwPgIGc3Sw/UFUj9zEUXR7AgYNEDCYk6qqTn0Kc6fbjxWn0MO5CRjM\\\n",
       "0f5nt2qz/tpGdFeGLWwDy0XAYI5O/wzYenR6gxa2geUiYDAn5WQc453btfnw0vUIh/jCuQkYzElV\\\n",
       "zk49hb6/dtEp9NAAAYM5Ge/eOeVBlkWsXflGK/vAshEwmJPZ8Tiqqjw5LIroDUftLARLRsBgTg7u\\\n",
       "vl97jEpvOIrBxa12FoIlI2AwB1VVxfTooDYvOt0ouv0WNoLlI2AwD1UVB9sf1MaDi1vR6a20sBAs\\\n",
       "HwGDOaiqMqpZ/QzE3mDdKfTQEAGDOZiOH8Z4905tvrblDkRoioDBHHzZKfS9wbrPgEFDBAzmYLzz\\\n",
       "aZSTkw+yLDq9WLv6YksbwfIRMJiD6dF+bVZ0OtHpO8QXmiJgMAcHd9+vzfqjSx6jAg0SMGhYVZUx\\\n",
       "HZ/+DqzouOSgKa4maFg1m8XhKafQr15+IYpur4WNYDkJGDSsKmdfcgfiKIrCJQdNcTVBw473d2Ky\\\n",
       "v1Obj659q4VtYHkJGDRsdnwYVVnW5t2V1Ra2geUlYNCww/ufRFVOT8w6/WGsXn6hpY1gOQkYNKiq\\\n",
       "qpgePqjNO92eU+ihYQIGDTu491FtNrh4LfqrF1rYBpaXgEGDqnIW08O92vyLE+idgQhNEjBoUDk9\\\n",
       "jqO9e7X52tY3IxziC40SMGjQdLxXO8Q3IqI3WHMKPTRMwKBB08O9mE2OHpkWPgMGcyBg0KDp+GFE\\\n",
       "VZ2YfXEK/aCljWB5OZgNHqN6JEb/z8G9jyPi5O/pDddjcPG5J/5v+VYjPJniaS/QxJ6ZPyjNOTg4\\\n",
       "iDfffDO2t7ef6Nf/+JWr8dLVky+17b3j+Nmf9mJSPx6x5q233opXX331LKvCWaX9G5N3YPAYk8kk\\\n",
       "3n777fjwww//76/tFEV8/8YP42DzO/FgejmGnf242L8XN9+7Hb/45W+e6Ou98cYb510ZnhkCBg1Z\\\n",
       "HfTjoPfd+P32D2JSDaJbTOPb63+J4+m/2l4NlpKbOKAhvZX1uFd8LybVMCKKmFX9+OfDV+KP/3j0\\\n",
       "rkSgCQIGDXnu0kZ0+2snZtOyG7f31lvaCJabgEFDtjZ6cWEwjhP3C5WHcfv231vbCZaZgEFDVrrT\\\n",
       "WH3465iNP43pdBz9eBAvjX4bvbJ+tBRwfs/MTRyz2RPcwwyPeJrXze/++n784W8/jY31n0fR24wX\\\n",
       "r/bjymgan2zXH6/yZcqy9FplobrdbtsrnNkzE7B33nmn7RVIaH9/P8bj+tmGp5mVVczKWdzduR8R\\\n",
       "9+Ozu0//9W7evBmbm5tP/xvhjF577bW2VzizZyZgmf8n0Z7d3d0YDocL+3ovv/yy1yo8IT8DAyAl\\\n",
       "AQMgJQEDICUBAyAlAQMgJQEDIKVn5jZ6OIt+vx+vv/76Ez8P7LyuX7++kK8Dy8ADLeEx2rg+PJGZ\\\n",
       "BUv7gvMODB5DTOCry8/AAEhJwABIScAASEnAAEhJwABIScAASEnAAEhJwABIScAASEnAAEhJwABI\\\n",
       "ScAASEnAAEhJwABIScAASEnAAEhJwABIScAASEnAAEhJwABIScAASEnAAEhJwABIScAASEnAAEhJ\\\n",
       "wABIScAASEnAAEhJwABIScAASEnAAEhJwABIScAASEnAAEhJwABIScAASEnAAEhJwABIScAASEnA\\\n",
       "AEhJwABIScAASEnAAEhJwABIqdf2AgtUtL0AAM3xDgyAlAQMgJQEDICUBAyAlAQMgJQEDICUBAyA\\\n",
       "lAQMgJQEDICUBAyAlAQMgJQEDICUBAyAlAQMgJQEDICUBAyAlAQMgJQEDICUBAyAlAQMgJQEDICU\\\n",
       "BAyAlAQMgJQEDICUBAyAlAQMgJQEDICUBAyAlAQMgJQEDICUBAyAlAQMgJQEDICUBAyAlAQMgJT+\\\n",
       "A9Wl7IaKbWFaAAAAAElFTkSuQmCC\\\n",
       "\"\n",
       "  frames[27] = \"data:image/png;base64,iVBORw0KGgoAAAANSUhEUgAAAbAAAAEgCAYAAADVKCZpAAAAOXRFWHRTb2Z0d2FyZQBNYXRwbG90\\\n",
       "bGliIHZlcnNpb24zLjMuMywgaHR0cHM6Ly9tYXRwbG90bGliLm9yZy/Il7ecAAAACXBIWXMAAAsT\\\n",
       "AAALEwEAmpwYAAAKVUlEQVR4nO3dy44chRWA4VPVPd09nvHdxuYyEoRFiISUKMoLIJR9FJRNXiTb\\\n",
       "bHkDdnkClFXIIkhBbNhBFkjBisIthJuNsT0eT09fqrIgJAw1yGamqovT/r6VdTR4jsW0/qnuuhR1\\\n",
       "XQcAZFP2vQAAHIeAAZCSgAGQkoABkJKAAZCSgAGQkoABkJKAAZCSgAGQkoABkJKAAZCSgAGQkoAB\\\n",
       "kJKAAZCSgAGQkoABkJKAAZCSgAGQkoABkJKAAZCSgAGQkoABkJKAAZCSgAGQkoABkJKAAZCSgAGQ\\\n",
       "koABkJKAAZCSgAGQkoABkJKAAZCSgAGQkoABkNKw7wVWqO57AYAfoKLvBY7LERgAKQkYACkJGAAp\\\n",
       "CRgAKQkYACkJGAApCRgAKQkYACkJGAApCRgAKQkYACkJGAApCRgAKQkYACkJGAApCRgAKQkYACkJ\\\n",
       "GAApCRgAKQkYACkJGAApCRgAKQkYACkJGAApCRgAKQkYACkJGAApCRgAKQkYACkJGAApCRgAKQkY\\\n",
       "ACkJGAApCRgAKQkYACkJGAApCRgAKQkYACkJGAApCRgAKQkYACkJGAApCRgAKQkYACkJGAApCRgA\\\n",
       "KQkYACkJGAApCRgAKQkYACkJGAApCRgAKQkYACkJGAApCRgAKQkYACkJGAApCRgAKQkYACkJGAAp\\\n",
       "CRgAKQkYACkJGAApCRgAKQkYACkJGAApCRgAKQkYACkJGAApCRgAKQkYACkJGAApCRgAKQkYACkJ\\\n",
       "GAApCRgAKQkYACkJGAApCRgAKQkYACkJGAApCRgAKQkYACkJGAApCRgAKQkYACkJGAApCRgAKQkY\\\n",
       "ACkJGAApCRgAKQ37XgAeJnVd/+/PRVH0uAnkJ2CwQnufvRufvPVKjLbOx+T81RhtX4zxmUsxOXs1\\\n",
       "yuFG3+tBKgIGK7T78Ttx519v/39QFLGxeTae+dXvYrR9ob/FICGfgcEKzfZuHR7UdQzGp2I4Od3L\\\n",
       "PpCZgMGK1NUy5t8OWEQMNsYRPg+D703AYEXqqoqD3euN+ebFnSjKQQ8bQW4CBitSLWZRLeaNeTkY\\\n",
       "OiMRjkHAYEXm+7djfu92Y7515eketoH8BAxWZLG/G1FXjXk5cDIwHIeAwYpMb30adbU8NCs3xjE5\\\n",
       "92hPG0FuAgYrUNd1LOfTxrwoyig3Rj1sBPkJGKzI3ufvN2aj7QsxGG2ufhlYAwIGK1JXi8ZsMDoV\\\n",
       "5cARGByHgMEKVPNp7N/8d2O+efEJFzHDMQkYrEBdV40TOCIihpNt14DBMQkYrMDBnRuxmN791rSI\\\n",
       "8ZnLvewD60DAYAWqxax5BFaEO9DDCQgYrMD01icR33iYZUREORjFcHyqp40gPwGDFZjfu9OYDcab\\\n",
       "sbF1vodtYD0IGHSsruuY3f2iMS+H4ygKL0E4Lq8e6Fpdx8HtIx6jcv7RKDfGPSwE60HAoGPL+fTI\\\n",
       "u9AXbuILJyJg0LFqcRCL6W5jvu0xKnAiAgYdW0zvHnkRc+FBlnAiAgYdO7hzI6rF7NCsKIdx6uJO\\\n",
       "TxvBehAw6Fh11GNUyjLKjUkP28D6EDDo2FGPUdnYOh8j14DBiQgYdKiu6yMfo1KUgyjKQQ8bwfoQ\\\n",
       "MOhQvVzE3vUPGvPNC49FMRAwOAkBg04dfQQ2GJ1yFw44Ia8g6NBs71bM92415pNzV1a/DKwZAYMO\\\n",
       "1ctFVMvmEdho+2IP28B6ETDo0PT2p423EItyEMPJdk8bwfoQMOhIXdex2N9tPgdsOIrx6Us9bQXr\\\n",
       "Q8CgQ/dufNiYlcORMxChBQIGHVpM9xqz8ZnLMRxv9bANrBcBg47Uy3nM7t5szItyGBFu4gsnJWDQ\\\n",
       "kWq5iPl+8zlgW488FeEu9HBiAgYdWR7ci2oxb8wH402PUYEWCBh0ZLb3ZSxn9w4PiyK2Lj/Zyz6w\\\n",
       "bgQMOlLNpxH1t6eFm/hCSwQMOvLVTXwPF2w42Y7x2Uf6WQjWjIBBB+q6jvqIW0gVZfnfsxCBkxIw\\\n",
       "6EJdx97n7zbGk7NXY7Ax7mEhWD8CBp2oo66WjelgNInwGBVohVcSdGAx3Yvp7c8b88m5qz1sA+tJ\\\n",
       "wKAD1XIe9bJ5Ddho+4JrwKAlAgYdmH75cSxn08PDoojh5pl+FoI1JGDQga8eYnn4FPqiHMTkrCcx\\\n",
       "Q1sEDDpw78YHjVk52Ihi4BR6aIuAQQeWB/cas41T52K0dW71y8CaEjBoWV0t4+DO9cZ8ONlyCj20\\\n",
       "yKsJWlZXVcz2bjXmk/OPuQ8itEjAoGXL+fSrG/l+SzkcOYUeWiRg0LLFdDfm+7uN+faVH/WwDawv\\\n",
       "AYOWLWfTiLrxHBVvH0LLBAxatn/zo6irw3eiLzcmsXnh8Z42gvUkYNCi73yMSlF4jAq0TMCgZXc/\\\n",
       "+2djNjp96avT6IHWCBi0qa6b90CMiMHG2BEYtEzAoEXV4iCmX37cmI/PXolwCj20yq+EcB/1EWcU\\\n",
       "fufXVlXUVdWYf30LqQf9u1wvBvdXfJ8XZ3IPzT+Udr366qvx0ksvPdDX7lwYx29/cTrKb/y41XUd\\\n",
       "f3zzRlz74v5veOzs7MSLL74Yo9Ho2PvC95T2tyVHYHAf77//frz88ssP9LU/ffpK/OZnv4696lLM\\\n",
       "q3Gc27gew2Iv/vzXN+Ktf3x63//+2WefjeqIIzigScCgRU8/8UT87fYv44vZ41FFGaeHN+PHk1fi\\\n",
       "5p39vleDtSNg0KLd8pm4PtuJr9+V2V1ciLe/+ImAQQechQgtKSLi0cuPxuGPFIr46PbpOFh6qUHb\\\n",
       "vKqgJUVRxFOXFhHxzc+w6ti//feYHXFtGHAyAgYtGQ7KGM/fifLuG1EvdmOxmMYjow/i6vDNvleD\\\n",
       "tfTQfAa2XC77XoGkHvSswNliGb//w19iOPxrnD1zOaIcx8+fGse1D+9/9uHX6rqO5XLp55WVGQzy\\\n",
       "PiXhoQnYa6+91vcKJHXt2rUH/trZYhmzxTLuTT+KiIg/PXi7IiJib28vXn/9ddeBsTLPP/983ysc\\\n",
       "20MTsMz/k+jXe++9t7Lvtb29Hc8991xMJpOVfU/IymdgAKQkYACkJGAApCRgAKQkYACkJGAApPTQ\\\n",
       "nEYPx/Xkk0/GCy+8sJLvtbOzE2Xp90p4EB5oCffRx2vEE5lZobQ/bI7A4D7EBH6YvFcBQEoCBkBK\\\n",
       "AgZASgIGQEoCBkBKAgZASgIGQEoCBkBKAgZASgIGQEoCBkBKAgZASgIGQEoCBkBKAgZASgIGQEoC\\\n",
       "BkBKAgZASgIGQEoCBkBKAgZASgIGQEoCBkBKAgZASgIGQEoCBkBKAgZASgIGQEoCBkBKAgZASgIG\\\n",
       "QEoCBkBKAgZASgIGQEoCBkBKAgZASgIGQEoCBkBKAgZASgIGQEoCBkBKAgZASgIGQEoCBkBKw74X\\\n",
       "WKGi7wUAaI8jMABSEjAAUhIwAFISMABSEjAAUhIwAFISMABSEjAAUhIwAFISMABSEjAAUhIwAFIS\\\n",
       "MABSEjAAUhIwAFISMABSEjAAUhIwAFISMABSEjAAUhIwAFISMABSEjAAUhIwAFISMABSEjAAUhIw\\\n",
       "AFISMABSEjAAUhIwAFISMABSEjAAUhIwAFISMABSEjAAUvoPE6zeePgrjFkAAAAASUVORK5CYII=\\\n",
       "\"\n",
       "  frames[28] = \"data:image/png;base64,iVBORw0KGgoAAAANSUhEUgAAAbAAAAEgCAYAAADVKCZpAAAAOXRFWHRTb2Z0d2FyZQBNYXRwbG90\\\n",
       "bGliIHZlcnNpb24zLjMuMywgaHR0cHM6Ly9tYXRwbG90bGliLm9yZy/Il7ecAAAACXBIWXMAAAsT\\\n",
       "AAALEwEAmpwYAAAKHUlEQVR4nO3dSY8c5RnA8ad6ncULeAvBRo6RkCykoOScI4uUKJ+DD5AT3yPX\\\n",
       "3HPKLSiHcOCS5ewgITkLASsYg80wnq236sqBCGlcY2z3dHXlaf9+ki+vl3ksT+vv6n6r3qKqqgCA\\\n",
       "bDptDwAAixAwAFISMABSEjAAUhIwAFISMABSEjAAUhIwAFISMABSEjAAUhIwAFISMABSEjAAUhIw\\\n",
       "AFISMABSEjAAUhIwAFISMABSEjAAUhIwAFISMABSEjAAUhIwAFISMABSEjAAUhIwAFISMABSEjAA\\\n",
       "UhIwAFISMABSEjAAUhIwAFISMABSEjAAUuq1PcAKVW0PAPB/qGh7gEW5AgMgJQEDICUBAyAlAQMg\\\n",
       "JQEDICUBAyAlAQMgJQEDICUBAyAlAQMgJQEDICUBAyAlAQMgJQEDICUBAyAlAQMgJQEDICUBAyAl\\\n",
       "AQMgJQEDICUBAyAlAQMgJQEDICUBAyAlAQMgJQEDICUBAyAlAQMgJQEDICUBAyAlAQMgJQEDICUB\\\n",
       "AyAlAQMgJQEDICUBAyAlAQMgJQEDICUBAyAlAQMgJQEDICUBAyAlAQMgJQEDICUBAyAlAQMgJQED\\\n",
       "ICUBAyAlAQMgJQEDICUBAyAlAQMgJQEDICUBAyAlAQMgJQEDICUBAyAlAQMgJQEDICUBAyAlAQMg\\\n",
       "JQEDICUBAyAlAQMgJQEDICUBAyAlAQMgJQEDICUBAyAlAQMgJQEDICUBAyAlAQMgJQEDICUBAyAl\\\n",
       "AQMgJQEDICUBAyAlAQMgJQEDICUBAyAlAQMgJQEDICUBAyAlAQMgJQEDICUBAyAlAQMgJQEDICUB\\\n",
       "AyAlAQMgJQGDFZqXs6iq6rsfwOJ6bQ8Az5N7t/4Y+1/8I4qiiO0rN6LTH8bw7OU4f/2NKIqi7fEg\\\n",
       "FQGDFamqKsa79+LhnY8iImL3s79FRMTmhatx7trrUfT6bY4H6XgLEVakKmdxeP+z2vrmxWtRdLst\\\n",
       "TAS5CRisUFXNa2vd/kYUhZciPCuvGliR2WgvZkd7tfX+1vkWpoH8BAxWpJyMopyOa+sbL77cwjSQ\\\n",
       "n4DBisxn44gTts57+xAW45UDK3L44E5U89mxtU5/IzYvuAKDRQgYrEBVVY+5+iqi6LqbBRYhYLAi\\\n",
       "h/fv1NZ6G2ej0xu2MA3kJ2CwIrPRfm2tv3U+uv2NFqaB/AQMVqGaRzk5qi0XHTcww6IEDFagnI5j\\\n",
       "tHuvtr79gxsRnoEICxEwWInqfz+OKzo9D/GFBQkYrMD44f0TPgMrYnjucivzwDoQMFiB+WwS1bw8\\\n",
       "vlhEDM5caGcgWAMCBiswO3pYewexKDrRcQ8YLEzAYAWOdu7GowXrbZyN4bkr7QwEa0DAoGHfPoWj\\\n",
       "foxKFGEHIpyCgEHjqjj48pPa6vDc5ej0Bi3MA+tBwKBpVcR8Nq0t94Zn3MgMpyBg0LD5bByzUf0g\\\n",
       "y+7AI6TgNAQMGlZORzE93K2tb1+50cI0sD4EDBpWu//rO4WncMApCBg07Ojrz6OcjI6tFZ2ugyzh\\\n",
       "lAQMGvbtFdijdzF3ojvYamUeWBcCBg0bn/AU+k5vYAs9nJKAQcMm+1/X1vpb56K/db6FaWB9CBg0\\\n",
       "qJrPY3r48ISfsXkDTkvAoEHVvDzxIMutS69E4UG+cCoCBo2qIqr6QZad3tAWejglAYMGTfZ3YnJQ\\\n",
       "/wxs88LVFqaB9SJg0KBqXkY1rz+J3gYOOD0BgwZNDnZOOIm5E93+sJ2BYI0IGDRosne/dhZYtz+M\\\n",
       "jRdeamkiWB8CBg2pqup7n4MInI6AQYP2v/hnbW1w9lL0NrZbmAbWi4BBg066Auv2h1F03AMGpyVg\\\n",
       "0JCqnMZk/0FtvbdxxjuIsAQCBg2Zl7OYHtUfI7V54VooGJyegEFDqvnsxHvAonCQJSyDgEFDxrtf\\\n",
       "xWy0/8hqEduXf9TGOLB2BAwaUlXzqB9kGdFxEzMshYBBQ0Y7n9ce5NvpDaI3dBIzLIOAQUOmR3u1\\\n",
       "te5gM/rbL7YwDawfAYMGVFUV5eSotl4UXnKwLF5N0ISqisP7n9aWN158ObqDjRYGgvUjYNCUkw6y\\\n",
       "7PbCPWCwHAIGDZiND2K8d7+2Pjh7qYVpYD0JGDSgms9iPh3X1jfOX3ETMyyJgEEDyvHRiU/hKDrd\\\n",
       "FqaB9SRg0IDR7r2Yz45fgRXdXmxdut7SRLB+BAwaUd/AEeEKDJZJwKABB19+UlvrbZz59igVYCkE\\\n",
       "DJasqqoTN3B0B5vuAYMlEjBYsmpextHO3dp6pzuIsAMRlkbAYNmq6oRjVCK2Lr0SRafXwkCwngQM\\\n",
       "lmxeTqMqp/WfKDruAYMlEjBYsunhbkwOvqmtb128tvphYI0JGCzbCc9AjIjobZ5d8SCw3rwhD09Q\\\n",
       "PSZIj3P09X+iKmfH1opuL/pbLzz1n+WtRniy4llfnIk9N39Rlms6ncZ7770Xn35aPx7lJD+5Noyf\\\n",
       "v378fq/RdB6/+fNu7I3rj5d61LvvvhvvvPPOQrPCAtL+b8kVGDxBWZbxwQcfxK1bt57q17/wi5/G\\\n",
       "5ObPYnd6KbpFGed6D+JotBe/f//9uL97+MTf//bbb592ZHguCBgs2dUfvhp/ffDL2JtdiCKquDj8\\\n",
       "PLoPfhs7e/UTmoHFCRgs2b8Pfxyvzi5GRBFVRHw1vhazw1cft7cDWJBdiLBEW8N+XHvpahz/WKGI\\\n",
       "23fHz7wZBPh+AgZL1OkUcXFzP47vGZrHwd5du4hgyQQMlmjQ68Zw9JcYTD6O+ewwivl+XN/8OM4X\\\n",
       "f297NFg7z81nYGVZtj0CSZVl+dRv/+3sH8Wvfv27OL/9h+gOLsTWsBNvXN+IP330dFvwIyLm87nv\\\n",
       "V1am2817Rt1zE7APP/yw7RFIajqdxsHBwVP92qqKmEzL+OqbvYjYi4iIf915tq93+/Zt36+szJtv\\\n",
       "vtn2CAt7bgKW+R+Jdo1GozhzZnUHUd68edP3KzwFn4EBkJKAAZCSgAGQkoABkJKAAZCSgAGQ0nOz\\\n",
       "jR4W1e1246233orXXnttJV/vxo0bK/k6kJ0DLeEJ2niNOJGZFUr7zeYKDJ5ATOD/k8/AAEhJwABI\\\n",
       "ScAASEnAAEhJwABIScAASEnAAEhJwABIScAASEnAAEhJwABIScAASEnAAEhJwABIScAASEnAAEhJ\\\n",
       "wABIScAASEnAAEhJwABIScAASEnAAEhJwABIScAASEnAAEhJwABIScAASEnAAEhJwABIScAASEnA\\\n",
       "AEhJwABIScAASEnAAEhJwABIScAASEnAAEhJwABIScAASEnAAEhJwABIScAASEnAAEhJwABIqdf2\\\n",
       "ACtUtD0AAMvjCgyAlAQMgJQEDICUBAyAlAQMgJQEDICUBAyAlAQMgJQEDICUBAyAlAQMgJQEDICU\\\n",
       "BAyAlAQMgJQEDICUBAyAlAQMgJQEDICUBAyAlAQMgJQEDICUBAyAlAQMgJQEDICUBAyAlAQMgJQE\\\n",
       "DICUBAyAlAQMgJQEDICUBAyAlAQMgJQEDICUBAyAlAQMgJT+Cxug271GhlVtAAAAAElFTkSuQmCC\\\n",
       "\"\n",
       "  frames[29] = \"data:image/png;base64,iVBORw0KGgoAAAANSUhEUgAAAbAAAAEgCAYAAADVKCZpAAAAOXRFWHRTb2Z0d2FyZQBNYXRwbG90\\\n",
       "bGliIHZlcnNpb24zLjMuMywgaHR0cHM6Ly9tYXRwbG90bGliLm9yZy/Il7ecAAAACXBIWXMAAAsT\\\n",
       "AAALEwEAmpwYAAAJnUlEQVR4nO3dPXNcZxmA4efshyTLQpbtyE4GyCRuiBvDMFQUadLAD8iEP0OR\\\n",
       "P0HFDBUNQ0FFQZUJKZihY+ISUCYQE38gxXgtrXbPeSk0k0HaDZGlPXvyrK+rfL22Ho935/b5ercq\\\n",
       "pQQAZNPregAAuAgBAyAlAQMgJQEDICUBAyAlAQMgJQEDICUBAyAlAQMgJQEDICUBAyAlAQMgJQED\\\n",
       "ICUBAyAlAQMgJQEDICUBAyAlAQMgJQEDICUBAyAlAQMgJQEDICUBAyAlAQMgJQEDICUBAyAlAQMg\\\n",
       "JQEDICUBAyAlAQMgJQEDICUBAyAlAQMgJQEDIKVB1wMsUel6AIBvoKrrAS7KERgAKQkYACkJGAAp\\\n",
       "CRgAKQkYACkJGAApCRgAKQkYACkJGAApCRgAKQkYACkJGAApCRgAKQkYACkJGAApCRgAKQkYACkJ\\\n",
       "GAApCRgAKQkYACkJGAApCRgAKQkYACkJGAApCRgAKQkYACkJGAApCRgAKQkYACkJGAApCRgAKQkY\\\n",
       "ACkJGAApCRgAKQkYACkJGAApCRgAKQkYACkJGAApCRgAKQkYACkJGAApCRgAKQkYACkJGAApCRgA\\\n",
       "KQkYACkJGAApCRgAKQkYACkJGAApCRgAKQkYACkJGAApCRgAKQkYACkJGAApCRgAKQkYACkJGAAp\\\n",
       "CRgAKQkYACkJGAApCRgAKQkYACkJGAApCRgAKQkYACkJGAApCRgAKQkYACkJGAApCRgAKQkYACkJ\\\n",
       "GAApCRgAKQkYACkJGAApCRgAKQkYACkJGAApCRgAKQkYACkJGAApCRgAKQkYACkJGAApCRgAKQkY\\\n",
       "ACkJGAApCRgAKQ26HgBeFqWUqI8Po+r1ozdY+3K9qqoOp4K8BAyWpDTT+OsffhH18VEMN69FRMT6\\\n",
       "9m7svPGD2P72Wx1PB/kIGCxLiZgePYuj/Qdx+OTT/1lvBAwuwDUwWJLpeBTTo9HM+vq1Wx1MA/kJ\\\n",
       "GCxJPX4e9fHhzPra1s0OpoH8BAyAlAQMlmT8n8dRmvrUWtUfxtrWjY4mgtwEDJZkMtqPKM2ptV5/\\\n",
       "EMPN7Y4mgtwEDJaglNL1CLByBAyWZPTw7zNrw81r0R9udDAN5CdgsCT18dHM2mDjW9EbrHcwDeQn\\\n",
       "YLA0TiPCIgkYLEEzGcfh/oOZ9fVruxH2QoQLETBYglKaaKbjmfW1rZs284ULEjBYCqcPYdEEDJZg\\\n",
       "/PRxTI+enVmtYn17t5N5YBUIGCxBMz2e2YUjqrALB1yCgAGQkoDBEjx/9EnEmd04+sMrX36xJfDi\\\n",
       "BAyWoJ7MPsTcG67FYGOrg2lgNQgYtKyUMnP0BVyegEHrSowe7c2srm3diN5guPxxYEUIGLStnOzE\\\n",
       "cdbwyrWoeoMOBoLVIGDQuhIeZIbFEzBo2XQ8ivHTRzPrGzu3O5gGVoeAQctKU0czPZ5ZX9u6YR9E\\\n",
       "uAQBg7a5AxFaIWDQsqODf0V99iaOqmcfRLgkAYOW1ZNxRGlOrVW9fgw3d7oZCFaEgEHrnEKENggY\\\n",
       "tGz0cG9mbbBxNQYbV5c/DKwQAYOWNXP2QeyvXYn+2mYH08DqEDBoUSnlZC9EYOEEDFpUmjoOn3w6\\\n",
       "s76+vRtVz8cPLsMnCNpUyuwt9BEx3NyJqtfvYCBYHQIGrZq/D6IdOODyBAxadDw6iMnoYGb96q03\\\n",
       "lz8MrBgBgxaVehpNPZ1Z7w03OpgGVouAQYua+njuXohOIcLlCRi06PnjT6M0p4/AesP12Nh5raOJ\\\n",
       "YHUIGLTpzB6IERFV1YveYK2DYWC1CBi0pJQy93vAIqoIZxDh0gQMWvTs87/NrK1v78ZgfauDaWC1\\\n",
       "CBi0ac4NHL3B0EPMsAACBm0pJZp6MrvuDkRYCAGDltSTozja/2xm/eruGyIGCyBg0KIy5y7E3nDd\\\n",
       "c2CwAAIGLSn1NEozGzC3IMJiCBi0ZPz0YUyPnp1ZrU5OIQKXJmDQkpMvsjxzF2J1cgoRuDwBg5Z8\\\n",
       "1UPMrn/BYggYtOT5o72Z58AGG1djfXu3m4FgxQgYtKTM24W+14+qP+xgGlg9AgYtONkHcTznV5w+\\\n",
       "hEURMGhDKTF6uDezfOX6a9H3ZZawEAIGbZm7D+KaXThgQQQMWlBKbR9EaJmAQQumR6MYP304s371\\\n",
       "1psdTAOrScCgFWXuKcT+cMNzYLAgAgYtaKaTubfRuwsRFkfAoAVH+59FMzk6tVb1BrH5ync7mghW\\\n",
       "z6DrASCD+UdTL/j66uQuxPP+WU41wv9XvegHM7GX5i/K4jVNE++//37cv3//XK///nc246d3T1/v\\\n",
       "mtRN/OpPX8ST0byvWDntvffei3fffffC88ILSPs/JUdgcA6llPjwww/jgw8+ONfr7/zsxzF564ex\\\n",
       "P74dg2oa28PH8eDJ4/j1b34Xo6M5t9efce/evUtODKtPwKAF42Y7/vzvn8T+5HZU0cTO8FHsjH8b\\\n",
       "k/rrj76A8xEwWLgq/jH5UdyY3I6IKkr0Y39yO74Yfc+JbFggdyHCgg36g3j11bfi9KWFKv7yyfOY\\\n",
       "TOuuxoKVI2CwYL2qiVsb/4zTh1sl+vUTB2CwQAIGC1ZKiY3DP8Z2uR/19DBK/Sxev/JxvNL/uOvR\\\n",
       "YKW8NNfA6tqpGy6urutzP781qZv4+S9/H7s7H8W0dz36VR33Xl+L+3uzeyN+laZpvGdZin6/3/UI\\\n",
       "F/bSBOy8tz/DPE3TxMHBwblfP5k28dnjg4g4+T0PPn+xn7e3t+c9y1K88847XY9wYS9NwDL/I9G9\\\n",
       "uq7j+vXrS/t5d+7c8Z6Fr+EaGAApCRgAKQkYACkJGAApCRgAKQkYACm9NLfRw2VUVRVvv/123Lx5\\\n",
       "cyk/7+7du0v5OZCZL7SEc+jic+IbmVmStG80R2BwDmIC3zyugQGQkoABkJKAAZCSgAGQkoABkJKA\\\n",
       "AZCSgAGQkoABkJKAAZCSgAGQkoABkJKAAZCSgAGQkoABkJKAAZCSgAGQkoABkJKAAZCSgAGQkoAB\\\n",
       "kJKAAZCSgAGQkoABkJKAAZCSgAGQkoABkJKAAZCSgAGQkoABkJKAAZCSgAGQkoABkJKAAZCSgAGQ\\\n",
       "koABkJKAAZCSgAGQkoABkJKAAZCSgAGQkoABkJKAAZCSgAGQkoABkNKg6wGWqOp6AAAWxxEYACkJ\\\n",
       "GAApCRgAKQkYACkJGAApCRgAKQkYACkJGAApCRgAKQkYACkJGAApCRgAKQkYACkJGAApCRgAKQkY\\\n",
       "ACkJGAApCRgAKQkYACkJGAApCRgAKQkYACkJGAApCRgAKQkYACkJGAApCRgAKQkYACkJGAApCRgA\\\n",
       "KQkYACkJGAApCRgAKQkYACkJGAAp/RfCc72SkkH1ewAAAABJRU5ErkJggg==\\\n",
       "\"\n",
       "  frames[30] = \"data:image/png;base64,iVBORw0KGgoAAAANSUhEUgAAAbAAAAEgCAYAAADVKCZpAAAAOXRFWHRTb2Z0d2FyZQBNYXRwbG90\\\n",
       "bGliIHZlcnNpb24zLjMuMywgaHR0cHM6Ly9tYXRwbG90bGliLm9yZy/Il7ecAAAACXBIWXMAAAsT\\\n",
       "AAALEwEAmpwYAAAI60lEQVR4nO3dvY8cdx3H8e/s7T3Y59hxHhwCkSUTGlB4EIGSIkpHQZMGif8n\\\n",
       "pKXLP0AZiYoqhWMKJBASXSSD4kQxeXJMnDvf4+7OUCBFsddW7sGzk8/69Sp/u3v7tXyj983O7EzT\\\n",
       "dV0BQJrR0AMAwEkIGACRBAyASAIGQCQBAyCSgAEQScAAiCRgAEQSMAAiCRgAkQQMgEgCBkAkAQMg\\\n",
       "koABEEnAAIgkYABEEjAAIgkYAJEEDIBIAgZAJAEDIJKAARBJwACIJGAARBIwACIJGACRBAyASAIG\\\n",
       "QCQBAyCSgAEQScAAiCRgAEQSMAAiCRgAkcZDD7BA3dADAHwLNUMPcFL2wACIJGAARBIwACIJGACR\\\n",
       "BAyASAIGQCQBAyCSgAEQScAAiCRgAEQSMAAiCRgAkQQMgEgCBkAkAQMgkoABEEnAAIgkYABEEjAA\\\n",
       "IgkYAJEEDIBIAgZAJAEDIJKAARBJwACIJGAARBIwACIJGACRBAyASAIGQCQBAyCSgAEQScAAiCRg\\\n",
       "AEQSMAAiCRgAkQQMgEgCBkAkAQMgkoABEEnAAIgkYABEEjAAIgkYAJEEDIBIAgZAJAEDIJKAARBJ\\\n",
       "wACIJGAARBIwACIJGACRBAyASAIGQCQBAyCSgAEQScAAiCRgAEQSMAAiCRgAkQQMgEgCBkAkAQMg\\\n",
       "koABEEnAAIgkYABEEjAAIgkYAJEEDIBIAgZAJAEDIJKAARBJwACIJGAARBIwACIJGACRBAyASAIG\\\n",
       "QCQBAyCSgAEQScAAiCRgAEQSMAAiCRgAkQQMgEgCBkAkAQMgkoABEEnAAIgkYABEEjAAIo2HHgAe\\\n",
       "F13b1uxwt6qqmpVxjcbrXz3WNM1QY0EsAYMFOdj6rP715z9UO5vUeOOJWjv3VFVVPf/zX9e5514c\\\n",
       "eDrII2CwIF07q8neVnWzaU33tmv/i4+qqurZH/5q4Mkgk2NgsCC7t29WN5vdszZaXa+NJ58faCLI\\\n",
       "JmCwIO1kv6q6e9aaZlSj1bVhBoJwAgZAJAGDBei67iGPOPsQTkrAYEF2P/9wbm3tiadrvL45wDSQ\\\n",
       "T8BgQab7d+fWVlY3qhk5GRhOQsAAiCRgAEQSMFiAdnpYB9u35tY3Lj5f5TJScCICBgvQtbMHHgNb\\\n",
       "PXvBdRDhhAQMgEgCBkAkAYMFmO5t1exwf27dd8Dg5AQMFmCyt13t9ODexaapM0+/MMxAsAQEDIBI\\\n",
       "AgZAJAGDBTi8+9/776RSzWilRmO3UoGTEjBYgIOtW3V/wcYb52r9/DPDDARLQMBgUL7EDCclYABE\\\n",
       "EjDoWdd1Ndn9cm59tLLqMlJwCgIGfeu62v/i47nljYvfrdHqxgADwXIQMBhI09j84DRsQQBEEjDo\\\n",
       "WddOazaZvw5is7IywDSwPAQMejY92KnD7dtz6+eee3GAaWB5CBgsRDe30oxWnIUIpyBgAEQSMOhZ\\\n",
       "OzmormvnH3AWIpyKLQh6tn/nk2on994LrBmN6+wzlweaCJaDgEHPum7++Fc1TY1WVhc/DCwRAQMg\\\n",
       "koBB7x6wB1blQvRwSgIGPdv57P25tbXNi7W2eXHxw8ASETDoWfuQq3A0o/EA08DyEDAAIgkY9OiB\\\n",
       "ZyBWlQNgcHoCBj3q2lnt3r45t37mqe+5mC+ckoBBn7quZod7c8sra2fcDwxOyRYEQCQBAyCSgEGP\\\n",
       "JntbNd3bmls/+/QLA0wDy0XAoEft5KBm913It6pqfOb8ANPAchEwACIJGACRBAx6dLB1q7p2ds9a\\\n",
       "M1qp8frZgSaC5SFg0KPJ7p2q++7GPBqv1fr5S8MMBEtEwACIJGAARBIw6EnXdXWw/fnc+mi85jqI\\\n",
       "8AgIGPTo4Mtbc2vr55+t8frmANPAchEwGITbqcBpCRgAkQQMetK1s5rub8+tj8ZrA0wDy0fAoCft\\\n",
       "9PCBJ3FsXrpS1fgIEU5LwGDRmqYaAYNTEzAAIgkY9KSd7Fc3m86tN6PxANPA8rElwTF0XXfk5x5s\\\n",
       "367pwc69i01Tm5euHOvn+LgRHqw5zoYU7rH5h9Kft99+u958880jPfeFJ8f1u1+er9HXAtR2Xf3x\\\n",
       "71t18878ntn9Ll++XG+88UatrTlrkV7F/oVkDwyO4caNG/XWW28d6bk/+8F36rcv/6buzC7VpN2o\\\n",
       "J1dv1bjZqXfeeaf++e9PvvH1L730Ur3++uunHRmWloBBT85ubNT1u7+oD3Z/Um2t1NmVrfrRuWvV\\\n",
       "tj4MgEdBwKAnTz33cr2/+9Pq6v8X7t2dXai/fvzjuvHpzje8EjgKZyFCT3ZmF6q7bxPbm56pyewh\\\n",
       "LwCORcCgJ8+s/adWmq+frNHVxdXP7lsDTkrAoC+HN+vK2rWq2VZNp/v1RPNhff/sP6qpdujJYCk8\\\n",
       "NsfAZjOf23B6bXv0+PzpL+/W3979fU3qXE3b1dpcvVuXLqzV7v7kyD9jNpv53aVXK8E3V31sAnb1\\\n",
       "6tWhR2AJXL9+/cjPncza+uDTO1V156u1Gx8d/b12dnbq2rVrvgdGr1599dWhRzixxyZgyf9JfHu8\\\n",
       "9957C3uvzc3NeuWVV2pjY2Nh7wlJHAMDIJKAARBJwACIJGAARBIwACIJGACRHpvT6OFRuHLlSr32\\\n",
       "2msLea/Lly/XaORvTHgYN7SEYxhie3FHZnoW+wtmDwyOQUzg28PnEwBEEjAAIgkYAJEEDIBIAgZA\\\n",
       "JAEDIJKAARBJwACIJGAARBIwACIJGACRBAyASAIGQCQBAyCSgAEQScAAiCRgAEQSMAAiCRgAkQQM\\\n",
       "gEgCBkAkAQMgkoABEEnAAIgkYABEEjAAIgkYAJEEDIBIAgZAJAEDIJKAARBJwACIJGAARBIwACIJ\\\n",
       "GACRBAyASAIGQCQBAyCSgAEQScAAiCRgAEQSMAAiCRgAkQQMgEjjoQdYoGboAQB4dOyBARBJwACI\\\n",
       "JGAARBIwACIJGACRBAyASAIGQCQBAyCSgAEQScAAiCRgAEQSMAAiCRgAkQQMgEgCBkAkAQMgkoAB\\\n",
       "EEnAAIgkYABEEjAAIgkYAJEEDIBIAgZAJAEDIJKAARBJwACIJGAARBIwACIJGACRBAyASAIGQCQB\\\n",
       "AyCSgAEQScAAiCRgAET6H3ftWY4nm75mAAAAAElFTkSuQmCC\\\n",
       "\"\n",
       "  frames[31] = \"data:image/png;base64,iVBORw0KGgoAAAANSUhEUgAAAbAAAAEgCAYAAADVKCZpAAAAOXRFWHRTb2Z0d2FyZQBNYXRwbG90\\\n",
       "bGliIHZlcnNpb24zLjMuMywgaHR0cHM6Ly9tYXRwbG90bGliLm9yZy/Il7ecAAAACXBIWXMAAAsT\\\n",
       "AAALEwEAmpwYAAAHyklEQVR4nO3dT28cdx3H8e941/+SqsSpFVRVPTQIiZxy55BL1COHSjnkyo2H\\\n",
       "EYnnwQPgUC5cuCURghMCCSmilyakhbaUKo7r+g/rmeFQJLA3Ivamu5PP+vW6+eeR52t5Vm+Pdman\\\n",
       "6fu+ACDNytADAMAsBAyASAIGQCQBAyCSgAEQScAAiCRgAEQSMAAiCRgAkQQMgEgCBkAkAQMgkoAB\\\n",
       "EEnAAIgkYABEEjAAIgkYAJEEDIBIAgZAJAEDIJKAARBJwACIJGAARBIwACIJGACRBAyASAIGQCQB\\\n",
       "AyCSgAEQScAAiCRgAEQSMAAiCRgAkQQMgEjjoQdYoH7oAQBeQ83QA8zKGRgAkQQMgEgCBkAkAQMg\\\n",
       "koABEEnAAIgkYABEEjAAIgkYAJEEDIBIAgZAJAEDIJKAARBJwACIJGAARBIwACIJGACRBAyASAIG\\\n",
       "QCQBAyCSgAEQScAAiCRgAEQSMAAiCRgAkQQMgEgCBkAkAQMgkoABEEnAAIgkYABEEjAAIgkYAJEE\\\n",
       "DIBIAgZAJAEDIJKAARBJwACIJGAARBIwACIJGACRBAyASAIGQCQBAyCSgAEQScAAiCRgAEQSMAAi\\\n",
       "CRgAkQQMgEgCBkAkAQMgkoABEEnAAIgkYABEEjAAIgkYAJEEDIBIAgZAJAEDIJKAARBJwACIJGAA\\\n",
       "RBIwACIJGACRBAyASAIGQCQBAyCSgAEQScAAiCRgAEQSMAAiCRgAkQQMgEgCBkAkAQMgkoABEEnA\\\n",
       "AIgkYABEEjAAIgkYAJEEDIBIAgZAJAEDIJKAARBJwACIJGAARBIwACIJGACRBAyASAIGQKTx0APA\\\n",
       "RdD3fXWTw+q79sR6szKqldWNappmoMkgl4DBgnzy+1/W86d/PrF2+dr1+sH7P6sSMDg3AYMFaY8O\\\n",
       "6vjg61Nr+wNNA/m8BwZAJAGDQfVDDwCxBAwG5b0vmJWAARBJwGBB+r4begRYKgIGC9BNDuvw2d+n\\\n",
       "1je23nYJPcxIwGAB+r6vrp1Mra9e+p6bmGFGAgZAJAEDIJKAARBJwACIJGAARBIwWIS+q+qnPzaq\\\n",
       "WRkNMAwsBwGDBTh8/o86Ptw7udg0dfnae8MMBEtAwGAB+q594SdxOAOD2QkYAJEEDIBIAgZAJAED\\\n",
       "IJKAARBJwGABjg92q07dBrYyWqvx+qVhBoIlIGCwAAfPPqvTBRutb9bq5a1hBoIlIGAARBIwACIJ\\\n",
       "GACRBAyASAIGQCQBgznr+76mrqGvqqpm0aPAUhEwmLu+9v/5ydTqxpXv12h1fYB5YDkIGMxbX9Ue\\\n",
       "7U8tj1Y3qxovQZiVVw8AkQQMgEgCBkAkAQMgkoABEEnAYM76vquunUx/o3EfGLwKAYM5Oz7cq6Pd\\\n",
       "L6fWL197b4BpYHkIGMxdX9V3U6uj1fVqnIXBzAQMgEgCBkAkAQMgkoABEEnAAIgkYDBn3eSo+qmr\\\n",
       "EJsarW0OMg8sCwGDOTvc+by6ydGJtWY0qs2r7ww0ESwHAYM5+/aJzKc15YnM8GoEDIBIAgZAJAED\\\n",
       "IJKAARBJwACIJGAwZ4c7n0+tjTfeqPHGGwNMA8tDwGDOJt88m1obrW24kRlekYABEEnAAIgkYABE\\\n",
       "EjAAIgkYAJHGQw8AaV784bz/Z/vu9KNUqppmdK6f1TQ++BdOa877Ygx2YX5R5qvrurp37149evTo\\\n",
       "pduOV5r66Y+v1valk+t/eLJXv/no8Exhunv3bt25c2fWceFlYv87cgYG59T3fT18+LAePHjw0m3X\\\n",
       "xqP64MYH9ebG2/XsX9dq3BzXlbUv6vFfn9aHH/72TPu7efPmq44MS0nAYM6eT7brd1/9pPaOt6qp\\\n",
       "rt699FG1/V+GHgviuYgD5qivpj7+5mbtHW9VVVN9jerp/o/q04MfDj0axBMwmKO+Vurrybfx+q+m\\\n",
       "didvDTUSLA0Bgzlqqqur65/V/15DtFJdba//bbihYEkIGMxRU329u/6nurLyuNrjg+rbvXpn7Y/1\\\n",
       "1vjx0KNBvAtzEUfbtkOPwJJo2/bM929Njtv6+S9+VePxr2u/fbNG1dbmaK929w/PvL+u6xy/zM1o\\\n",
       "NBp6hJldmIDdv39/6BFYEl3X1c7Ozpm27avq0y93//PVVzPt78mTJ45f5ub27dtDjzCzCxOw5D8S\\\n",
       "r5e2bWtra2th+7t+/brjF17Ae2AARBIwACIJGACRBAyASAIGQCQBAyDShbmMHr4rTdPUrVu3ant7\\\n",
       "eyH7u3HjxkL2A2k80BLOaYjXjCcyM0exB5czMDgnMYHXg/fAAIgkYABEEjAAIgkYAJEEDIBIAgZA\\\n",
       "JAEDIJKAARBJwACIJGAARBIwACIJGACRBAyASAIGQCQBAyCSgAEQScAAiCRgAEQSMAAiCRgAkQQM\\\n",
       "gEgCBkAkAQMgkoABEEnAAIgkYABEEjAAIgkYAJEEDIBIAgZAJAEDIJKAARBJwACIJGAARBIwACIJ\\\n",
       "GACRBAyASAIGQCQBAyCSgAEQScAAiCRgAEQSMAAiCRgAkcZDD7BAzdADAPDdcQYGQCQBAyCSgAEQ\\\n",
       "ScAAiCRgAEQSMAAiCRgAkQQMgEgCBkAkAQMgkoABEEnAAIgkYABEEjAAIgkYAJEEDIBIAgZAJAED\\\n",
       "IJKAARBJwACIJGAARBIwACIJGACRBAyASAIGQCQBAyCSgAEQScAAiCRgAEQSMAAiCRgAkQQMgEgC\\\n",
       "BkAkAQMgkoABEOnf55YIzOSWQXsAAAAASUVORK5CYII=\\\n",
       "\"\n",
       "  frames[32] = \"data:image/png;base64,iVBORw0KGgoAAAANSUhEUgAAAbAAAAEgCAYAAADVKCZpAAAAOXRFWHRTb2Z0d2FyZQBNYXRwbG90\\\n",
       "bGliIHZlcnNpb24zLjMuMywgaHR0cHM6Ly9tYXRwbG90bGliLm9yZy/Il7ecAAAACXBIWXMAAAsT\\\n",
       "AAALEwEAmpwYAAAGm0lEQVR4nO3dPY9cZxmA4Xdmx46/BEiJIB2yFMmuAgUVrW2ZP0CTmsI/wR0/\\\n",
       "ITUtFQ1lKjeWAiU0sVysUAoXSE4QJFmtvV8zh4IU2QY7yzLHt/e6ujk6mvdZ7Rndc3ReaRbTNA0A\\\n",
       "qFnOPQAAnIWAAZAkYAAkCRgASQIGQJKAAZAkYAAkCRgASQIGQJKAAZAkYAAkCRgASQIGQJKAAZAk\\\n",
       "YAAkCRgASQIGQJKAAZAkYAAkCRgASQIGQJKAAZAkYAAkCRgASQIGQJKAAZAkYAAkCRgASQIGQJKA\\\n",
       "AZAkYAAkCRgASQIGQJKAAZC0mnuALZrmHgDgDbSYe4CzcgcGQJKAAZAkYAAkCRgASQIGQJKAAZAk\\\n",
       "YAAkCRgASQIGQJKAAZAkYAAkCRgASQIGQJKAAZAkYAAkCRgASQIGQJKAAZAkYAAkCRgASQIGQJKA\\\n",
       "AZAkYAAkCRgASQIGQJKAAZAkYAAkCRgASQIGQJKAAZAkYAAkCRgASQIGQJKAAZAkYAAkCRgASQIG\\\n",
       "QJKAAZAkYAAkCRgASQIGQJKAAZAkYAAkCRgASQIGQJKAAZAkYAAkCRgASQIGQJKAAZAkYAAkCRgA\\\n",
       "SQIGQJKAAZAkYAAkCRgASQIGQJKAAZAkYAAkCRgASQIGQJKAAZAkYAAkCRgASQIGQJKAAZAkYAAk\\\n",
       "CRgASQIGQJKAAZAkYAAkCRgASQIGQJKAAZAkYAAkCRgASQIGQJKAAZAkYAAkCRgASQIGQJKAAZAk\\\n",
       "YAAkCRgASQIGQJKAAZAkYAAkCRgASQIGQJKAAZAkYAAkreYeAC6CaZrG+vDFGGM6dXy5ujyWq8vz\\\n",
       "DAVxAgZbsDk+GLuffDyOX3x16vj7P7s/fvLhvXmGgjgBgy2YpmmcHOyNk5d7p46vjw9nmgj6PAMD\\\n",
       "IEnAAEgSMACSBAyAJAEDIEnAAEgSMACSBAyAJAEDIEnAAEgSMACSBAyAJAEDIEnAAEgSMACSBAyA\\\n",
       "JAEDIEnAAEgSMACSBAyAJAEDIEnAAEgSMACSBAyAJAEDIEnAAEgSMACSBAyAJAEDIEnAAEgSMACS\\\n",
       "BAyAJAEDIEnAAEgSMACSBAyAJAEDIEnAAEgSMACSBAyAJAEDIEnAAEgSMACSBAyAJAEDIEnAAEgS\\\n",
       "MACSBAyAJAEDIEnAAEgSMACSBAyAJAEDIEnAAEgSMACSBAyAJAEDIEnAAEhazT0AVE3TdB7v8r3e\\\n",
       "Z7FYnMOa8HZYnM+HMOHC/KFsx9HR0Xj48OF49uzZK899Z7UYv/nlD8cPruycOv7p316MP33+8rXW\\\n",
       "e/Dgwbh79+6ZZoX/IvutyB0YnNFmsxmPHj0aT548eeW5N65eHh/9/Nfj0qUfj2+O3x2XlofjR5e+\\\n",
       "HE+fPh1//OSvr7Xe/fv3/9eR4a0iYLAlzw9/Oj77x6/G4ebqWI71uHn9s7EZf5l7LMiyiQO2YD2t\\\n",
       "xu7eL8bh5toYYzE2YzU+3/9w/PPo/blHgywBgy3YTMtxtHnn1LFpLMfXx+/NNBH0CRhswc5iPa7t\\\n",
       "7I3v7iXaWZyMdy//fb6hIE7AYAuWi/X44Nqfx5XxfJycHIyx3hsfXP103Nj5Yu7RIOvCbOJYr9dz\\\n",
       "j8Bb5vtcUy8Ojsdvf/f7sVj8Ybxc3xir5fG4stwf/9p7vS30Y/xn16PrmPO2s7Pz6pPeUBcmYI8f\\\n",
       "P557BN4yR0dHY39//7XO3UzTePb8629ffXmm9XZ3d13HnLs7d+7MPcKZXZiAlf9JvJkODg7G9evX\\\n",
       "t7be7du3XcfwHZ6BAZAkYAAkCRgASQIGQJKAAZAkYAAkXZht9HDelsvluHfv3rh169ZW1rt58+ZW\\\n",
       "1oEKP2gJZzTHZ8cvMvN/kL2o3IHBGYkJzMszMACSBAyAJAEDIEnAAEgSMACSBAyAJAEDIEnAAEgS\\\n",
       "MACSBAyAJAEDIEnAAEgSMACSBAyAJAEDIEnAAEgSMACSBAyAJAEDIEnAAEgSMACSBAyAJAEDIEnA\\\n",
       "AEgSMACSBAyAJAEDIEnAAEgSMACSBAyAJAEDIEnAAEgSMACSBAyAJAEDIEnAAEgSMACSBAyAJAED\\\n",
       "IEnAAEgSMACSBAyAJAEDIEnAAEhazT3AFi3mHgCA8+MODIAkAQMgScAASBIwAJIEDIAkAQMgScAA\\\n",
       "SBIwAJIEDIAkAQMgScAASBIwAJIEDIAkAQMgScAASBIwAJIEDIAkAQMgScAASBIwAJIEDIAkAQMg\\\n",
       "ScAASBIwAJIEDIAkAQMgScAASBIwAJIEDIAkAQMgScAASBIwAJIEDIAkAQMgScAASPo3fgey8ae5\\\n",
       "3j0AAAAASUVORK5CYII=\\\n",
       "\"\n",
       "  frames[33] = \"data:image/png;base64,iVBORw0KGgoAAAANSUhEUgAAAbAAAAEgCAYAAADVKCZpAAAAOXRFWHRTb2Z0d2FyZQBNYXRwbG90\\\n",
       "bGliIHZlcnNpb24zLjMuMywgaHR0cHM6Ly9tYXRwbG90bGliLm9yZy/Il7ecAAAACXBIWXMAAAsT\\\n",
       "AAALEwEAmpwYAAAIKElEQVR4nO3dwW+UCRnH8eed6dABSisrQUPWXde7RA9cPHjhhGev7Mm/gAv/\\\n",
       "hX+GR72JJ0NMvGiyZBOiiSYGA67ZZSuwnQ5TpjOvt41lMNsWeF9+7edzfDL0fRqm+Xb6vjNv07Zt\\\n",
       "AUCaQd8LAMBxCBgAkQQMgEgCBkAkAQMgkoABEEnAAIgkYABEEjAAIgkYAJEEDIBIAgZAJAEDIJKA\\\n",
       "ARBJwACIJGAARBIwACIJGACRBAyASAIGQCQBAyCSgAEQScAAiCRgAEQSMAAiCRgAkQQMgEgCBkAk\\\n",
       "AQMgkoABEEnAAIgkYABEEjAAIgkYAJHW+l6gQ23fCwC8g5q+Fzgur8AAiCRgAEQSMAAiCRgAkQQM\\\n",
       "gEgCBkAkAQMgkoABEEnAAIgkYABEEjAAIgkYAJEEDIBIAgZAJAEDIJKAARBJwACIJGAARBIwACIJ\\\n",
       "GACRBAyASAIGQCQBAyCSgAEQScAAiCRgAEQSMAAiCRgAkQQMgEgCBkAkAQMgkoABEEnAAIgkYABE\\\n",
       "EjAAIgkYAJEEDIBIAgZAJAEDIJKAARBJwACIJGAARBIwACIJGACRBAyASAIGQCQBAyCSgAEQScAA\\\n",
       "iCRgAEQSMAAiCRgAkQQMgEgCBkAkAQMgkoABEEnAAIgkYABEEjAAIgkYAJEEDIBIAgZAJAEDIJKA\\\n",
       "ARBJwACIJGAARBIwACIJGACRBAyASAIGQCQBAyCSgAEQScAAiCRgAEQSMAAiCRgAkQQMgEgCBkAk\\\n",
       "AQMgkoABEEnAAIgkYABEEjAAIgkYAJEEDIBIAgZAJAEDIJKAARBJwACIJGAARBIwACKt9b0AnHRt\\\n",
       "21ZV1XI+q3a5+HreDIY1GI2raZq+VoNoAgZvXVv/+tNv6umDT2vxYvr1dOuDH9aHP/24x70gm4BB\\\n",
       "B17sbNfes88PzKZfPqx2Ma9m7UxPW0E258DgLWuaQY0vXlmZ7892arnY72EjOBkEDIBIAgZAJAED\\\n",
       "IJKAARBJwKADg+FoZdYulwfeFwYcjYBBB85f/qjqpTcs788mtffsi542gnwCBl145adttNW2y85X\\\n",
       "gZNCwACIJGAARBIwACIJGACRBAw6MDq3VcPR2YPDtq3p43/2sxCcAAIGHVgbb9RgtPqp84v5rIdt\\\n",
       "4GQQMAAiCRgAkQQMgEgCBkAkAYMONINhDc+cW5nvzybVtm0PG0E+AYMODNbO1HjrOyvz59uPqgQM\\\n",
       "jkXAAIgkYABEEjAAIgkYAJEEDLryqntalgs44LgEDDpy7tIHK7O9ne3a39vtYRvIJ2DQgaZpam39\\\n",
       "/Mp8OZ9Vu9zvYSPIJ2AARBIwACIJGACRBAyASAIGHRmMxvXytfTLxX7Np8/6WQjCCRh05Ny3369m\\\n",
       "ODwwaxfzejF50tNGkE3AoDNN/Z93MwPHIGAARBIwACIJGACRBAy60jTVNK84B9Yuu98FTgABg46c\\\n",
       "2bhYo/MXV+aTz//RwzaQT8CgI00zrGaw+iPXLuY9bAP5BAyASAIGQCQBAyCSgME7oG3bvleAOAIG\\\n",
       "HWkGgxqd3VqZP3/y72qXix42gmwCBh1pBsNa37q8Mt+fTaq8AoMjEzAAIgkYAJEEDIBIAgZAJAGD\\\n",
       "Dg1H6yuzdrmodrnfwzaQTcCgQ+cvf7Qym+8+qRe7T7tfBsIJGHSpecWH+baty+jhGAQMgEgCBkAk\\\n",
       "AQMgkoDBO8E5MDgqAYMOndl4r5rh6MCsXcxr+uXDnjaCXGt9LwDpjnIrlNHZzRoM12qxmB+YL/f3\\\n",
       "jvR1mqY59GPhpGpO0X2ITs03Srd2d3fr1q1btb29/Y2PvbA+qF/8ZKvGo4N//PjdXyZ179HeoY53\\\n",
       "+/btunbt2rF2hVeI/W3IKzB4TfP5vO7cuVMPH37znwEvf+t8fXzt59UO3qtn80s1Hkzrwug/9cm9\\\n",
       "e/XrP/z1UMe7efPm664MJ4KAQce+ml+qv01+VtPFZg1qUd8dP6jF8o99rwVxXMQBHWqr6u+TH9d0\\\n",
       "sVlVTS1rrT6b/aC+2Hu/79UgjoBBh2bzqseTcR087TCojY2Lfa0EsQQMOjSZTmu686D+95qiphb1\\\n",
       "ow/P9LYTpBIw6FBTVd8f/7k2mke1v79XzeKr+t76J7U5fNT3ahDn1FzEsVgs+l6BE+ooz61l29Yv\\\n",
       "f/XbGo1+X88XF2ptsFfrg+c1nR3uEvqqquVy6fnMGzMcDvte4dhOTcDu3r3b9wqcUJPJpGaz2aEf\\\n",
       "/9n2TlXtVNXjYx3v/v37tbm5eax/Cy+7fv163ysc26kJWPJ/Eu+2p0+f1ng87ux4V69e9XyGcg4M\\\n",
       "gFACBkAkAQMgkoABEEnAAIgkYABEOjWX0cPbMhqN6saNG4e6H9ibcOXKlU6OA+86N7SE19THz5A7\\\n",
       "MvMGxT6ZvAKD1yQm0A/nwACIJGAARBIwACIJGACRBAyASAIGQCQBAyCSgAEQScAAiCRgAEQSMAAi\\\n",
       "CRgAkQQMgEgCBkAkAQMgkoABEEnAAIgkYABEEjAAIgkYAJEEDIBIAgZAJAEDIJKAARBJwACIJGAA\\\n",
       "RBIwACIJGACRBAyASAIGQCQBAyCSgAEQScAAiCRgAEQSMAAiCRgAkQQMgEgCBkAkAQMgkoABEEnA\\\n",
       "AIgkYABEEjAAIgkYAJHW+l6gQ03fCwDw5ngFBkAkAQMgkoABEEnAAIgkYABEEjAAIgkYAJEEDIBI\\\n",
       "AgZAJAEDIJKAARBJwACIJGAARBIwACIJGACRBAyASAIGQCQBAyCSgAEQScAAiCRgAEQSMAAiCRgA\\\n",
       "kQQMgEgCBkAkAQMgkoABEEnAAIgkYABEEjAAIgkYAJEEDIBIAgZAJAEDIJKAARDpv4GUKbAlhvv+\\\n",
       "AAAAAElFTkSuQmCC\\\n",
       "\"\n",
       "  frames[34] = \"data:image/png;base64,iVBORw0KGgoAAAANSUhEUgAAAbAAAAEgCAYAAADVKCZpAAAAOXRFWHRTb2Z0d2FyZQBNYXRwbG90\\\n",
       "bGliIHZlcnNpb24zLjMuMywgaHR0cHM6Ly9tYXRwbG90bGliLm9yZy/Il7ecAAAACXBIWXMAAAsT\\\n",
       "AAALEwEAmpwYAAAJLklEQVR4nO3dy44c5RnH4be6ezwnjEMMJCBCZDZWomyCWERWlI0XyYYLyF3A\\\n",
       "NXAZ2Ua5AUtRIiTkRZQlyiawiwwCJzbG48Ocu7sqC1hg90ieGc9U+T/zPJIX/tSefi3P6OdSffV1\\\n",
       "03VdAUCa0dADAMBxCBgAkQQMgEgCBkAkAQMgkoABEEnAAIgkYABEEjAAIgkYAJEEDIBIAgZAJAED\\\n",
       "IJKAARBJwACIJGAARBIwACIJGACRBAyASAIGQCQBAyCSgAEQScAAiCRgAEQSMAAiCRgAkQQMgEgC\\\n",
       "BkAkAQMgkoABEEnAAIgkYABEEjAAIgkYAJEmQw/Qo27oAQBeQM3QAxyXKzAAIgkYAJEEDIBIAgZA\\\n",
       "JAEDIJKAARBJwACIJGAARBIwACIJGACRBAyASAIGQCQBAyCSgAEQScAAiCRgAEQSMAAiCRgAkQQM\\\n",
       "gEgCBkAkAQMgkoABEEnAAIgkYABEEjAAIgkYAJEEDIBIAgZAJAEDIJKAARBJwACIJGAARBIwACIJ\\\n",
       "GACRBAyASAIGQCQBAyCSgAEQScAAiCRgAEQSMAAiCRgAkQQMgEgCBkAkAQMgkoABEEnAAIgkYABE\\\n",
       "EjAAIgkYAJEEDIBIAgZAJAEDIJKAARBJwACIJGAARBIwACIJGACRBAyASAIGQCQBAyCSgAEQScAA\\\n",
       "iCRgAEQSMAAiCRgAkQQMgEgCBkAkAQMgkoABEEnAAIgkYABEEjAAIgkYAJEEDIBIAgZAJAEDIJKA\\\n",
       "ARBJwACIJGAARBIwACIJGACRBAyASAIGQCQBAyCSgAEQScAAiCRgAEQSMAAiCRgAkQQMgEiToQeA\\\n",
       "s67ruid+P9/fqeraGl9YrWY0HmgqyCdgcMrme1v15T/+UvPpXlV1tffwbs2ne/X2b/9Yr1x5d+jx\\\n",
       "IJaAwSlr59N69NVn3115/cBs5/FAE8HZ4B4YAJEEDE5ZMxrXaHJhYX0+3V24PwYcnoDBKZssr9fy\\\n",
       "y68trG/dvdX/MHCGCBicuub7X09x9QXPRcBgIF3XDj0CRBMwOG1NUyuvvLGwvLtxu9rp7gADwdkg\\\n",
       "YHDKmqappbVLC+vtfGoTBzwHAQMgkoBBD0bjpYW1djat+f72ANPA2SBg0IP1169UNU/uRJzvb9f+\\\n",
       "5sZAE0E+AYM+NAdsoweei4ABEEnAoAdLa5dqvLT65GLX1fY3XwwzEJwBAgY9mKy8VKOlg89DBI5H\\\n",
       "wACIJGDQg2Y0rvGF1YX12e6mh5nhmAQMejCaXKiVSz9dWN/59iuH+sIxCRgAkQQM+nLgJ6rMq8oV\\\n",
       "GByHgEFP1l59e2Ft7+Hdmu48HmAayCdg0IOmaWqyvL6w3rWuwOC4BAyASAIGPRktrdTTN8La+aym\\\n",
       "24+GGQjCCRj0ZO3yW9WMx0+sdfNp7W/eH2giyCZg0JumDtyKCByLgMHQunboCSCSgEFPJqsXa2n1\\\n",
       "4sL65p3/DDAN5BMw6Ml4aaVGS8sL6918OsA0kE/AAIgkYNCXpmo0XvxMsOn2o+pa98HgqAQMetKM\\\n",
       "JgceJ7X78M73J3IARyFg0JOmaaoa2+jhpAgY9Kg5MGBdOQ8Rjk7AoEfrr19ZWJtuPaj9rQf9DwPh\\\n",
       "BAx69N15iE9q57Pq5rMBpoFsAgZAJAGDHo0vrFYzeupA33Zee4+/GWgiyCVg0KOVSz+p0eSpZ8G6\\\n",
       "tqbugcGRCRgAkQQMXgDtfFZdZys9HIWAQY8mK+t14eKrC+tbTqSHIxMw6FEzmtT4oBPpHSUFRyZg\\\n",
       "AEQSMOhT891W+qdNtx94mBmOSMCgV82BJ9Lvb21U64Mt4UgEDHrkRHo4OQIGPWuaA37suqqyjR6O\\\n",
       "RMCgZ+uvX1m4CpvtPq69R3cHmggyCRj0rBkvLax1XVutTRxwJAIGQCQBg55NltcPONC3q92N28MM\\\n",
       "BKEEDHq2tP6jg58F23k8wDSQS8AAiCRgMIjFZ8Ha2Z4T6eEIBAx6Nl5aqdVX3lxY37p7y7NgcAQC\\\n",
       "Bn1rmhpNFrfSixccjYABEEnAYACT1YsLa9PtBzWf7gwwDWSaDD0AnBVH2YCxevlnC2uz3c1qp/vV\\\n",
       "XVg79NdpHAzMOdaco11P5+YvyjDu379fH374YW1tbT3ztb9+a7n+8MuXnljbnbb1p38+rM299pl/\\\n",
       "fjQa1UcffVRXr1499rzwvdj/BbkCgxOys7NTN27cqI2NjWe+dnrtav3+F7+r7fnL9Xj241obP65m\\\n",
       "eqc+/vvf6va3z36geTwe1wcffHACU0MuAYMBfP7lvbq99UZ9vnW9dtu1mjT79fbqZ/XOm58cKmCA\\\n",
       "TRwwiL3ZuP796De1265VVVOzbrlubf+qHs3fGHo0iCFgMIC9dq125hfrh7cf5t2k9tuV4YaCMAIG\\\n",
       "A5juflu1/9/64d6iyWhW775z+B2IcN4JGAxgc2e7fj75uFbrfzWb7tW4vV+vtZ/USt0ZejSIcW42\\\n",
       "cczn86FH4Iybz+eHfhZsNm/rz3/9uL64e6M2p2u1PNqp3d2HtfH48A8yt23r+5rnNh6Phx7h2M5N\\\n",
       "wG7evDn0CJxx9+7dq9lsdqjXtm1XN/9169jv1XVdffrpp7W3t3fsrwFVVdevXx96hGM7NwFL/kci\\\n",
       "w9dff11LSwcc0nsKmqap9957r65du9bL+8GLyD0wACIJGACRBAyASAIGQCQBAyCSgAEQ6dxso4fT\\\n",
       "trq6Wu+///6hPg/seY1Go7p8+fKpvw+8yHygJZyQIX6WfCIzJyD2m8gVGJwQMYF+uQcGQCQBAyCS\\\n",
       "gAEQScAAiCRgAEQSMAAiCRgAkQQMgEgCBkAkAQMgkoABEEnAAIgkYABEEjAAIgkYAJEEDIBIAgZA\\\n",
       "JAEDIJKAARBJwACIJGAARBIwACIJGACRBAyASAIGQCQBAyCSgAEQScAAiCRgAEQSMAAiCRgAkQQM\\\n",
       "gEgCBkAkAQMgkoABEEnAAIgkYABEEjAAIgkYAJEEDIBIAgZAJAEDIJKAARBJwACINBl6gB41Qw8A\\\n",
       "wMlxBQZAJAEDIJKAARBJwACIJGAARBIwACIJGACRBAyASAIGQCQBAyCSgAEQScAAiCRgAEQSMAAi\\\n",
       "CRgAkQQMgEgCBkAkAQMgkoABEEnAAIgkYABEEjAAIgkYAJEEDIBIAgZAJAEDIJKAARBJwACIJGAA\\\n",
       "RBIwACIJGACRBAyASAIGQCQBAyCSgAEQ6f/ttp5cdXha+AAAAABJRU5ErkJggg==\\\n",
       "\"\n",
       "  frames[35] = \"data:image/png;base64,iVBORw0KGgoAAAANSUhEUgAAAbAAAAEgCAYAAADVKCZpAAAAOXRFWHRTb2Z0d2FyZQBNYXRwbG90\\\n",
       "bGliIHZlcnNpb24zLjMuMywgaHR0cHM6Ly9tYXRwbG90bGliLm9yZy/Il7ecAAAACXBIWXMAAAsT\\\n",
       "AAALEwEAmpwYAAAJ9ElEQVR4nO3dTW9cVxnA8efOi+1xHCfYDaA2EAXWdM0yULas+glY8F26ZN3v\\\n",
       "EIRgRcWiUhA7QKAiUJU2lL4mae3E8dt45t7LIhGqMy6xJ/E9eezfT8rmZKp5otr6+/qeObdq2zYA\\\n",
       "IJte6QEAYB4CBkBKAgZASgIGQEoCBkBKAgZASgIGQEoCBkBKAgZASgIGQEoCBkBKAgZASgIGQEoC\\\n",
       "BkBKAgZASgIGQEoCBkBKAgZASgIGQEoCBkBKAgZASgIGQEoCBkBKAgZASgIGQEoCBkBKAgZASgIG\\\n",
       "QEoCBkBKAgZASgIGQEoCBkBKAgZASgIGQEqD0gN0qC09AMBLqCo9wLxcgQGQkoABkJKAAZCSgAGQ\\\n",
       "koABkJKAAZCSgAGQkoABkJKAAZCSgAGQkoABkJKAAZCSgAGQkoABkJKAAZCSgAGQkoABkJKAAZCS\\\n",
       "gAGQkoABkJKAAZCSgAGQkoABkJKAAZCSgAGQkoABkJKAAZCSgAGQkoABkJKAAZCSgAGQkoABkJKA\\\n",
       "AZCSgAGQkoABkJKAAZCSgAGQkoABkJKAAZCSgAGQkoABkJKAAZCSgAGQkoABkJKAAZCSgAGQkoAB\\\n",
       "kJKAAZCSgAGQkoABkJKAAZCSgAGQkoABkJKAAZCSgAGQkoABkJKAAZCSgAGQkoABkJKAAZCSgAGQ\\\n",
       "koABkJKAAZCSgAGQkoABkJKAAZCSgAGQkoABkJKAAZCSgAGQkoABkJKAAZCSgAGQkoABkJKAAZCS\\\n",
       "gAGQkoABkJKAAZCSgAGQkoABkJKAAZCSgAGQkoABkJKAAZCSgAGQkoABkJKAAZCSgAGQkoABkJKA\\\n",
       "AZCSgAGQkoBBR9q2/d+fejKOtm1LjwSpDUoPAGfd1qf/ir2NT6KZjGPn3p1o2zaqXj9+8LNfRtUf\\\n",
       "lh4P0hIwOGXbX9yOz//8u0Nrg6WVmO49ioWVtUJTQX5+hQinbLT22sxaPRlHfbBfYBo4OwQMSmjb\\\n",
       "aKbj0lNAagIGp2xx9ZXoDRYOrbXNNHa/+rjQRHA2CBicssHSSlS9/uxf2IUIz0XA4JRVvf7MFVhE\\\n",
       "xMH2hq308BwEDE7ZYPFCLK5emVnff3C3wDRwdggYnLrqyZ/D2rbufhQ4QwQMTltVxWj96szy3san\\\n",
       "0UxspYd5CRicsqqqYrC0MrPeNrV7YPAcBAw6MFi8MLNWH+zHdG+rwDRwNggYdGC0fjWiOnwfrJmO\\\n",
       "Y7L3qNBEkJ+AQQeq6hs2ctST7oeBM0LAoAOLq1disPTUrxHbNnbu3SkzEJwBAgYdqPrDI0/jsIkD\\\n",
       "5idg0IGqqqJ3xLO/9jc/i7ZtCkwE+QkYdKA3XIqlb706sz7Z3YpwEQZzETDoSFXNfrs9vvpSMJiH\\\n",
       "gEFHRmuzV2DjrXsx3d8uMA3kJ2DQgaqqYrh8aWa9rafugcGcBAw60hsuxdOfBWvq6eP7YMCJCRh0\\\n",
       "ZHn9alT9w1vp23oSB9sbhSaC3AQMuvJNp3E0HqsC8xAw6MhwdOnI+2A7dz8oMA3kJ2DQkd5gIXqD\\\n",
       "2Q8zuwKD+QgYdKWqjnysynjrvojBHAQMOlL1+keexnGw8yDaxlZ6OCkBg45UVfXksSqHtU3tCgzm\\\n",
       "IGDQoQvfvj6zNtnZjIOdzQLTQG4CBh16/GHmw9q2jfBYFTgxAYMO9frDJ58H+5q2icme0zjgpAQM\\\n",
       "OjRaezX6T12FtU0d44d3C00EeQkYdGp2E0fE48eqeDoznIyAQYf6i8uxsLI2s75z98MC00BuAgYd\\\n",
       "6vWH0V8Yzaw300mBaSA3AYMuVXFkwCa7D6OtpwUGgrwEDDpVxfIr359ZPdjZiKZ2FQYnIWDQoaqq\\\n",
       "ZrfRR0S0rdM44IQEDDq2vP79eHo34nR/O8Zb98oMBEkJGHSsv7g8s5u+bRsH+sIJCRh0rD9cenwi\\\n",
       "x9e1bYwfugKDkxAw6NjCxfXHV2FPcaAvnIyAwUuimY6dxgEnIGDQsd5gePRpHPf+7VR6OAEBg45V\\\n",
       "vUEMR6uzfyFecCICBgX0Bosza9PxTjT1QYFpICcBgwIufOfoJzPXB3sFpoGcBAw6VlVVVNXR33o+\\\n",
       "CwbHJ2BQwNLl70bV6x9aqw/2Y3/zs0ITQT4CBgUMli4ecSZiG40T6eHYBAwKqPqD2dM4IuLg0ZcF\\\n",
       "poGcBAwKWLhwOYbLl2fWx1v3ux8GkhIwKOWIp6o09dRpHHBMAgYFVP1BjNauzqzvfvlRtI37YHAc\\\n",
       "AgYFVFUv+gujmfW2aSJcgMGxCBgUMhxdnFmb7m/HdH+7wDSQj4BBIaP12V8h1gd7UU+cxgHHIWDw\\\n",
       "srGJA45FwKCQhZX1qJ76LFhbT2L3q48LTQS5DEoPAGfNcbfBD0cXo9cfRF1PDq03k4MTb6WvZk71\\\n",
       "gLOvOkefOTk3/1DKeuedd+Ltt99+5uuWhxG/+PFqrI4OX4X95bM2fv/exrHe69q1a/HWW2/FcDh7\\\n",
       "qgccU9qfflyBwQt2586duHnz5jNf1+9VceN7P48f/fDVeDC5EpNmMS4P78fmF/+Imzf/cKz3ev31\\\n",
       "16OuawHjXBIwKKRtIybNIP764Cdxd/9aNNGP5f5WbE4elh4NUrCJAwpp2jb+9OGF+GL/ejQxiIgq\\\n",
       "dutLEZd+GqPFpdLjwUtPwKCg/2yOon3qFsQ41p4EDfh/BAwKWqg/iirqr6208drFjbiyKmDwLAIG\\\n",
       "Bd37/L24vvy3qJpHMZ3uRzX+IFYnt+LCUv/Z/zGcc+fmx7y6rp/9IngBmqY59ms/ub8Zv/7tr+Lv\\\n",
       "H+3F9n4VzWQjtna2YzI93tdr27ZR17Wvb+bW7+f9YencBOzdd98tPQLnxPvvv3/s1375cDd+88d/\\\n",
       "zv1eOzs7cevWLdvomdsbb7xReoS5nZuAZf6fRC63b9/u7L1WVlbixo0bsbRk1yLnj3tgAKQkYACk\\\n",
       "JGAApCRgAKQkYACkJGAApHRuttFDV65fvx5vvvlmJ+917dq11B9EhefhgZbwgpX4nvJEZp5D2i8e\\\n",
       "V2DwgokJdMM9MABSEjAAUhIwAFISMABSEjAAUhIwAFISMABSEjAAUhIwAFISMABSEjAAUhIwAFIS\\\n",
       "MABSEjAAUhIwAFISMABSEjAAUhIwAFISMABSEjAAUhIwAFISMABSEjAAUhIwAFISMABSEjAAUhIw\\\n",
       "AFISMABSEjAAUhIwAFISMABSEjAAUhIwAFISMABSEjAAUhIwAFISMABSEjAAUhIwAFISMABSEjAA\\\n",
       "UhIwAFISMABSEjAAUhqUHqBDVekBAHhxXIEBkJKAAZCSgAGQkoABkJKAAZCSgAGQkoABkJKAAZCS\\\n",
       "gAGQkoABkJKAAZCSgAGQkoABkJKAAZCSgAGQkoABkJKAAZCSgAGQkoABkJKAAZCSgAGQkoABkJKA\\\n",
       "AZCSgAGQkoABkJKAAZCSgAGQkoABkJKAAZCSgAGQkoABkJKAAZCSgAGQkoABkJKAAZDSfwF6E+C1\\\n",
       "g+0tPQAAAABJRU5ErkJggg==\\\n",
       "\"\n",
       "  frames[36] = \"data:image/png;base64,iVBORw0KGgoAAAANSUhEUgAAAbAAAAEgCAYAAADVKCZpAAAAOXRFWHRTb2Z0d2FyZQBNYXRwbG90\\\n",
       "bGliIHZlcnNpb24zLjMuMywgaHR0cHM6Ly9tYXRwbG90bGliLm9yZy/Il7ecAAAACXBIWXMAAAsT\\\n",
       "AAALEwEAmpwYAAAKaUlEQVR4nO3dTW9c93XA4XPnznBmSImyZUtGEjdoiiJOkEWAwhuvitbbwot+\\\n",
       "E/sr+JtkkWWLuEVRJBtnH8BAsgoSN5br1o5eKVMz5Lzdm0WCNNRVI3KcuX8d8nlWwgFBHkEc/HRn\\\n",
       "7kvVtm0AQDaD0gsAwDYEDICUBAyAlAQMgJQEDICUBAyAlAQMgJQEDICUBAyAlAQMgJQEDICUBAyA\\\n",
       "lAQMgJQEDICUBAyAlAQMgJQEDICUBAyAlAQMgJQEDICUBAyAlAQMgJQEDICUBAyAlAQMgJQEDICU\\\n",
       "BAyAlAQMgJQEDICUBAyAlAQMgJQEDICUBAyAlAQMgJSGpRfoUVt6AYAXUFV6gW05AgMgJQEDICUB\\\n",
       "AyAlAQMgJQEDICUBAyAlAQMgJQEDICUBAyAlAQMgJQEDICUBAyAlAQMgJQEDICUBAyAlAQMgJQED\\\n",
       "ICUBAyAlAQMgJQEDICUBAyAlAQMgJQEDICUBAyAlAQMgJQEDICUBAyAlAQMgJQEDICUBAyAlAQMg\\\n",
       "JQEDICUBAyAlAQMgJQEDICUBAyAlAQMgJQEDICUBAyAlAQMgJQEDICUBAyAlAQMgJQEDICUBAyAl\\\n",
       "AQMgJQEDICUBAyAlAQMgJQEDICUBAyAlAQMgJQEDICUBAyAlAQMgJQEDICUBAyAlAQMgJQEDICUB\\\n",
       "AyAlAQMgJQEDICUBAyAlAQMgJQEDICUBAyAlAQMgJQEDICUBAyAlAQMgJQEDICUBAyAlAQMgJQED\\\n",
       "ICUBAyAlAQMgJQEDICUBAyAlAQMgJQEDICUBAyAlAQMgJQEDICUBAyAlAQMgJQEDICUBAyAlAQMg\\\n",
       "JQEDICUBAyAlAQMgpWHpBeAqadv2j3+uqqrgJpCfgMEOtW0bp0dfRLNaxOzeJ9Fu1jG/fycOXvub\\\n",
       "uP29fyi9HqQmYLBDbbOOOz/9Qczv34m22fxx3mxWceu7fx/VwLv4sC2vHtihajCM6c1vnIlXRMTp\\\n",
       "0RedGXAxAgY7VFVVVHX3jY7N8iQ2y3mBjeDyEDDYsYPb3+rM1qezWJ/OCmwDl4eAwY7Ve9OIeOqM\\\n",
       "w7ZxBAZfkYDBjk1vfj3qvcmZWdts4uTh/xbaCC4HAYMdqwbD6ByBRcRq/vjMdWHAxQgY7NhwfBDj\\\n",
       "w1ud+cnD/ymwDVweAgY7Vg3qGIzGnXmzXkS0TYGN4HIQMNi1qnrmmYgnjz6PzWpRYCG4HAQMdqyq\\\n",
       "qhgM9zrzdrOKRsBgawIGPdh/5fV4+kSO9WIWyycPyiwEl4CAQQ+Gk2sRz7j7fLNeFtgGLgcBgx6M\\\n",
       "D2/FcHJwdti2Mbv7mzILwSUgYNCDqh7FoB515uvF3LVgsCUBgx7Ue5OYvPz1znx+/06EgMFWBAx6\\\n",
       "UcVg2D0C+/0jVQQMtiFg0JP9V77ZmS0e343VyXGBbSA/AYMeVFUVw+m1zrzZrKPdrApsBPkJGPRk\\\n",
       "/5W/+sONff9Pszp1V3rYkoBBTwbD8TOvBfNcMNiOgEFPhtPrMZpe78xndz/pfxm4BAQMelKPJjEY\\\n",
       "TTrztlm7Fgy2IGDQk6quY3qzey3Y7N6daDfrAhtBbgIGPamqQdR7+515s17+4Xow4CIEDHo0eem1\\\n",
       "zmw1exTL2aMC20BuAgY92rv2SmfWto0jMNiCgEGPxoe3Og+3bDfrmN//tNBGkJeAQY+G44OoBnVn\\\n",
       "3qxOnYkIFyRg0KPBaBzDSfdasCe//bjANpCbgEGP6tEkRvuHnbnT6OHiBAz6VFUxvnG7Mz559Hk0\\\n",
       "q0WBhSAvAYMeVVUVe9dudubNauFMRLggAYOejfZvdGbr0+NYfHm3wDaQl4BBzyYvfa1zV/q2baLx\\\n",
       "ORhciIBBz0bT679/tMqfats4efDfZRaCpAQMejacHka9170r/fp05lowuAABg54NhqNnnsgxu/dJ\\\n",
       "RAgYnJeAQc+qwTBG0+61YM3qVL/gAgQMChgdvNSZLZ88is1y3v8ykJSAQc+qqorpy90HW26W82jW\\\n",
       "qwIbQU4CBgWMDl6OqM6+/DarRZw+/m2hjSAfAYMCxtdfjWrw1MuvbbyFCBcgYFDAYLjXvRYsImZ3\\\n",
       "f1NgG8hJwKCA0f7h/3Mm4sK1YHBOAgYlVINnPlbl5NHnbuoL5yRgUMCgHsb4xmud+fr0SYQjMDgX\\\n",
       "AYNC6r1pZ7aaH8Vq/rjANpCPgEEhB7f+ujNr1qtoNsv+l4GEBAwKqcf7nWvB2mYTiy/vFdoIchEw\\\n",
       "KGRy43bUo6cfq9LEauYtRDgPAYNCqkEdVT3szE8efuZUejgHAYNChpNrMT683ZmvTr4ssA3kI2BQ\\\n",
       "SlXFcLzfGa9mR9Fu1gUWglwEDIqpYv/Vb3amy9lRNBt3pYfnETAopKqqqOpRZ75ZnrgWDM5BwKCg\\\n",
       "g9vfiqiqM7NmvYzNYlZoI8hDwKCgejSOqqrPDts2lrOjIvtAJgIGBY0Pb8dwcvDUtI3Toy+K7AOZ\\\n",
       "dC9CAb6y817HVQ3qGIwmEXH2M6/l8f0LXwtWPfVWJFx21RW6YPLK/EUp78GDB/Hee+/FbPa8z7La\\\n",
       "+OfvX483Xjt7R45PH67ihz/78ly/tIPBIN5///144403tt6XKy3t/3wcgcEOnJycxAcffBBHR0fP\\\n",
       "/dq/e/kf49u3/zbmm+txvL4Z+/VxzJ/8Kv79334Up8vnXw9W13W8++67f4GtIRcBg8J+/vHd+M73\\\n",
       "/il+efxmLJtpDKtlvL7/07g2/c9zBQyuKidxQGEPZ4P49fH3Y9nsR0QV63YcH8/fisn+rdKrwQtN\\\n",
       "wKCwn9+Zx/FycmZWjw7i8MbrhTaCHAQMCqvbeYyr4z+ZtDEdzOK7X3M7KfhzBAwKO3p8L17d/CSu\\\n",
       "1fdivVrE6uRuXJv/KG5MPZkZ/pwrcxLHZrMpvQJXSNM05/7a09U6/uXH/xpN/Ef84tNFbFbHcfzk\\\n",
       "YWw25/8em83G7zhbqev6+V/0groyAfvwww9Lr8AVcv/+/Vivz3cGYdO08ZOf/dfWP6tt2/joo49i\\\n",
       "sVhs/T24ut5+++3SK2ztygQs8z8S+Xz22WcxHPbz8qqqKt5888146623evl58KLwGRgAKQkYACkJ\\\n",
       "GAApCRgAKQkYACkJGAApXZnT6KFP0+k03nnnnXM8D+yrGwwGcfPmzZ3/HHjReKAl7ECJ15UnMrOl\\\n",
       "tL84jsBgB8QEds9nYACkJGAApCRgAKQkYACkJGAApCRgAKQkYACkJGAApCRgAKQkYACkJGAApCRg\\\n",
       "AKQkYACkJGAApCRgAKQkYACkJGAApCRgAKQkYACkJGAApCRgAKQkYACkJGAApCRgAKQkYACkJGAA\\\n",
       "pCRgAKQkYACkJGAApCRgAKQkYACkJGAApCRgAKQkYACkJGAApCRgAKQkYACkJGAApCRgAKQkYACk\\\n",
       "JGAApCRgAKQkYACkJGAApDQsvUCPqtILAPCX4wgMgJQEDICUBAyAlAQMgJQEDICUBAyAlAQMgJQE\\\n",
       "DICUBAyAlAQMgJQEDICUBAyAlAQMgJQEDICUBAyAlAQMgJQEDICUBAyAlAQMgJQEDICUBAyAlAQM\\\n",
       "gJQEDICUBAyAlAQMgJQEDICUBAyAlAQMgJQEDICUBAyAlAQMgJQEDICUBAyAlAQMgJQEDICUfgfl\\\n",
       "ewo16Cl4zAAAAABJRU5ErkJggg==\\\n",
       "\"\n",
       "  frames[37] = \"data:image/png;base64,iVBORw0KGgoAAAANSUhEUgAAAbAAAAEgCAYAAADVKCZpAAAAOXRFWHRTb2Z0d2FyZQBNYXRwbG90\\\n",
       "bGliIHZlcnNpb24zLjMuMywgaHR0cHM6Ly9tYXRwbG90bGliLm9yZy/Il7ecAAAACXBIWXMAAAsT\\\n",
       "AAALEwEAmpwYAAAKdUlEQVR4nO3dTW9cZxXA8XPnxTNjx85bG5rQ0CKQKjZdAFU3sOquC/Zs+iG6\\\n",
       "6Vdhw1coC6ACFqiwYA1SJSQQbUlCX5I4cWyPPW93LotKCOe6iZ3U9/rYv9/yaBSfKB79M5pnnimq\\\n",
       "qgoAyKbT9gIA8CwEDICUBAyAlAQMgJQEDICUBAyAlAQMgJQEDICUBAyAlAQMgJQEDICUBAyAlAQM\\\n",
       "gJQEDICUBAyAlAQMgJQEDICUBAyAlAQMgJQEDICUBAyAlAQMgJQEDICUBAyAlAQMgJQEDICUBAyA\\\n",
       "lAQMgJQEDICUBAyAlAQMgJQEDICUBAyAlAQMgJR6bS/QoKrtBQBOoaLtBZ6VV2AApCRgAKQkYACk\\\n",
       "JGAApCRgAKQkYACkJGAApCRgAKQkYACkJGAApCRgAKQkYACkJGAApCRgAKQkYACkJGAApCRgAKQk\\\n",
       "YACkJGAApCRgAKQkYACkJGAApCRgAKQkYACkJGAApCRgAKQkYACkJGAApCRgAKQkYACkJGAApCRg\\\n",
       "AKQkYACkJGAApCRgAKQkYACkJGAApCRgAKQkYACkJGAApCRgAKQkYACkJGAApCRgAKQkYACkJGAA\\\n",
       "pCRgAKQkYACkJGAApCRgAKQkYACkJGAApCRgAKQkYACkJGAApCRgAKQkYACkJGAApCRgAKQkYACk\\\n",
       "JGAApCRgAKQkYACkJGAApCRgAKQkYACkJGAApCRgAKQkYACkJGAApCRgAKQkYACkJGAApCRgAKQk\\\n",
       "YACkJGAApCRgAKQkYACkJGAApCRgAKQkYACkJGAApCRgAKQkYACkJGAApCRgAKQkYACkJGAApCRg\\\n",
       "AKQkYACkJGAApCRg0LCqqqKqqrbXgPR6bS8AZ1lVLWO5mEc5Hcd8fyf27v87ytkk1m+8FmsvvtL2\\\n",
       "epCagMEJWuzvxL/+8IuYbt+LcrYX1bKMiIgbP/6ZgMFzEjA4Qd2V1Sjnk1hMdg7MpzubUVVVFEXR\\\n",
       "0maQn/fA4AQVnU6srF2qzffu34pquWh+IThDBAxOUNHpxmDjWm2+XMyiKssWNoKzQ8DghK1de7U2\\\n",
       "m48fxmz8sPll4AwRMDhh3ZXV2mxZLmIuYPBcBAxO2OjKjej0hweH1TKm2/faWQjOCAGDE9bpD6O7\\\n",
       "MqrNJ4/u+kAzPAcBgxPWG6zFYP1qbe4VGDwfAYOTVkT0Vy/WxpOHn8VyPmlhITgbBAxOWFF0Ynj5\\\n",
       "Rm2+XMz+dzMHcHwCBg1YvfpyRBy8dWMx2Y3Jo7vtLARngIBBA3rDCxGPXRtVLZeO0sNzEDBowGDj\\\n",
       "xegN1x6bVrH/8PNW9oGzQMCgAZ3e4NAPNM92Nx2lh2ckYNCATn8Qo8vXa/Ppo7sR1bKFjSA/AYOG\\\n",
       "9IYXarPp9r1YTMctbAP5CRg0ZPWF79RmX91K72tV4FkIGDSgKIoYXnopik73wLycT2L/wWctbQW5\\\n",
       "CRg0pDdajygee8pVVcz3tlrZB7ITMGhIf3Tx0Cul9u7famEbyE/AoCGd/kr0Bo9/Fixivr8d1dJJ\\\n",
       "RDguAYOGFJ3eoQc5JltfRrV0kAOOS8CgIUVRRHdQ/zDzfO9RzPe2W9gIchMwaNDai6/WZsvFLJaL\\\n",
       "afPLQHICBg1aWb8aRbd/YFaVi9jbvNPSRpCXgEGD+qON6HR7j02rmI+33IkIxyRg0KDuYBQrF67U\\\n",
       "5uN7nza/DCQnYNCgTnclesP12rycjl3qC8ckYNCkooi1a9+tjSeP7kY5d5ADjkPAoEFFUUR3ZVSb\\\n",
       "l9M9384MxyRg0LC1a69GFMWB2bKcxWK6185CkJSAQcP6qxej0xscHFZV7G/ebmchSErAoGG90UZ0\\\n",
       "V4a1+cxRejgWAYOGdXr9w4/S3/0kQsDgyAQMGlZ0etFfvVSbL/a3XSkFxyBg0IIL3/pebTbfexTl\\\n",
       "fNLCNpCTgEHDvjpKX38PbLmYx2z3QQsbQU4CBi1YfeGVKB67E7FaLmI+3mpnIUhIwKAFveFadPv1\\\n",
       "V2G7X37cwjaQk4BBC3rDC9EbHXIn4mzfUXo4IgGDFhTdXoyufLs237t/K6rlooWNIB8BgxYURSd6\\\n",
       "g7XavJyOo5w5iQhHIWDQksNupZ/v78RistPCNpCPgEFLeqONiOLgU7BaljHbdSs9HIWAQUtGl69H\\\n",
       "t//4pb7LmO3cd5ADjkDAoCVFtx+dQ47Sj+9+0sI2kI+AQUt6g7VDL/X1vWBwNAIGbSmKQ4/STx5+\\\n",
       "Fkt3IsJTCRi0pCiK6I82avNyth/lbL+FjSAXAYMWrb5wMyKKA7PFdM+lvnAEAgYt6q9ejKLTPTis\\\n",
       "qpi51BeeSsCgRYONa9EbPn4jRxWTrS8cpYenEDBoUdHpHnqUfu/+rYgQMHgSAYMWdfqDGF56qTYv\\\n",
       "p+MIr8DgiQQMWja6fL02m27fi8V03MI2kIeAQYuKooj+2uXavJxPovSBZngiAYOWjS5fr51EXM6n\\\n",
       "Mdn6oqWNIAcBg5b1RhtRdHq1+Xzf16rAk9SfNcA34qjH4FcuXImVC5drr7j2N28f+yh9URRPfxCc\\\n",
       "EcU5+qzJufmLcjqMx+N49913Y3Nz84mP6xYRP//RWty8cvA4/YP5MH75589jUS6P9PPee++9eOON\\\n",
       "N555X86ttP/r8QoMTsh8Po8PPvgg7ty589THfn/403j5Jz+IvXI9dhZXYtgZx+a9f8av3n8/Zovy\\\n",
       "SD/vnXfeed6VIRUBg1Pg9t3tuL3/Wvx9+82YV4PoFot4qf+XuHrx9/H55nbb68Gp5BAHnAIffzmN\\\n",
       "f+z8MObVMCKKKKt+3Jq+GcWg/hkx4CsCBqfAf+7vx3h68OnY7a3EzeuvtrMQJCBgcAps7TyKKLfj\\\n",
       "/88arXSmcfOS2zjg6wgYnAK74+3YmP4u1roPYrGYxnyyGWvjX8fFgds44Oucm0McZXm0k1zwTSnL\\\n",
       "8sif4yrLZfzmj7+N4fDD+Osn+1EuxrG9c//IR+gjIpbLpd9zjq3b7T79QafUuQnYhx9+2PYKnDO7\\\n",
       "u7sxnU6P9NgqIv70t0+f6+d99NFHsb6+/lx/BufPW2+91fYKz+zcBCzzPxI5bW1txXBY/66vk/L6\\\n",
       "66/7Pedc8R4YACkJGAApCRgAKQkYACkJGAApCRgAKZ2bY/TQtH6/H2+//fZTvw/sm3L9uot/OV98\\\n",
       "oSWckDaeW76RmWeQ9pfGKzA4IWICJ8t7YACkJGAApCRgAKQkYACkJGAApCRgAKQkYACkJGAApCRg\\\n",
       "AKQkYACkJGAApCRgAKQkYACkJGAApCRgAKQkYACkJGAApCRgAKQkYACkJGAApCRgAKQkYACkJGAA\\\n",
       "pCRgAKQkYACkJGAApCRgAKQkYACkJGAApCRgAKQkYACkJGAApCRgAKQkYACkJGAApCRgAKQkYACk\\\n",
       "JGAApCRgAKQkYACkJGAApCRgAKQkYACkJGAApNRre4EGFW0vAMA3xyswAFISMABSEjAAUhIwAFIS\\\n",
       "MABSEjAAUhIwAFISMABSEjAAUhIwAFISMABSEjAAUhIwAFISMABSEjAAUhIwAFISMABSEjAAUhIw\\\n",
       "AFISMABSEjAAUhIwAFISMABSEjAAUhIwAFISMABSEjAAUhIwAFISMABSEjAAUhIwAFISMABSEjAA\\\n",
       "UhIwAFISMABS+i/GOhyZBFWemgAAAABJRU5ErkJggg==\\\n",
       "\"\n",
       "  frames[38] = \"data:image/png;base64,iVBORw0KGgoAAAANSUhEUgAAAbAAAAEgCAYAAADVKCZpAAAAOXRFWHRTb2Z0d2FyZQBNYXRwbG90\\\n",
       "bGliIHZlcnNpb24zLjMuMywgaHR0cHM6Ly9tYXRwbG90bGliLm9yZy/Il7ecAAAACXBIWXMAAAsT\\\n",
       "AAALEwEAmpwYAAAKpklEQVR4nO3dS29c53nA8efMjTO8SpQi21EbOAkCGEgWLeJVNl1415U/RD+D\\\n",
       "l/4C/hxFCwQBvOmqKCB0kQBeeCegKIJEMS1HkXWjyLlfThfZlD60RSqeeflQv9/yAal5BJD4a3Te\\\n",
       "Oaeq6zoAIJtW6QUA4HUIGAApCRgAKQkYACkJGAApCRgAKQkYACkJGAApCRgAKQkYACkJGAApCRgA\\\n",
       "KQkYACkJGAApCRgAKQkYACkJGAApCRgAKQkYACkJGAApCRgAKQkYACkJGAApCRgAKQkYACkJGAAp\\\n",
       "CRgAKQkYACkJGAApCRgAKQkYACkJGAApCRgAKQkYACl1Si+wQXXpBQCuoKr0Aq/LOzAAUhIwAFIS\\\n",
       "MABSEjAAUhIwAFISMABSEjAAUhIwAFISMABSEjAAUhIwAFISMABSEjAAUhIwAFISMABSEjAAUhIw\\\n",
       "AFISMABSEjAAUhIwAFISMABSEjAAUhIwAFISMABSEjAAUhIwAFISMABSEjAAUhIwAFISMABSEjAA\\\n",
       "UhIwAFISMABSEjAAUhIwAFISMABSEjAAUhIwAFISMABSEjAAUhIwAFISMABSEjAAUhIwAFISMABS\\\n",
       "EjAAUhIwAFISMABSEjAAUhIwAFISMABSEjAAUhIwAFISMABSEjAAUhIwAFISMABSEjAAUhIwAFIS\\\n",
       "MABSEjAAUhIwAFISMABSEjAAUhIwAFISMABSEjAAUhIwAFISMABSEjAAUhIwAFISMABSEjAAUhIw\\\n",
       "AFISMABSEjAAUhIwAFISMABSEjAAUhIwAFISMABSEjAAUhIwAFISMABSEjAAUhIwAFISMABSEjAA\\\n",
       "UhIwAFISMABSEjAAUhIwAFLqlF4Arrt6tYzVchHz0YtYTIYxfnoUN979x+hu75deDVITMFij2fBF\\\n",
       "HP3232P89GEsJiexWsyiXi2ju30QN979h9LrQWoCBmu0mk/i5dH9WC1mZ+aTF38ptBFcH66BwRp1\\\n",
       "d25Gb/ewMZ++/Drqui6wEVwfAgZr1Gp3o3/zncZ89OSLqFeLAhvB9SFgsEZVqxW9nZuN+WI6jNV8\\\n",
       "ds53ABclYLBmO2/9tDGbj45jPj4usA1cHwIGa9bdPoiq1T4zq1cLBzngbyRgsGZb+7ej1dk6O6zr\\\n",
       "mLz4s4Mc8DcQMFizztZO9PZuNeajJ18U2AauDwGDNavanegO9hrz6cuvG58PAy5OwGDtqti58+PG\\\n",
       "dDE+iXo5L7APXA8CBmtWVVX09m435ovJaUyOHxfYCK4HAYMN6B/ciajO/rrVq1XMh88LbQT5CRhs\\\n",
       "wNb+D6LT3/nGtI7x86+cRITXJGCwAa3OVrR72435+OmXESFg8DoEDDag1d2KwTn3RJyPjqNerQps\\\n",
       "BPkJGGxI/8bbjdnk+HEsJqcFtoH8BAw24NtOIq4Ws5iP3BMRXoeAwYZs3/5RVK2zz5Ctl/OYnT4t\\\n",
       "tBHkJmCwIb2dG9EZ7Dbmw8cPNr8MXAMCBhvS7m1HZ+ubR+kj5qMXUdcOcsBlCRhsSNXuxPbtHzXm\\\n",
       "46dfRr1cFtgIchMw2JCqqqJ7ztOZ5+OTWEydRITLEjDYoPPegS2no5iduqUUXJaAwQb99eGWvTOz\\\n",
       "erWI8bMvC20EeQkYbFCnv9cIWETE5MUj90SESxIw2KDuYC+29u805tOXTwpsA7kJGGxSVUVvt3mQ\\\n",
       "Y/L8q1jNJwUWgrwEDDaoqlrRP+emvsvZOJazcYGNIC8Bgw3bvvX3EVGdmS2mw5idPiuzECQlYLBh\\\n",
       "3e2DqFrf+NWr6xg/e1hmIUhKwGDDtvbvRKe/15jPTp87iQiXIGCwYa1ON7o7B4358PEfIwQMLkzA\\\n",
       "YMOqdjf6B2815vPxy1gtZwU2gpwEDArYeesnjdl8+DyWUycR4aIEDDasqqro7d6KqM7++i3n05gc\\\n",
       "/6XQVpCPgEEBW/u3o2q1zw7rVcxHx2UWgoQEDAro7dyM3s6Nxnz4+A9OIsIFCRgUULW70envNuaj\\\n",
       "J0dRrzzcEi5CwKCAqtWOweHfNeaLyWnUy0WBjSAfAYMCqqqK/s23G/P58HnMhh5uCRchYFDI1t7t\\\n",
       "xmy1XLgnIlyQgEEhg8O70er2zw7rVcxOnjjIARcgYFBIq9uPdm/QmA8f/7HANpCPgEEhna2d6O0e\\\n",
       "Nubz0XFEvSqwEeQiYFBKVcXg8G5jPH7+51jOpwUWglwEDAr56y2lbjbmy9nYHTngAgQMCtq585OI\\\n",
       "6uzTmVeLaSzGJ4U2gjwEDArqDvai1e6dHda1gxxwAQIGBfV2D8+9pdRs6OnM8CoCBgW1uv0YHP6w\\\n",
       "MR8/+9LTmeEVBAwK6+3dasxmJ89iORsV2AbyEDAoqKqqGNxsvgNbzkaxnE8KbAR5CBgUNji823i4\\\n",
       "5XI2jvGzrwptBDkIGBTW6e9F1e425qMnXxTYBvIQMCist3v+05nnTiLCdxIwKKxqtc89yDH8+k9R\\\n",
       "rzzcEr6NgEFhVat97rPBltNhLGcOcsC3ETC4Anbu/Lgxm49PYjFxSyn4Np3SC8B1dtFrWJ3BQUTV\\\n",
       "OvMYlXq5iPGzh9G/8c6lXrP6xr0V4bqq3qCLxG/MX5Sr4+joKD766KOYz+ff+XV7W1X8y69uRL97\\\n",
       "9j9F7v1+Gr/7w+mFXqvX68Unn3wSd+82H9EC3yHtv3i8A4M1evnyZXz66acxmXz3taztfjf++Wcf\\\n",
       "xrvv3IrTxUGMlgex23kesxefx29+818Xeq3BYBAff/zx97E2pCBgcAVMpot4ejKJ6e4v48Ho57Gs\\\n",
       "u9FrTSK2p9Ht3Iv5Yll6RbhyHOKAK2BV1/G7/13Eg9EvYln3IqKK2WoQx51/im5nq/R6cCUJGFwR\\\n",
       "D5/NYrk6e0upwfZh3Ln1g0IbwdUmYHBFPHh4FFX8/2tldRxsncTbN9JeY4e1EjC4Ip4+PYp3qv+O\\\n",
       "reo45vNpnBx/Ed3j/4hue/Xqb4Y30BtziGO5dBGczbvMz91kNo//vPdv8ejFv8b/PJzG8PRJzOfD\\\n",
       "Sx3gWC6Xfta5lHa7/eovuqLemIDdu3ev9Aq8gR48eBCr1cXeQU1mi/j1vfuv/Vqr1So+++yzePTo\\\n",
       "0Wv/Gbx5Pvjgg9IrvDYfZIY1un//frz//vuv/BzY92EwGMTnn38e77333tpfi2sl7UVW18AASEnA\\\n",
       "AEhJwABIScAASEnAAEhJwABI6Y35HBiUsL+/Hx9++OErnwf2fej1erG3t7f214GrwufAYI1K/H55\\\n",
       "IjOXlPYHxjswWCMxgfVxDQyAlAQMgJQEDICUBAyAlAQMgJQEDICUBAyAlAQMgJQEDICUBAyAlAQM\\\n",
       "gJQEDICUBAyAlAQMgJQEDICUBAyAlAQMgJQEDICUBAyAlAQMgJQEDICUBAyAlAQMgJQEDICUBAyA\\\n",
       "lAQMgJQEDICUBAyAlAQMgJQEDICUBAyAlAQMgJQEDICUBAyAlAQMgJQEDICUBAyAlAQMgJQEDICU\\\n",
       "BAyAlAQMgJQEDICUBAyAlAQMgJQ6pRfYoKr0AgB8f7wDAyAlAQMgJQEDICUBAyAlAQMgJQEDICUB\\\n",
       "AyAlAQMgJQEDICUBAyAlAQMgJQEDICUBAyAlAQMgJQEDICUBAyAlAQMgJQEDICUBAyAlAQMgJQED\\\n",
       "ICUBAyAlAQMgJQEDICUBAyAlAQMgJQEDICUBAyAlAQMgJQEDICUBAyAlAQMgJQEDICUBAyAlAQMg\\\n",
       "pf8D4BMrKho6h1UAAAAASUVORK5CYII=\\\n",
       "\"\n",
       "  frames[39] = \"data:image/png;base64,iVBORw0KGgoAAAANSUhEUgAAAbAAAAEgCAYAAADVKCZpAAAAOXRFWHRTb2Z0d2FyZQBNYXRwbG90\\\n",
       "bGliIHZlcnNpb24zLjMuMywgaHR0cHM6Ly9tYXRwbG90bGliLm9yZy/Il7ecAAAACXBIWXMAAAsT\\\n",
       "AAALEwEAmpwYAAAKhUlEQVR4nO3dy25c15WA4XXqypso6mYlcezIjU4bziTDDIIEASwEfhS/gcd5\\\n",
       "kH4TN6BRMggSJIgHUa4NSZZMXUiKZLGKdTsZGAiaOmyLZMLaXOT3DRcKrmW4hF9Fbu9T1XUdAJBN\\\n",
       "q/QCAHAWAgZASgIGQEoCBkBKAgZASgIGQEoCBkBKAgZASgIGQEoCBkBKAgZASgIGQEoCBkBKAgZA\\\n",
       "SgIGQEoCBkBKAgZASgIGQEoCBkBKAgZASgIGQEoCBkBKAgZASgIGQEoCBkBKAgZASgIGQEoCBkBK\\\n",
       "AgZASgIGQEoCBkBKAgZASgIGQEoCBkBKndILLFBdegGAC6gqvcBZ+QYGQEoCBkBKAgZASgIGQEoC\\\n",
       "BkBKAgZASgIGQEoCBkBKAgZASgIGQEoCBkBKAgZASgIGQEoCBkBKAgZASgIGQEoCBkBKAgZASgIG\\\n",
       "QEoCBkBKAgZASgIGQEoCBkBKAgZASgIGQEoCBkBKAgZASgIGQEoCBkBKAgZASgIGQEoCBkBKAgZA\\\n",
       "SgIGQEoCBkBKAgZASgIGQEoCBkBKAgZASgIGQEoCBkBKAgZASgIGQEoCBkBKAgZASgIGQEoCBkBK\\\n",
       "AgZASgIGQEoCBkBKAgZASgIGQEoCBkBKAgZASgIGQEoCBkBKAgZASgIGQEoCBkBKAgZASgIGQEoC\\\n",
       "BkBKAgZASgIGQEoCBkBKAgZASgIGQEoCBkBKAgZASgIGQEoCBkBKAgZASgIGQEoCBkBKAgZASgIG\\\n",
       "QEoCBkBKAgZASgIGQEoCBkBKAgZASgIGQEoCBkBKAgZASgIGQEoCBkBKAgZASgIGQEoCBkBKAgZA\\\n",
       "SgIGQEoCBkBKndILwGVX13XUs2nMZ+MY772K4faz2Lj3w2h3l0qvBqkJGJyjvacP49WffhXDrS9j\\\n",
       "OhrE5OB1VK12LN98N1Zufbf0epCagME5qtrd2PrLr6OeT/85q+fTGO08EzD4F/kdGJyj3tqNaPdX\\\n",
       "GvPB5t8KbAOXi4DBOer016K7fK0xHw+2o57PC2wEl4eAwTmq2u1YPuZHhaPtZzGfTQpsBJeHgME5\\\n",
       "qqpWLN/4TmM+3t+KyWC7wEZweQgYnLOljW81ZvV8FpOD1wW2gctDwOCcLW18O1rd/pFZPZ/FaOer\\\n",
       "qOu60FaQn4DBOessX4vu8vXG/ODl4wLbwOUhYHDO2t2l6K42AzZ6/VXU81mBjeByEDA4b1UVK7e/\\\n",
       "1xgf7r6I+XRcYCG4HAQMzllVVbF8893GfHZ4EOO9VwU2gstBwGABlq6/E1Ed/eM2n07icPd5oY0g\\\n",
       "PwGDBeiv34nO0uob0zqG20+dRIQzEjBYgFanH+1e807E4asnESFgcBYCBgvQ6vaPvZHj64McrpSC\\\n",
       "sxAwWJDVux80ZuP9rZiNDwpsA/kJGCxAVVXRXdmIiOrIfDY5jNHOZpGdIDsBgwVZufVeVO03niFb\\\n",
       "z2O081WZhSA5AYMF6a5uRG91ozEfOYkIZyJgsCCtTi86S2uN+XDrS1dKwRkIGCxI1WrH8q33GvPJ\\\n",
       "cC/q2bTARpCbgMGCVFUVa3f/ozGfDLZj7OGWcGoCBgvUWV4/9kqp4daTQhtBXgIGC7R849vRfuPh\\\n",
       "lhF1TAY7DnLAKQkYLFC7txzdleazwfY3/1ZgG8hNwGCBWt1+9K7dbsxHO888GwxOScBgoapYvdN8\\\n",
       "uOV0NIj59LDAPpCXgMECVVUV/et3480rpaaj/Th87dlgcBoCBgu2tPGtqNrto8N6HgcvH5VZCJIS\\\n",
       "MFiw/vrt6PSbN3KMnUSEUxEwWLBWpxe9azcb88Hzv0cIGJyYgMGCVa1OLF2/25hPh7sOcsApCBgU\\\n",
       "sHLnXmM2HuzEZLi3+GUgKQGDBauqKvrrd5pXSk1GMdp+VmgryEfAoID++p1jrpSKONx9UWAbyEnA\\\n",
       "oIDe6kZ0VzYa8+HWEycR4YQEDAqoWu2vf4z4hoOXjzwbDE5IwKCAqtWO3lrzKP10NIjZ+KDARpCP\\\n",
       "gEEhq8c83HI62o/xYGfxy0BCAgaFfH2lVPfIrJ5PXSkFJyRgUEh3ZT1anW5jfrj7wkEOOAEBg0I6\\\n",
       "S9eiv/5OYz7c+tKVUnACAgaFVK12LN/8TmM+2n7qSik4AQGDQqqqiv4xT2eejYeulIITEDAoaPWd\\\n",
       "D+LNh1vOJqOYHLwusxAkImBQUO/a7Wj3lo8O6zoOXvxvkX0gEwGDgjpLa9HuLTXmw62nTiLCWwgY\\\n",
       "FNTuLcXSjeZBjsPd504iwlsIGBRVxcqt7zamh7svYnq4X2AfyEPAoKCqqqJ37VZjPj08iPH+VoGN\\\n",
       "IA8Bg8JWbn8vqlbnyKyeTWK8v11oI8hBwKCwTn81Wsc83HLw/O8FtoE8BAwK665cj97qRmM+2n4a\\\n",
       "9Xy2+IUgCQGDwqp2J1Zuv9+YH+69EjD4BgIGhVVVdezDLSeDbc8Gg28gYHABHPcNbDY5jMPdFwW2\\\n",
       "gRwEDC6A5ZvvRqv7xo0c9TzGey/dyAH/DwGDC6DVXWreiRhOIsI36bz9JcBZnfTbU6e/Ev31OzEZ\\\n",
       "HP1/vyYHryPqedSn+LtmVVVvfxFcAtUV+vHElfkX5eIYj8fx2WefxePHj7/5hXUdP/6gFz/9r/Uj\\\n",
       "493RPP77Vzsxmpzs4/vpp5/G/fv3z7ouV1Pav/H4BgbnaDabxeeffx5ffPHFW1/b+tkP4iff/3GM\\\n",
       "5yuxM7kT3dZhLLWex29++SD++Ojlid7vk08++VdXhjQEDC6IPz1+Fbvj9fjd7s9jb3ozWjGPG90n\\\n",
       "cW3tfyLiZAGDq8QhDrggHm2+jt9ufj/2pjcjoop5tOPV5P24cfdHpVeDC0nA4IIYjaexuduKo7+S\\\n",
       "qOI/338/nMuAJgGDC2I4nsb21qP4v+eNqpjHezcm0W23yy0GF5SAwQUy3X4Q7/QfRT0fx2i0H7PX\\\n",
       "v4z54A/R6woYvOnKHOKYzVyKyuLNZrNT3aTxu4d/jr3BL+Ivm3U8eb4T+3tfxWw2jdn8ZP+M+Xzu\\\n",
       "s86ptBN/u78yAXvw4EHpFbiCxuNxDAaDE7/+93/djN//dfPM7/fw4UOfdU7l448/Lr3CmV2ZgGX+\\\n",
       "j0Rew+Ew1tbWFvZ+H330kc86V4bfgQGQkoABkJKAAZCSgAGQkoABkJKAAZDSlTlGDyW02+24f/9+\\\n",
       "fPjhhwt5v3v37i3kfeAi8EBLOEcl/nx5IjOnlPYD4xsYnCMxgfPjd2AApCRgAKQkYACkJGAApCRg\\\n",
       "AKQkYACkJGAApCRgAKQkYACkJGAApCRgAKQkYACkJGAApCRgAKQkYACkJGAApCRgAKQkYACkJGAA\\\n",
       "pCRgAKQkYACkJGAApCRgAKQkYACkJGAApCRgAKQkYACkJGAApCRgAKQkYACkJGAApCRgAKQkYACk\\\n",
       "JGAApCRgAKQkYACkJGAApCRgAKQkYACkJGAApCRgAKQkYACkJGAApCRgAKTUKb3AAlWlFwDg38c3\\\n",
       "MABSEjAAUhIwAFISMABSEjAAUhIwAFISMABSEjAAUhIwAFISMABSEjAAUhIwAFISMABSEjAAUhIw\\\n",
       "AFISMABSEjAAUhIwAFISMABSEjAAUhIwAFISMABSEjAAUhIwAFISMABSEjAAUhIwAFISMABSEjAA\\\n",
       "UhIwAFISMABSEjAAUhIwAFISMABSEjAAUvoHKZMg2O/uIT8AAAAASUVORK5CYII=\\\n",
       "\"\n",
       "  frames[40] = \"data:image/png;base64,iVBORw0KGgoAAAANSUhEUgAAAbAAAAEgCAYAAADVKCZpAAAAOXRFWHRTb2Z0d2FyZQBNYXRwbG90\\\n",
       "bGliIHZlcnNpb24zLjMuMywgaHR0cHM6Ly9tYXRwbG90bGliLm9yZy/Il7ecAAAACXBIWXMAAAsT\\\n",
       "AAALEwEAmpwYAAAKe0lEQVR4nO3dy2+c13nA4febOzmSKFoSZTuNYy+y6NIrw0CBAja6LlBvssv/\\\n",
       "4GX+juy87aYLrwoE8Sp2FtkEhXtBUiBAk9aqbEkUL+JlOPevCwdpmY+VKCacw1d8HkCbgxHnFTSD\\\n",
       "H2fmzHequq4DALJplR4AAC5CwABIScAASEnAAEhJwABIScAASEnAAEhJwABIScAASEnAAEhJwABI\\\n",
       "ScAASEnAAEhJwABIScAASEnAAEhJwABIScAASEnAAEhJwABIScAASEnAAEhJwABIScAASEnAAEhJ\\\n",
       "wABIScAASEnAAEhJwABIScAASEnAAEhJwABIScAASEnAAEipU3qAFapLDwBwBVWlB7gor8AASEnA\\\n",
       "AEhJwABIScAASEnAAEhJwABIScAASEnAAEhJwABIScAASEnAAEhJwABIScAASEnAAEhJwABIScAA\\\n",
       "SEnAAEhJwABIScAASEnAAEhJwABIScAASEnAAEhJwABIScAASEnAAEhJwABIScAASEnAAEhJwABI\\\n",
       "ScAASEnAAEhJwABIScAASEnAAEhJwABIScAASEnAAEhJwABIScAASEnAAEhJwABIScAASEnAAEhJ\\\n",
       "wABIScAASEnAAEhJwABIScAASEnAAEhJwABIScAASEnAAEhJwABIScAASEnAAEhJwABIScAASEnA\\\n",
       "AEhJwABIScAASEnAAEhJwABIScAASEnAAEhJwABIScAASEnAAEhJwABIScAASEnAAEhJwABIScAA\\\n",
       "SEnAAEhJwABIScAASEnAAEhJwABIScAASEnAAEhJwABIScAASEnAAEhJwABIScAASEnAAEhJwABI\\\n",
       "ScAASEnAAEhJwABIScAASEnAAEipU3oAuA6Wi3ks55OYHu7GbLQfN974frS7g9JjQWoCBpdovP8o\\\n",
       "nvzqZzHe+yYmB09jNnoWrU4v/vLvfiRg8CcSMLhEk8Od2P71zyPq5R/WFtN5nOw+jP6tewUng/x8\\\n",
       "BgaXqHfjtWi1m78nTg6fFpgGXi0CBpeoN9yM7nCzsX6y899R13WBieDVIWBwiVqdbgw27jfWR0+/\\\n",
       "inoxLzARvDoEDC5R1WrHYPONxvp8chyL6ajARPDqEDC4ZMOttxtr85OjmB7vr3wWeJUIGFyy3o07\\\n",
       "UbW7p9bq5fzbtxF9DgYXJmBwyXo3NqPTX2+sj7b/q8A08OoQMLhknf7wzO98TY/3IsIrMLgoAYPL\\\n",
       "VrWiv7HVWB7vfR2L6bjAQPBqEDC4ZFVVxdrmdxrr8/FRTA93CkwErwYBgxVYv/e9iOr00225mMV8\\\n",
       "fFhoIshPwGAFBhtb0RkMTy/WdRw/+Z2diHBBAgYr0Or0o907Yyfi06/CRg64GAGDFWh1+7G2+WZj\\\n",
       "fXKwHcv5rMBEkJ+AwYoM77/TWJse7bqkFFyQgMEKVFUV3fXbEVGdWl/MJjHef1xkJshOwGBF1u98\\\n",
       "N6o/PhusXsZ4/1GZgSA5AYMV6Q5vR294u7E+3vvaTkS4AAGDFWl3+2deUupk92HUy0WBiSA3AYMV\\\n",
       "qVrts6+JeLQbi+lJgYkgNwGDFRpuNXcizk4OYuZsMHhpAgYr1N+439jIUS/mMXrqaBV4WQIGK9S7\\\n",
       "sRmtdq+xPj3atZEDXpKAwQp1+jfO/Bxs9PRBgWkgNwGDFaranRjcfr2xfrL3MJYzZ4PByxAwWKGq\\\n",
       "qmLttebZYIvpOOaT4wITQV4CBis23Ho7ovqjS0pNRzE5eFpmIEhKwGDFuusb0er0Ty/+/mww4PwE\\\n",
       "DFasu74R3bWbjfXR06+irpcFJoKcBAxWrNUdxOCMs8Fmo/2olwIG5yVgUMBZW+knz57EfHxUYBrI\\\n",
       "ScBgxf7/nYgnMTl4UmAiyEnAoID1u281Lym1XMRs9KzQRJCPgEEBveHm709oPu348W9dUgrOScCg\\\n",
       "gFa3F53+sLHubDA4PwGDAqpWJ9bvfrexPjncieVsUmAiyEfAoICqqmL93tuN9dnoWcxOfA4G5yFg\\\n",
       "UEhveLtxSal6OY/x/uMyA0EyAgaFDDbfjHZ3cHqxrmO8942NHHAOAgaFdNduRu/m3cb6aOerAtNA\\\n",
       "PgIGhVTtTgw2thrrk2fbsZxPC0wEuQgYFFJVrRjcfqOxPhvtx8LZYPBCAgYFfbuV/vRGjvnk2Nlg\\\n",
       "cA4CBgX1b92LVqd3etHZYHAuAgYFdYeb0e6vNdanx3t2IsILCBgU1O72Y7DxemP9ZOdBhMMt4bkE\\\n",
       "DEqqWjG43QzY+NljZ4PBCwgYFFRV1ZnXRFxMT2JyaCMHPI+AQWHrd7/XPBtsMY/ZsWsiwvMIGBTW\\\n",
       "7q9Hu9vcyHH0+D8KTAN5CBgU1l27Fd3h7cb6eO9rZ4PBcwgYFFa1O7F+963G+vR4T8DgOQQMCquq\\\n",
       "Kvo37zTWp0e7MT3eKzAR5CBgcAWs3WleUmo5nzkbDJ5DwOAKWHvtzWh1+6cX66WzweA5BAyugM7g\\\n",
       "5plvIx5v/+fqh4EkBAyugFa7G53Bzcb69HAn6sWswERw9QkYXLK6rl/4J6oqhlvvNN4unB7vxXwy\\\n",
       "OtfP+MPPgmuiukYP+GvzD+Vq+eSTT+Kzzz574e1eH5zED//qO9Fq/e9mjmVdx9//8iAe7s/PdV/v\\\n",
       "v/9+fPzxx1FV1YtvDN9K+2DpvPgmwJ/iyy+/jE8//fSFt/v+X7wWP3jvb6PbXYu92f2oo4pbne34\\\n",
       "3b9/Ef/4i9+c675aLW+qcH0IGFwRj3aOYu+4jm+qv45H43eijohh+yDu3vttRJwvYHCd+HUNroiT\\\n",
       "6Tz+6cFGfDN+J+poRUQrjhcb0bvzN9HyliA0CBhcEfPFMv7lQS9OPy2ruH/39bg1HJQaC64sAYMr\\\n",
       "ZHf7X6OK/3v9wzruDUdxa71XbCa4qgQMrpDDnV/FW4N/jnaMYz4bxcn+r+Po0U+i122XHg2unGuz\\\n",
       "iWOxcFVvyniZr6o83N6Ln3724/j6WSd+82A3Dg4ex3Q2icXyfD+jrutYLBa20XNu7XbeX46uTcA+\\\n",
       "//zz0iNwTT18+PDct32yfxz/8LN/u/B9bW9vxxdffHHhv8/18+GHH5Ye4cKuTcAy/yeR23m+A/bn\\\n",
       "srW1FR988IFXYFwLPgMDICUBAyAlAQMgJQEDICUBAyAlAQMgpWuzjR5Keffdd+Ojjz5ayX299957\\\n",
       "K7kfuAocaAmXbNXPMd8B4yWlfcB4BQaXTFDgcvgMDICUBAyAlAQMgJQEDICUBAyAlAQMgJQEDICU\\\n",
       "BAyAlAQMgJQEDICUBAyAlAQMgJQEDICUBAyAlAQMgJQEDICUBAyAlAQMgJQEDICUBAyAlAQMgJQE\\\n",
       "DICUBAyAlAQMgJQEDICUBAyAlAQMgJQEDICUBAyAlAQMgJQEDICUBAyAlAQMgJQEDICUBAyAlAQM\\\n",
       "gJQEDICUBAyAlAQMgJQEDICUBAyAlAQMgJQEDICUBAyAlDqlB1ihqvQAAPz5eAUGQEoCBkBKAgZA\\\n",
       "SgIGQEoCBkBKAgZASgIGQEoCBkBKAgZASgIGQEoCBkBKAgZASgIGQEoCBkBKAgZASgIGQEoCBkBK\\\n",
       "AgZASgIGQEoCBkBKAgZASgIGQEoCBkBKAgZASgIGQEoCBkBKAgZASgIGQEoCBkBKAgZASgIGQEoC\\\n",
       "BkBKAgZASgIGQEoCBkBK/wOOIERVXpPQHAAAAABJRU5ErkJggg==\\\n",
       "\"\n",
       "  frames[41] = \"data:image/png;base64,iVBORw0KGgoAAAANSUhEUgAAAbAAAAEgCAYAAADVKCZpAAAAOXRFWHRTb2Z0d2FyZQBNYXRwbG90\\\n",
       "bGliIHZlcnNpb24zLjMuMywgaHR0cHM6Ly9tYXRwbG90bGliLm9yZy/Il7ecAAAACXBIWXMAAAsT\\\n",
       "AAALEwEAmpwYAAAKeElEQVR4nO3duW5c9xXA4XNnhsMZbjK1ULJlO5a7FClcGQ4CBLCRF4jbAHkH\\\n",
       "13mMdG7TpHAVIIgqW02aBHAWOAEMWAYsa6EWLhLJGc52UyhwQl3aXGzO5SG/D1BzQHKOIA5+muHl\\\n",
       "/RdlWQYAZNOoewEAOA4BAyAlAQMgJQEDICUBAyAlAQMgJQEDICUBAyAlAQMgJQEDICUBAyAlAQMg\\\n",
       "JQEDICUBAyAlAQMgJQEDICUBAyAlAQMgJQEDICUBAyAlAQMgJQEDICUBAyAlAQMgJQEDICUBAyAl\\\n",
       "AQMgJQEDICUBAyAlAQMgJQEDICUBAyAlAQMgJQEDIKVW3QtMUVn3AgCnUFH3AsflFRgAKQkYACkJ\\\n",
       "GAApCRgAKQkYACkJGAApCRgAKQkYACkJGAApCRgAKQkYACkJGAApCRgAKQkYACkJGAApCRgAKQkY\\\n",
       "ACkJGAApCRgAKQkYACkJGAApCRgAKQkYACkJGAApCRgAKQkYACkJGAApCRgAKQkYACkJGAApCRgA\\\n",
       "KQkYACkJGAApCRgAKQkYACkJGAApCRgAKQkYACkJGAApCRgAKQkYACkJGAApCRgAKQkYACkJGAAp\\\n",
       "CRgAKQkYACkJGAApCRgAKQkYACkJGAApCRgAKQkYACkJGAApCRgAKQkYACkJGAApCRgAKQkYACkJ\\\n",
       "GAApCRgAKQkYACkJGAApCRgAKQkYACkJGAApCRgAKQkYACkJGAApCRgAKQkYACkJGAApCRgAKQkY\\\n",
       "ACkJGAApCRgAKQkYACkJGAApCRgAKQkYACkJGAApCRgAKQkYACkJGAApCRgAKQkYACkJGAApCRgA\\\n",
       "KQkYACkJGAApCRgAKQkYACm16l4AzoPJeBST0W4Mnq3FeNCL+atvRqPp6Qffh2cQnKD+xoN4+NnH\\\n",
       "0V+/H7tPH8dwZzOa7U78+Je/ifbCct3rQWoCBido58mdePTZrYgov5mNdneiv3FfwOB78jMwOEHd\\\n",
       "5etRvPhWYTmJ4c5mPQvBGSJgcIJa3cWY6S5W5lurt6Msy30+AzgsAYMT1Gx3o71wsTLvPbkT5WRc\\\n",
       "w0ZwdggYnKCi0YzupVcr88H2eox3t2vYCM4OAYMTVBRFzK+8WZmP+lsx6m/VsBGcHQIGJ2xm7kJE\\\n",
       "sfepVo7HsfPk65o2grNBwOCEdV66Fs1294VpGf31ey7kgO9BwOCEtToL0bmwUpn3Nx7UsA2cHQIG\\\n",
       "J6xoNKOz/HJl3lu/H5Phbg0bwdkgYHDCiqKI2cXLlfmo9yyGvac1bARng4DBFMyv3Igoij2z8bAX\\\n",
       "g2ePa9oI8hMwmIL24uVozrxwIUdZxvbDL+tZCM4AAYMpaHUWotnuVOa7zx67EhGOScBgCprtTnSW\\\n",
       "X6nM++v33VIKjknAYCqKmNvnllL9zYfuyAHHJGAwBUVR/PcV2AsXcgx6fh8MjknAYErmLr0aRbO5\\\n",
       "d1hOYuRSejgWAYMpaXUWotVZqMy3Vr9wIQccg4DBlDRn56M9v1yZ95587UIOOAYBgyl5fjbYa5X5\\\n",
       "sPcsyvGoho0gNwGDKSmKIhauVs8GG26vx2B7vYaNIDcBgylqdZcqZ4NNRsPorTkbDI5KwGCKusuv\\\n",
       "RHPmxTtylM9/odmFHHAkAgZT1OosxOzSlcq8t3avhm0gNwGDKSqazWh1Fyvz/uaDmIwGNWwEeQkY\\\n",
       "TFUR8ytvVKbDnacx6j+b/jqQmIDBFBVFEfNX3ojqLaV2Yveps8HgKAQMpmx26Uo0Zmb3Dp0NBkcm\\\n",
       "YDBlre5SNNvdynyw9cSViHAEAgZT1pyZje7yy5V5b+2uW0rBEQgYTFvR2Pdwy11ng8GRCBhMWVEU\\\n",
       "0b14vTKfjAauRIQjEDCowdzl16NotvbMJqOBwy3hCAQMatDqzEezPVeZb6/ediEHHJKAQQ1anYX9\\\n",
       "zwZzIQccmoBBDYpGK+Yu73M22M6mgMEhCRjUoCiKfW/qO9hai6GzweBQBAxq0r14PaLYe0upyXgY\\\n",
       "vfX7NW0EuQgY1KSz39lgpbPB4LAEDGoy012M9uLlynznyVc1bAP5CBjUpGi0Ymafs8F2Nx85GwwO\\\n",
       "QcCgLkURc1feqIyHOxsx3t2e/j6QjIBBTZ6fDfajePFssNHuTgy21upZChIRMKjR7NKVaLTae4fl\\\n",
       "JHpr9+pZCBIRMKjRzPxyNGerZ4P11u+5EhEOIGBQo+bMbHQuXKvMe0/uRJSTGjaCPAQM6lQ0ovNS\\\n",
       "NWD9zVVng8EBBAxq9PxssOrhlpPhIEZ9VyLCdxEwqFn34vUoGs09s8lo19lgcAABg5rNzC/vezbY\\\n",
       "1uoXNWwDeQgY1GymuxQz8y9V5v31e45Wge8gYFCzotmKucuvV+aD7XUBg+8gYFCzoihidvFSZT7Y\\\n",
       "WouBs8HgWwkYnALdS6/Fi7eUmoyG0d9YrWchSEDA4BToXnwlGjOze4flJAZba+7IAd9CwOAUaHUW\\\n",
       "930bcXv1dg3bQA4CBqdAozkTrU71bLD+xoMox8MaNoLTT8DghJVleeCfKIqYX7lRebtwsL0eo92d\\\n",
       "Q32Nb74WnBPFOfqGPzd/UU6XDz/8MG7evHngx13r9OLXP7sejcb/LuaYlGX87i9P4+7G6FCP9c47\\\n",
       "78QHH3wQRVEc/MHwXNpvllbdC8BZ9+mnn8ZHH3104Mf95M2V+NVPX45JzMb68GqUUcRS61F8+e9b\\\n",
       "8Yc/f36ox2o0vKnC+SFgcEp8tboZj5+N4178PB70b0QZEfPNp3H5yu2IOFzA4Dzx3zU4Jbb7w/jr\\\n",
       "Vxfifv9GlNGIiEZsjy9E+9IvouEtQagQMDglRuNJ/P1OO/Y+LYu4evlaLM136loLTi0Bg1Nk7dE/\\\n",
       "ooj/v/9hGVfmd2Jprl3bTnBaCRicIs+efBavd/4WzejHaLgTvY1/xdaDP0Z7pnnwJ8M5c24u4hiP\\\n",
       "3dWbehzlV1XuPlqPP938bdzbbMXnd9bi6dPVGAx3Yzw53NcoyzLG47HL6Dm0ZjPvf47OTcA++eST\\\n",
       "ulfgnLp79+6hP/bhxnb8/uN/HvuxHj16FLdu3Tr253P+vPfee3WvcGznJmCZ/5HI7TC/A/ZDWVlZ\\\n",
       "iXfffdcrMM4FPwMDICUBAyAlAQMgJQEDICUBAyAlAQMgpXNzGT3U5a233or3339/Ko/19ttvT+Vx\\\n",
       "4DRwoCWcsGk/x/wOGEeU9hvGKzA4YYICJ8PPwABIScAASEnAAEhJwABIScAASEnAAEhJwABIScAA\\\n",
       "SEnAAEhJwABIScAASEnAAEhJwABIScAASEnAAEhJwABIScAASEnAAEhJwABIScAASEnAAEhJwABI\\\n",
       "ScAASEnAAEhJwABIScAASEnAAEhJwABIScAASEnAAEhJwABIScAASEnAAEhJwABIScAASEnAAEhJ\\\n",
       "wABIScAASEnAAEhJwABIScAASEnAAEhJwABIScAASKlV9wJTVNS9AAA/HK/AAEhJwABIScAASEnA\\\n",
       "AEhJwABIScAASEnAAEhJwABIScAASEnAAEhJwABIScAASEnAAEhJwABIScAASEnAAEhJwABIScAA\\\n",
       "SEnAAEhJwABIScAASEnAAEhJwABIScAASEnAAEhJwABIScAASEnAAEhJwABIScAASEnAAEhJwABI\\\n",
       "ScAASEnAAEhJwABI6T8B50YQWYYRvAAAAABJRU5ErkJggg==\\\n",
       "\"\n",
       "  frames[42] = \"data:image/png;base64,iVBORw0KGgoAAAANSUhEUgAAAbAAAAEgCAYAAADVKCZpAAAAOXRFWHRTb2Z0d2FyZQBNYXRwbG90\\\n",
       "bGliIHZlcnNpb24zLjMuMywgaHR0cHM6Ly9tYXRwbG90bGliLm9yZy/Il7ecAAAACXBIWXMAAAsT\\\n",
       "AAALEwEAmpwYAAAKe0lEQVR4nO3dT29c5RXA4XPnr+04ThxD+I9YVEVQ9lV3VKQS+34JvgGrLvpB\\\n",
       "+k1QlRWsqhY1i9ICBQwJsePYTjzj8czcuV2kgk4mCbbpzPWxn2d55OATMaNfJn5z36KqqgCAbBp1\\\n",
       "LwAApyFgAKQkYACkJGAApCRgAKQkYACkJGAApCRgAKQkYACkJGAApCRgAKQkYACkJGAApCRgAKQk\\\n",
       "YACkJGAApCRgAKQkYACkJGAApCRgAKQkYACkJGAApCRgAKQkYACkJGAApCRgAKQkYACkJGAApCRg\\\n",
       "AKQkYACkJGAApCRgAKQkYACkJGAApNSqe4EFqupeAOAMKupe4LR8AgMgJQEDICUBAyAlAQMgJQED\\\n",
       "ICUBAyAlAQMgJQEDICUBAyAlAQMgJQEDICUBAyAlAQMgJQEDICUBAyAlAQMgJQEDICUBAyAlAQMg\\\n",
       "JQEDICUBAyAlAQMgJQEDICUBAyAlAQMgJQEDICUBAyAlAQMgJQEDICUBAyAlAQMgJQEDICUBAyAl\\\n",
       "AQMgJQEDICUBAyAlAQMgJQEDICUBAyAlAQMgJQEDICUBAyAlAQMgJQEDICUBAyAlAQMgJQEDICUB\\\n",
       "AyAlAQMgJQEDICUBAyAlAQMgJQEDICUBAyAlAQMgJQEDICUBAyAlAQMgJQEDICUBAyAlAQMgJQED\\\n",
       "ICUBAyAlAQMgJQEDICUBAyAlAQMgJQEDICUBAyAlAQMgJQEDICUBAyAlAQMgJQEDICUBAyAlAQMg\\\n",
       "JQEDICUBAyAlAQMgJQEDICUBAyAlAQMgJQEDICUBAyAlAQMgJQEDICUBAyAlAQMgJQEDICUBAyAl\\\n",
       "AQMgJQEDIKVW3QvAeVdVVVTlOCblMIYPd2J4cD/WXnsnGk1vP/g5vINgjvr3NmPr1p/j8P63MR70\\\n",
       "YtTfj0a7G2///g/RWV2vez1ITcBgjgb738fOPz+JiOqHWTmcxGDvjoDBz+RnYDBHy+uvRPH4XxVW\\\n",
       "kxj19+tZCM4RAYM5ai1fjvby5Zn5wd0vo6qqJ/wK4LgEDOao2VmOzuq1mfnhzmZUk7KGjeD8EDCY\\\n",
       "o6LRjOVrr8zMx4ODmIyHNWwE54eAwRwVRRFL6y/PzIe9vRj19ha/EJwjAgZztnT1xYhi+q1WlePo\\\n",
       "72zWtBGcDwIGc7Z09YVotruPTasY9fcc5ICfQcBgzp52kKO39e8atoHzQ8BgzhqtTnTXnp+ZH96/\\\n",
       "HZPRUQ0bwfkgYDB3RSxvvDozLYf9mIwFDE5LwGDOiqKI5fWXI6KYmo8HvRjsb9WzFJwDAgYL0F27\\\n",
       "Ho1We3pYTaK//XU9C8E5IGCwAJ3LG9HsrszMh71dJxHhlAQMFuBpBzn6219HCBicioDBAhSNZixd\\\n",
       "eWFmfvRgK8ZHBzVsBPkJGCzIynOvz8zK0SDKo8MatoH8BAwWoCiKWLr6YhSN5tR8MjqKw93bNW0F\\\n",
       "uQkYLEhndSMaM4+U8kQOOC0BgwVpr6xFe+XKzPzRMxEnNWwEuQkYLEjRaD16Mv1j+vc2oyrHNWwE\\\n",
       "uQkYLEjRaMTS1Zdm5qPebgzdDQYnJmCwQE86iTgZj2I8cJQeTkrAYIG6a89Fo9WZmlWTcRzubHoi\\\n",
       "B5yQgMECtVeuRrN7aWbuJCKcnIDBArW6l6J7eWNmPurvRziJCCciYLBIRRFL6y/PjA9370Tpcks4\\\n",
       "EQGDBfrxbrBp48HDOHqwXcNGkJeAwYItb7waUUxfblmVZYwPH9S0EeQkYLBgndX1aHYevxusit72\\\n",
       "V04iwgkIGCxYa+lytFfWZua9ra8iQsDguAQMFqzR6jzxbrDx4cOoyrKGjSAnAYMaLF97ZWZ29GDb\\\n",
       "EzngBAQMFqz44Sj99EGOcjRwNxicgIBBDZbXX4qiOX25ZVSTR/+gGTgWAYMatJbXor08e5Cj7yQi\\\n",
       "HJuAQQ2aneXorF6bmffvfRPVxEEOOA4BgxoUjeYTHyk1HhzEZDysYSPIR8CgBkVRPPEk4rC3FyOX\\\n",
       "W8KxCBjUZOnqixHF9FuwKkfR39msaSPIRcCgJktXrkez3Z2Zj3p7DnLAMQgY1KTZXYn2pfWZeW/b\\\n",
       "5ZZwHAIGNWm0OtFde35mfnj/dkzcDQY/ScCgNkWsbLw6My2H/ShHgxr2gVwEDGry40nE6UdKjQc9\\\n",
       "l1vCMQgY1Ki7dj0arfb0sJpEf/urWvaBTAQMatS5fO0Jl1s++vdgTiLCswkY1KjR6j7xIEd/++sI\\\n",
       "AYNnEjCoUdFoxtLV2cstjx5sxfjI3WDwLAIGNVveeG1mVo4GUR71a9gG8hAwqFFRFI/uBmtM3w02\\\n",
       "GR3F4e6dmraCHAQMatZZ3YhGe2lm3tvyRA54FgGDmrVX1qK9Mnu55aNnIk5q2AhyEDCoWdFoxdLV\\\n",
       "l2bm/Z3NqMpxDRtBDgIGNSsajVhenw3YqLcbQ3eDwVMJGJwBy094JuJkPIrxwFF6eBoBgzPg0SOl\\\n",
       "OlOzajKOw51vPZEDnkLA4Axor1yJZvfSzLy39WUN20AOrboXgPPsuJ+eWt2V6Kxei1Fvd2o+6u9H\\\n",
       "VJOoTvBnzaIofvqL4BwoLtBfT1yY3yhnx3A4jA8//DA2Nzef+XVVVcVvXinjt+9MP1bqwWASf/pk\\\n",
       "Lwaj4718P/jgg7hx48ap9+VCSvsnHp/AYI7KsoyPPvoobt269ZNf23z37Xj3V9djOFmJvdHzURST\\\n",
       "uFTcjr98fDP+8c29Y32/999//+euDGkIGJwRn393Px6OrsRf938XD8fXIqKKjfZmXF79KCKOFzC4\\\n",
       "SBzigDPizs5BfLr9y//Gq4iIRuyMXo/1F35d92pwJgkYnBH7B4P4bjdi+kcSRfzi9dfDuQyYJWBw\\\n",
       "RhwOx7F7/5v43/NGRUzitfVRtJvNp/9CuKAEDM6Q8e7NuN79JqrJMAaDgyj3P45J7+/RaQsYPO7C\\\n",
       "HOIoy7LuFbiAyrI80ZM0/vbZv+Jh74/x+d0qvt3ai4OH30dZjqOcHO+/MZlMvNY5kWbiT/cXJmA3\\\n",
       "b96sewUuoOFwGL1e79hf/+kXd+PTL+6e+vt99tlnXuucyHvvvVf3Cqd2YQKW+X8SeR0eHsbq6urC\\\n",
       "vt9bb73ltc6F4WdgAKQkYACkJGAApCRgAKQkYACkJGAApHRhjtFDHZrNZty4cSPefPPNhXy/N954\\\n",
       "YyHfB84CF1rCHNXx/nIjMyeU9gXjExjMkZjA/PgZGAApCRgAKQkYACkJGAApCRgAKQkYACkJGAAp\\\n",
       "CRgAKQkYACkJGAApCRgAKQkYACkJGAApCRgAKQkYACkJGAApCRgAKQkYACkJGAApCRgAKQkYACkJ\\\n",
       "GAApCRgAKQkYACkJGAApCRgAKQkYACkJGAApCRgAKQkYACkJGAApCRgAKQkYACkJGAApCRgAKQkY\\\n",
       "ACkJGAApCRgAKQkYACkJGAApCRgAKQkYACkJGAApCRgAKbXqXmCBiroXAOD/xycwAFISMABSEjAA\\\n",
       "UhIwAFISMABSEjAAUhIwAFISMABSEjAAUhIwAFISMABSEjAAUhIwAFISMABSEjAAUhIwAFISMABS\\\n",
       "EjAAUhIwAFISMABSEjAAUhIwAFISMABSEjAAUhIwAFISMABSEjAAUhIwAFISMABSEjAAUhIwAFIS\\\n",
       "MABSEjAAUhIwAFISMABS+g+/6CMn7x3vPwAAAABJRU5ErkJggg==\\\n",
       "\"\n",
       "  frames[43] = \"data:image/png;base64,iVBORw0KGgoAAAANSUhEUgAAAbAAAAEgCAYAAADVKCZpAAAAOXRFWHRTb2Z0d2FyZQBNYXRwbG90\\\n",
       "bGliIHZlcnNpb24zLjMuMywgaHR0cHM6Ly9tYXRwbG90bGliLm9yZy/Il7ecAAAACXBIWXMAAAsT\\\n",
       "AAALEwEAmpwYAAAKtUlEQVR4nO3dS2+c53XA8fPOjTO8SJQoy7c4bgKkMJAgm3hRdNOFd135Q/Qz\\\n",
       "eOkv4A9SIEUAb7JqAwjdGPDCKBp4kSB1FMtWdDHFmzic+2QhICj1MuIlnnl4yN9veUCZxwCJv0bz\\\n",
       "zPtU8/k8ACCbRukFAOAiBAyAlAQMgJQEDICUBAyAlAQMgJQEDICUBAyAlAQMgJQEDICUBAyAlAQM\\\n",
       "gJQEDICUBAyAlAQMgJQEDICUBAyAlAQMgJQEDICUBAyAlAQMgJQEDICUBAyAlAQMgJQEDICUBAyA\\\n",
       "lAQMgJQEDICUBAyAlAQMgJQEDICUBAyAlAQMgJQEDICUWqUXWKJ56QUALqGq9AIX5RUYACkJGAAp\\\n",
       "CRgAKQkYACkJGAApCRgAKQkYACkJGAApCRgAKQkYACkJGAApCRgAKQkYACkJGAApCRgAKQkYACkJ\\\n",
       "GAApCRgAKQkYACkJGAApCRgAKQkYACkJGAApCRgAKQkYACkJGAApCRgAKQkYACkJGAApCRgAKQkY\\\n",
       "ACkJGAApCRgAKQkYACkJGAApCRgAKQkYACkJGAApCRgAKQkYACkJGAApCRgAKQkYACkJGAApCRgA\\\n",
       "KQkYACkJGAApCRgAKQkYACkJGAApCRgAKQkYACkJGAApCRgAKQkYACkJGAApCRgAKQkYACkJGAAp\\\n",
       "CRgAKQkYACkJGAApCRgAKQkYACkJGAApCRgAKQkYACkJGAApCRgAKQkYACkJGAApCRgAKQkYACkJ\\\n",
       "GAApCRgAKQkYACkJGAApCRgAKQkYACkJGAApCRgAKQkYACkJGAApCRgAKQkYACkJGAApCRgAKQkY\\\n",
       "ACkJGAApCRgAKQkYACkJGAAptUovAFfdfDaN2XQS4/5ujA62Y7D3JLb+8Z+i2e6WXg1SEzBYoIOH\\\n",
       "v4vH//tfMdh9FJPBQUzHw2i2V2Lz3Z8LGPydBAwWaHy0H3tf/zYi5n+dTcfDGOw+is767XKLwRXg\\\n",
       "PTBYoN7tH0Sj1T4+nM9i3N8rsxBcIQIGC9RZuxXttVu1+fPHX8V8Pj/hTwBnJWCwQFWzFe3eRm1+\\\n",
       "tP0g5rNpgY3g6hAwWKCq0Yze7bdr88ngecwmowIbwdUhYLBAVVVF99ZbtfnocDfG/d3lLwRXiIDB\\\n",
       "gr04bVgdm81n0xjuf1dmIbgiBAwWrHf7rWh2XvrM13wWo+fPHOSAv4OAwYI1291orqzW5oePvyqw\\\n",
       "DVwdAgYL1uysxsrGa7X5uL8XMZ8V2AiuBgGDRauqWHv9R7XxYPdRTEeDAgvB1SBgsGBVVZ342KjJ\\\n",
       "4CCG+08KbARXg4DBEvRuvRVRvXwScRbj/n6hjSA/AYMl6KxvRWtl7aXpPPrbD4rsA1eBgMESNDvd\\\n",
       "aHZ6tflg52HMHeSACxEwWIJGu3viI6VGhzsRPgsGFyJgsCSrd96tzYZ7T2J8dFBgG8hPwGAJXpxE\\\n",
       "rF+rMh0dxXD/aYGNID8BgyXpbb0TVfP4Jejz2dTllnBBAgZL0uquRbNz0iOl/q/ANpCfgMGStFbW\\\n",
       "o9Vdr81HhzsxnzmJCOclYLAkVbMVq1vv1OaD3ccxn00KbAS5CRgsSVVV0btdv9xy3N/zRA64AAGD\\\n",
       "JepuvlGbzcbDmAwPC2wDuQkYLFF3881otFeOzeazSfS/+9rllnBOAgZL1Oz0otnu1ub9p/eXvwwk\\\n",
       "J2CwRK3uWqzcqF9uOTrc9UgpOCcBg2WqGrFy825tPNh5GNOxyy3hPAQMlqiqqljZuFObT0dHMRk8\\\n",
       "L7AR5CVgsGRrd39Uu9xyOh7EuL9bZiFISsBgyTobd6LZfulusPk8+k//VGYhSErAYMla3fVoduon\\\n",
       "EY+ePXSUHs5BwGDJmp1udG/Vn8gx3H8S4XZmODMBg6WrorO2WZsO95/GZOCJHHBWAgYFrN75YW02\\\n",
       "HQ9iOuoX2AZyEjBYsqqqorv5RlSN5rH5bDyMwe6jQltBPgIGBXTWt6JxwiOlBAzOTsCggPbqjWiv\\\n",
       "3qjNX5xEdJADzkLAoICq0TrxapWjZ9/EfDotsBHkI2BQQNVoRGftVm0+PjqIydAjpeAsBAwKWXv9\\\n",
       "x7XZdNR3lB7OSMCgkPbqZu0k4nz64nJL4HQCBoWsbNyJRqtTm48PdzxSCs5AwKCQVnctOidcrdLf\\\n",
       "flBgG8hHwKCQqtmK7gmXWw73nsZsMiqwEeQiYFBIVTWiu/lmbT7u78Z06CAHnEbAoKDVO+9ExPHL\\\n",
       "LSfDfoyePyuzECQiYFBQe/VmVI2Xfg3nszh69rDMQpCIgEFBKzfuRqu7XpuPDp85iQinEDAoqNFq\\\n",
       "R/uEu8EOH/8xIgQMXkXAoKCq2Y7uzddr8/HRvpOIcAoBg8LW7tYfKTU+3InJwDMR4VUEDAqqqio6\\\n",
       "G1sR1fFfxenoyEEOOIWAQWErG3dqz0SMiBg93y6wDeQhYFBYZ/1WdE44yDHY+bOTiPAKAgaFVc1W\\\n",
       "tLobtXl/+5uYz1xuCX+LgEFhVaMVva0f1OaTwfOYTycFNoIcBAwKq6oq1k+43HJ8uBPj/u7yF4Ik\\\n",
       "WqUXgKvsrO9htXo3X5xEnM/+OptNJzE82I6VEz4n9ipVVZ3+RXAFVNfoTeJr8z/K5fHgwYP46KOP\\\n",
       "Yjwev/LrNlaq+Ld/3oxu+/g/itz7wzA+++psnwfrdDrxySefxNtvv33hfbmW0v6NxyswWKD9/f34\\\n",
       "9NNPYzAYvPLrVrvt+NeffBj/8OZWPJ/cjP70Zqy3dmK0+0X86le/OdP36vV68fHHH38fa0MKAgaX\\\n",
       "wGA4ie2DQQzXfxH3+z+N6bwdncYgYnUY7da9GE+cRoSXOcQBl8BsPo/Pfj+J+/2fxXTeiYgqRrNe\\\n",
       "7LX+JdqtldLrwaUkYHBJfPtsFNPZ8Sdy9FZvx92t1wptBJebgMElcf/bB1HF/3+vbB43Vw7ijc20\\\n",
       "77HDQgkYXBLb2w/izeq/o9fYj8lkGAd7X0d779fRbs5O/8NwDV2bQxzTqTfBWb7z/NwNRuP4z3v/\\\n",
       "HgeDX8b//LEf+/tPYjw+PNcBjul06medc2k26w+SzuLaBOzevXulV+Aaun//fsxmZ3sFNRhN4j/u\\\n",
       "fXnh7zWbzeLzzz+PR48eXfi/wfXzwQcflF7hwnyQGRboyy+/jPfff//Uz4F9H3q9XnzxxRfx3nvv\\\n",
       "Lfx7caWkfZPVe2AApCRgAKQkYACkJGAApCRgAKQkYACkdG0+BwYl3LhxIz788MNT7wP7PnQ6ndjY\\\n",
       "2Fj494HLwufAYIFK/H65kZlzSvsD4xUYLJCYwOJ4DwyAlAQMgJQEDICUBAyAlAQMgJQEDICUBAyA\\\n",
       "lAQMgJQEDICUBAyAlAQMgJQEDICUBAyAlAQMgJQEDICUBAyAlAQMgJQEDICUBAyAlAQMgJQEDICU\\\n",
       "BAyAlAQMgJQEDICUBAyAlAQMgJQEDICUBAyAlAQMgJQEDICUBAyAlAQMgJQEDICUBAyAlAQMgJQE\\\n",
       "DICUBAyAlAQMgJQEDICUBAyAlAQMgJQEDICUBAyAlAQMgJRapRdYoqr0AgB8f7wCAyAlAQMgJQED\\\n",
       "ICUBAyAlAQMgJQEDICUBAyAlAQMgJQEDICUBAyAlAQMgJQEDICUBAyAlAQMgJQEDICUBAyAlAQMg\\\n",
       "JQEDICUBAyAlAQMgJQEDICUBAyAlAQMgJQEDICUBAyAlAQMgJQEDICUBAyAlAQMgJQEDICUBAyAl\\\n",
       "AQMgJQEDICUBAyAlAQMgpb8AZ+8jV21dfgYAAAAASUVORK5CYII=\\\n",
       "\"\n",
       "  frames[44] = \"data:image/png;base64,iVBORw0KGgoAAAANSUhEUgAAAbAAAAEgCAYAAADVKCZpAAAAOXRFWHRTb2Z0d2FyZQBNYXRwbG90\\\n",
       "bGliIHZlcnNpb24zLjMuMywgaHR0cHM6Ly9tYXRwbG90bGliLm9yZy/Il7ecAAAACXBIWXMAAAsT\\\n",
       "AAALEwEAmpwYAAAKiklEQVR4nO3dTW9c53XA8XPnzgyHHFHvcW3HzRuCBkUAL1IYXiRdeedvkI0/\\\n",
       "hDf+Stk1TVIj3RTOJosECBLAQIEEjd9ku5YpUSI5nNc7twsHRaiRLYryzMND/n7LA0E8gjj4a8Rn\\\n",
       "nlu1bRsAkE2n9AIAcBYCBkBKAgZASgIGQEoCBkBKAgZASgIGQEoCBkBKAgZASgIGQEoCBkBKAgZA\\\n",
       "SgIGQEoCBkBKAgZASgIGQEoCBkBKAgZASgIGQEoCBkBKAgZASgIGQEoCBkBKAgZASgIGQEoCBkBK\\\n",
       "AgZASgIGQEoCBkBKAgZASgIGQEoCBkBKAgZASgIGQErd0gtsUFt6AYBzqCq9wFl5BwZASgIGQEoC\\\n",
       "BkBKAgZASgIGQEoCBkBKAgZASgIGQEoCBkBKAgZASgIGQEoCBkBKAgZASgIGQEoCBkBKAgZASgIG\\\n",
       "QEoCBkBKAgZASgIGQEoCBkBKAgZASgIGQEoCBkBKAgZASgIGQEoCBkBKAgZASgIGQEoCBkBKAgZA\\\n",
       "SgIGQEoCBkBKAgZASgIGQEoCBkBKAgZASgIGQEoCBkBKAgZASgIGQEoCBkBKAgZASgIGQEoCBkBK\\\n",
       "AgZASgIGQEoCBkBKAgZASgIGQEoCBkBKAgZASgIGQEoCBkBKAgZASgIGQEoCBkBKAgZASgIGQEoC\\\n",
       "BkBKAgZASgIGQEoCBkBKAgZASgIGQEoCBkBKAgZASgIGQEoCBkBKAgZASgIGQEoCBkBKAgZASgIG\\\n",
       "QEoCBkBKAgZASgIGQEoCBkBKAgZASgIGQEoCBkBKAgZASgIGQEoCBkBKAgZASgIGQEoCBkBKAgZA\\\n",
       "SgIGQEoCBkBKAgZASgIGG9a2bbRtW3oNSK9begG4yNplE8tmEc10FPPxYRzvfRDNbBy3f/Dj6A6u\\\n",
       "lF4PUhMwWKP99/4Qn/z+F9HMxtHMjqNdNtHp9uPqSz8UMHhG/gsR1qh/5VbMju7HYnIY7bKJiIjl\\\n",
       "YhbTg88Lbwb5CRisUXdwJTrd3sp8dnSvwDZwsQgYrFF/eD16w+sr88mD/3WQA56RgME6VZ3obg1X\\\n",
       "xuN7d/7/vxSBsxEwWKOqU8f2zW+uzBeTo1guZgU2gotDwGCNqqqKwY0XV+az0YOYHz/Y/EJwgQgY\\\n",
       "rFn/ys2IqE4O22U00+Mi+8BFIWCwZts3X4y6Pzgxa5dNjO9/UmgjuBgEDNas7g2i3tpZmY/3P3YS\\\n",
       "EZ6BgMGa1f2d6A9vrMxnR/cLbAMXh4DBulVV9K/cWhmP738cy/mkwEJwMQgYrFlVVbF17bmVeTOb\\\n",
       "xGI6KrARXAwCBhsw/Ma3I6qTJxGb2XHMjvYLbQT5CRhsQHf7alSd+uSw9XMweBYCBhuwdfX2Yx6f\\\n",
       "0sb04V0nEeGMBAw2oNPt/+0DzScd730QEQIGZyFgsAFVpxu97Wsr8/nxQbSNS33hLAQMNmT75uqd\\\n",
       "iNPDz51EhDMSMNiA6ks+C7ZczBzkgDMSMNiQndvfiqrunpi1zSLmxw8LbQS5CRhsSHcwjLo3WJlP\\\n",
       "9l3qC2chYLAh3cFudLevrsxnR/cdpYczEDDYkKquH3uQY/T5B9E2iwIbQW4CBhtSVZ3obg1X5s10\\\n",
       "FI1LfeGpCRhs0PC5767M5uPDWIwPC2wDuQkYbFBv51pEdfJl1zaLGO9/XGgjyEvAYIMG15+Purf1\\\n",
       "yLSNxWTkIAc8JQGDDar721+8C3vE8efvb34ZSE7AYIM63a3H3EofX3yYuV0W2AjyEjDYpKqKwY3V\\\n",
       "o/Tj/U+jmU8LLAR5CRhs0Bd3Iq4+VqWZjV0pBU9JwGDDhs99N6KqTsyWi2ksxgeFNoKcBAw2rLe9\\\n",
       "G526f3LYtjG6+36RfSArAYMN6w1vRL21vTJvZmNH6eEpCBhsWN3bisG151fmo7vvRQgYnJqAwaZV\\\n",
       "nce+A5uPD2LZzAosBDkJGBTw2DsRR/vRTMcFtoGcBAw2rKqq6O1cj4iTJxGb+TQmDz8rshNkJGBQ\\\n",
       "wM6tl6Kq65PDdumzYPAUBAwK6A6uPPZKqdHdvxbYBnISMCig7u98ycMtx9G6ExFORcCggKruxs7t\\\n",
       "b63Mx/fvRNs0BTaCfAQMCqiqKur+447SH8ZielRgI8hHwKCQ4T98b2XWzI5jMRkV2AbyETAopLdz\\\n",
       "ParOyZOIbbOI470PC20EuQgYFLK1ezs63f7KfDmfuBMRTkHAoJDuYBj93dsr86PP/qfANpCPgEEh\\\n",
       "Vacbve3dlfl89DDapZOI8CQCBqVUVex84zsr4+nhXiwXLvWFJxEwKKSqquhu7azMF5OjmB3eK7AR\\\n",
       "5CJgUNDO7W9HVCcv9W2Xi1hMDgttBHkIGBTUG16PuvfIB5rbNkZ33y+yD2QiYFBQd3Al6v5gZb6Y\\\n",
       "jhylhycQMCio7g9icOPFlfnx3ocRAgZfScCgqCr6wxsr0/loP5r5pMA+kIeAQWHbt15amS0mR7EU\\\n",
       "MPhKAgYFVVUVvZ1rKycRm9kkxvc/KbQV5CBgUNjg2nNRdbqPTNuYjfaL7ANZPPqqAb4mpz1F2Nu5\\\n",
       "Hr2dazE73DsxH9/76KlPIlaPvJODi6y6REd1L80flPNhNBrFm2++GffuffWtGnUV8dN/GcY/3jx5\\\n",
       "nP6Dh5342e/2YnnK1+hbb70Vr7zyypn35dJK+68e78BgTebzebz99ttx586dJ/7a7w/+NV76yT/H\\\n",
       "cbMbh4ubMeiMYnb0l/j3n/9bzBanu9j3jTfeeNaVIRUBg3Pgo7sH8dH4B/HfB6/GvN2KulrE873f\\\n",
       "xq1r/xmf3jsovR6cSw5xwDnw18+m8efDH8W8HUREFU3biw+nr0a19ULp1eDcEjA4Bz7eG8doevLl\\\n",
       "WNdb8cLz/1RoIzj/BAzOgQeHDyOag/j7s0b9ehIvf9OHmeHLCBicA0ejg7g6/XUM6/uxWExjPrkX\\\n",
       "w9Evo156Lhh8mUtziKNpPKKdzWqa5tSf42qaZfzqv/4jBoN34o/vjaNZjOLgcC8WzfLUX2+5XPo+\\\n",
       "56nVdV16hTO7NAF75513Sq/AJXN0dBTT6fRUv7aNiN/86f1n+nrvvvtu7O7uPtPvweXz2muvlV7h\\\n",
       "zC5NwDL/JZHTgwcPYjBYfdbXurz88su+z7lU/AwMgJQEDICUBAyAlAQMgJQEDICUBAyAlC7NMXrY\\\n",
       "tF6vF6+//voTnwf2dXnhBRf/crl4oCWsSYnXlicycwZpv2m8A4M1ERNYLz8DAyAlAQMgJQEDICUB\\\n",
       "AyAlAQMgJQEDICUBAyAlAQMgJQEDICUBAyAlAQMgJQEDICUBAyAlAQMgJQEDICUBAyAlAQMgJQED\\\n",
       "ICUBAyAlAQMgJQEDICUBAyAlAQMgJQEDICUBAyAlAQMgJQEDICUBAyAlAQMgJQEDICUBAyAlAQMg\\\n",
       "JQEDICUBAyAlAQMgJQEDICUBAyAlAQMgJQEDICUBAyAlAQMgJQEDICUBAyAlAQMgpW7pBTaoKr0A\\\n",
       "AF8f78AASEnAAEhJwABIScAASEnAAEhJwABIScAASEnAAEhJwABIScAASEnAAEhJwABIScAASEnA\\\n",
       "AEhJwABIScAASEnAAEhJwABIScAASEnAAEhJwABIScAASEnAAEhJwABIScAASEnAAEhJwABIScAA\\\n",
       "SEnAAEhJwABIScAASEnAAEhJwABIScAASEnAAEjp/wDXCCA+Y1ztHQAAAABJRU5ErkJggg==\\\n",
       "\"\n",
       "  frames[45] = \"data:image/png;base64,iVBORw0KGgoAAAANSUhEUgAAAbAAAAEgCAYAAADVKCZpAAAAOXRFWHRTb2Z0d2FyZQBNYXRwbG90\\\n",
       "bGliIHZlcnNpb24zLjMuMywgaHR0cHM6Ly9tYXRwbG90bGliLm9yZy/Il7ecAAAACXBIWXMAAAsT\\\n",
       "AAALEwEAmpwYAAAKaUlEQVR4nO3dTW9cZxXA8XPnxfbYaZyEklIolSpALULAgkqoLOkWdcGC79F+\\\n",
       "hX4BPgVrWkAgAVJZg1SprFBpgTZtIS+OG3vsebv3sigCnDFk4nbuk2P/fqvoyIlPFFv/zPi591Zt\\\n",
       "2wYAZNMrvQAAnIWAAZCSgAGQkoABkJKAAZCSgAGQkoABkJKAAZCSgAGQkoABkJKAAZCSgAGQkoAB\\\n",
       "kJKAAZCSgAGQkoABkJKAAZCSgAGQkoABkJKAAZCSgAGQkoABkJKAAZCSgAGQkoABkJKAAZCSgAGQ\\\n",
       "koABkJKAAZCSgAGQkoABkJKAAZCSgAGQkoABkNKg9AIdaksvAPAIqkovcFZegQGQkoABkJKAAZCS\\\n",
       "gAGQkoABkJKAAZCSgAGQkoABkJKAAZCSgAGQkoABkJKAAZCSgAGQkoABkJKAAZCSgAGQkoABkJKA\\\n",
       "AZCSgAGQkoABkJKAAZCSgAGQkoABkJKAAZCSgAGQkoABkJKAAZCSgAGQkoABkJKAAZCSgAGQkoAB\\\n",
       "kJKAAZCSgAGQkoABkJKAAZCSgAGQkoABkJKAAZCSgAGQkoABkJKAAZCSgAGQkoABkJKAAZCSgAGQ\\\n",
       "koABkJKAAZCSgAGQkoABkJKAAZCSgAGQkoABkJKAAZCSgAGQkoABkJKAAZCSgAGQkoABkJKAAZCS\\\n",
       "gAGQkoABkJKAAZCSgAGQkoABkJKAAZCSgAGQkoABkJKAAZCSgAGQkoABkJKAAZCSgAGQkoABkJKA\\\n",
       "AZCSgAGQkoABkJKAAZCSgAGQkoABkJKAAZCSgAGQkoABkJKAAZCSgAGQkoABkJKAAZCSgAGQkoAB\\\n",
       "kJKAAZCSgAGQ0qD0AnCRtG37719XVVVwE8hPwGCNmnoR049vRrOYxfjWX6OZT+Lozo348vd+FMPR\\\n",
       "5dLrQWoCBmt0vPdBvP2LH0ezmEbb1J8Mqyo+97Xvxu7T3yy7HCTnZ2CwRr3BMJp6/p94RUS0bdTz\\\n",
       "Sbml4JwQMFij4Wg3htu7S/PxP94tsA2cLwIGa9QbbER/uLk0r2fHJw50AA9PwGCNqn4/Rp97aml+\\\n",
       "dPu9aOtFgY3g/BAwWKOq6kV/Y3tp3ixm0dTzAhvB+SFgsGY7159Zms3G+zE/2u9+GThHBAzWrL8x\\\n",
       "ioj7Llpum6inR0X2gfNCwGDNRte+GP2NrROztqnjeO/DQhvB+SBgsGZVbxBxym2j5kf7TiLCpyBg\\\n",
       "sGaDzZ3YfOzzS3OvwODTETBYs6rXj94p14LNjz+OtnGUHs5KwGDdqur0k4iHe9EsHKWHsxIwWLOq\\\n",
       "qv51EvGkejaJxfG9AhvB+SBg0IGd688sHeRoFtOYHx8U2gjyEzDoQH+4GVV137db28Zk/6MyC8E5\\\n",
       "IGDQgc3L12Ow9djSfH70saP0cEYCBh34XycRj+/ciAgBg7MQMOhAb7gZo6tPLs0Xk8MIr8DgTAQM\\\n",
       "OnLaW4jTe7diMR0X2AbyEzDoyPbjX16aNYtZtE1dYBvIT8CgA1VVxWB0+ZSj9LOY3rtdaCvITcCg\\\n",
       "I1u7T3xyY9//0jb1Jz8HAx6agEFH+pujU+/IcXT7vQLbQH4CBh0ZbF6KwdbO0nwxOXQtGJyBgEFH\\\n",
       "ql7v9Meq3HnfQQ44AwGDjlS9fgx3rizN69kkom26XwiSEzDo0Ojal5Zms/FezA7vFtgGchMw6NBw\\\n",
       "e3dp1jZ1NItZgW0gNwGDDm1deSJ6g5P3RGzrRRzd/luhjSAvAYMO9TdGUfX6S/N6duwkIjwkAYMO\\\n",
       "DTYvxebl5ZOI45t/KbAN5CZg0KH/9ViVenbsJCI8JAGDLlVV7Fx/Zml8fPejqOfTAgtBXgIGHaqq\\\n",
       "6tTbSbX1PJr5pMBGkJeAQcd2rj+zdFf6xXQcs8O9QhtBTgIGHesPN6Oq7juJ2EbMxvtF9oGsBAw6\\\n",
       "tnn5egy2Lt03bWOy//ci+0BWAgZdq6qoesvferODO64Fg4cgYNCx/sZWbF394tJ8eu9WhIDBygQM\\\n",
       "OldFf2NraTo/2o/aSURYmYBBAZee+MrSbDE5jGbhWjBYlYBBx6qqit5w+RVYs5h98jYisBIBgwK2\\\n",
       "H386qv7gxKxt6lhMxoU2gnwEDAroDTai1x8uzT1WBVYnYFDAxs6VGG5fWZovJmNH6WFFAgYlVL0Y\\\n",
       "bO0sjY/vvB9tUxdYCPIRMCig6vVPvRasnk08VgVWJGBQQFVVsbFzZWk+G+/F7PBu9wtBQgIGhWxd\\\n",
       "fXJp1jZNtK23EGEVAgaFDLevLB+lrxdxvPdBoY0gFwGDQjZ2rp5ylL6NenrkJCKsQMCgkP7GVgy3\\\n",
       "d5fm45t/KbAN5CNgUEhvsHnKc8EiFtOjAttAPgIGpVTVqUfpJ3c/jMZd6eGBBAwKqaoqhqPLS/Nm\\\n",
       "MXMxM6xAwKCg7cefjojqxGwxOYzJxzfLLASJCBgU1N/cjqhOBqxtG28hwgoEDAra2r2+fE/Eto3x\\\n",
       "zb8W2QcyGTz4Q4CHtep1XFV/eOpjVRbTh78rfXXfKzk476oLdMHkhfmLUt6dO3filVdeifH4/z+g\\\n",
       "sm2b+OG3duK5J7dPzN+7O4+f/P7eSl+0vV4vXn311Xj22Wc/xcZcYGn/5+MVGKzB8fFxvP7667G/\\\n",
       "v//Aj/3Ote/Hs1/4ahzVj8XB4lps9w/i6ODt+PnPXovJbPHA39/v9+Pll1/+DLaGXAQMCnvrnZvx\\\n",
       "3Dd+EH86eD5mzSgG1Sye2v5dXBr9aqWAwUXlEAcUtjfuxZ8Pvh2zZjsiqli0m/HO0Quxtf350qvB\\\n",
       "I03AoLC3/nYUB7OtE7P+cCcu7z5VaCPIQcCgsGZxGL1m/78mbYx64/j6k/NSK0EKAgaF3bt3K643\\\n",
       "v41L/VuxmE9jfnwzLh29FrujWenV4JF2YQ5x1LV7y9GdpmlW/th53cRrv/lpNPHL+ON706jnB3Fw\\\n",
       "uBd1vfqfUde1r3HOpN/vl17hzC5MwN54443SK3CB3L59OxaL1U4QNk0bv/7Du2f+XG3bxptvvhnT\\\n",
       "6fTMfwYX14svvlh6hTO7MAHL/I9EPjdu3IjBoJtvr6qq4vnnn48XXnihk88Hjwo/AwMgJQEDICUB\\\n",
       "AyAlAQMgJQEDICUBAyClC3OMHro0Go3ipZdeeuDzwD4LvV4vrl27tvbPA48aD7SENSjxfeWJzJxR\\\n",
       "2i8cr8BgDcQE1s/PwABIScAASEnAAEhJwABIScAASEnAAEhJwABIScAASEnAAEhJwABIScAASEnA\\\n",
       "AEhJwABIScAASEnAAEhJwABIScAASEnAAEhJwABIScAASEnAAEhJwABIScAASEnAAEhJwABIScAA\\\n",
       "SEnAAEhJwABIScAASEnAAEhJwABIScAASEnAAEhJwABIScAASEnAAEhJwABIScAASEnAAEhJwABI\\\n",
       "ScAASEnAAEhJwABIScAASGlQeoEOVaUXAOCz4xUYACkJGAApCRgAKQkYACkJGAApCRgAKQkYACkJ\\\n",
       "GAApCRgAKQkYACkJGAApCRgAKQkYACkJGAApCRgAKQkYACkJGAApCRgAKQkYACkJGAApCRgAKQkY\\\n",
       "ACkJGAApCRgAKQkYACkJGAApCRgAKQkYACkJGAApCRgAKQkYACkJGAApCRgAKQkYACkJGAAp/RPH\\\n",
       "2BNpRi+MtwAAAABJRU5ErkJggg==\\\n",
       "\"\n",
       "  frames[46] = \"data:image/png;base64,iVBORw0KGgoAAAANSUhEUgAAAbAAAAEgCAYAAADVKCZpAAAAOXRFWHRTb2Z0d2FyZQBNYXRwbG90\\\n",
       "bGliIHZlcnNpb24zLjMuMywgaHR0cHM6Ly9tYXRwbG90bGliLm9yZy/Il7ecAAAACXBIWXMAAAsT\\\n",
       "AAALEwEAmpwYAAAKDUlEQVR4nO3dT29cVxnA4ffMjD0TO22Skj8tEhgDC1aV2CCxK2THgk2/Ah+m\\\n",
       "S5ao3yEIsYxYRCqCJQIhIVVJo1aFkj+N4yRjz3jmzmVRFo2vUcaTzr289vNIXfTUld+otn6dmXPP\\\n",
       "KXVdBwBk0+t6AABYhYABkJKAAZCSgAGQkoABkJKAAZCSgAGQkoABkJKAAZCSgAGQkoABkJKAAZCS\\\n",
       "gAGQkoABkJKAAZCSgAGQkoABkJKAAZCSgAGQkoABkJKAAZCSgAGQkoABkJKAAZCSgAGQkoABkJKA\\\n",
       "AZCSgAGQkoABkJKAAZCSgAGQkoABkJKAAZCSgAGQ0qDrAVpUdz0AwP+h0vUAq/IKDICUBAyAlAQM\\\n",
       "gJQEDICUBAyAlAQMgJQEDICUBAyAlAQMgJQEDICUBAyAlAQMgJQEDICUBAyAlAQMgJQEDICUBAyA\\\n",
       "lAQMgJQEDICUBAyAlAQMgJQEDICUBAyAlAQMgJQEDICUBAyAlAQMgJQEDICUBAyAlAQMgJQEDICU\\\n",
       "BAyAlAQMgJQEDICUBAyAlAQMgJQEDICUBAyAlAQMgJQEDICUBAyAlAQMgJQEDICUBAyAlAQMgJQE\\\n",
       "DICUBAyAlAQMgJQEDICUBAyAlAQMgJQEDICUBAyAlAQMgJQEDICUBAyAlAQMgJQEDICUBAyAlAQM\\\n",
       "gJQEDICUBAyAlAQMgJQEDICUBAyAlAQMgJQEDICUBAyAlAQMgJQEDICUBAyAlAQMgJQEDICUBAyA\\\n",
       "lAQMgJQEDICUBAyAlAQMgJQEDICUBAyAlAQMgJQEDICUBAyAlAQMgJQEDICUBAyAlAQMgJQEDICU\\\n",
       "BAyAlAQMgJQEDICUBl0PAOdFXdcv/X0ppaNJ4GwQMFijxXwWLx7cjcMn/4zFbBrjh/ejrut458e/\\\n",
       "iItv/6Dr8SA1AYM1mj5/HPdu/yYWs8lL62/98CcCBq/JZ2CwRhtbl2LjwhuN9fHDTzqYBs4WAYM1\\\n",
       "6vU3ovQ3Guv1YtHBNHC2CBisUyknvgKb7j+IRTXvYCA4OwQM1qjXH8To8tuN9dnhs4hjuxKB0xEw\\\n",
       "WLPexqixVh0dRnV00ME0cHYIGKzZ9vXvNdbmk3HMJ+P2h4EzRMBg7U56YLmOelG1PgmcJQIGaza6\\\n",
       "fCN6g+FLa3U1j4PHn3U0EZwNAgZr1t+8EKXX/FWrF/PG8VLA8gQM1qy/MYqNrUuN9fHD+x1MA2eH\\\n",
       "gMGa9QbDGIyaz4JVR5MTvhpYloDBupWI3qB5Gsf0+aNYzI86GAjOBgGDtSuxfX23sTqfvLATEV6D\\\n",
       "gMGalVKi9PqN9XpRRV3NOpgIzgYBgxZsX9+NOHaB5XwyjumzRx1NBPkJGLSgN9g8YbV2oC+8BgGD\\\n",
       "Fmxe/FYMhtsvL9a1rfTwGgQMWtDbGEbpNy9At4kDVidg0ILS60d/c6uxPt1/6DQOWJGAQQt6g80Y\\\n",
       "XbrRWD968cS9YLAiAYOWnLSRYz4dx6LyMDOsQsCgJds3vt9Ym433ojo67GAayE/AoAWllCjlpHvB\\\n",
       "wluIsCIBg5aMLr/dOJGjmk3i8Mm/OpoIchMwaMlg9EZEOfYrV9excJwUrETAoCX94Vb0Ny801t3M\\\n",
       "DKsRMGjJYLgdg9F2Y72ajjuYBvITMGhLiSi95mkc02ePnMgBKxAwaEnpDWLr6ncb60fjp1EvFh1M\\\n",
       "BLkJGLSklBK9/3EeoldgcHoCBi066Wbm2XgvjsZ7HUwDuQkYtKi3MWqs1fXCKzBYgYBBiwaji42H\\\n",
       "metqbis9rEDAoEXDN66eeKhv7WFmODUBgxaVfv/EgE2ff+leMDglAYMWDYbbMXzzWmN9uv+wg2kg\\\n",
       "NwGDVpUTH2aujg4ias+CwWkIGLSplNi+0dxKP9l/GNVs2sFAkJeAQYtKKY1diF+p//sXsCwBg5aN\\\n",
       "Lt2IiJcvt5xPXsT02aNuBoKkBAxatrF95Xi/ol5UsZjbSg+nIWDQssFwq7mVvq5jsudmZjgNAYOW\\\n",
       "bWxfOfFiy9nh8w6mgbwEDDpQSvNXrzo69DAznIKAQcv6m6MYXfl2Y/3g8acRAgZLEzBoXYlef6Ox\\\n",
       "WldV1B5mhqUJGHRg61rzZubJ/oOYT150MA3kJGDQslJKDIbbzX9QLxwnBacgYNCB/nA7jj8MVs0m\\\n",
       "cbj3RTcDQUICBh24cOWdKP1jR0rVdSzmR90MBAkJGHSg9AYnnko/Gz9tfxhISsCgA5sXr8Tm9uXG\\\n",
       "+uSptxBhWQIGnTj5VPqvHma2kQOWIWDQgdIfxNbV5lb6gy8/j7qqOpgI8hEw6EApJcoJDzMDyxMw\\\n",
       "6MjwzauNtdn4acwOnrY/DCQkYNCR4ZvXGmuLahaLyr1gsAwBg470N7caGznqReVmZlhS80EU4LUs\\\n",
       "eyXK6NL16A02ozo6/Nq/vIjZeP/U16qUUl79RXDGlHN0/9C5+YPSrdu3b8eHH374yq+7OCzxq59e\\\n",
       "jgubL78RcufeNP58b7lDfXd2duKDDz6IjQ0bQlhZ2v/78QoMvmH379+PW7duvfLrNgf9uLnzy/jR\\\n",
       "zo14OrsWs8UwLm88itneJ3Hr1h+W+l7vvvtuVFUlYJxLAgYdmVeLODgq8ZenP4sHk51YRD+2+s9i\\\n",
       "v9rvejRIwSYO6MiiruNPn2zHvye7sYhBRJQ4qC5FXPp5XBiOuh4P/u8JGHTos70LUR/7CGIab0Vd\\\n",
       "vDkCryJg0KHN6tMo8fWjo+rYvbIf37nqFRi8ioBBhx5+8ffY3fprlMXzmM8nUab3YnR4J3rFpll4\\\n",
       "lXPzPkXlgFRaslgsf5r854/24re//3X87dPDeDEpsZg9iWfjFzGbL/fzWtd1VFXl55uV9Y9frJrI\\\n",
       "uQnYnTt3uh6Bc+Ljjz9e+msf7x/E7/74j5W/13g8jo8++sg2elZ28+bNrkdY2bkJWOb/SORy9+7d\\\n",
       "1r7XxYsX47333ovRyGdmnD8+AwMgJQEDICUBAyAlAQMgJQEDICUBAyClc7ONHtqyu7sb77//fivf\\\n",
       "a2dnJ/WDqPA6XGgJ37AufqfcyMxrSPvD4xUYfMPEBNrhMzAAUhIwAFISMABSEjAAUhIwAFISMABS\\\n",
       "EjAAUhIwAFISMABSEjAAUhIwAFISMABSEjAAUhIwAFISMABSEjAAUhIwAFISMABSEjAAUhIwAFIS\\\n",
       "MABSEjAAUhIwAFISMABSEjAAUhIwAFISMABSEjAAUhIwAFISMABSEjAAUhIwAFISMABSEjAAUhIw\\\n",
       "AFISMABSEjAAUhIwAFISMABSEjAAUhIwAFISMABSEjAAUhIwAFIadD1Ai0rXAwDwzfEKDICUBAyA\\\n",
       "lAQMgJQEDICUBAyAlAQMgJQEDICUBAyAlAQMgJQEDICUBAyAlAQMgJQEDICUBAyAlAQMgJQEDICU\\\n",
       "BAyAlAQMgJQEDICUBAyAlAQMgJQEDICUBAyAlAQMgJQEDICUBAyAlAQMgJQEDICUBAyAlAQMgJQE\\\n",
       "DICUBAyAlAQMgJQEDICUBAyAlP4DUIHeMmEcL04AAAAASUVORK5CYII=\\\n",
       "\"\n",
       "  frames[47] = \"data:image/png;base64,iVBORw0KGgoAAAANSUhEUgAAAbAAAAEgCAYAAADVKCZpAAAAOXRFWHRTb2Z0d2FyZQBNYXRwbG90\\\n",
       "bGliIHZlcnNpb24zLjMuMywgaHR0cHM6Ly9tYXRwbG90bGliLm9yZy/Il7ecAAAACXBIWXMAAAsT\\\n",
       "AAALEwEAmpwYAAAJlklEQVR4nO3dT28cdxnA8Wd2dr32pqFRHNRS2ko9QFU4VaqoVAkO9ACXnngj\\\n",
       "7Wvoy+AVcO6BQjnkxAGJSkioEoI2IjQFW65DEv9be3d+HApS3TGKvfbO+LE/HymH/GR7nyhefTWz\\\n",
       "v5mpSikBANkM+h4AABYhYACkJGAApCRgAKQkYACkJGAApCRgAKQkYACkJGAApCRgAKQkYACkJGAA\\\n",
       "pCRgAKQkYACkJGAApCRgAKQkYACkJGAApCRgAKQkYACkJGAApCRgAKQkYACkJGAApCRgAKQkYACk\\\n",
       "JGAApCRgAKQkYACkJGAApCRgAKQkYACkJGAApCRgAKQ07HuADpW+BwC4hKq+B1iUIzAAUhIwAFIS\\\n",
       "MABSEjAAUhIwAFISMABSEjAAUhIwAFISMABSEjAAUhIwAFISMABSEjAAUhIwAFISMABSEjAAUhIw\\\n",
       "AFISMABSEjAAUhIwAFISMABSEjAAUhIwAFISMABSEjAAUhIwAFISMABSEjAAUhIwAFISMABSEjAA\\\n",
       "UhIwAFISMABSEjAAUhIwAFISMABSEjAAUhIwAFISMABSEjAAUhIwAFISMABSEjAAUhIwAFISMABS\\\n",
       "EjAAUhIwAFISMABSEjAAUhIwAFISMABSEjAAUhIwAFISMABSEjAAUhIwAFISMABSEjAAUhIwAFIS\\\n",
       "MABSEjAAUhIwAFISMABSEjAAUhIwAFISMABSEjAAUhIwAFISMABSEjAAUhIwAFISMABSEjAAUhIw\\\n",
       "AFISMABSEjAAUhIwAFISMABSEjAAUhIwAFISMABSEjAAUhIwAFISMABSEjAAUhIwAFISMABSEjAA\\\n",
       "UhIwAFISMABSEjAAUhr2PQBcdaWUY3+fH+5HNRhEPVrtaSK4GgQMlqg089j+2x/i8eefxGy6FxEl\\\n",
       "po8249Yrr8eLb/6i7/EgNQGDJSpNE//602/j4OEXx9bnhwc9TQRXh8/AoAelmbdOLQJnI2CwRFVd\\\n",
       "x9rtF1rre1v3ozSzHiaCq0PAYImqahDD8Y3WemlmEQ7A4FwEDPpQSpTS9D0FpCZgsGSTOy+31g53\\\n",
       "tuNo92EP08DVIWCwZPVJpxBLidI4AoPzEDDoRYnSzPseAlITMFiy1VvPxWA4PrZW5rPY27rf00Rw\\\n",
       "NQgYLFm9shbVoP1Ws40ezkfAoBNVa8XFzHA+AgZLNhzfiJWb6631nY1Pe5gGrg4BgyWrBsMT7zxf\\\n",
       "5jZxwHkIGPSkFAGD8xAwWLaqismdl1rL+9sPojlyV3pYlIDBklVVdfLFzDZxwLkIGPSllAj3Q4SF\\\n",
       "CRh0YLL+UnxzK/3sYCcOHm32MxBcAQIGHajHk9alYKU0bicF5yBg0IGqal/IHBECBucgYNCBlWfW\\\n",
       "2w+2LCV2N+/1MxBcAQIGHRiMxlHVw9a6IzBYnIBBZ066H+LMVnpYkIBBB+rROFaffa61vrtx76vt\\\n",
       "9MCZCRh0oRpEvbLWWnYKERYnYNCVEzYifnU/REdgsAgBg45M7rzcWps+2oyj/Sc9TAP5CRh0oKqq\\\n",
       "9jb6+N8pREdgsAgBg864mBkukoBBR9ZuvxDVoD62Nj/cj/3tL3qaCHITMOhIvTKJqNpvOUdgsBgB\\\n",
       "g66cfAZRwGBBAgYdGU2ejdHk2db67sanPUwD+QkYdGRQr8RgOGqtOwKDxQgYdKp9HrGZux8iLELA\\\n",
       "oCNVXcfa7e+21ve27keZz3qYCHITMOhI5X6IcKEEDDp04pOZSxOlNN0PA8kJGHTopPshHu5sx+HO\\\n",
       "dg/TQG4CBh2qT7ofYimeCQYLEDDoXYnS2MQBZyVg0KHVW8/HYDg+tlbms9jbut/TRJCXgEGH6tFq\\\n",
       "VAP3Q4SLIGBwCbiYGc5OwKBDw9UbsXLzTmt9d+OzHqaB3AQMOlQNhlGPxq11pxDh7AQMLoGvAuYU\\\n",
       "IpyFgEGXqurEi5n3tx9EczTtYSDIS8CgQ1VVRT2etNZLmdvEAWckYHAZlOJzMDgjAYOOTdZfjm8+\\\n",
       "F+xo/0lMH2/2MxAkJWDQsXo8OeG5liVK4470cBYCBpeE+yHC2QgYdGz8rTsx/OZd6UuJ3c17/QwE\\\n",
       "SQkYdGwwHEdVD1vrTiHC2QgYXBJlfmQrPZyBgEHH6tE4Vm8931rf3bznwZZwBgIGXasGUY9WW8tO\\\n",
       "IcLZCBj0orWPPkozj1JEDE5LwOCClFJO9SciYvLt9v0QDx5txOxg59Q/x+dlXHfVNXoTXJt/KP3Y\\\n",
       "3t6O9957L3Z3d5/6ta+/OI6f/+CZY2sHR0388vePYmf69KOwwWAQ77//frz66qsLzwv/1T4dkER7\\\n",
       "Ly+wkP39/fjggw/i4cOHT//in7wWP3vtx7E3vxlPZrdjUj+J6mgjPvrNh/HFl0+e+u11Xce77757\\\n",
       "/qEhMQGDHvz18+3459534pOdn8ZBM4lhdRgvrv0lXnnh7qkCBvgMDHrx770Sf370Zhw0k4ioYlbG\\\n",
       "8fe9H8bjWXt7PXAyAYMeHMwnsT+/GV//+KEpg6jq9rPCgJMJGPRgZ2czprv/iK/vLRoOZvGj7934\\\n",
       "/98EHCNg0IPZbBrfn9yNSbURs6Np1M123Dz4KJrpg75HgzSuzSaO+dzTblmu+Xx+6muzZvMmfvXh\\\n",
       "7+Lz7V/H1s4oVgb78fjxl7E3PTr16zVN4/eac6vruu8RFnZtAnb37t2+R+CK29raitnsdM/0apoS\\\n",
       "H/3xs4Vfq5QSH3/8cUyn04V/BkREvP32232PsLBrE7DM/0nk8ODBgxiNRp28VlVV8cYbb8Rbb73V\\\n",
       "yevBZeQzMABSEjAAUhIwAFISMABSEjAAUhIwAFK6NtvoYdnW1tbinXfeOdXzwM5rMBjE+vr60l8H\\\n",
       "LjMPtIQL0sd7qarSPouQyyPtL5EjMLggYgLd8hkYACkJGAApCRgAKQkYACkJGAApCRgAKQkYACkJ\\\n",
       "GAApCRgAKQkYACkJGAApCRgAKQkYACkJGAApCRgAKQkYACkJGAApCRgAKQkYACkJGAApCRgAKQkY\\\n",
       "ACkJGAApCRgAKQkYACkJGAApCRgAKQkYACkJGAApCRgAKQkYACkJGAApCRgAKQkYACkJGAApCRgA\\\n",
       "KQkYACkJGAApCRgAKQkYACkJGAApCRgAKQkYACkJGAApDfseoENV3wMAcHEcgQGQkoABkJKAAZCS\\\n",
       "gAGQkoABkJKAAZCSgAGQkoABkJKAAZCSgAGQkoABkJKAAZCSgAGQkoABkJKAAZCSgAGQkoABkJKA\\\n",
       "AZCSgAGQkoABkJKAAZCSgAGQkoABkJKAAZCSgAGQkoABkJKAAZCSgAGQkoABkJKAAZCSgAGQkoAB\\\n",
       "kJKAAZCSgAGQkoABkNJ/ALyDIKBZoLtlAAAAAElFTkSuQmCC\\\n",
       "\"\n",
       "  frames[48] = \"data:image/png;base64,iVBORw0KGgoAAAANSUhEUgAAAbAAAAEgCAYAAADVKCZpAAAAOXRFWHRTb2Z0d2FyZQBNYXRwbG90\\\n",
       "bGliIHZlcnNpb24zLjMuMywgaHR0cHM6Ly9tYXRwbG90bGliLm9yZy/Il7ecAAAACXBIWXMAAAsT\\\n",
       "AAALEwEAmpwYAAAIfklEQVR4nO3dQW8cZx3H8f/s2hs7SZM0TUvaRqBW4l4OKBLXXgpnzpxy55X0\\\n",
       "Xl5E4YoEh4KElEiUHEBFqAKJlgSSQFKnTmyvd2c4BBXSNarjeGf6W38+B9t6tNb8La/19XgfzzRd\\\n",
       "1xUApBkNPQAAHIWAARBJwACIJGAARBIwACIJGACRBAyASAIGQCQBAyCSgAEQScAAiCRgAEQSMAAi\\\n",
       "CRgAkQQMgEgCBkAkAQMgkoABEEnAAIgkYABEEjAAIgkYAJEEDIBIAgZAJAEDIJKAARBJwACIJGAA\\\n",
       "RBIwACIJGACRBAyASAIGQCQBAyCSgAEQaW3oAXrUDT0AwNdQM/QAR+UMDIBIAgZAJAEDIJKAARBJ\\\n",
       "wACIJGAARBIwACIJGACRBAyASAIGQCQBAyCSgAEQScAAiCRgAEQSMAAiCRgAkQQMgEgCBkAkAQMg\\\n",
       "koABEEnAAIgkYABEEjAAIgkYAJEEDIBIAgZAJAEDIJKAARBJwACIJGAARBIwACIJGACRBAyASAIG\\\n",
       "QCQBAyCSgAEQScAAiCRgAEQSMAAiCRgAkQQMgEgCBkAkAQMgkoABEEnAAIgkYABEEjAAIgkYAJEE\\\n",
       "DIBIAgZAJAEDIJKAARBJwACIJGAARBIwACIJGACRBAyASAIGQCQBAyCSgAEQScAAiCRgAEQSMAAi\\\n",
       "CRgAkQQMgEgCBkAkAQMgkoABEEnAAIgkYABEEjAAIgkYAJEEDIBIAgZAJAEDIJKAARBJwACIJGAA\\\n",
       "RBIwACIJGACRBAyASAIGQCQBAyCSgAEQScAAiCRgAEQSMAAiCRgAkQQMgEgCBkAkAQMg0trQA8Cq\\\n",
       "67ruyfv5frWz6ZPFZlTjyWY1TTPgZJBNwGDJ7n30q9r65Pc12/28ptv3q6pq48Ll+vYPflzNeH3g\\\n",
       "6SCXgMGS7T64XQ8//cNTa7ONs1XdQAPBivAaGACRBAyG0H3xBjgiAYMl23jxtYW16aMHNd1+MMA0\\\n",
       "sDoEDJZs/fT5hbWunVfXzgeYBlaHgAEQScAAiCRgsGTNaFxVX/qH5a6t+fTxIPPAqhAwWLLNi6/V\\\n",
       "eLLx1FrXzmvn/u2BJoLVIGCwZE/OwA5iGz08DwEDIJKAARBJwGDJRuNJjU+dXljff7z1xZXqgWcn\\\n",
       "YLBk48lmTc68uLBuEwc8HwEDIJKAQS/cuBKOm4ABEEnAYNmapiZnLy4s7279o9rZdICBYDUIGCxZ\\\n",
       "0zR16vwrC+vz6Y4r0sNzEDAAIgkYAJEEDHrQNIu7ELu2ra6dDTANrAYBgx6cvvStqi9FbLa7XXtb\\\n",
       "9waaCPIJGPRgtH7qgNWuuq7tfRZYFQIGQCQBAyCSgEEPRmuTakZrTy92Ve3+7jADwQoQMOjBqXMv\\\n",
       "19rGmS+tdvXo3l8HmQdWgYABEEnAAIgkYABEEjDowWhtvSZnX1pY39u6U13XDTAR5BMw6EEzWqv1\\\n",
       "zXML69PtB1UCBkciYABEEjAAIgkYDOjJtRD9CRGOQsCgJ5svvb6wtrd1t2a72wNMA/kEDHrQNM2B\\\n",
       "mzi6duaK9HBEAgZAJAEDIJKAQU8WrkZfVV3b1nxvZ4BpIJ+AQU9Ov/zNasZPR6yd7dXu1p2BJoJs\\\n",
       "AgY9aZpxVTVDjwErQ8AAiCRgAEQSMOjJeLJR4/WNhfX9x5/1PwysAAGDnqxtvFBrm2cX1ncf/H2A\\\n",
       "aSCfgAEQScAAiCRg0KvFbfRd17krMxyBgEFPmvG4Ni8uXpF+5/6t6tr5ABNBNgGDnjTNqMaTzYX1\\\n",
       "+XSnyhkYPDMBAyCSgAEQScCgR01zwCaOdlZdOxtgGsgmYNCjM6+8sbA23X5Q00ef9T8MhBMw6NHo\\\n",
       "gEtJVZVNHHAEAgZAJAEDINLiPc6BZ3bYK2mM109VNaOqrv3v57bzmm7fr40XXz308Q7aDAInTXOC\\\n",
       "LmFzYr5Q+tV1Xb377rt1/fr1r3zsC6eauva9C7Wx/vQfP37+0Xbd/NveoY73zjvv1LVr1440Kxwg\\\n",
       "9rchZ2BwDG7cuFHvv//+Vz7ulQtn6kff/WE1o/O1NbtUTbV1cXKnfnfzZv3013881LEuX778vOPC\\\n",
       "ShAw6NnD/Uv18fb369H8XDVV9erGX2re/mbosSCOTRzQo66qPt7+Tj2an6+qUXU1qtu7b9bdvStD\\\n",
       "jwZxBAx6tL2zX7fut/X0yw6jev0bh9/AATwhYNCj3el+zfbu1v/uKWpqXm9cav//JwEHEjDoUVNV\\\n",
       "b27+ts41n9R8tlPN/GFdmXxYtffnoUeDOCdmE8d87oaBLMez3FG57br6yc9+UXuzX9bO/GyNm/2a\\\n",
       "NI/rzv3Pn+l4ns8cl/F4PPQIR3ZiAvbBBx8MPQIr7N69e4d+7J8+/dd/PvrnkY5169Ytz2eOzdtv\\\n",
       "vz30CEd2YgKW/E3i663runrvvfd6O96VK1c8n6G8BgZAKAEDIJKAARBJwACIJGAARBIwACKdmG30\\\n",
       "sExXr1499D8zP6+33nqrl+PA150bWsIx6PvnyB2ZOUaxTyZnYHAMBAX65zUwACIJGACRBAyASAIG\\\n",
       "QCQBAyCSgAEQScAAiCRgAEQSMAAiCRgAkQQMgEgCBkAkAQMgkoABEEnAAIgkYABEEjAAIgkYAJEE\\\n",
       "DIBIAgZAJAEDIJKAARBJwACIJGAARBIwACIJGACRBAyASAIGQCQBAyCSgAEQScAAiCRgAEQSMAAi\\\n",
       "CRgAkQQMgEgCBkAkAQMgkoABEEnAAIgkYABEEjAAIgkYAJEEDIBIAgZApLWhB+hRM/QAABwfZ2AA\\\n",
       "RBIwACIJGACRBAyASAIGQCQBAyCSgAEQScAAiCRgAEQSMAAiCRgAkQQMgEgCBkAkAQMgkoABEEnA\\\n",
       "AIgkYABEEjAAIgkYAJEEDIBIAgZAJAEDIJKAARBJwACIJGAARBIwACIJGACRBAyASAIGQCQBAyCS\\\n",
       "gAEQScAAiCRgAEQSMAAiCRgAkf4N9c9Mfy7+SxMAAAAASUVORK5CYII=\\\n",
       "\"\n",
       "  frames[49] = \"data:image/png;base64,iVBORw0KGgoAAAANSUhEUgAAAbAAAAEgCAYAAADVKCZpAAAAOXRFWHRTb2Z0d2FyZQBNYXRwbG90\\\n",
       "bGliIHZlcnNpb24zLjMuMywgaHR0cHM6Ly9tYXRwbG90bGliLm9yZy/Il7ecAAAACXBIWXMAAAsT\\\n",
       "AAALEwEAmpwYAAAHUElEQVR4nO3dsY8cdxnH4Xdm9+w7zg6WDVIUGixAdkUVUdHZliVqajokd7Ru\\\n",
       "+D9oKWiQKKncGCGBKEIBjhS5QMhRIpIQG3PcZW9vd4YGoRwbkcv6dibfvefp7nernfd0s/rc3I5+\\\n",
       "2/R9XwCQph17AABYh4ABEEnAAIgkYABEEjAAIgkYAJEEDIBIAgZAJAEDIJKAARBJwACIJGAARBIw\\\n",
       "ACIJGACRBAyASAIGQCQBAyCSgAEQScAAiCRgAEQSMAAiCRgAkQQMgEgCBkAkAQMgkoABEEnAAIgk\\\n",
       "YABEEjAAIgkYAJEEDIBIAgZAJAEDIJKAARBpOvYAA+rHHgDgS6gZe4B1uQIDIJKAARBJwACIJGAA\\\n",
       "RBIwACIJGACRBAyASAIGQCQBAyCSgAEQScAAiCRgAEQSMAAiCRgAkQQMgEgCBkAkAQMgkoABEEnA\\\n",
       "AIgkYABEEjAAIgkYAJEEDIBIAgZAJAEDIJKAARBJwACIJGAARBIwACIJGACRBAyASAIGQCQBAyCS\\\n",
       "gAEQScAAiCRgAEQSMAAiCRgAkQQMgEgCBkAkAQMgkoABEEnAAIgkYABEEjAAIgkYAJEEDIBIAgZA\\\n",
       "JAEDIJKAARBJwACIJGAARBIwACIJGACRBAyASAIGQCQBAyCSgAEQScAAiCRgAEQSMAAiCRgAkQQM\\\n",
       "gEgCBkAkAQMgkoABEEnAAIgkYABEEjAAIgkYAJEEDIBIAgZAJAEDIJKAARBJwACIJGAARBIwACIJ\\\n",
       "GACRBAyASAIGQCQBAyCSgAEQScAAiCRgAEQSMAAiCRgAkQQMgEgCBkAkAQMgkoABEEnAAIg0HXsA\\\n",
       "2HbdclHdyWxlfXLpK9W0/oaEdQkYbNjBe+/UX3/z86rq/7vWTnbqOz/4Se1ee328wSCcgMGGdcuT\\\n",
       "Wnzyz1NrzWSn+q4baSLYDv5/AUAkAQMgkoABEEnAAIgkYLBhTfMZL7O+r25xPPwwsEUEDDZs7/ob\\\n",
       "1e7snlrru0UdffzuSBPBdhAw2LBmMq2maVa/0fera8CZCRgAkQQMgEgCBkAkAQMgkoABEEnAAIgk\\\n",
       "YABEEjAAIgkYAJEEDIBIAgZAJAGDDWva6cpmvlVVs5cfVG8/RFibgMGGTS/v1+WrN1bW5wfPR5gG\\\n",
       "toeAwSA+Yzd64JUIGACRBAyASAIGQCQBg0G42xDOm4DBINzEAedNwACIJGAARBIwACIJGACRBAyA\\\n",
       "SAIGI+n7buwRIJqAwaY1Te1df2Nlefbi/epOZiMMBNtBwGDDmqap6d5rK+vd8sTHqcArEDAAIgkY\\\n",
       "AJEEDIBIAgZAJAEDIJKAARBJwACIJGAARBIwACIJGACRBAyASAIGA5juXllZ65cLm/nCKxAwGMDe\\\n",
       "9W9UNc2ptcXxYc3/9XykiSCfgMGI7EYP6xMwACIJGACRBAyASAIGQCQBAyCSgAEQScAAiCRgAEQS\\\n",
       "MAAiCRgAkaZjDwCpzmsbqC/yPM3/7KcIF1lzgfZiuzA/KMOYz+f18OHDevbs2ec+dtrN6sffv1HX\\\n",
       "ruyeWv/9e5N6/PaHZzregwcP6u7du2vNCv9H7F9FrsBgTV3X1aNHj+rJkyef+9gre5fqR9/7YR0v\\\n",
       "9+ofJ1+vnfa4ru18VH966w/1q1//8UzHu3///quODFtFwGAgfzv+Zr398Z06Wr5WbS3r5v6fq6u3\\\n",
       "xh4LYrmJAwaw7Kf19ODNOlp+taqa6mpafzn8bj2fvz72aBBLwGAAXd/WvLt8aq2vtl6efG2kiSCf\\\n",
       "gMEAJs2yru68qE/fSzRpFnXj0vvjDQXhBAwG0DbL+tbe7+pq824tFrOq5UF9e++3dWVytjsQgVUX\\\n",
       "5iaO5XI59ghsmS9yTh3NTuqnP/tFte0v62hxtabtSe22h/Xi4JMzP0fXdc5jzt1kMhl7hLVdmIA9\\\n",
       "fvx47BHYMvP5vA4PD8/02K7v69kHL//z1d/XOt7Tp0+dx5y7O3fujD3C2i5MwJJ/SXw5zWaz2t/f\\\n",
       "H+x4t2/fdh7Dp3gPDIBIAgZAJAEDIJKAARBJwACIJGAARLowt9HDeWvbtu7du1e3bt0a5Hg3b94c\\\n",
       "5DiQwgdawprGeO34RGY2IPakcgUGaxITGJf3wACIJGAARBIwACIJGACRBAyASAIGQCQBAyCSgAEQ\\\n",
       "ScAAiCRgAEQSMAAiCRgAkQQMgEgCBkAkAQMgkoABEEnAAIgkYABEEjAAIgkYAJEEDIBIAgZAJAED\\\n",
       "IJKAARBJwACIJGAARBIwACIJGACRBAyASAIGQCQBAyCSgAEQScAAiCRgAEQSMAAiCRgAkQQMgEgC\\\n",
       "BkAkAQMgkoABEEnAAIgkYABEEjAAIgkYAJGmYw8woGbsAQA4P67AAIgkYABEEjAAIgkYAJEEDIBI\\\n",
       "AgZAJAEDIJKAARBJwACIJGAARBIwACIJGACRBAyASAIGQCQBAyCSgAEQScAAiCRgAEQSMAAiCRgA\\\n",
       "kQQMgEgCBkAkAQMgkoABEEnAAIgkYABEEjAAIgkYAJEEDIBIAgZAJAEDIJKAARBJwACIJGAARBIw\\\n",
       "ACL9GyOV4+blWZk+AAAAAElFTkSuQmCC\\\n",
       "\"\n",
       "  frames[50] = \"data:image/png;base64,iVBORw0KGgoAAAANSUhEUgAAAbAAAAEgCAYAAADVKCZpAAAAOXRFWHRTb2Z0d2FyZQBNYXRwbG90\\\n",
       "bGliIHZlcnNpb24zLjMuMywgaHR0cHM6Ly9tYXRwbG90bGliLm9yZy/Il7ecAAAACXBIWXMAAAsT\\\n",
       "AAALEwEAmpwYAAAHdklEQVR4nO3dT2schxnH8Wf2jyVbSZRUkIKxU3oqKeQQ2rN9MJTcfc/7saF+\\\n",
       "BYW+Al/TY3QwpeBDD/WlLcQ3h5rUcWTJ2vVqZ3oppcomWJIzGv9Wn89Bh4fR7iO0y1fLrGabrusK\\\n",
       "ANKMhl4AAM5CwACIJGAARBIwACIJGACRBAyASAIGQCQBAyCSgAEQScAAiCRgAEQSMAAiCRgAkQQM\\\n",
       "gEgCBkAkAQMgkoABEEnAAIgkYABEEjAAIgkYAJEEDIBIAgZAJAEDIJKAARBJwACIJGAARBIwACIJ\\\n",
       "GACRBAyASAIGQCQBAyCSgAEQScAAiDQZeoFz1A29AMBbqBl6gbPyCgyASAIGQCQBAyCSgAEQScAA\\\n",
       "iCRgAEQSMAAiCRgAkQQMgEgCBkAkAQMgkoABEEnAAIgkYABEEjAAIgkYAJEEDIBIAgZAJAEDIJKA\\\n",
       "ARBJwACIJGAARBIwACIJGACRBAyASAIGQCQBAyCSgAEQScAAiCRgAEQSMAAiCRgAkQQMgEgCBkAk\\\n",
       "AQMgkoABEEnAAIgkYABEEjAAIgkYAJEEDIBIAgZAJAEDIJKAARBJwACIJGAARBIwACIJGACRBAyA\\\n",
       "SAIGQCQBAyCSgAEQScAAiCRgAEQSMAAiCRgAkQQMgEgCBkAkAQMgkoABEEnAAIgkYABEEjAAIgkY\\\n",
       "AJEEDIBIAgZAJAEDIJKAARBJwACIJGAARBIwACIJGACRBAyASAIGQCQBAyCSgAEQScAAiCRgAEQS\\\n",
       "MAAiCRgAkQQMgEgCBkAkAQMgkoABEEnAAIgkYABEEjAAIgkYAJEEDIBIAgZAJAEDINJk6AVg3XVd\\\n",
       "V+1iVl27PDZvRuMaTTeraZqBNoNsAgZ967p6/OUf6+DpV8fG2x99Ur+48flAS0E+AYNzsJy/rKPD\\\n",
       "F9+bHQ60DawH58CgZ8vFrBaH363MN7Y/HGAbWB8CBj1rj+Yrr76qqjbe3XH+C96AgAEQScAAiCRg\\\n",
       "AEQSMAAiCRgAkQQMgEgCBkAkAQMgkoABEEnAoG/dj8xdhQPeiIBBz2bPv67lYn5s1owmdfln1wba\\\n",
       "CNaDgEHPlot5VdceHzZNjaebwywEa0LAAIgkYABEEjAAIgkYAJEEDIBIAgZAJAEDIJKAARBJwACI\\\n",
       "JGDQs/bo1cqsGY2rGY0H2AbWh4BBzw6ePl6ZXdr6oC6988EA28D6EDDo2/evg1hV1fzvC3BGAgZA\\\n",
       "JAEDIJKAARBJwACIJGAARBIwACIJGACRBAyASAIGQCQBgx51bVuLl3sr8+nl7arGlTjgTQgY9Khr\\\n",
       "lzX77l8r843tD2s0ngywEawPAQMgkoABEEnAAIgkYABEEjAAIgkYAJEEDIBIAgZAJAEDIJKAQY+6\\\n",
       "rq3quqHXgLUkYNCjxcG39erg2cr8ys61AbaB9SJg0KOubatr25X55PJ7A2wD60XAAIgkYABEEjAA\\\n",
       "IgkYAJEEDIBIAgZAJAEDIJKAARBJwACINBl6AUjTneLahsvF4eq1EJtRjacbp7qdpmlOfCxcFM1p\\\n",
       "nkThLswPSr8ePnxYd+7cOdGxn17brM9+vXVsNlu09Yc/P68X89c/JHd2durevXu1tbX12mPhjGL/\\\n",
       "OvIKDE7pyZMndf/+/RMd2934uH738Y3aW+zUrN2q7ek3tVg8qy+++FM9fX7w2u+/fv163b17901X\\\n",
       "hrUkYNCjrhvV44NP6h/7v6llN6nN0UF9NN0dei1YCwIGPXr26uf19xe/rfa/T7VZ+079c//TOuqm\\\n",
       "A28G+bwLEXp0sHy/2hofmx0evVuL9tJAG8H6EDDo0fvTpzVt5v836eq96b/r0mg22E6wLgQMerQ1\\\n",
       "+qZ+dWW3RsvndXQ0ryv1pH65+ZcaNUdDrwbxLsw5sOVyOfQKrIn2Bz5h+cd8+dfH9bevfl/z9kot\\\n",
       "2o26PH5RTS3q2d7hiW9juVx6/NKb8Xj8+oPeUhcmYLu7u0OvwJp49OjRiY/dezmvvZfzqvr2TPc1\\\n",
       "m83qwYMH/g+M3ty6dWvoFc7swgQs+ZfE22V/f//c7mtzc7Nu3rxZ29vb53afkMI5MAAiCRgAkQQM\\\n",
       "gEgCBkAkAQMgkoABEOnCvI0efipXr16t27dvn8t97ezs1GTiaQo/xAdawikN8Zzxicz0KPbB5U87\\\n",
       "OCUxgbeDc2AARBIwACIJGACRBAyASAIGQCQBAyCSgAEQScAAiCRgAEQSMAAiCRgAkQQMgEgCBkAk\\\n",
       "AQMgkoABEEnAAIgkYABEEjAAIgkYAJEEDIBIAgZAJAEDIJKAARBJwACIJGAARBIwACIJGACRBAyA\\\n",
       "SAIGQCQBAyCSgAEQScAAiCRgAEQSMAAiCRgAkQQMgEgCBkAkAQMgkoABEEnAAIgkYABEEjAAIgkY\\\n",
       "AJEEDIBIk6EXOEfN0AsA8NPxCgyASAIGQCQBAyCSgAEQScAAiCRgAEQSMAAiCRgAkQQMgEgCBkAk\\\n",
       "AQMgkoABEEnAAIgkYABEEjAAIgkYAJEEDIBIAgZAJAEDIJKAARBJwACIJGAARBIwACIJGACRBAyA\\\n",
       "SAIGQCQBAyCSgAEQScAAiCRgAEQSMAAiCRgAkQQMgEgCBkAkAQMg0n8AR2fzamrZyt0AAAAASUVO\\\n",
       "RK5CYII=\\\n",
       "\"\n",
       "  frames[51] = \"data:image/png;base64,iVBORw0KGgoAAAANSUhEUgAAAbAAAAEgCAYAAADVKCZpAAAAOXRFWHRTb2Z0d2FyZQBNYXRwbG90\\\n",
       "bGliIHZlcnNpb24zLjMuMywgaHR0cHM6Ly9tYXRwbG90bGliLm9yZy/Il7ecAAAACXBIWXMAAAsT\\\n",
       "AAALEwEAmpwYAAAJLUlEQVR4nO3dTW9c5RnH4fvMmbEdm6R5g5DSFrUsmj1VV6gb1kWin6FrKvER\\\n",
       "+ADddtsPUKSKZTdl0T0r2kq0KoKSChrHSuIktufldIFAhDGNief48J9c1yKLx3Z8W/HolzPzzHma\\\n",
       "rusKANKMhh4AAJ6EgAEQScAAiCRgAEQSMAAiCRgAkQQMgEgCBkAkAQMgkoABEEnAAIgkYABEEjAA\\\n",
       "IgkYAJEEDIBIAgZAJAEDIJKAARBJwACIJGAARBIwACIJGACRBAyASAIGQCQBAyCSgAEQScAAiCRg\\\n",
       "AEQSMAAiCRgAkQQMgEgCBkAkAQMgkoABEGk89ABnqBt6AIDvoGboAZ6UKzAAIgkYAJEEDIBIAgZA\\\n",
       "JAEDIJKAARBJwACIJGAARBIwACIJGACRBAyASAIGQCQBAyCSgAEQScAAiCRgAEQSMAAiCRgAkQQM\\\n",
       "gEgCBkAkAQMgkoABEEnAAIgkYABEEjAAIgkYAJEEDIBIAgZAJAEDIJKAARBJwACIJGAARBIwACIJ\\\n",
       "GACRBAyASAIGQCQBAyCSgAEQScAAiCRgAEQSMAAiCRgAkQQMgEgCBkAkAQMgkoABEEnAAIgkYABE\\\n",
       "EjAAIgkYAJEEDIBIAgZAJAEDIJKAARBJwACIJGAARBIwACIJGACRBAyASAIGQCQBAyCSgAEQScAA\\\n",
       "iCRgAEQSMAAiCRgAkQQMgEgCBkAkAQMgkoABEEnAAIgkYABEEjAAIgkYAJEEDIBIAgZAJAEDIJKA\\\n",
       "ARBJwACIJGAARBIwACIJGACRBAyASAIGQCQBAyCSgAEQScAAiCRgAEQSMAAiCRgAkQQMgEjjoQeA\\\n",
       "p0G3mNf86GFVNdVunquq5suPNU3zjV8HfDMBgzPw4NZH9c8//a6qGdW5S9ermlE1TVMv/PxXde7y\\\n",
       "94ceDyIJGJyBB7v/rumDO1VVNb2/V1VV7eZOjSYbQ44F0bwGBmfgi3h91Wg8qXZje4BpYD0IGACR\\\n",
       "BAx61nVdLWZHx3zE5g04DQGDvnVd3f/sX0vL5y5dr3ayOcBAsB4EDM5C1y0tjcabVY2HIDwpjx4A\\\n",
       "IgkY9KxbzGo+PVhab9p2gGlgfQgY9Gx2eL+O7u0urT9z7aUBpoH1IWBwJpZfA2tGrdtIwSkIGACR\\\n",
       "BAx6Nn1wtxbz2ddWmxpNtgaZB9aFgEHPjvZvVzefPrLWtG1tX/nBQBPBehAwGERT7sQBpyNgAEQS\\\n",
       "MOjZwd7NpbXJufM1Pnd+gGlgfQgY9OzYo1Qmm9XaxAGnImAARBIw6NHnR6lMj/mIDRxwWgIGPerm\\\n",
       "s3pw66Ol9e0rP6ymHQ8wEawPAYOedd1iaW002XQbKTglAQMgkoBBjxazo1rMjpbWR54+hFMTMOjR\\\n",
       "9OGdY7fR71z7yQDTwHoRMOjT8ikqVVXVjFyBwWkJGACRBAx6dHR/r7rF/NHFZlTtZHOYgWCNCBj0\\\n",
       "6OjeraqvbaNvJ5u1dfH5gSaC9SFgMAjvAYPTEjAAIgkY9KTrunp4+5Ol9XZzu0bjyQATwXoRMOjR\\\n",
       "9MHdpbWNnUvVbmwPMA2sFwEDIJKAQa+OeyezDRywCgIGPVlMD+vh3n+W1reffbHKnejh1AQMetJ1\\\n",
       "i1rMDpfW240tR6nACggYAJEEDHqymB5UN58trbuRL6yGgEFPjvZv1+zw/qOLTVM7z/14mIFgzQgY\\\n",
       "9KTrjj9LpRm1ZzwJrCcBAyCSgEFPjvZ3q752FdaMxjUabww0EawXAYOeHN69tbQ23typzQtXB5gG\\\n",
       "1o+AwVlqvvwDOCUBgx580wYOYHUEDHpx/FEq463zNWq9DwxWQcCgD13V7OG9peXN81eqaZ0FBqsg\\\n",
       "YABEEjDoRVfHH6UCrIqAQQ9mB/fr4M5nS+tbF58fYBpYTwIGPei6eXXz6dL6xjOXHaUCKyJgAEQS\\\n",
       "MOhBN58f+14wR6nA6ggY9ODh3s1aTA8eWWvacW0/+6OBJoL1I2DQg24xP3a9aRylAqsiYABEEjDo\\\n",
       "wdG95TvRj9pJNW4jBSsjYNCDw7v/XVqbbF+sjZ2LZz8MrCkBg7Pi7V+wUp7PgBNYyfEo3bf7u7zh\\\n",
       "Gf6/5ik6t+ip+UFZvdu3b9ebb75Z+/v7j/3ccTuqX//iel2aPLqN/u+f3Ks/vn9Y3WMuxUajUb31\\\n",
       "1lt148aNU80MJxT7PyVXYHACBwcH9c4779Te3t5jP3dj3NbrN16vjWsv1r3Z5TrX7tcz4716/x8f\\\n",
       "1x/e/stjv75t23rjjTdWMTasNQGDHuweXa8Pd39ZB4udaptZvXDug5rX34YeC9aKTRywYl219cH+\\\n",
       "z+pgsVNVTc27SX384Ke1d3Rt6NFgrQgYrNiVixfqwoXn6qsvLSy6UX1w8+FwQ8EaEjBYsa3xoi5v\\\n",
       "3amv7htqm1ndufPpcEPBGvIaGKzYdDati9M/17TdqruzKzVpjuql83+t702W784BPLmnJmDz+fE3\\\n",
       "V4WT+Da/Pzdv3avf/Pb3denC2/Vgfr4mzWG9eHVcH376+B2MX1gsFn5nORNtm3uD6acmYO++++7Q\\\n",
       "IxBsd3e3ZrPZiT63q6o79w/rzv3Dqvr8quuTb/HsYdd19d5779V0unyiM6zaq6++OvQIT+ypCVjy\\\n",
       "PxLDu3nzZo3HZ/NwaZqmXn755XrllVfO5PtBKps4AIgkYABEEjAAIgkYAJEEDIBIAgZApKdmGz2c\\\n",
       "xtbWVr322msnOg/stEajUV29erX37wPpHGgJJzDE48SJzJyR2F80V2BwAmIC3z1eAwMgkoABEEnA\\\n",
       "AIgkYABEEjAAIgkYAJEEDIBIAgZAJAEDIJKAARBJwACIJGAARBIwACIJGACRBAyASAIGQCQBAyCS\\\n",
       "gAEQScAAiCRgAEQSMAAiCRgAkQQMgEgCBkAkAQMgkoABEEnAAIgkYABEEjAAIgkYAJEEDIBIAgZA\\\n",
       "JAEDIJKAARBJwACIJGAARBIwACIJGACRBAyASAIGQCQBAyCSgAEQScAAiCRgAEQaDz3AGWqGHgCA\\\n",
       "1XEFBkAkAQMgkoABEEnAAIgkYABEEjAAIgkYAJEEDIBIAgZAJAEDIJKAARBJwACIJGAARBIwACIJ\\\n",
       "GACRBAyASAIGQCQBAyCSgAEQScAAiCRgAEQSMAAiCRgAkQQMgEgCBkAkAQMgkoABEEnAAIgkYABE\\\n",
       "EjAAIgkYAJEEDIBIAgZAJAEDIJKAARDpf78oaDyDp50MAAAAAElFTkSuQmCC\\\n",
       "\"\n",
       "  frames[52] = \"data:image/png;base64,iVBORw0KGgoAAAANSUhEUgAAAbAAAAEgCAYAAADVKCZpAAAAOXRFWHRTb2Z0d2FyZQBNYXRwbG90\\\n",
       "bGliIHZlcnNpb24zLjMuMywgaHR0cHM6Ly9tYXRwbG90bGliLm9yZy/Il7ecAAAACXBIWXMAAAsT\\\n",
       "AAALEwEAmpwYAAAKOklEQVR4nO3dzW8cdxnA8Wd2129rx05qJ20htAQJISEBgkMvEaceufXAiSt/\\\n",
       "Ro+99o/gwI2e4YBIRVElJIRAaiESUPoakjRxUr/tendnOKRITcYkaTyz02fz+Ryf+OWJ4tE3tn8z\\\n",
       "W1RVFQCQTa/rBQDgSQgYACkJGAApCRgAKQkYACkJGAApCRgAKQkYACkJGAApCRgAKQkYACkJGAAp\\\n",
       "CRgAKQkYACkJGAApCRgAKQkYACkJGAApCRgAKQkYACkJGAApCRgAKQkYACkJGAApCRgAKQkYACkJ\\\n",
       "GAApCRgAKQkYACkJGAApCRgAKQkYACkJGAApCRgAKQ26XmCOqq4XAPgKKrpe4En5DgyAlAQMgJQE\\\n",
       "DICUBAyAlAQMgJQEDICUBAyAlAQMgJQEDICUBAyAlAQMgJQEDICUBAyAlAQMgJQEDICUBAyAlAQM\\\n",
       "gJQEDICUBAyAlAQMgJQEDICUBAyAlAQMgJQEDICUBAyAlAQMgJQEDICUBAyAlAQMgJQEDICUBAyA\\\n",
       "lAQMgJQEDICUBAyAlAQMgJQEDICUBAyAlAQMgJQEDICUBAyAlAQMgJQEDICUBAyAlAQMgJQEDICU\\\n",
       "BAyAlAQMgJQEDICUBAyAlAQMgJQEDICUBAyAlAQMgJQEDICUBAyAlAQMgJQEDICUBAyAlAQMgJQE\\\n",
       "DICUBAyAlAQMgJQEDICUBAyAlAQMgJQEDICUBAyAlAQMgJQEDICUBAyAlAQMgJQEDICUBAyAlAQM\\\n",
       "gJQEDICUBAyAlAQMgJQEDICUBAyAlAQMgJQEDICUBAyAlAQMgJQEDICUBAyAlAQMgJQEDICUBAyA\\\n",
       "lAQMgJQEDICUBAyAlAZdLwBPg6qqarOiKDrYBBaHgMEclNPj+OCtX8Z0tB+DlWEMd16Moj+Isy/+\\\n",
       "IJY3znW9HqQkYDAHVTmLvU/+HpODOxERcfsff4yIiNn4IJ7/0U863Azy8jswmIPp0WcxOx7V/6Bw\\\n",
       "CcKTcvXAHEyO9qKcju8fFkWsX7jUzUKwAAQM5qCaTU6YFtHr+yk+PCkBgzk4uPHviAdOIg5W12Nl\\\n",
       "83w3C8ECEDCYg6oqa7Oi14+iv9TBNrAYBAxaVlVljHY/qc0HKxtR9PodbASLQcCgbVXE5PCz2nhl\\\n",
       "83z0BssdLASLQcCgZeV0HNPRXm3eX17tYBtYHAIGLZtNRjE5vFubD89/c/7LwAIRMGhZVdYPcERE\\\n",
       "FEXP8xDhFAQMWnZ0++PaUziKXj/WnvlaRxvBYhAwaFlVziLigafRF73oLw872QcWhYBBy8Z3b9Rm\\\n",
       "vcGSE4hwSgIGLTvev1WbLQ23Ymm42cE2sDgEDFpUlWVMjur3gPX6yxEOcMCpCBi0qCpnMbpzvTYf\\\n",
       "7rwQRc+DfOE0BAxaVdUe4hsREUXhCD2ckoBBi473d+P4YLc2X3vm6x1sA4tFwKBFVTn7/Bj9/ZaG\\\n",
       "Wx1sA4tFwKBFR7sfRzWb3jcr+gMBgwYIGLRoNj6MB29i7vWXYnn9XDcLwQIRMGhJVVUxHR3U5kWv\\\n",
       "7wg9NEDAoEWHn35Qm61sXojB6kYH28BiETBoVf0IfdHrRVG49OC0XEXQknIyjqPda7X5ytYFP0KE\\\n",
       "BggYtKSqyiin49p8eeMZNzFDAwQMWjI52I3Z+Kg2X1pzhB6aIGDQkun4MMrZ8f3DoojVc893sxAs\\\n",
       "GAGDlpST0QlnODwDEZoiYNCSg5vvx4MFG6xu3DvEAZyagEELqqqqPUIq4vMj9F5GBRohYNCGqoqD\\\n",
       "G+/Vxqtbz0V/aaWDhWDxCBi05KSn0PeXVyPcxAyNcCVBC2aTUUwO79TmHiEFzREwaEE5Hcd0tF+b\\\n",
       "D3de6GAbWEwCBi0op5OoqvpzEB2jh+YIGLRgtHvt3n1gX1D0+jHc+UZHG8HiETBoQVXWj9BHUURv\\\n",
       "4AQiNEXAoAX71/9Vmy2tbcZg7UwH28BiEjBoQTWb1Ga9pRX3gEGDBAwaVpWzON6/XZv3l9wDBk1y\\\n",
       "NUHDqrKM8d6t2nxt+2IUvX4HG8FiEjBoWDk9jnJ6XJv3+kuO0EODBAwaNjm6G5PDu7X5+rPf6mAb\\\n",
       "WFwCBk078Qbm8ONDaJiAQcMOb31UO4VY9JdieWO7o41gMQkYNKycjGuzXn8QS2ubHWwDi0vAoEFV\\\n",
       "VZ34FPqiP4ii53KDJrmioGFHu5/UZiubF7yUCjRMwKBJVXnijxDvHeBwhB6aJGDQoNlkHEe712rz\\\n",
       "9QuXItwDBo0SMJiDXn/gJmZomIBBg473bp34SszLZ3Y62AYWm4BBg8rpOKpydv+wKGJlU8CgaQIG\\\n",
       "DRrduR5RlffNiqLnKRzQAgGDBh0f7NZmg9WNWN16toNtYLEJGDSkqqoTn0IfRc/rgEELXFXQlKqK\\\n",
       "gxvv1cZr556/92KWQKMGXS8AX2XV/3my/EPeoTYqBssRRfHYH8txe3g8xZe+QPN6av6iNOfq1avx\\\n",
       "6quvRlmWj3zbzeFy/PzHO7Fc3f8kjt9fvR1vvf/oL7/19fV4/fXXY3vbU+uZq7T/Y/IdGDzErVu3\\\n",
       "4o033ojZbPbItz2/NYyf/fCnMVp+Lg5nZ+LM4HYM+3vxhz+9G796891Hvv/Zs2fjtddea2JteCoI\\\n",
       "GDRke+tM/PPoctzY+25Mq+VY7R3G97Z+F/tHJxzsAE7NIQ5oyGD9UlybfD+m1UpEFDEqh/GX2y/F\\\n",
       "3z7c63o1WEgCBg0p+sMoqy9eUkUczc7EaDbsbCdYZAIGDXnp2xsx6E2/MKlifPBh7O9d72wnWGQC\\\n",
       "Bg0pRx/F2sGvI6afxnQyjo3ejfjO8EpMpvXXBwNO76k5xPE4p8jgQY9zfP5/fvGbP8fSb/8a57Z2\\\n",
       "YhrDuHS+iK1hFdPZ43+Msix9rTJX/X7e53Q+NQG7cuVK1yuQ0DvvvPPYNyDPyipmx9O4dvM/ERFx\\\n",
       "8+aX+1zT6TTefvvt2Nnx5Hrm5+WXX+56hSf21AQs8z8S3VlbW5vbkzEGg0Fcvnw5Ll68OJfPB9n5\\\n",
       "HRgAKQkYACkJGAApCRgAKQkYACkJGAApPTXH6OFJbG9vxyuvvPKlbmh+Uuvr67G2ttb654FF4QUt\\\n",
       "4SG6uD68IjNzlvYLzndg8BBiAl9dfgcGQEoCBkBKAgZASgIGQEoCBkBKAgZASgIGQEoCBkBKAgZA\\\n",
       "SgIGQEoCBkBKAgZASgIGQEoCBkBKAgZASgIGQEoCBkBKAgZASgIGQEoCBkBKAgZASgIGQEoCBkBK\\\n",
       "AgZASgIGQEoCBkBKAgZASgIGQEoCBkBKAgZASgIGQEoCBkBKAgZASgIGQEoCBkBKAgZASgIGQEoC\\\n",
       "BkBKAgZASgIGQEoCBkBKAgZASgIGQEoCBkBKg64XmKOi6wUAaI7vwABIScAASEnAAEhJwABIScAA\\\n",
       "SEnAAEhJwABIScAASEnAAEhJwABIScAASEnAAEhJwABIScAASEnAAEhJwABIScAASEnAAEhJwABI\\\n",
       "ScAASEnAAEhJwABIScAASEnAAEhJwABIScAASEnAAEhJwABIScAASEnAAEhJwABIScAASEnAAEhJ\\\n",
       "wABIScAASOm/UI/TxFO6kGoAAAAASUVORK5CYII=\\\n",
       "\"\n",
       "  frames[53] = \"data:image/png;base64,iVBORw0KGgoAAAANSUhEUgAAAbAAAAEgCAYAAADVKCZpAAAAOXRFWHRTb2Z0d2FyZQBNYXRwbG90\\\n",
       "bGliIHZlcnNpb24zLjMuMywgaHR0cHM6Ly9tYXRwbG90bGliLm9yZy/Il7ecAAAACXBIWXMAAAsT\\\n",
       "AAALEwEAmpwYAAAKoUlEQVR4nO3dT29c53XA4XPnHzkkRYmSIsdulNppdzHSoOjKKwMG+gXcfTdd\\\n",
       "9Kt425U/RN1dgRYwEKMGUmRXIEUBIQkkI7ZrS6YkUhoOyZk7bxfdhLpELJH38uaMnmeng6F4BGnw\\\n",
       "0/C+c6cqpQQAZDPoewEAuAgBAyAlAQMgJQEDICUBAyAlAQMgJQEDICUBAyAlAQMgJQEDICUBAyAl\\\n",
       "AQMgJQEDICUBAyAlAQMgJQEDICUBAyAlAQMgJQEDICUBAyAlAQMgJQEDICUBAyAlAQMgJQEDICUB\\\n",
       "AyAlAQMgJQEDICUBAyAlAQMgJQEDICUBAyAlAQMgJQEDIKVR3wtcodL3AgB/gqq+F7gor8AASEnA\\\n",
       "AEhJwABIScAASEnAAEhJwABIScAASEnAAEhJwABIScAASEnAAEhJwABIScAASEnAAEhJwABIScAA\\\n",
       "SEnAAEhJwABIScAASEnAAEhJwABIScAASEnAAEhJwABIScAASEnAAEhJwABIScAASEnAAEhJwABI\\\n",
       "ScAASEnAAEhJwABIScAASEnAAEhJwABIScAASEnAAEhJwABIScAASEnAAEhJwABIScAASEnAAEhJ\\\n",
       "wABIScAASEnAAEhJwABIScAASEnAAEhJwABIScAASEnAAEhJwABIScAASEnAAEhJwABIScAASEnA\\\n",
       "AEhJwABIScAASEnAAEhJwABIScAASEnAAEhJwABIScAASEnAAEhJwABIScAASEnAAEhJwABIScAA\\\n",
       "SEnAAEhJwABIScAASEnAAEhJwABIScAASEnAAEhJwABIScAASEnAAEhJwABIScAASEnAAEhJwABI\\\n",
       "ScAASEnAAEhJwABIScAASEnA4IqUUqKU0vcasDZGfS8Ar4NSSjz7+l7M938fw42t2Lp1N0bT3RhO\\\n",
       "pjEYTaKqqr5XhHQEDK7I/r1fxuPf/ioiIqrBMIYb2zHdeyv+4m//MYaTac/bQT5+hAhXoaxiMT/4\\\n",
       "g1/WsZwfRlnVMRht9LgY5CVgcAXqxUkcP/22MZ/e+lGEHx/ChQgYXIH6dB6r5WljPtnec/0LLkjA\\\n",
       "4AqcPn8c9enR2WFVxfadd/pZCNaAgMEVmO9/GfHCEfpqMIzB2PUvuCgBg46VUmJ5/LwxH23uxMbu\\\n",
       "7R42gvUgYNC5EkfffdGYTrZvxmA06WEfWA8CBh0rdR2L+WFjPt66HtXAWzHhogQMOrY8mcXJ4aPG\\\n",
       "fHrzrR62gfUhYNCx+vQoSl035pOdm47QwyUIGHTs5OBhrJYnZ2bVcBRbt/+8p41gPQgYdGz++KvG\\\n",
       "rBoMHeCASxIw6FApJRZHB435ZHsvJjt7PWwE60PAoENlVZ/7CmyyczOqwbCHjWB9CBh0qNTLWMyf\\\n",
       "NeaTa7cFDC5JwKBDp7MnsZg9acw3r7/RwzawXgQMOlSfzqOsVo25W0jB5QkYdGj++Msoq+WZ2WC8\\\n",
       "GdObf9bTRrA+BAw6UkqJ46ffNOaD4Siq4biHjWC9CBh06OTwu8ZsY/dOjDZ3etgG1ouAQUdWi+M4\\\n",
       "fvJ1Yz7Z2Ytq4KkHl+VZBB0pqzpWy9PGfHPvzagqTz24LM8i6MjxwcNzPsiyiq1bd3vZB9aNgEFH\\\n",
       "FrMnzSP0VeX6F7REwKAj8yf/GxHlzGy0uR0buz/oZyFYMwIGHSilxOmz/cZ8ONmKwWijh41g/QgY\\\n",
       "dKGs4uTwYWM83XszBmMBgzYIGHRgeTKLk8NHjbnrX9AeAYMOlHp57hH6rds/7mEbWE8CBh2YP/4q\\\n",
       "6tPjM7NqMIzNGz+Mqqp62grWi4BBB05nT+PFE4hRDWK0ea2PdWAtCRh0YL7/+8ZsvHU9xlvXe9gG\\\n",
       "1pOAQcvKahWLo8PGfLSxFYPxpIeNYD0JGLSsrOo4Pvi2Md+6/eOoBqMeNoL1JGDQssXRQSyOnjbm\\\n",
       "w41tBzigRQIGLVstT2K1XDTm2z94++qXgTUmYNCyo/0vo9RnA1YNxzG5dqunjWA9CRi0qJQSi9nT\\\n",
       "xnwwHMV4unv1C8EaEzBo2ezRg8ZsvL0Xw43p1S8Da0zAoEWlXpx7F/rx9FoMho7QQ5sEDFq0qpex\\\n",
       "mDffA7Z9550IJxChVQIGLVrMnkR9ctSYT3ZuOUIPLRMwaNFi/ixW9Qt3oa+q2Nz7YT8LwRoTMGjR\\\n",
       "7OH9iHL2Jr6D0Yab+EIHBAxaUkqJ+nTemA8nUzfxhQ4IGLSllDg65wj9dO/NGI43r34fWHMCBi1Z\\\n",
       "LU9icXTQmA/Gm04gQgcEDFpSL07O/RiVnTd+0sM2sP4EDFpy+ny/eQIxqhhv33CEHjogYNCSxewg\\\n",
       "Sr08M6uGw5juvdXTRrDeBAxa8vzb3zVmw/H0/6+BAa0TMGhBKSVWi+PGfDTdifHUe8CgCwIGLSir\\\n",
       "ZcwefdGYT2/+KKrhqIeNYP0JGLSgPj2O+mTWmI82tqKqPM2gC55Z0ILl8fNYzJ815tt33ulhG3g9\\\n",
       "CBi04PT54yir+uywGriFFHRIwOCSSilx+uy7iLI6Mx+ON2LzhrvQQ1cEDFowe3i/MRuMN6MajnvY\\\n",
       "Bl4PjkfBOcoLH4nyxx+8OvceiJOdmzHa2Hrp38vdOuDVVK/0RM3ttfmDcnmffvppfPzxxy/12I1R\\\n",
       "Ff/w3o3Y3Tz7A41f/Pe38Z9fDb83THfv3o2PPvooJpPJhfeFS0j7PyevwOAcDx48iE8++eSlHvvG\\\n",
       "3nb8/d/8XTwe3I3FajNujB/FZDCP//nNF/Ev//Zf3/v17777btR1/b2PA84SMLikO3vX45vVe/HF\\\n",
       "/l/FKoaxNXwWP732H/Hr+w/7Xg3WmoDBJe3e/nncP/p5RDWMiIijejfuHf4sZserP/6FwKU4hQiX\\\n",
       "NJq+FfHC3Ta+eroZDx4278wBtEfA4BKqKuK9v1zGIP7wGlaJxdH9WJ5zc1+gPQIGl1Eijp/9JjZm\\\n",
       "/x6Lk6exXB7HzfHXcX35eSyWi763g7X22lwDc8qLV7Favdz1qxIR//TPv4zR8Fexu3snRuNp/PU7\\\n",
       "G/H44PClv1cpJeq69m+UXgyHw75XuLDXJmCfffZZ3yuQyL179176sfWqRL1axqP9ryMi4l+/ebXv\\\n",
       "NZvN4vPPP/c+MHrxwQcf9L3Chb02Acv8l8TVu3+/eWuoruzs7MT7778f0+n0yr4nrAPXwABIScAA\\\n",
       "SEnAAEhJwABIScAASEnAAEjptTlGD6/i7bffjg8//PBKvtfdu3dTv5kU+uIDLeEcfTwvfCIzPUn7\\\n",
       "D88rMDiHmMCfPtfAAEhJwABIScAASEnAAEhJwABIScAASEnAAEhJwABIScAASEnAAEhJwABIScAA\\\n",
       "SEnAAEhJwABIScAASEnAAEhJwABIScAASEnAAEhJwABIScAASEnAAEhJwABIScAASEnAAEhJwABI\\\n",
       "ScAASEnAAEhJwABIScAASEnAAEhJwABIScAASEnAAEhJwABIScAASEnAAEhJwABIScAASEnAAEhJ\\\n",
       "wABIScAASEnAAEhJwABIadT3Aleo6nsBANrjFRgAKQkYACkJGAApCRgAKQkYACkJGAApCRgAKQkY\\\n",
       "ACkJGAApCRgAKQkYACkJGAApCRgAKQkYACkJGAApCRgAKQkYACkJGAApCRgAKQkYACkJGAApCRgA\\\n",
       "KQkYACkJGAApCRgAKQkYACkJGAApCRgAKQkYACkJGAApCRgAKQkYACkJGAApCRgAKQkYACn9H4eW\\\n",
       "/POii9evAAAAAElFTkSuQmCC\\\n",
       "\"\n",
       "  frames[54] = \"data:image/png;base64,iVBORw0KGgoAAAANSUhEUgAAAbAAAAEgCAYAAADVKCZpAAAAOXRFWHRTb2Z0d2FyZQBNYXRwbG90\\\n",
       "bGliIHZlcnNpb24zLjMuMywgaHR0cHM6Ly9tYXRwbG90bGliLm9yZy/Il7ecAAAACXBIWXMAAAsT\\\n",
       "AAALEwEAmpwYAAAKr0lEQVR4nO3dzW9c53XA4TO8M8MZDiWTIq3YMm0jRVM0y3QVoEm98KZAF134\\\n",
       "n7I3/gsCZB0gboDs0kVgFAaSAt4ZTYGgiOsvydYXKX4M5/tmES9EXaFWOHd4e4bPszwgNEcQBz8O\\\n",
       "9eK+rbIsAwCy2Wh6AQC4DAEDICUBAyAlAQMgJQEDICUBAyAlAQMgJQEDICUBAyAlAQMgJQEDICUB\\\n",
       "AyAlAQMgJQEDICUBAyAlAQMgJQEDICUBAyAlAQMgJQEDICUBAyAlAQMgJQEDICUBAyAlAQMgJQED\\\n",
       "ICUBAyAlAQMgJQEDICUBAyAlAQMgJQEDICUBAyAlAQMgpXbTC1yhsukFAP4fajW9wGX5BAZASgIG\\\n",
       "QEoCBkBKAgZASgIGQEoCBkBKAgZASgIGQEoCBkBKAgZASgIGQEoCBkBKAgZASgIGQEoCBkBKAgZA\\\n",
       "SgIGQEoCBkBKAgZASgIGQEoCBkBKAgZASgIGQEoCBkBKAgZASgIGQEoCBkBKAgZASgIGQEoCBkBK\\\n",
       "AgZASgIGQEoCBkBKAgZASgIGQEoCBkBKAgZASgIGQEoCBkBKAgZASgIGQEoCBkBKAgZASgIGQEoC\\\n",
       "BkBKAgZASgIGQEoCBkBKAgZASgIGQEoCBkBKAgZASgIGQEoCBkBKAgZASgIGQEoCBkBKAgZASgIG\\\n",
       "QEoCBkBKAgZASgIGQEoCBkBKAgZASgIGQEoCBkBKAgZASgIGQEoCBkBKAgZASgIGQEoCBkBKAgZA\\\n",
       "SgIGQEoCBkBKAgZASgIGQEoCBkBKAgZASgIGQEoCBkBKAgZASgIGQEoCBkBKAgZASgIGQEoCBkBK\\\n",
       "AgZASgIGQEoCBkBKAgZASgIGQErtpheA62I2PovR0TfRHexEsTmIjXYnWi0/Q8JlCRhckZO7f4xP\\\n",
       "f/uzKDq9KDYHsbV3EP29g9j/+59Gp3+j6fUgHQGDK1CWZYyO7kU5n8Vsfhqz0WmMn3wTx1/+IfZ+\\\n",
       "8OOm14OU/P4Crsjw4eeVWffGfrR72w1sA/kJGFyBxWwS4+MHlXnvpdvRKvwiBC5DwOAKzMfDmJ4d\\\n",
       "Vea93TsOcsAleefAFRgfP4jZ+OyZaSu29g4a2QfWgYDBFTh78GlEWV6YbbS7sXnz5YY2gvwEDFas\\\n",
       "LMs4f/RVZd7ub0d3+1YDG8F6EDBYtXIR45OHlXF/97XY6PQaWAjWg4DBis1GpzE+vl+Z+/QFyxEw\\\n",
       "WLHxyaOYT84r863916PVajWwEawHAYMVGz/5Jsr57MKsVbRja//NhjaC9SBgsGJn9/+3Muv0b0Zn\\\n",
       "sHPlu8A6ETBYoXIxf+4TOIrNQRQOcMBSBAxWaD4dPzdgW/tveIQULEnAYIWmZ0cxOTuszLf233CA\\\n",
       "A5YkYLBCw0dfVA5wRGsjejuvNLMQrBEBgxUpy/LbB/hefIRU0e1Fb+d7jewE60TAYIXO7n9amW3e\\\n",
       "vB3tnhuYYVkCBiuymI7j/PBuZd7ZeilaG956sCzvIliR6flxzM5PKvPBy29GhAMcsCwBgxWZnDyM\\\n",
       "+fSZR0i1WjG4/X0nEKEGAgYrcna/egdY0elF98Z+QxvBehEwWIGyLJ97hUrR7Ue7t93ARrB+BAxW\\\n",
       "oFzMY3R4rzLv7d6JousRUlAHAYMVmI1OY/SkegdY/9Zr4QAH1EPAYAVGR18/5w6wVvRvveYAB9RE\\\n",
       "wGAFpsMnEeXiwqxVFLG1d9DQRrB+BAxqVpZlnN3/U2Xe3tx2gANqJGBQs3Ixj/NHX1bm3e3dKDYH\\\n",
       "DWwE60nAoGbzyXlMTh9X5v2916O1UTSwEawnAYOazUYnMX3eI6Q8gQNqJWBQs/PHdyt3gLWKtitU\\\n",
       "oGYCBjUqyzJGh3fj2TvANopudAe3mlkK1pSAQc2Gj76ozDZv7juBCDUTMKjRYjqK88dfVea9nVei\\\n",
       "VTjAAXUSMKjR5PRxzM5PK/O/PIHD2w3q5B0FNZqen8RiPrk4/PYOMKBeAgY1+csTOKp3gG20N6Pd\\\n",
       "v9nQVrC+BAxqU8b5cw5wdPo3ojvYufp1YM0JGNSknM+ee4VKb/dObHTcAQZ1EzCoyWw8jMnJo8p8\\\n",
       "8PKbDWwD60/AoCbj4wexmI0r885g1yOkYAUEDGoyOvo6ysX8wqxVtGNr/42GNoL1JmBQg7IsY/jw\\\n",
       "s8q8s7UT3cFuAxvB+hMwqEG5mMXwweeV+eaNvdjobDawEaw/AYMaLKaTmI3PKvP+rddio2g3sBGs\\\n",
       "PwGDGkyHRzEdPqnMB9/7mwa2getBwKAGw4efRzmfXpi1NorobO00sxBcAwIGSyrLMoaPvqzMi24/\\\n",
       "Nm++3MBGcD0IGCyrXMTo8F5lvHnzdnT6NxpYCK4HAYMlzafjGB1VA9bfO4hwhQqsjHcXLGk6fBKz\\\n",
       "8bAy7257AgeskoDBkiYnD6uPkGq1YnDbCURYJQGDJZRlGWcPPqvcAVZ0txzggBUTMFjKt5dYPqOz\\\n",
       "9VK0e9sN7APXh4DBEsr5PGbnJ5V5b+eV2Gh3G9gIrg8BgyXMRqcxPn5QmW97AgesnIDBEs4P78Z8\\\n",
       "Onpm2nIHGFwBTxmFp5TPHMb4LqPDuxHl4sKsVbSjv3vnhf8soYPLaf21b9jErs1flMv7+OOP4913\\\n",
       "333hr//nHw7iR6/3LsweHE/i579/EvPv+AXH3t5evP/++zEYDC61K9Qk7U9QPoHBU+7duxcffPDB\\\n",
       "C31tp9iIf/nbf42jyUGMFoO40X4cW8VJ/Pen9+KXv/r3WCz+75+ZDg4O4r333qtjbbiWBAwu6cag\\\n",
       "H2fdH8fvHv9TzMt2dFrj+OHN/4yvH//Xd8YLWJ5DHHBJve2DuF/+Y8zLTkS0Ylr24o8n/xAf/0/1\\\n",
       "XjCgfgIGl3Tn1b+Loti8MDubFPGne6cNbQTXi4DBJf3kB2V0i6eP0JcxGR3GoyeHje0E14mAwSV9\\\n",
       "ff+z6J/+Ok5Pvon5bBzb7cPYnfwmzobHTa8G18K1OcQxn8+bXoEEFovFd3/Rt37x20/i3/7jD7HZ\\\n",
       "+3nsvHQrfvT9XkQ5jvIFD3CUZRnz+dz3Jo0qiqLpFS7t2gTsww8/bHoFEvjkk09e+GvLiJjM5jE5\\\n",
       "fRgnpw/ji6/+utcaj8fx0Ucfxfa2h/7SnLfffrvpFS7t2gQs8z8SV2c4rF5MuSq9Xi/eeuut2NnZ\\\n",
       "ubLXhHXi/8AASEnAAEhJwABIScAASEnAAEhJwABI6doco4cX8eqrr8Y777xzJa+1t7cXnU7nSl4L\\\n",
       "1pELLeEpTbwf3MhMw9J+A/oEBk8RE8jD/4EBkJKAAZCSgAGQkoABkJKAAZCSgAGQkoABkJKAAZCS\\\n",
       "gAGQkoABkJKAAZCSgAGQkoABkJKAAZCSgAGQkoABkJKAAZCSgAGQkoABkJKAAZCSgAGQkoABkJKA\\\n",
       "AZCSgAGQkoABkJKAAZCSgAGQkoABkJKAAZCSgAGQkoABkJKAAZCSgAGQkoABkJKAAZCSgAGQkoAB\\\n",
       "kJKAAZCSgAGQkoABkJKAAZCSgAGQkoABkJKAAZBSu+kFrlCr6QUAqI9PYACkJGAApCRgAKQkYACk\\\n",
       "JGAApCRgAKQkYACkJGAApCRgAKQkYACkJGAApCRgAKQkYACkJGAApCRgAKQkYACkJGAApCRgAKQk\\\n",
       "YACkJGAApCRgAKQkYACkJGAApCRgAKQkYACkJGAApCRgAKQkYACkJGAApCRgAKQkYACkJGAApCRg\\\n",
       "AKQkYACkJGAApPRnQdMR9mUy+MoAAAAASUVORK5CYII=\\\n",
       "\"\n",
       "\n",
       "\n",
       "    /* set a timeout to make sure all the above elements are created before\n",
       "       the object is initialized. */\n",
       "    setTimeout(function() {\n",
       "        animd3140552793e4016aafccc5c4a17bf8e = new Animation(frames, img_id, slider_id, 40.0,\n",
       "                                 loop_select_id);\n",
       "    }, 0);\n",
       "  })()\n",
       "</script>\n"
      ],
      "text/plain": [
       "<matplotlib.animation.FuncAnimation at 0x7fe849e872d0>"
      ]
     },
     "execution_count": 20,
     "metadata": {},
     "output_type": "execute_result"
    }
   ],
   "source": [
    "plot_animation(frames)"
   ]
  },
  {
   "cell_type": "markdown",
   "metadata": {},
   "source": [
    "Clearly the system is unstable and after just a few wobbles, the pole ends up too tilted: game over. We will need to be smarter than that!"
   ]
  },
  {
   "cell_type": "markdown",
   "metadata": {},
   "source": [
    "# Neural Network Policies"
   ]
  },
  {
   "cell_type": "markdown",
   "metadata": {},
   "source": [
    "Let's create a neural network that will take observations as inputs, and output the action to take for each observation. To choose an action, the network will estimate a probability for each action, then we will select an action randomly according to the estimated probabilities. In the case of the Cart-Pole environment, there are just two possible actions (left or right), so we only need one output neuron: it will output the probability `p` of the action 0 (left), and of course the probability of action 1 (right) will be `1 - p`."
   ]
  },
  {
   "cell_type": "code",
   "execution_count": 24,
   "metadata": {},
   "outputs": [],
   "source": [
    "keras.backend.clear_session()\n",
    "tf.random.set_seed(42)\n",
    "np.random.seed(42)\n",
    "\n",
    "n_inputs = 4 # == env.observation_space.shape[0]\n",
    "\n",
    "model = keras.models.Sequential([\n",
    "    keras.layers.Dense(5, activation=\"elu\", input_shape=[n_inputs]),\n",
    "    keras.layers.Dense(1, activation=\"sigmoid\"),\n",
    "])"
   ]
  },
  {
   "cell_type": "markdown",
   "metadata": {},
   "source": [
    "In this particular environment, the past actions and observations can safely be ignored, since each observation contains the environment's full state. If there were some hidden state then you may need to consider past actions and observations in order to try to infer the hidden state of the environment. For example, if the environment only revealed the position of the cart but not its velocity, you would have to consider not only the current observation but also the previous observation in order to estimate the current velocity. Another example is if the observations are noisy: you may want to use the past few observations to estimate the most likely current state. Our problem is thus as simple as can be: the current observation is noise-free and contains the environment's full state."
   ]
  },
  {
   "cell_type": "markdown",
   "metadata": {},
   "source": [
    "You may wonder why we plan to pick a random action based on the probability given by the policy network, rather than just picking the action with the highest probability. This approach lets the agent find the right balance between _exploring_ new actions and _exploiting_ the actions that are known to work well. Here's an analogy: suppose you go to a restaurant for the first time, and all the dishes look equally appealing so you randomly pick one. If it turns out to be good, you can increase the probability to order it next time, but you shouldn't increase that probability to 100%, or else you will never try out the other dishes, some of which may be even better than the one you tried."
   ]
  },
  {
   "cell_type": "markdown",
   "metadata": {},
   "source": [
    "Let's write a small function that will run the model to play one episode, and return the frames so we can display an animation:"
   ]
  },
  {
   "cell_type": "code",
   "execution_count": 25,
   "metadata": {},
   "outputs": [],
   "source": [
    "def render_policy_net(model, n_max_steps=200, seed=42):\n",
    "    frames = []\n",
    "    env = gym.make(\"CartPole-v1\")\n",
    "    env.seed(seed)\n",
    "    np.random.seed(seed)\n",
    "    obs = env.reset()\n",
    "    for step in range(n_max_steps):\n",
    "        frames.append(env.render(mode=\"rgb_array\"))\n",
    "        left_proba = model.predict(obs.reshape(1, -1))\n",
    "        action = int(np.random.rand() > left_proba)\n",
    "        obs, reward, done, info = env.step(action)\n",
    "        if done:\n",
    "            break\n",
    "    env.close()\n",
    "    return frames"
   ]
  },
  {
   "cell_type": "markdown",
   "metadata": {},
   "source": [
    "Now let's look at how well this randomly initialized policy network performs:"
   ]
  },
  {
   "cell_type": "code",
   "execution_count": null,
   "metadata": {},
   "outputs": [],
   "source": [
    "frames = render_policy_net(model)\n",
    "plot_animation(frames)"
   ]
  },
  {
   "cell_type": "markdown",
   "metadata": {},
   "source": [
    "Yeah... pretty bad. The neural network will have to learn to do better. First let's see if it is capable of learning the basic policy we used earlier: go left if the pole is tilting left, and go right if it is tilting right."
   ]
  },
  {
   "cell_type": "markdown",
   "metadata": {},
   "source": [
    "We can make the same net play in 50 different environments in parallel (this will give us a diverse training batch at each step), and train for 5000 iterations. We also reset environments when they are done. We train the model using a custom training loop so we can easily use the predictions at each training step to advance the environments."
   ]
  },
  {
   "cell_type": "code",
   "execution_count": 27,
   "metadata": {},
   "outputs": [
    {
     "name": "stdout",
     "output_type": "stream",
     "text": [
      "Iteration: 4999, Loss: 0.094"
     ]
    }
   ],
   "source": [
    "n_environments = 50\n",
    "n_iterations = 5000\n",
    "\n",
    "envs = [gym.make(\"CartPole-v1\") for _ in range(n_environments)]\n",
    "for index, env in enumerate(envs):\n",
    "    env.seed(index)\n",
    "np.random.seed(42)\n",
    "observations = [env.reset() for env in envs]\n",
    "optimizer = keras.optimizers.RMSprop()\n",
    "loss_fn = keras.losses.binary_crossentropy\n",
    "\n",
    "for iteration in range(n_iterations):\n",
    "    # if angle < 0, we want proba(left) = 1., or else proba(left) = 0.\n",
    "    target_probas = np.array([([1.] if obs[2] < 0 else [0.])\n",
    "                              for obs in observations])\n",
    "    with tf.GradientTape() as tape:\n",
    "        left_probas = model(np.array(observations))\n",
    "        loss = tf.reduce_mean(loss_fn(target_probas, left_probas))\n",
    "    print(\"\\rIteration: {}, Loss: {:.3f}\".format(iteration, loss.numpy()), end=\"\")\n",
    "    grads = tape.gradient(loss, model.trainable_variables)\n",
    "    optimizer.apply_gradients(zip(grads, model.trainable_variables))\n",
    "    actions = (np.random.rand(n_environments, 1) > left_probas.numpy()).astype(np.int32)\n",
    "    for env_index, env in enumerate(envs):\n",
    "        obs, reward, done, info = env.step(actions[env_index][0])\n",
    "        observations[env_index] = obs if not done else env.reset()\n",
    "\n",
    "for env in envs:\n",
    "    env.close()"
   ]
  },
  {
   "cell_type": "code",
   "execution_count": 28,
   "metadata": {},
   "outputs": [],
   "source": [
    "frames = render_policy_net(model)\n",
    "plot_animation(frames)"
   ]
  },
  {
   "cell_type": "markdown",
   "metadata": {},
   "source": [
    "Looks like it learned the policy correctly. Now let's see if it can learn a better policy on its own. One that does not wobble as much."
   ]
  },
  {
   "cell_type": "markdown",
   "metadata": {},
   "source": [
    "# Policy Gradients"
   ]
  },
  {
   "cell_type": "markdown",
   "metadata": {},
   "source": [
    "To train this neural network we will need to define the target probabilities `y`. If an action is good we should increase its probability, and conversely if it is bad we should reduce it. But how do we know whether an action is good or bad? The problem is that most actions have delayed effects, so when you win or lose points in an episode, it is not clear which actions contributed to this result: was it just the last action? Or the last 10? Or just one action 50 steps earlier? This is called the _credit assignment problem_.\n",
    "\n",
    "The _Policy Gradients_ algorithm tackles this problem by first playing multiple episodes, then making the actions in good episodes slightly more likely, while actions in bad episodes are made slightly less likely. First we play, then we go back and think about what we did."
   ]
  },
  {
   "cell_type": "markdown",
   "metadata": {},
   "source": [
    "Let's start by creating a function to play a single step using the model. We will also pretend for now that whatever action it takes is the right one, so we can compute the loss and its gradients (we will just save these gradients for now, and modify them later depending on how good or bad the action turned out to be):"
   ]
  },
  {
   "cell_type": "code",
   "execution_count": 29,
   "metadata": {},
   "outputs": [],
   "source": [
    "def play_one_step(env, obs, model, loss_fn):\n",
    "    with tf.GradientTape() as tape:\n",
    "        left_proba = model(obs[np.newaxis])\n",
    "        action = (tf.random.uniform([1, 1]) > left_proba)\n",
    "        y_target = tf.constant([[1.]]) - tf.cast(action, tf.float32)\n",
    "        loss = tf.reduce_mean(loss_fn(y_target, left_proba))\n",
    "    grads = tape.gradient(loss, model.trainable_variables)\n",
    "    obs, reward, done, info = env.step(int(action[0, 0].numpy()))\n",
    "    return obs, reward, done, grads"
   ]
  },
  {
   "cell_type": "markdown",
   "metadata": {},
   "source": [
    "If `left_proba` is high, then `action` will most likely be `False` (since a random number uniformally sampled between 0 and 1 will probably not be greater than `left_proba`). And `False` means 0 when you cast it to a number, so `y_target` would be equal to 1 - 0 = 1. In other words, we set the target to 1, meaning we pretend that the probability of going left should have been 100% (so we took the right action)."
   ]
  },
  {
   "cell_type": "markdown",
   "metadata": {},
   "source": [
    "Now let's create another function that will rely on the `play_one_step()` function to play multiple episodes, returning all the rewards and gradients, for each episode and each step:"
   ]
  },
  {
   "cell_type": "code",
   "execution_count": 30,
   "metadata": {},
   "outputs": [],
   "source": [
    "def play_multiple_episodes(env, n_episodes, n_max_steps, model, loss_fn):\n",
    "    all_rewards = []\n",
    "    all_grads = []\n",
    "    for episode in range(n_episodes):\n",
    "        current_rewards = []\n",
    "        current_grads = []\n",
    "        obs = env.reset()\n",
    "        for step in range(n_max_steps):\n",
    "            obs, reward, done, grads = play_one_step(env, obs, model, loss_fn)\n",
    "            current_rewards.append(reward)\n",
    "            current_grads.append(grads)\n",
    "            if done:\n",
    "                break\n",
    "        all_rewards.append(current_rewards)\n",
    "        all_grads.append(current_grads)\n",
    "    return all_rewards, all_grads"
   ]
  },
  {
   "cell_type": "markdown",
   "metadata": {},
   "source": [
    "The Policy Gradients algorithm uses the model to play the episode several times (e.g., 10 times), then it goes back and looks at all the rewards, discounts them and normalizes them. So let's create couple functions for that: the first will compute discounted rewards; the second will normalize the discounted rewards across many episodes."
   ]
  },
  {
   "cell_type": "code",
   "execution_count": 31,
   "metadata": {},
   "outputs": [],
   "source": [
    "def discount_rewards(rewards, discount_rate):\n",
    "    discounted = np.array(rewards)\n",
    "    for step in range(len(rewards) - 2, -1, -1):\n",
    "        discounted[step] += discounted[step + 1] * discount_rate\n",
    "    return discounted\n",
    "\n",
    "def discount_and_normalize_rewards(all_rewards, discount_rate):\n",
    "    all_discounted_rewards = [discount_rewards(rewards, discount_rate)\n",
    "                              for rewards in all_rewards]\n",
    "    flat_rewards = np.concatenate(all_discounted_rewards)\n",
    "    reward_mean = flat_rewards.mean()\n",
    "    reward_std = flat_rewards.std()\n",
    "    return [(discounted_rewards - reward_mean) / reward_std\n",
    "            for discounted_rewards in all_discounted_rewards]"
   ]
  },
  {
   "cell_type": "markdown",
   "metadata": {},
   "source": [
    "Say there were 3 actions, and after each action there was a reward: first 10, then 0, then -50. If we use a discount factor of 80%, then the 3rd action will get -50 (full credit for the last reward), but the 2nd action will only get -40 (80% credit for the last reward), and the 1st action will get 80% of -40 (-32) plus full credit for the first reward (+10), which leads to a discounted reward of -22:"
   ]
  },
  {
   "cell_type": "code",
   "execution_count": 32,
   "metadata": {},
   "outputs": [
    {
     "data": {
      "text/plain": [
       "array([-22, -40, -50])"
      ]
     },
     "execution_count": 32,
     "metadata": {},
     "output_type": "execute_result"
    }
   ],
   "source": [
    "discount_rewards([10, 0, -50], discount_rate=0.8)"
   ]
  },
  {
   "cell_type": "markdown",
   "metadata": {},
   "source": [
    "To normalize all discounted rewards across all episodes, we compute the mean and standard deviation of all the discounted rewards, and we subtract the mean from each discounted reward, and divide by the standard deviation:"
   ]
  },
  {
   "cell_type": "code",
   "execution_count": 33,
   "metadata": {
    "scrolled": true
   },
   "outputs": [
    {
     "data": {
      "text/plain": [
       "[array([-0.28435071, -0.86597718, -1.18910299]),\n",
       " array([1.26665318, 1.0727777 ])]"
      ]
     },
     "execution_count": 33,
     "metadata": {},
     "output_type": "execute_result"
    }
   ],
   "source": [
    "discount_and_normalize_rewards([[10, 0, -50], [10, 20]], discount_rate=0.8)"
   ]
  },
  {
   "cell_type": "code",
   "execution_count": 34,
   "metadata": {},
   "outputs": [],
   "source": [
    "n_iterations = 150\n",
    "n_episodes_per_update = 10\n",
    "n_max_steps = 200\n",
    "discount_rate = 0.95"
   ]
  },
  {
   "cell_type": "code",
   "execution_count": 35,
   "metadata": {},
   "outputs": [],
   "source": [
    "optimizer = keras.optimizers.Adam(lr=0.01)\n",
    "loss_fn = keras.losses.binary_crossentropy"
   ]
  },
  {
   "cell_type": "code",
   "execution_count": 36,
   "metadata": {},
   "outputs": [],
   "source": [
    "keras.backend.clear_session()\n",
    "np.random.seed(42)\n",
    "tf.random.set_seed(42)\n",
    "\n",
    "model = keras.models.Sequential([\n",
    "    keras.layers.Dense(5, activation=\"elu\", input_shape=[4]),\n",
    "    keras.layers.Dense(1, activation=\"sigmoid\"),\n",
    "])"
   ]
  },
  {
   "cell_type": "code",
   "execution_count": 37,
   "metadata": {},
   "outputs": [
    {
     "name": "stdout",
     "output_type": "stream",
     "text": [
      "Iteration: 149, mean rewards: 191.3"
     ]
    }
   ],
   "source": [
    "env = gym.make(\"CartPole-v1\")\n",
    "env.seed(42);\n",
    "\n",
    "for iteration in range(n_iterations):\n",
    "    all_rewards, all_grads = play_multiple_episodes(\n",
    "        env, n_episodes_per_update, n_max_steps, model, loss_fn)\n",
    "    total_rewards = sum(map(sum, all_rewards))                     # Not shown in the book\n",
    "    print(\"\\rIteration: {}, mean rewards: {:.1f}\".format(          # Not shown\n",
    "        iteration, total_rewards / n_episodes_per_update), end=\"\") # Not shown\n",
    "    all_final_rewards = discount_and_normalize_rewards(all_rewards,\n",
    "                                                       discount_rate)\n",
    "    all_mean_grads = []\n",
    "    for var_index in range(len(model.trainable_variables)):\n",
    "        mean_grads = tf.reduce_mean(\n",
    "            [final_reward * all_grads[episode_index][step][var_index]\n",
    "             for episode_index, final_rewards in enumerate(all_final_rewards)\n",
    "                 for step, final_reward in enumerate(final_rewards)], axis=0)\n",
    "        all_mean_grads.append(mean_grads)\n",
    "    optimizer.apply_gradients(zip(all_mean_grads, model.trainable_variables))\n",
    "\n",
    "env.close()"
   ]
  },
  {
   "cell_type": "code",
   "execution_count": 38,
   "metadata": {},
   "outputs": [],
   "source": [
    "frames = render_policy_net(model)\n",
    "plot_animation(frames)"
   ]
  },
  {
   "cell_type": "markdown",
   "metadata": {},
   "source": [
    "# Markov Chains"
   ]
  },
  {
   "cell_type": "code",
   "execution_count": 39,
   "metadata": {},
   "outputs": [
    {
     "name": "stdout",
     "output_type": "stream",
     "text": [
      "States: 0 0 3 \n",
      "States: 0 1 2 1 2 1 2 1 2 1 3 \n",
      "States: 0 1 2 1 2 1 2 1 2 1 2 1 2 1 2 1 2 1 2 1 2 1 3 \n",
      "States: 0 3 \n",
      "States: 0 1 2 1 2 1 2 1 2 1 2 1 2 1 2 1 3 \n",
      "States: 0 1 3 \n",
      "States: 0 1 2 1 2 1 2 1 2 1 2 1 2 1 2 1 2 1 2 1 2 1 2 1 2 1 2 1 2 1 2 1 2 1 2 1 2 1 2 1 2 1 2 1 2 1 2 1 2 1 ...\n",
      "States: 0 0 3 \n",
      "States: 0 0 0 1 2 1 2 1 3 \n",
      "States: 0 1 2 1 2 1 2 1 2 1 2 1 2 1 2 1 2 1 2 1 2 1 3 \n"
     ]
    }
   ],
   "source": [
    "np.random.seed(42)\n",
    "\n",
    "transition_probabilities = [ # shape=[s, s']\n",
    "        [0.7, 0.2, 0.0, 0.1],  # from s0 to s0, s1, s2, s3\n",
    "        [0.0, 0.0, 0.9, 0.1],  # from s1 to ...\n",
    "        [0.0, 1.0, 0.0, 0.0],  # from s2 to ...\n",
    "        [0.0, 0.0, 0.0, 1.0]]  # from s3 to ...\n",
    "\n",
    "n_max_steps = 50\n",
    "\n",
    "def print_sequence():\n",
    "    current_state = 0\n",
    "    print(\"States:\", end=\" \")\n",
    "    for step in range(n_max_steps):\n",
    "        print(current_state, end=\" \")\n",
    "        if current_state == 3:\n",
    "            break\n",
    "        current_state = np.random.choice(range(4), p=transition_probabilities[current_state])\n",
    "    else:\n",
    "        print(\"...\", end=\"\")\n",
    "    print()\n",
    "\n",
    "for _ in range(10):\n",
    "    print_sequence()"
   ]
  },
  {
   "cell_type": "markdown",
   "metadata": {},
   "source": [
    "# Markov Decision Process"
   ]
  },
  {
   "cell_type": "markdown",
   "metadata": {},
   "source": [
    "Let's define some transition probabilities, rewards and possible actions. For example, in state s0, if action a0 is chosen then with proba 0.7 we will go to state s0 with reward +10, with probability 0.3 we will go to state s1 with no reward, and with never go to state s2 (so the transition probabilities are `[0.7, 0.3, 0.0]`, and the rewards are `[+10, 0, 0]`):"
   ]
  },
  {
   "cell_type": "code",
   "execution_count": 40,
   "metadata": {},
   "outputs": [],
   "source": [
    "transition_probabilities = [ # shape=[s, a, s']\n",
    "        [[0.7, 0.3, 0.0], [1.0, 0.0, 0.0], [0.8, 0.2, 0.0]],\n",
    "        [[0.0, 1.0, 0.0], None, [0.0, 0.0, 1.0]],\n",
    "        [None, [0.8, 0.1, 0.1], None]]\n",
    "rewards = [ # shape=[s, a, s']\n",
    "        [[+10, 0, 0], [0, 0, 0], [0, 0, 0]],\n",
    "        [[0, 0, 0], [0, 0, 0], [0, 0, -50]],\n",
    "        [[0, 0, 0], [+40, 0, 0], [0, 0, 0]]]\n",
    "possible_actions = [[0, 1, 2], [0, 2], [1]]"
   ]
  },
  {
   "cell_type": "markdown",
   "metadata": {},
   "source": [
    "# Q-Value Iteration"
   ]
  },
  {
   "cell_type": "code",
   "execution_count": 41,
   "metadata": {},
   "outputs": [],
   "source": [
    "Q_values = np.full((3, 3), -np.inf) # -np.inf for impossible actions\n",
    "for state, actions in enumerate(possible_actions):\n",
    "    Q_values[state, actions] = 0.0  # for all possible actions"
   ]
  },
  {
   "cell_type": "code",
   "execution_count": 42,
   "metadata": {},
   "outputs": [],
   "source": [
    "gamma = 0.90  # the discount factor\n",
    "\n",
    "history1 = [] # Not shown in the book (for the figure below)\n",
    "for iteration in range(50):\n",
    "    Q_prev = Q_values.copy()\n",
    "    history1.append(Q_prev) # Not shown\n",
    "    for s in range(3):\n",
    "        for a in possible_actions[s]:\n",
    "            Q_values[s, a] = np.sum([\n",
    "                    transition_probabilities[s][a][sp]\n",
    "                    * (rewards[s][a][sp] + gamma * np.max(Q_prev[sp]))\n",
    "                for sp in range(3)])\n",
    "\n",
    "history1 = np.array(history1) # Not shown"
   ]
  },
  {
   "cell_type": "code",
   "execution_count": 43,
   "metadata": {},
   "outputs": [
    {
     "data": {
      "text/plain": [
       "array([[18.91891892, 17.02702702, 13.62162162],\n",
       "       [ 0.        ,        -inf, -4.87971488],\n",
       "       [       -inf, 50.13365013,        -inf]])"
      ]
     },
     "execution_count": 43,
     "metadata": {},
     "output_type": "execute_result"
    }
   ],
   "source": [
    "Q_values"
   ]
  },
  {
   "cell_type": "code",
   "execution_count": 44,
   "metadata": {},
   "outputs": [
    {
     "data": {
      "text/plain": [
       "array([0, 0, 1])"
      ]
     },
     "execution_count": 44,
     "metadata": {},
     "output_type": "execute_result"
    }
   ],
   "source": [
    "np.argmax(Q_values, axis=1)"
   ]
  },
  {
   "cell_type": "markdown",
   "metadata": {},
   "source": [
    "The optimal policy for this MDP, when using a discount factor of 0.90, is to choose action a0 when in state s0, and choose action a0 when in state s1, and finally choose action a1 (the only possible action) when in state s2."
   ]
  },
  {
   "cell_type": "markdown",
   "metadata": {},
   "source": [
    "Let's try again with a discount factor of 0.95:"
   ]
  },
  {
   "cell_type": "code",
   "execution_count": 45,
   "metadata": {},
   "outputs": [],
   "source": [
    "Q_values = np.full((3, 3), -np.inf) # -np.inf for impossible actions\n",
    "for state, actions in enumerate(possible_actions):\n",
    "    Q_values[state, actions] = 0.0  # for all possible actions"
   ]
  },
  {
   "cell_type": "code",
   "execution_count": 46,
   "metadata": {},
   "outputs": [],
   "source": [
    "gamma = 0.95  # the discount factor\n",
    "\n",
    "for iteration in range(50):\n",
    "    Q_prev = Q_values.copy()\n",
    "    for s in range(3):\n",
    "        for a in possible_actions[s]:\n",
    "            Q_values[s, a] = np.sum([\n",
    "                    transition_probabilities[s][a][sp]\n",
    "                    * (rewards[s][a][sp] + gamma * np.max(Q_prev[sp]))\n",
    "                for sp in range(3)])"
   ]
  },
  {
   "cell_type": "code",
   "execution_count": 47,
   "metadata": {},
   "outputs": [
    {
     "data": {
      "text/plain": [
       "array([[21.73304188, 20.63807938, 16.70138772],\n",
       "       [ 0.95462106,        -inf,  1.01361207],\n",
       "       [       -inf, 53.70728682,        -inf]])"
      ]
     },
     "execution_count": 47,
     "metadata": {},
     "output_type": "execute_result"
    }
   ],
   "source": [
    "Q_values"
   ]
  },
  {
   "cell_type": "code",
   "execution_count": 48,
   "metadata": {},
   "outputs": [
    {
     "data": {
      "text/plain": [
       "array([0, 2, 1])"
      ]
     },
     "execution_count": 48,
     "metadata": {},
     "output_type": "execute_result"
    }
   ],
   "source": [
    "np.argmax(Q_values, axis=1)"
   ]
  },
  {
   "cell_type": "markdown",
   "metadata": {},
   "source": [
    "Now the policy has changed! In state s1, we now prefer to go through the fire (choose action a2). This is because the discount factor is larger so the agent values the future more, and it is therefore ready to pay an immediate penalty in order to get more future rewards."
   ]
  },
  {
   "cell_type": "markdown",
   "metadata": {},
   "source": [
    "# Q-Learning"
   ]
  },
  {
   "cell_type": "markdown",
   "metadata": {},
   "source": [
    "Q-Learning works by watching an agent play (e.g., randomly) and gradually improving its estimates of the Q-Values. Once it has accurate Q-Value estimates (or close enough), then the optimal policy consists in choosing the action that has the highest Q-Value (i.e., the greedy policy)."
   ]
  },
  {
   "cell_type": "markdown",
   "metadata": {},
   "source": [
    "We will need to simulate an agent moving around in the environment, so let's define a function to perform some action and get the new state and a reward:"
   ]
  },
  {
   "cell_type": "code",
   "execution_count": 49,
   "metadata": {},
   "outputs": [],
   "source": [
    "def step(state, action):\n",
    "    probas = transition_probabilities[state][action]\n",
    "    next_state = np.random.choice([0, 1, 2], p=probas)\n",
    "    reward = rewards[state][action][next_state]\n",
    "    return next_state, reward"
   ]
  },
  {
   "cell_type": "markdown",
   "metadata": {},
   "source": [
    "We also need an exploration policy, which can be any policy, as long as it visits every possible state many times. We will just use a random policy, since the state space is very small:"
   ]
  },
  {
   "cell_type": "code",
   "execution_count": 50,
   "metadata": {},
   "outputs": [],
   "source": [
    "def exploration_policy(state):\n",
    "    return np.random.choice(possible_actions[state])"
   ]
  },
  {
   "cell_type": "markdown",
   "metadata": {},
   "source": [
    "Now let's initialize the Q-Values like earlier, and run the Q-Learning algorithm:"
   ]
  },
  {
   "cell_type": "code",
   "execution_count": 51,
   "metadata": {},
   "outputs": [],
   "source": [
    "np.random.seed(42)\n",
    "\n",
    "Q_values = np.full((3, 3), -np.inf)\n",
    "for state, actions in enumerate(possible_actions):\n",
    "    Q_values[state][actions] = 0\n",
    "\n",
    "alpha0 = 0.05 # initial learning rate\n",
    "decay = 0.005 # learning rate decay\n",
    "gamma = 0.90 # discount factor\n",
    "state = 0 # initial state\n",
    "history2 = [] # Not shown in the book\n",
    "\n",
    "for iteration in range(10000):\n",
    "    history2.append(Q_values.copy()) # Not shown\n",
    "    action = exploration_policy(state)\n",
    "    next_state, reward = step(state, action)\n",
    "    next_value = np.max(Q_values[next_state]) # greedy policy at the next step\n",
    "    alpha = alpha0 / (1 + iteration * decay)\n",
    "    Q_values[state, action] *= 1 - alpha\n",
    "    Q_values[state, action] += alpha * (reward + gamma * next_value)\n",
    "    state = next_state\n",
    "\n",
    "history2 = np.array(history2) # Not shown"
   ]
  },
  {
   "cell_type": "code",
   "execution_count": 52,
   "metadata": {},
   "outputs": [
    {
     "data": {
      "text/plain": [
       "array([[18.77621289, 17.2238872 , 13.74543343],\n",
       "       [ 0.        ,        -inf, -8.00485647],\n",
       "       [       -inf, 49.40208921,        -inf]])"
      ]
     },
     "execution_count": 52,
     "metadata": {},
     "output_type": "execute_result"
    }
   ],
   "source": [
    "Q_values"
   ]
  },
  {
   "cell_type": "code",
   "execution_count": 53,
   "metadata": {},
   "outputs": [
    {
     "data": {
      "text/plain": [
       "array([0, 0, 1])"
      ]
     },
     "execution_count": 53,
     "metadata": {},
     "output_type": "execute_result"
    }
   ],
   "source": [
    "np.argmax(Q_values, axis=1) # optimal action for each state"
   ]
  },
  {
   "cell_type": "code",
   "execution_count": 54,
   "metadata": {},
   "outputs": [
    {
     "name": "stdout",
     "output_type": "stream",
     "text": [
      "Saving figure q_value_plot\n"
     ]
    },
    {
     "data": {
      "image/png": "[encoded data removed]",
      "text/plain": [
       "<Figure size 720x288 with 2 Axes>"
      ]
     },
     "metadata": {
      "needs_background": "light"
     },
     "output_type": "display_data"
    }
   ],
   "source": [
    "true_Q_value = history1[-1, 0, 0]\n",
    "\n",
    "fig, axes = plt.subplots(1, 2, figsize=(10, 4), sharey=True)\n",
    "axes[0].set_ylabel(\"Q-Value$(s_0, a_0)$\", fontsize=14)\n",
    "axes[0].set_title(\"Q-Value Iteration\", fontsize=14)\n",
    "axes[1].set_title(\"Q-Learning\", fontsize=14)\n",
    "for ax, width, history in zip(axes, (50, 10000), (history1, history2)):\n",
    "    ax.plot([0, width], [true_Q_value, true_Q_value], \"k--\")\n",
    "    ax.plot(np.arange(width), history[:, 0, 0], \"b-\", linewidth=2)\n",
    "    ax.set_xlabel(\"Iterations\", fontsize=14)\n",
    "    ax.axis([0, width, 0, 24])\n",
    "\n",
    "save_fig(\"q_value_plot\")"
   ]
  },
  {
   "cell_type": "markdown",
   "metadata": {},
   "source": [
    "# Deep Q-Network"
   ]
  },
  {
   "cell_type": "markdown",
   "metadata": {},
   "source": [
    "Let's build the DQN. Given a state, it will estimate, for each possible action, the sum of discounted future rewards it can expect after it plays that action (but before it sees its outcome):"
   ]
  },
  {
   "cell_type": "code",
   "execution_count": 55,
   "metadata": {},
   "outputs": [],
   "source": [
    "keras.backend.clear_session()\n",
    "tf.random.set_seed(42)\n",
    "np.random.seed(42)\n",
    "\n",
    "env = gym.make(\"CartPole-v1\")\n",
    "input_shape = [4] # == env.observation_space.shape\n",
    "n_outputs = 2 # == env.action_space.n\n",
    "\n",
    "model = keras.models.Sequential([\n",
    "    keras.layers.Dense(32, activation=\"elu\", input_shape=input_shape),\n",
    "    keras.layers.Dense(32, activation=\"elu\"),\n",
    "    keras.layers.Dense(n_outputs)\n",
    "])"
   ]
  },
  {
   "cell_type": "markdown",
   "metadata": {},
   "source": [
    "To select an action using this DQN, we just pick the action with the largest predicted Q-value. However, to ensure that the agent explores the environment, we choose a random action with probability `epsilon`."
   ]
  },
  {
   "cell_type": "code",
   "execution_count": 56,
   "metadata": {},
   "outputs": [],
   "source": [
    "def epsilon_greedy_policy(state, epsilon=0):\n",
    "    if np.random.rand() < epsilon:\n",
    "        return np.random.randint(2)\n",
    "    else:\n",
    "        Q_values = model.predict(state[np.newaxis])\n",
    "        return np.argmax(Q_values[0])"
   ]
  },
  {
   "cell_type": "markdown",
   "metadata": {},
   "source": [
    "We will also need a replay memory. It will contain the agent's experiences, in the form of tuples: `(obs, action, reward, next_obs, done)`. We can use the `deque` class for that:"
   ]
  },
  {
   "cell_type": "code",
   "execution_count": 57,
   "metadata": {},
   "outputs": [],
   "source": [
    "from collections import deque\n",
    "\n",
    "replay_memory = deque(maxlen=2000)"
   ]
  },
  {
   "cell_type": "markdown",
   "metadata": {},
   "source": [
    "And let's create a function to sample experiences from the replay memory. It will return 5 NumPy arrays: `[obs, actions, rewards, next_obs, dones]`."
   ]
  },
  {
   "cell_type": "code",
   "execution_count": 58,
   "metadata": {},
   "outputs": [],
   "source": [
    "def sample_experiences(batch_size):\n",
    "    indices = np.random.randint(len(replay_memory), size=batch_size)\n",
    "    batch = [replay_memory[index] for index in indices]\n",
    "    states, actions, rewards, next_states, dones = [\n",
    "        np.array([experience[field_index] for experience in batch])\n",
    "        for field_index in range(5)]\n",
    "    return states, actions, rewards, next_states, dones"
   ]
  },
  {
   "cell_type": "markdown",
   "metadata": {},
   "source": [
    "Now we can create a function that will use the DQN to play one step, and record its experience in the replay memory:"
   ]
  },
  {
   "cell_type": "code",
   "execution_count": 59,
   "metadata": {},
   "outputs": [],
   "source": [
    "def play_one_step(env, state, epsilon):\n",
    "    action = epsilon_greedy_policy(state, epsilon)\n",
    "    next_state, reward, done, info = env.step(action)\n",
    "    replay_memory.append((state, action, reward, next_state, done))\n",
    "    return next_state, reward, done, info"
   ]
  },
  {
   "cell_type": "markdown",
   "metadata": {},
   "source": [
    "Lastly, let's create a function that will sample some experiences from the replay memory and perform a training step:\n",
    "\n",
    "**Note**: the first 3 releases of the 2nd edition were missing the `reshape()` operation which converts `target_Q_values` to a column vector (this is required by the `loss_fn()`)."
   ]
  },
  {
   "cell_type": "code",
   "execution_count": 60,
   "metadata": {},
   "outputs": [],
   "source": [
    "batch_size = 32\n",
    "discount_rate = 0.95\n",
    "optimizer = keras.optimizers.Adam(lr=1e-3)\n",
    "loss_fn = keras.losses.mean_squared_error\n",
    "\n",
    "def training_step(batch_size):\n",
    "    experiences = sample_experiences(batch_size)\n",
    "    states, actions, rewards, next_states, dones = experiences\n",
    "    next_Q_values = model.predict(next_states)\n",
    "    max_next_Q_values = np.max(next_Q_values, axis=1)\n",
    "    target_Q_values = (rewards +\n",
    "                       (1 - dones) * discount_rate * max_next_Q_values)\n",
    "    target_Q_values = target_Q_values.reshape(-1, 1)\n",
    "    mask = tf.one_hot(actions, n_outputs)\n",
    "    with tf.GradientTape() as tape:\n",
    "        all_Q_values = model(states)\n",
    "        Q_values = tf.reduce_sum(all_Q_values * mask, axis=1, keepdims=True)\n",
    "        loss = tf.reduce_mean(loss_fn(target_Q_values, Q_values))\n",
    "    grads = tape.gradient(loss, model.trainable_variables)\n",
    "    optimizer.apply_gradients(zip(grads, model.trainable_variables))"
   ]
  },
  {
   "cell_type": "markdown",
   "metadata": {},
   "source": [
    "And now, let's train the model!"
   ]
  },
  {
   "cell_type": "code",
   "execution_count": 61,
   "metadata": {},
   "outputs": [],
   "source": [
    "env.seed(42)\n",
    "np.random.seed(42)\n",
    "tf.random.set_seed(42)\n",
    "\n",
    "rewards = [] \n",
    "best_score = 0"
   ]
  },
  {
   "cell_type": "code",
   "execution_count": 62,
   "metadata": {
    "scrolled": true
   },
   "outputs": [
    {
     "name": "stdout",
     "output_type": "stream",
     "text": [
      "Episode: 599, Steps: 19, eps: 0.0108"
     ]
    }
   ],
   "source": [
    "for episode in range(600):\n",
    "    obs = env.reset()    \n",
    "    for step in range(200):\n",
    "        epsilon = max(1 - episode / 500, 0.01)\n",
    "        obs, reward, done, info = play_one_step(env, obs, epsilon)\n",
    "        if done:\n",
    "            break\n",
    "    rewards.append(step) # Not shown in the book\n",
    "    if step > best_score: # Not shown\n",
    "        best_weights = model.get_weights() # Not shown\n",
    "        best_score = step # Not shown\n",
    "    print(\"\\rEpisode: {}, Steps: {}, eps: {:.3f}\".format(episode, step + 1, epsilon), end=\"\") # Not shown\n",
    "    if episode > 50:\n",
    "        training_step(batch_size)\n",
    "\n",
    "model.set_weights(best_weights)"
   ]
  },
  {
   "cell_type": "code",
   "execution_count": 63,
   "metadata": {},
   "outputs": [
    {
     "name": "stdout",
     "output_type": "stream",
     "text": [
      "Saving figure dqn_rewards_plot\n"
     ]
    },
    {
     "data": {
      "image/png": "[encoded data removed]",
      "text/plain": [
       "<Figure size 576x288 with 1 Axes>"
      ]
     },
     "metadata": {
      "needs_background": "light"
     },
     "output_type": "display_data"
    }
   ],
   "source": [
    "plt.figure(figsize=(8, 4))\n",
    "plt.plot(rewards)\n",
    "plt.xlabel(\"Episode\", fontsize=14)\n",
    "plt.ylabel(\"Sum of rewards\", fontsize=14)\n",
    "save_fig(\"dqn_rewards_plot\")\n",
    "plt.show()"
   ]
  },
  {
   "cell_type": "code",
   "execution_count": 64,
   "metadata": {},
   "outputs": [],
   "source": [
    "env.seed(42)\n",
    "state = env.reset()\n",
    "\n",
    "frames = []\n",
    "\n",
    "for step in range(200):\n",
    "    action = epsilon_greedy_policy(state)\n",
    "    state, reward, done, info = env.step(action)\n",
    "    if done:\n",
    "        break\n",
    "    img = env.render(mode=\"rgb_array\")\n",
    "    frames.append(img)\n",
    "    \n",
    "plot_animation(frames)"
   ]
  },
  {
   "cell_type": "markdown",
   "metadata": {},
   "source": [
    "Not bad at all!"
   ]
  },
  {
   "cell_type": "markdown",
   "metadata": {},
   "source": [
    "## Double DQN"
   ]
  },
  {
   "cell_type": "code",
   "execution_count": 65,
   "metadata": {},
   "outputs": [],
   "source": [
    "keras.backend.clear_session()\n",
    "tf.random.set_seed(42)\n",
    "np.random.seed(42)\n",
    "\n",
    "model = keras.models.Sequential([\n",
    "    keras.layers.Dense(32, activation=\"elu\", input_shape=[4]),\n",
    "    keras.layers.Dense(32, activation=\"elu\"),\n",
    "    keras.layers.Dense(n_outputs)\n",
    "])\n",
    "\n",
    "target = keras.models.clone_model(model)\n",
    "target.set_weights(model.get_weights())"
   ]
  },
  {
   "cell_type": "code",
   "execution_count": 66,
   "metadata": {},
   "outputs": [],
   "source": [
    "batch_size = 32\n",
    "discount_rate = 0.95\n",
    "optimizer = keras.optimizers.Adam(lr=1e-3)\n",
    "loss_fn = keras.losses.Huber()\n",
    "\n",
    "def training_step(batch_size):\n",
    "    experiences = sample_experiences(batch_size)\n",
    "    states, actions, rewards, next_states, dones = experiences\n",
    "    next_Q_values = model.predict(next_states)\n",
    "    best_next_actions = np.argmax(next_Q_values, axis=1)\n",
    "    next_mask = tf.one_hot(best_next_actions, n_outputs).numpy()\n",
    "    next_best_Q_values = (target.predict(next_states) * next_mask).sum(axis=1)\n",
    "    target_Q_values = (rewards + \n",
    "                       (1 - dones) * discount_rate * next_best_Q_values)\n",
    "    target_Q_values = target_Q_values.reshape(-1, 1)\n",
    "    mask = tf.one_hot(actions, n_outputs)\n",
    "    with tf.GradientTape() as tape:\n",
    "        all_Q_values = model(states)\n",
    "        Q_values = tf.reduce_sum(all_Q_values * mask, axis=1, keepdims=True)\n",
    "        loss = tf.reduce_mean(loss_fn(target_Q_values, Q_values))\n",
    "    grads = tape.gradient(loss, model.trainable_variables)\n",
    "    optimizer.apply_gradients(zip(grads, model.trainable_variables))"
   ]
  },
  {
   "cell_type": "code",
   "execution_count": 67,
   "metadata": {},
   "outputs": [],
   "source": [
    "replay_memory = deque(maxlen=2000)"
   ]
  },
  {
   "cell_type": "code",
   "execution_count": 68,
   "metadata": {},
   "outputs": [
    {
     "name": "stdout",
     "output_type": "stream",
     "text": [
      "Episode: 599, Steps: 49, eps: 0.0100"
     ]
    }
   ],
   "source": [
    "env.seed(42)\n",
    "np.random.seed(42)\n",
    "tf.random.set_seed(42)\n",
    "\n",
    "rewards = []\n",
    "best_score = 0\n",
    "\n",
    "for episode in range(600):\n",
    "    obs = env.reset()    \n",
    "    for step in range(200):\n",
    "        epsilon = max(1 - episode / 500, 0.01)\n",
    "        obs, reward, done, info = play_one_step(env, obs, epsilon)\n",
    "        if done:\n",
    "            break\n",
    "    rewards.append(step)\n",
    "    if step > best_score:\n",
    "        best_weights = model.get_weights()\n",
    "        best_score = step\n",
    "    print(\"\\rEpisode: {}, Steps: {}, eps: {:.3f}\".format(episode, step + 1, epsilon), end=\"\")\n",
    "    if episode > 50:\n",
    "        training_step(batch_size)\n",
    "    if episode % 50 == 0:\n",
    "        target.set_weights(model.get_weights())\n",
    "    # Alternatively, you can do soft updates at each step:\n",
    "    #if episode > 50:\n",
    "        #target_weights = target.get_weights()\n",
    "        #online_weights = model.get_weights()\n",
    "        #for index in range(len(target_weights)):\n",
    "        #    target_weights[index] = 0.99 * target_weights[index] + 0.01 * online_weights[index]\n",
    "        #target.set_weights(target_weights)\n",
    "\n",
    "model.set_weights(best_weights)"
   ]
  },
  {
   "cell_type": "code",
   "execution_count": 69,
   "metadata": {},
   "outputs": [
    {
     "name": "stdout",
     "output_type": "stream",
     "text": [
      "Saving figure dqn_rewards_plot\n"
     ]
    },
    {
     "data": {
      "image/png": "[encoded data removed]",
      "text/plain": [
       "<Figure size 576x288 with 1 Axes>"
      ]
     },
     "metadata": {
      "needs_background": "light"
     },
     "output_type": "display_data"
    }
   ],
   "source": [
    "plt.figure(figsize=(8, 4))\n",
    "plt.plot(rewards)\n",
    "plt.xlabel(\"Episode\", fontsize=14)\n",
    "plt.ylabel(\"Sum of rewards\", fontsize=14)\n",
    "save_fig(\"double_dqn_rewards_plot\")\n",
    "plt.show()"
   ]
  },
  {
   "cell_type": "code",
   "execution_count": 70,
   "metadata": {
    "scrolled": true
   },
   "outputs": [],
   "source": [
    "env.seed(42)\n",
    "state = env.reset()\n",
    "\n",
    "frames = []\n",
    "\n",
    "for step in range(200):\n",
    "    action = epsilon_greedy_policy(state)\n",
    "    state, reward, done, info = env.step(action)\n",
    "    if done:\n",
    "        break\n",
    "    img = env.render(mode=\"rgb_array\")\n",
    "    frames.append(img)\n",
    "    \n",
    "plot_animation(frames)"
   ]
  },
  {
   "cell_type": "markdown",
   "metadata": {},
   "source": [
    "# Dueling Double DQN"
   ]
  },
  {
   "cell_type": "code",
   "execution_count": 71,
   "metadata": {},
   "outputs": [],
   "source": [
    "keras.backend.clear_session()\n",
    "tf.random.set_seed(42)\n",
    "np.random.seed(42)\n",
    "\n",
    "K = keras.backend\n",
    "input_states = keras.layers.Input(shape=[4])\n",
    "hidden1 = keras.layers.Dense(32, activation=\"elu\")(input_states)\n",
    "hidden2 = keras.layers.Dense(32, activation=\"elu\")(hidden1)\n",
    "state_values = keras.layers.Dense(1)(hidden2)\n",
    "raw_advantages = keras.layers.Dense(n_outputs)(hidden2)\n",
    "advantages = raw_advantages - K.max(raw_advantages, axis=1, keepdims=True)\n",
    "Q_values = state_values + advantages\n",
    "model = keras.models.Model(inputs=[input_states], outputs=[Q_values])\n",
    "\n",
    "target = keras.models.clone_model(model)\n",
    "target.set_weights(model.get_weights())"
   ]
  },
  {
   "cell_type": "code",
   "execution_count": 72,
   "metadata": {},
   "outputs": [],
   "source": [
    "batch_size = 32\n",
    "discount_rate = 0.95\n",
    "optimizer = keras.optimizers.Adam(lr=1e-2)\n",
    "loss_fn = keras.losses.Huber()\n",
    "\n",
    "def training_step(batch_size):\n",
    "    experiences = sample_experiences(batch_size)\n",
    "    states, actions, rewards, next_states, dones = experiences\n",
    "    next_Q_values = model.predict(next_states)\n",
    "    best_next_actions = np.argmax(next_Q_values, axis=1)\n",
    "    next_mask = tf.one_hot(best_next_actions, n_outputs).numpy()\n",
    "    next_best_Q_values = (target.predict(next_states) * next_mask).sum(axis=1)\n",
    "    target_Q_values = (rewards + \n",
    "                       (1 - dones) * discount_rate * next_best_Q_values)\n",
    "    target_Q_values = target_Q_values.reshape(-1, 1)\n",
    "    mask = tf.one_hot(actions, n_outputs)\n",
    "    with tf.GradientTape() as tape:\n",
    "        all_Q_values = model(states)\n",
    "        Q_values = tf.reduce_sum(all_Q_values * mask, axis=1, keepdims=True)\n",
    "        loss = tf.reduce_mean(loss_fn(target_Q_values, Q_values))\n",
    "    grads = tape.gradient(loss, model.trainable_variables)\n",
    "    optimizer.apply_gradients(zip(grads, model.trainable_variables))"
   ]
  },
  {
   "cell_type": "code",
   "execution_count": 73,
   "metadata": {},
   "outputs": [],
   "source": [
    "replay_memory = deque(maxlen=2000)"
   ]
  },
  {
   "cell_type": "code",
   "execution_count": 74,
   "metadata": {},
   "outputs": [
    {
     "name": "stdout",
     "output_type": "stream",
     "text": [
      "Episode: 599, Steps: 74, eps: 0.0100"
     ]
    }
   ],
   "source": [
    "env.seed(42)\n",
    "np.random.seed(42)\n",
    "tf.random.set_seed(42)\n",
    "\n",
    "rewards = []\n",
    "best_score = 0\n",
    "\n",
    "for episode in range(600):\n",
    "    obs = env.reset()    \n",
    "    for step in range(200):\n",
    "        epsilon = max(1 - episode / 500, 0.01)\n",
    "        obs, reward, done, info = play_one_step(env, obs, epsilon)\n",
    "        if done:\n",
    "            break\n",
    "    rewards.append(step)\n",
    "    if step > best_score:\n",
    "        best_weights = model.get_weights()\n",
    "        best_score = step\n",
    "    print(\"\\rEpisode: {}, Steps: {}, eps: {:.3f}\".format(episode, step + 1, epsilon), end=\"\")\n",
    "    if episode > 50:\n",
    "        training_step(batch_size)\n",
    "    if episode % 200 == 0:\n",
    "        target.set_weights(model.get_weights())\n",
    "\n",
    "model.set_weights(best_weights)"
   ]
  },
  {
   "cell_type": "code",
   "execution_count": 75,
   "metadata": {},
   "outputs": [
    {
     "data": {
      "image/png": "[encoded data removed]",
      "text/plain": [
       "<Figure size 432x288 with 1 Axes>"
      ]
     },
     "metadata": {
      "needs_background": "light"
     },
     "output_type": "display_data"
    }
   ],
   "source": [
    "plt.plot(rewards)\n",
    "plt.xlabel(\"Episode\")\n",
    "plt.ylabel(\"Sum of rewards\")\n",
    "plt.show()"
   ]
  },
  {
   "cell_type": "code",
   "execution_count": 76,
   "metadata": {
    "scrolled": true
   },
   "outputs": [],
   "source": [
    "env.seed(42)\n",
    "state = env.reset()\n",
    "\n",
    "frames = []\n",
    "\n",
    "for step in range(200):\n",
    "    action = epsilon_greedy_policy(state)\n",
    "    state, reward, done, info = env.step(action)\n",
    "    if done:\n",
    "        break\n",
    "    img = env.render(mode=\"rgb_array\")\n",
    "    frames.append(img)\n",
    "    \n",
    "plot_animation(frames)"
   ]
  },
  {
   "cell_type": "markdown",
   "metadata": {},
   "source": [
    "This looks like a pretty robust agent!"
   ]
  },
  {
   "cell_type": "code",
   "execution_count": 77,
   "metadata": {},
   "outputs": [],
   "source": [
    "env.close()"
   ]
  },
  {
   "cell_type": "markdown",
   "metadata": {},
   "source": [
    "# Using TF-Agents to Beat Breakout"
   ]
  },
  {
   "cell_type": "markdown",
   "metadata": {},
   "source": [
    "Let's use TF-Agents to create an agent that will learn to play Breakout. We will use the Deep Q-Learning algorithm, so you can easily compare the components with the previous implementation, but TF-Agents implements many other (and more sophisticated) algorithms!"
   ]
  },
  {
   "cell_type": "markdown",
   "metadata": {},
   "source": [
    "## TF-Agents Environments"
   ]
  },
  {
   "cell_type": "code",
   "execution_count": 78,
   "metadata": {},
   "outputs": [],
   "source": [
    "tf.random.set_seed(42)\n",
    "np.random.seed(42)"
   ]
  },
  {
   "cell_type": "code",
   "execution_count": 79,
   "metadata": {},
   "outputs": [
    {
     "data": {
      "text/plain": [
       "<tf_agents.environments.wrappers.TimeLimit at 0x10b3788d0>"
      ]
     },
     "execution_count": 79,
     "metadata": {},
     "output_type": "execute_result"
    }
   ],
   "source": [
    "from tf_agents.environments import suite_gym\n",
    "\n",
    "env = suite_gym.load(\"Breakout-v4\")\n",
    "env"
   ]
  },
  {
   "cell_type": "code",
   "execution_count": 80,
   "metadata": {},
   "outputs": [
    {
     "data": {
      "text/plain": [
       "<gym.envs.atari.atari_env.AtariEnv at 0x10a9d8518>"
      ]
     },
     "execution_count": 80,
     "metadata": {},
     "output_type": "execute_result"
    }
   ],
   "source": [
    "env.gym"
   ]
  },
  {
   "cell_type": "code",
   "execution_count": 81,
   "metadata": {},
   "outputs": [
    {
     "data": {
      "text/plain": [
       "TimeStep(step_type=array(0, dtype=int32), reward=array(0., dtype=float32), discount=array(1., dtype=float32), observation=array([[[0., 0., 0.],\n",
       "        [0., 0., 0.],\n",
       "        [0., 0., 0.],\n",
       "        ...,\n",
       "        [0., 0., 0.],\n",
       "        [0., 0., 0.],\n",
       "        [0., 0., 0.]],\n",
       "\n",
       "       [[0., 0., 0.],\n",
       "        [0., 0., 0.],\n",
       "        [0., 0., 0.],\n",
       "        ...,\n",
       "        [0., 0., 0.],\n",
       "        [0., 0., 0.],\n",
       "        [0., 0., 0.]],\n",
       "\n",
       "       [[0., 0., 0.],\n",
       "        [0., 0., 0.],\n",
       "        [0., 0., 0.],\n",
       "        ...,\n",
       "        [0., 0., 0.],\n",
       "        [0., 0., 0.],\n",
       "        [0., 0., 0.]],\n",
       "\n",
       "       ...,\n",
       "\n",
       "       [[0., 0., 0.],\n",
       "        [0., 0., 0.],\n",
       "        [0., 0., 0.],\n",
       "        ...,\n",
       "        [0., 0., 0.],\n",
       "        [0., 0., 0.],\n",
       "        [0., 0., 0.]],\n",
       "\n",
       "       [[0., 0., 0.],\n",
       "        [0., 0., 0.],\n",
       "        [0., 0., 0.],\n",
       "        ...,\n",
       "        [0., 0., 0.],\n",
       "        [0., 0., 0.],\n",
       "        [0., 0., 0.]],\n",
       "\n",
       "       [[0., 0., 0.],\n",
       "        [0., 0., 0.],\n",
       "        [0., 0., 0.],\n",
       "        ...,\n",
       "        [0., 0., 0.],\n",
       "        [0., 0., 0.],\n",
       "        [0., 0., 0.]]], dtype=float32))"
      ]
     },
     "execution_count": 81,
     "metadata": {},
     "output_type": "execute_result"
    }
   ],
   "source": [
    "env.seed(42)\n",
    "env.reset()"
   ]
  },
  {
   "cell_type": "markdown",
   "metadata": {},
   "source": [
    "**Warning**: since TF Agents 0.4.0, there seems to be an issue with passing an integer to the `env.step()` method (it raises an `AttributeError`). You need to wrap it in a NumPy array, as done below. Please see [TF Agents Issue #520](https://github.com/tensorflow/agents/issues/520) for more details."
   ]
  },
  {
   "cell_type": "code",
   "execution_count": 82,
   "metadata": {},
   "outputs": [
    {
     "data": {
      "text/plain": [
       "TimeStep(step_type=array(1, dtype=int32), reward=array(0., dtype=float32), discount=array(1., dtype=float32), observation=array([[[0., 0., 0.],\n",
       "        [0., 0., 0.],\n",
       "        [0., 0., 0.],\n",
       "        ...,\n",
       "        [0., 0., 0.],\n",
       "        [0., 0., 0.],\n",
       "        [0., 0., 0.]],\n",
       "\n",
       "       [[0., 0., 0.],\n",
       "        [0., 0., 0.],\n",
       "        [0., 0., 0.],\n",
       "        ...,\n",
       "        [0., 0., 0.],\n",
       "        [0., 0., 0.],\n",
       "        [0., 0., 0.]],\n",
       "\n",
       "       [[0., 0., 0.],\n",
       "        [0., 0., 0.],\n",
       "        [0., 0., 0.],\n",
       "        ...,\n",
       "        [0., 0., 0.],\n",
       "        [0., 0., 0.],\n",
       "        [0., 0., 0.]],\n",
       "\n",
       "       ...,\n",
       "\n",
       "       [[0., 0., 0.],\n",
       "        [0., 0., 0.],\n",
       "        [0., 0., 0.],\n",
       "        ...,\n",
       "        [0., 0., 0.],\n",
       "        [0., 0., 0.],\n",
       "        [0., 0., 0.]],\n",
       "\n",
       "       [[0., 0., 0.],\n",
       "        [0., 0., 0.],\n",
       "        [0., 0., 0.],\n",
       "        ...,\n",
       "        [0., 0., 0.],\n",
       "        [0., 0., 0.],\n",
       "        [0., 0., 0.]],\n",
       "\n",
       "       [[0., 0., 0.],\n",
       "        [0., 0., 0.],\n",
       "        [0., 0., 0.],\n",
       "        ...,\n",
       "        [0., 0., 0.],\n",
       "        [0., 0., 0.],\n",
       "        [0., 0., 0.]]], dtype=float32))"
      ]
     },
     "execution_count": 82,
     "metadata": {},
     "output_type": "execute_result"
    }
   ],
   "source": [
    "env.step(np.array(1)) # Fire"
   ]
  },
  {
   "cell_type": "code",
   "execution_count": 83,
   "metadata": {},
   "outputs": [
    {
     "name": "stdout",
     "output_type": "stream",
     "text": [
      "Saving figure breakout_plot\n"
     ]
    },
    {
     "data": {
      "image/png": "[encoded data removed]",
      "text/plain": [
       "<Figure size 432x576 with 1 Axes>"
      ]
     },
     "metadata": {
      "needs_background": "light"
     },
     "output_type": "display_data"
    }
   ],
   "source": [
    "img = env.render(mode=\"rgb_array\")\n",
    "\n",
    "plt.figure(figsize=(6, 8))\n",
    "plt.imshow(img)\n",
    "plt.axis(\"off\")\n",
    "save_fig(\"breakout_plot\")\n",
    "plt.show()"
   ]
  },
  {
   "cell_type": "code",
   "execution_count": 84,
   "metadata": {},
   "outputs": [
    {
     "data": {
      "text/plain": [
       "TimeStep(step_type=array(1, dtype=int32), reward=array(0., dtype=float32), discount=array(1., dtype=float32), observation=array([[[0., 0., 0.],\n",
       "        [0., 0., 0.],\n",
       "        [0., 0., 0.],\n",
       "        ...,\n",
       "        [0., 0., 0.],\n",
       "        [0., 0., 0.],\n",
       "        [0., 0., 0.]],\n",
       "\n",
       "       [[0., 0., 0.],\n",
       "        [0., 0., 0.],\n",
       "        [0., 0., 0.],\n",
       "        ...,\n",
       "        [0., 0., 0.],\n",
       "        [0., 0., 0.],\n",
       "        [0., 0., 0.]],\n",
       "\n",
       "       [[0., 0., 0.],\n",
       "        [0., 0., 0.],\n",
       "        [0., 0., 0.],\n",
       "        ...,\n",
       "        [0., 0., 0.],\n",
       "        [0., 0., 0.],\n",
       "        [0., 0., 0.]],\n",
       "\n",
       "       ...,\n",
       "\n",
       "       [[0., 0., 0.],\n",
       "        [0., 0., 0.],\n",
       "        [0., 0., 0.],\n",
       "        ...,\n",
       "        [0., 0., 0.],\n",
       "        [0., 0., 0.],\n",
       "        [0., 0., 0.]],\n",
       "\n",
       "       [[0., 0., 0.],\n",
       "        [0., 0., 0.],\n",
       "        [0., 0., 0.],\n",
       "        ...,\n",
       "        [0., 0., 0.],\n",
       "        [0., 0., 0.],\n",
       "        [0., 0., 0.]],\n",
       "\n",
       "       [[0., 0., 0.],\n",
       "        [0., 0., 0.],\n",
       "        [0., 0., 0.],\n",
       "        ...,\n",
       "        [0., 0., 0.],\n",
       "        [0., 0., 0.],\n",
       "        [0., 0., 0.]]], dtype=float32))"
      ]
     },
     "execution_count": 84,
     "metadata": {},
     "output_type": "execute_result"
    }
   ],
   "source": [
    "env.current_time_step()"
   ]
  },
  {
   "cell_type": "markdown",
   "metadata": {},
   "source": [
    "## Environment Specifications"
   ]
  },
  {
   "cell_type": "code",
   "execution_count": 85,
   "metadata": {},
   "outputs": [
    {
     "data": {
      "text/plain": [
       "BoundedArraySpec(shape=(210, 160, 3), dtype=dtype('float32'), name=None, minimum=[[[0. 0. 0.]\n",
       "  [0. 0. 0.]\n",
       "  [0. 0. 0.]\n",
       "  ...\n",
       "  [0. 0. 0.]\n",
       "  [0. 0. 0.]\n",
       "  [0. 0. 0.]]\n",
       "\n",
       " [[0. 0. 0.]\n",
       "  [0. 0. 0.]\n",
       "  [0. 0. 0.]\n",
       "  ...\n",
       "  [0. 0. 0.]\n",
       "  [0. 0. 0.]\n",
       "  [0. 0. 0.]]\n",
       "\n",
       " [[0. 0. 0.]\n",
       "  [0. 0. 0.]\n",
       "  [0. 0. 0.]\n",
       "  ...\n",
       "  [0. 0. 0.]\n",
       "  [0. 0. 0.]\n",
       "  [0. 0. 0.]]\n",
       "\n",
       " ...\n",
       "\n",
       " [[0. 0. 0.]\n",
       "  [0. 0. 0.]\n",
       "  [0. 0. 0.]\n",
       "  ...\n",
       "  [0. 0. 0.]\n",
       "  [0. 0. 0.]\n",
       "  [0. 0. 0.]]\n",
       "\n",
       " [[0. 0. 0.]\n",
       "  [0. 0. 0.]\n",
       "  [0. 0. 0.]\n",
       "  ...\n",
       "  [0. 0. 0.]\n",
       "  [0. 0. 0.]\n",
       "  [0. 0. 0.]]\n",
       "\n",
       " [[0. 0. 0.]\n",
       "  [0. 0. 0.]\n",
       "  [0. 0. 0.]\n",
       "  ...\n",
       "  [0. 0. 0.]\n",
       "  [0. 0. 0.]\n",
       "  [0. 0. 0.]]], maximum=[[[255. 255. 255.]\n",
       "  [255. 255. 255.]\n",
       "  [255. 255. 255.]\n",
       "  ...\n",
       "  [255. 255. 255.]\n",
       "  [255. 255. 255.]\n",
       "  [255. 255. 255.]]\n",
       "\n",
       " [[255. 255. 255.]\n",
       "  [255. 255. 255.]\n",
       "  [255. 255. 255.]\n",
       "  ...\n",
       "  [255. 255. 255.]\n",
       "  [255. 255. 255.]\n",
       "  [255. 255. 255.]]\n",
       "\n",
       " [[255. 255. 255.]\n",
       "  [255. 255. 255.]\n",
       "  [255. 255. 255.]\n",
       "  ...\n",
       "  [255. 255. 255.]\n",
       "  [255. 255. 255.]\n",
       "  [255. 255. 255.]]\n",
       "\n",
       " ...\n",
       "\n",
       " [[255. 255. 255.]\n",
       "  [255. 255. 255.]\n",
       "  [255. 255. 255.]\n",
       "  ...\n",
       "  [255. 255. 255.]\n",
       "  [255. 255. 255.]\n",
       "  [255. 255. 255.]]\n",
       "\n",
       " [[255. 255. 255.]\n",
       "  [255. 255. 255.]\n",
       "  [255. 255. 255.]\n",
       "  ...\n",
       "  [255. 255. 255.]\n",
       "  [255. 255. 255.]\n",
       "  [255. 255. 255.]]\n",
       "\n",
       " [[255. 255. 255.]\n",
       "  [255. 255. 255.]\n",
       "  [255. 255. 255.]\n",
       "  ...\n",
       "  [255. 255. 255.]\n",
       "  [255. 255. 255.]\n",
       "  [255. 255. 255.]]])"
      ]
     },
     "execution_count": 85,
     "metadata": {},
     "output_type": "execute_result"
    }
   ],
   "source": [
    "env.observation_spec()"
   ]
  },
  {
   "cell_type": "code",
   "execution_count": 86,
   "metadata": {},
   "outputs": [
    {
     "data": {
      "text/plain": [
       "BoundedArraySpec(shape=(), dtype=dtype('int64'), name=None, minimum=0, maximum=3)"
      ]
     },
     "execution_count": 86,
     "metadata": {},
     "output_type": "execute_result"
    }
   ],
   "source": [
    "env.action_spec()"
   ]
  },
  {
   "cell_type": "code",
   "execution_count": 87,
   "metadata": {},
   "outputs": [
    {
     "data": {
      "text/plain": [
       "TimeStep(step_type=ArraySpec(shape=(), dtype=dtype('int32'), name='step_type'), reward=ArraySpec(shape=(), dtype=dtype('float32'), name='reward'), discount=BoundedArraySpec(shape=(), dtype=dtype('float32'), name='discount', minimum=0.0, maximum=1.0), observation=BoundedArraySpec(shape=(210, 160, 3), dtype=dtype('float32'), name=None, minimum=[[[0. 0. 0.]\n",
       "  [0. 0. 0.]\n",
       "  [0. 0. 0.]\n",
       "  ...\n",
       "  [0. 0. 0.]\n",
       "  [0. 0. 0.]\n",
       "  [0. 0. 0.]]\n",
       "\n",
       " [[0. 0. 0.]\n",
       "  [0. 0. 0.]\n",
       "  [0. 0. 0.]\n",
       "  ...\n",
       "  [0. 0. 0.]\n",
       "  [0. 0. 0.]\n",
       "  [0. 0. 0.]]\n",
       "\n",
       " [[0. 0. 0.]\n",
       "  [0. 0. 0.]\n",
       "  [0. 0. 0.]\n",
       "  ...\n",
       "  [0. 0. 0.]\n",
       "  [0. 0. 0.]\n",
       "  [0. 0. 0.]]\n",
       "\n",
       " ...\n",
       "\n",
       " [[0. 0. 0.]\n",
       "  [0. 0. 0.]\n",
       "  [0. 0. 0.]\n",
       "  ...\n",
       "  [0. 0. 0.]\n",
       "  [0. 0. 0.]\n",
       "  [0. 0. 0.]]\n",
       "\n",
       " [[0. 0. 0.]\n",
       "  [0. 0. 0.]\n",
       "  [0. 0. 0.]\n",
       "  ...\n",
       "  [0. 0. 0.]\n",
       "  [0. 0. 0.]\n",
       "  [0. 0. 0.]]\n",
       "\n",
       " [[0. 0. 0.]\n",
       "  [0. 0. 0.]\n",
       "  [0. 0. 0.]\n",
       "  ...\n",
       "  [0. 0. 0.]\n",
       "  [0. 0. 0.]\n",
       "  [0. 0. 0.]]], maximum=[[[255. 255. 255.]\n",
       "  [255. 255. 255.]\n",
       "  [255. 255. 255.]\n",
       "  ...\n",
       "  [255. 255. 255.]\n",
       "  [255. 255. 255.]\n",
       "  [255. 255. 255.]]\n",
       "\n",
       " [[255. 255. 255.]\n",
       "  [255. 255. 255.]\n",
       "  [255. 255. 255.]\n",
       "  ...\n",
       "  [255. 255. 255.]\n",
       "  [255. 255. 255.]\n",
       "  [255. 255. 255.]]\n",
       "\n",
       " [[255. 255. 255.]\n",
       "  [255. 255. 255.]\n",
       "  [255. 255. 255.]\n",
       "  ...\n",
       "  [255. 255. 255.]\n",
       "  [255. 255. 255.]\n",
       "  [255. 255. 255.]]\n",
       "\n",
       " ...\n",
       "\n",
       " [[255. 255. 255.]\n",
       "  [255. 255. 255.]\n",
       "  [255. 255. 255.]\n",
       "  ...\n",
       "  [255. 255. 255.]\n",
       "  [255. 255. 255.]\n",
       "  [255. 255. 255.]]\n",
       "\n",
       " [[255. 255. 255.]\n",
       "  [255. 255. 255.]\n",
       "  [255. 255. 255.]\n",
       "  ...\n",
       "  [255. 255. 255.]\n",
       "  [255. 255. 255.]\n",
       "  [255. 255. 255.]]\n",
       "\n",
       " [[255. 255. 255.]\n",
       "  [255. 255. 255.]\n",
       "  [255. 255. 255.]\n",
       "  ...\n",
       "  [255. 255. 255.]\n",
       "  [255. 255. 255.]\n",
       "  [255. 255. 255.]]]))"
      ]
     },
     "execution_count": 87,
     "metadata": {},
     "output_type": "execute_result"
    }
   ],
   "source": [
    "env.time_step_spec()"
   ]
  },
  {
   "cell_type": "markdown",
   "metadata": {},
   "source": [
    "## Environment Wrappers"
   ]
  },
  {
   "cell_type": "markdown",
   "metadata": {},
   "source": [
    "You can wrap a TF-Agents environments in a TF-Agents wrapper:"
   ]
  },
  {
   "cell_type": "code",
   "execution_count": 88,
   "metadata": {},
   "outputs": [
    {
     "data": {
      "text/plain": [
       "<tf_agents.environments.wrappers.ActionRepeat at 0x134eb87b8>"
      ]
     },
     "execution_count": 88,
     "metadata": {},
     "output_type": "execute_result"
    }
   ],
   "source": [
    "from tf_agents.environments.wrappers import ActionRepeat\n",
    "\n",
    "repeating_env = ActionRepeat(env, times=4)\n",
    "repeating_env"
   ]
  },
  {
   "cell_type": "code",
   "execution_count": 89,
   "metadata": {},
   "outputs": [
    {
     "data": {
      "text/plain": [
       "<gym.envs.atari.atari_env.AtariEnv at 0x10a9d8518>"
      ]
     },
     "execution_count": 89,
     "metadata": {},
     "output_type": "execute_result"
    }
   ],
   "source": [
    "repeating_env.unwrapped"
   ]
  },
  {
   "cell_type": "markdown",
   "metadata": {},
   "source": [
    "Here is the list of available wrappers:"
   ]
  },
  {
   "cell_type": "code",
   "execution_count": 90,
   "metadata": {},
   "outputs": [
    {
     "name": "stdout",
     "output_type": "stream",
     "text": [
      "ActionClipWrapper           Wraps an environment and clips actions to spec before applying.\n",
      "ActionDiscretizeWrapper     Wraps an environment with continuous actions and discretizes them.\n",
      "ActionOffsetWrapper         Offsets actions to be zero-based.\n",
      "ActionRepeat                Repeates actions over n-steps while acummulating the received reward.\n",
      "FlattenObservationsWrapper  Wraps an environment and flattens nested multi-dimensional observations.\n",
      "GoalReplayEnvWrapper        Adds a goal to the observation, used for HER (Hindsight Experience Replay).\n",
      "PyEnvironmentBaseWrapper    PyEnvironment wrapper forwards calls to the given environment.\n",
      "RunStats                    Wrapper that accumulates run statistics as the environment iterates.\n",
      "TimeLimit                   End episodes after specified number of steps.\n"
     ]
    }
   ],
   "source": [
    "import tf_agents.environments.wrappers\n",
    "\n",
    "for name in dir(tf_agents.environments.wrappers):\n",
    "    obj = getattr(tf_agents.environments.wrappers, name)\n",
    "    if hasattr(obj, \"__base__\") and issubclass(obj, tf_agents.environments.wrappers.PyEnvironmentBaseWrapper):\n",
    "        print(\"{:27s} {}\".format(name, obj.__doc__.split(\"\\n\")[0]))"
   ]
  },
  {
   "cell_type": "markdown",
   "metadata": {},
   "source": [
    "The `suite_gym.load()` function can create an env and wrap it for you, both with TF-Agents environment wrappers and Gym environment wrappers (the latter are applied first)."
   ]
  },
  {
   "cell_type": "code",
   "execution_count": 91,
   "metadata": {},
   "outputs": [],
   "source": [
    "from functools import partial\n",
    "from gym.wrappers import TimeLimit\n",
    "\n",
    "limited_repeating_env = suite_gym.load(\n",
    "    \"Breakout-v4\",\n",
    "    gym_env_wrappers=[partial(TimeLimit, max_episode_steps=10000)],\n",
    "    env_wrappers=[partial(ActionRepeat, times=4)],\n",
    ")"
   ]
  },
  {
   "cell_type": "code",
   "execution_count": 92,
   "metadata": {},
   "outputs": [
    {
     "data": {
      "text/plain": [
       "<tf_agents.environments.wrappers.ActionRepeat at 0x135fa0400>"
      ]
     },
     "execution_count": 92,
     "metadata": {},
     "output_type": "execute_result"
    }
   ],
   "source": [
    "limited_repeating_env"
   ]
  },
  {
   "cell_type": "markdown",
   "metadata": {},
   "source": [
    "Create an Atari Breakout environment, and wrap it to apply the default Atari preprocessing steps:"
   ]
  },
  {
   "cell_type": "code",
   "execution_count": 93,
   "metadata": {},
   "outputs": [
    {
     "data": {
      "text/plain": [
       "<gym.envs.atari.atari_env.AtariEnv at 0x135fa0588>"
      ]
     },
     "execution_count": 93,
     "metadata": {},
     "output_type": "execute_result"
    }
   ],
   "source": [
    "limited_repeating_env.unwrapped"
   ]
  },
  {
   "cell_type": "code",
   "execution_count": 94,
   "metadata": {},
   "outputs": [],
   "source": [
    "from tf_agents.environments import suite_atari\n",
    "from tf_agents.environments.atari_preprocessing import AtariPreprocessing\n",
    "from tf_agents.environments.atari_wrappers import FrameStack4\n",
    "\n",
    "max_episode_steps = 27000 # <=> 108k ALE frames since 1 step = 4 frames\n",
    "environment_name = \"BreakoutNoFrameskip-v4\"\n",
    "\n",
    "env = suite_atari.load(\n",
    "    environment_name,\n",
    "    max_episode_steps=max_episode_steps,\n",
    "    gym_env_wrappers=[AtariPreprocessing, FrameStack4])"
   ]
  },
  {
   "cell_type": "code",
   "execution_count": 95,
   "metadata": {},
   "outputs": [
    {
     "data": {
      "text/plain": [
       "<tf_agents.environments.atari_wrappers.AtariTimeLimit at 0x135fc08d0>"
      ]
     },
     "execution_count": 95,
     "metadata": {},
     "output_type": "execute_result"
    }
   ],
   "source": [
    "env"
   ]
  },
  {
   "cell_type": "markdown",
   "metadata": {},
   "source": [
    "Play a few steps just to see what happens:"
   ]
  },
  {
   "cell_type": "code",
   "execution_count": 96,
   "metadata": {},
   "outputs": [],
   "source": [
    "env.seed(42)\n",
    "env.reset()\n",
    "time_step = env.step(np.array(1)) # FIRE\n",
    "for _ in range(4):\n",
    "    time_step = env.step(np.array(3)) # LEFT"
   ]
  },
  {
   "cell_type": "code",
   "execution_count": 97,
   "metadata": {},
   "outputs": [],
   "source": [
    "def plot_observation(obs):\n",
    "    # Since there are only 3 color channels, you cannot display 4 frames\n",
    "    # with one primary color per frame. So this code computes the delta between\n",
    "    # the current frame and the mean of the other frames, and it adds this delta\n",
    "    # to the red and blue channels to get a pink color for the current frame.\n",
    "    obs = obs.astype(np.float32)\n",
    "    img = obs[..., :3]\n",
    "    current_frame_delta = np.maximum(obs[..., 3] - obs[..., :3].mean(axis=-1), 0.)\n",
    "    img[..., 0] += current_frame_delta\n",
    "    img[..., 2] += current_frame_delta\n",
    "    img = np.clip(img / 150, 0, 1)\n",
    "    plt.imshow(img)\n",
    "    plt.axis(\"off\")"
   ]
  },
  {
   "cell_type": "code",
   "execution_count": 98,
   "metadata": {},
   "outputs": [
    {
     "name": "stdout",
     "output_type": "stream",
     "text": [
      "Saving figure preprocessed_breakout_plot\n"
     ]
    },
    {
     "data": {
      "image/png": "[encoded data removed]",
      "text/plain": [
       "<Figure size 432x432 with 1 Axes>"
      ]
     },
     "metadata": {
      "needs_background": "light"
     },
     "output_type": "display_data"
    }
   ],
   "source": [
    "plt.figure(figsize=(6, 6))\n",
    "plot_observation(time_step.observation)\n",
    "save_fig(\"preprocessed_breakout_plot\")\n",
    "plt.show()"
   ]
  },
  {
   "cell_type": "markdown",
   "metadata": {},
   "source": [
    "Convert the Python environment to a TF environment:"
   ]
  },
  {
   "cell_type": "code",
   "execution_count": 99,
   "metadata": {},
   "outputs": [],
   "source": [
    "from tf_agents.environments.tf_py_environment import TFPyEnvironment\n",
    "\n",
    "tf_env = TFPyEnvironment(env)"
   ]
  },
  {
   "cell_type": "markdown",
   "metadata": {},
   "source": [
    "## Creating the DQN"
   ]
  },
  {
   "cell_type": "markdown",
   "metadata": {},
   "source": [
    "Create a small class to normalize the observations. Images are stored using bytes from 0 to 255 to use less RAM, but we want to pass floats from 0.0 to 1.0 to the neural network:"
   ]
  },
  {
   "cell_type": "markdown",
   "metadata": {},
   "source": [
    "Create the Q-Network:"
   ]
  },
  {
   "cell_type": "code",
   "execution_count": 100,
   "metadata": {},
   "outputs": [],
   "source": [
    "from tf_agents.networks.q_network import QNetwork\n",
    "\n",
    "preprocessing_layer = keras.layers.Lambda(\n",
    "                          lambda obs: tf.cast(obs, np.float32) / 255.)\n",
    "conv_layer_params=[(32, (8, 8), 4), (64, (4, 4), 2), (64, (3, 3), 1)]\n",
    "fc_layer_params=[512]\n",
    "\n",
    "q_net = QNetwork(\n",
    "    tf_env.observation_spec(),\n",
    "    tf_env.action_spec(),\n",
    "    preprocessing_layers=preprocessing_layer,\n",
    "    conv_layer_params=conv_layer_params,\n",
    "    fc_layer_params=fc_layer_params)"
   ]
  },
  {
   "cell_type": "markdown",
   "metadata": {},
   "source": [
    "Create the DQN Agent:"
   ]
  },
  {
   "cell_type": "code",
   "execution_count": 101,
   "metadata": {},
   "outputs": [],
   "source": [
    "from tf_agents.agents.dqn.dqn_agent import DqnAgent\n",
    "\n",
    "# see TF-agents issue #113\n",
    "#optimizer = keras.optimizers.RMSprop(lr=2.5e-4, rho=0.95, momentum=0.0,\n",
    "#                                     epsilon=0.00001, centered=True)\n",
    "\n",
    "train_step = tf.Variable(0)\n",
    "update_period = 4 # run a training step every 4 collect steps\n",
    "optimizer = tf.compat.v1.train.RMSPropOptimizer(learning_rate=2.5e-4, decay=0.95, momentum=0.0,\n",
    "                                     epsilon=0.00001, centered=True)\n",
    "epsilon_fn = keras.optimizers.schedules.PolynomialDecay(\n",
    "    initial_learning_rate=1.0, # initial ε\n",
    "    decay_steps=250000 // update_period, # <=> 1,000,000 ALE frames\n",
    "    end_learning_rate=0.01) # final ε\n",
    "agent = DqnAgent(tf_env.time_step_spec(),\n",
    "                 tf_env.action_spec(),\n",
    "                 q_network=q_net,\n",
    "                 optimizer=optimizer,\n",
    "                 target_update_period=2000, # <=> 32,000 ALE frames\n",
    "                 td_errors_loss_fn=keras.losses.Huber(reduction=\"none\"),\n",
    "                 gamma=0.99, # discount factor\n",
    "                 train_step_counter=train_step,\n",
    "                 epsilon_greedy=lambda: epsilon_fn(train_step))\n",
    "agent.initialize()"
   ]
  },
  {
   "cell_type": "markdown",
   "metadata": {},
   "source": [
    "Create the replay buffer (this may use a lot of RAM, so please reduce the buffer size if you get an out-of-memory error):"
   ]
  },
  {
   "cell_type": "code",
   "execution_count": 102,
   "metadata": {},
   "outputs": [],
   "source": [
    "from tf_agents.replay_buffers import tf_uniform_replay_buffer\n",
    "\n",
    "replay_buffer = tf_uniform_replay_buffer.TFUniformReplayBuffer(\n",
    "    data_spec=agent.collect_data_spec,\n",
    "    batch_size=tf_env.batch_size,\n",
    "    max_length=1000000)\n",
    "\n",
    "replay_buffer_observer = replay_buffer.add_batch"
   ]
  },
  {
   "cell_type": "markdown",
   "metadata": {},
   "source": [
    "Create a simple custom observer that counts and displays the number of times it is called (except when it is passed a trajectory that represents the boundary between two episodes, as this does not count as a step):"
   ]
  },
  {
   "cell_type": "code",
   "execution_count": 103,
   "metadata": {},
   "outputs": [],
   "source": [
    "class ShowProgress:\n",
    "    def __init__(self, total):\n",
    "        self.counter = 0\n",
    "        self.total = total\n",
    "    def __call__(self, trajectory):\n",
    "        if not trajectory.is_boundary():\n",
    "            self.counter += 1\n",
    "        if self.counter % 100 == 0:\n",
    "            print(\"\\r{}/{}\".format(self.counter, self.total), end=\"\")"
   ]
  },
  {
   "cell_type": "markdown",
   "metadata": {},
   "source": [
    "Let's add some training metrics:"
   ]
  },
  {
   "cell_type": "code",
   "execution_count": 104,
   "metadata": {},
   "outputs": [],
   "source": [
    "from tf_agents.metrics import tf_metrics\n",
    "\n",
    "train_metrics = [\n",
    "    tf_metrics.NumberOfEpisodes(),\n",
    "    tf_metrics.EnvironmentSteps(),\n",
    "    tf_metrics.AverageReturnMetric(),\n",
    "    tf_metrics.AverageEpisodeLengthMetric(),\n",
    "]"
   ]
  },
  {
   "cell_type": "code",
   "execution_count": 105,
   "metadata": {},
   "outputs": [
    {
     "data": {
      "text/plain": [
       "<tf.Tensor: id=469, shape=(), dtype=int64, numpy=0>"
      ]
     },
     "execution_count": 105,
     "metadata": {},
     "output_type": "execute_result"
    }
   ],
   "source": [
    "train_metrics[0].result()"
   ]
  },
  {
   "cell_type": "code",
   "execution_count": 106,
   "metadata": {},
   "outputs": [
    {
     "name": "stderr",
     "output_type": "stream",
     "text": [
      "WARNING: Logging before flag parsing goes to stderr.\n",
      "I0528 08:47:44.704986 140735810999168 metric_utils.py:47]  \n",
      "\t\t NumberOfEpisodes = 0\n",
      "\t\t EnvironmentSteps = 0\n",
      "\t\t AverageReturn = 0.0\n",
      "\t\t AverageEpisodeLength = 0.0\n"
     ]
    }
   ],
   "source": [
    "from tf_agents.eval.metric_utils import log_metrics\n",
    "import logging\n",
    "logging.getLogger().setLevel(logging.INFO)\n",
    "log_metrics(train_metrics)"
   ]
  },
  {
   "cell_type": "markdown",
   "metadata": {},
   "source": [
    "Create the collect driver:"
   ]
  },
  {
   "cell_type": "code",
   "execution_count": 107,
   "metadata": {},
   "outputs": [],
   "source": [
    "from tf_agents.drivers.dynamic_step_driver import DynamicStepDriver\n",
    "\n",
    "collect_driver = DynamicStepDriver(\n",
    "    tf_env,\n",
    "    agent.collect_policy,\n",
    "    observers=[replay_buffer_observer] + train_metrics,\n",
    "    num_steps=update_period) # collect 4 steps for each training iteration"
   ]
  },
  {
   "cell_type": "markdown",
   "metadata": {},
   "source": [
    "Collect the initial experiences, before training:"
   ]
  },
  {
   "cell_type": "code",
   "execution_count": 108,
   "metadata": {},
   "outputs": [
    {
     "name": "stderr",
     "output_type": "stream",
     "text": [
      "W0528 08:47:44.747640 140735810999168 backprop.py:820] The dtype of the watched tensor must be floating (e.g. tf.float32), got tf.int64\n",
      "W0528 08:47:44.761187 140735810999168 backprop.py:820] The dtype of the watched tensor must be floating (e.g. tf.float32), got tf.int64\n",
      "W0528 08:47:44.765793 140735810999168 backprop.py:820] The dtype of the watched tensor must be floating (e.g. tf.float32), got tf.int64\n",
      "W0528 08:47:44.770788 140735810999168 backprop.py:820] The dtype of the watched tensor must be floating (e.g. tf.float32), got tf.int64\n",
      "W0528 08:47:44.775924 140735810999168 backprop.py:820] The dtype of the watched tensor must be floating (e.g. tf.float32), got tf.int64\n"
     ]
    },
    {
     "name": "stdout",
     "output_type": "stream",
     "text": [
      "20000/20000"
     ]
    }
   ],
   "source": [
    "from tf_agents.policies.random_tf_policy import RandomTFPolicy\n",
    "\n",
    "initial_collect_policy = RandomTFPolicy(tf_env.time_step_spec(),\n",
    "                                        tf_env.action_spec())\n",
    "init_driver = DynamicStepDriver(\n",
    "    tf_env,\n",
    "    initial_collect_policy,\n",
    "    observers=[replay_buffer.add_batch, ShowProgress(20000)],\n",
    "    num_steps=20000) # <=> 80,000 ALE frames\n",
    "final_time_step, final_policy_state = init_driver.run()"
   ]
  },
  {
   "cell_type": "markdown",
   "metadata": {},
   "source": [
    "Let's sample 2 sub-episodes, with 3 time steps each and display them:"
   ]
  },
  {
   "cell_type": "code",
   "execution_count": 109,
   "metadata": {},
   "outputs": [],
   "source": [
    "tf.random.set_seed(888) # chosen to show an example of trajectory at the end of an episode\n",
    "\n",
    "trajectories, buffer_info = replay_buffer.get_next(\n",
    "    sample_batch_size=2, num_steps=3)"
   ]
  },
  {
   "cell_type": "code",
   "execution_count": 110,
   "metadata": {},
   "outputs": [
    {
     "data": {
      "text/plain": [
       "('step_type',\n",
       " 'observation',\n",
       " 'action',\n",
       " 'policy_info',\n",
       " 'next_step_type',\n",
       " 'reward',\n",
       " 'discount')"
      ]
     },
     "execution_count": 110,
     "metadata": {},
     "output_type": "execute_result"
    }
   ],
   "source": [
    "trajectories._fields"
   ]
  },
  {
   "cell_type": "code",
   "execution_count": 111,
   "metadata": {},
   "outputs": [
    {
     "data": {
      "text/plain": [
       "TensorShape([2, 3, 84, 84, 4])"
      ]
     },
     "execution_count": 111,
     "metadata": {},
     "output_type": "execute_result"
    }
   ],
   "source": [
    "trajectories.observation.shape"
   ]
  },
  {
   "cell_type": "code",
   "execution_count": 112,
   "metadata": {},
   "outputs": [
    {
     "data": {
      "text/plain": [
       "TensorShape([2, 2, 84, 84, 4])"
      ]
     },
     "execution_count": 112,
     "metadata": {},
     "output_type": "execute_result"
    }
   ],
   "source": [
    "from tf_agents.trajectories.trajectory import to_transition\n",
    "\n",
    "time_steps, action_steps, next_time_steps = to_transition(trajectories)\n",
    "time_steps.observation.shape"
   ]
  },
  {
   "cell_type": "code",
   "execution_count": 113,
   "metadata": {},
   "outputs": [
    {
     "data": {
      "text/plain": [
       "array([[1, 1, 1],\n",
       "       [1, 1, 1]], dtype=int32)"
      ]
     },
     "execution_count": 113,
     "metadata": {},
     "output_type": "execute_result"
    }
   ],
   "source": [
    "trajectories.step_type.numpy()"
   ]
  },
  {
   "cell_type": "code",
   "execution_count": 114,
   "metadata": {},
   "outputs": [
    {
     "name": "stdout",
     "output_type": "stream",
     "text": [
      "Saving figure sub_episodes_plot\n"
     ]
    },
    {
     "data": {
      "image/png": "[encoded data removed]",
      "text/plain": [
       "<Figure size 720x489.6 with 6 Axes>"
      ]
     },
     "metadata": {
      "needs_background": "light"
     },
     "output_type": "display_data"
    }
   ],
   "source": [
    "plt.figure(figsize=(10, 6.8))\n",
    "for row in range(2):\n",
    "    for col in range(3):\n",
    "        plt.subplot(2, 3, row * 3 + col + 1)\n",
    "        plot_observation(trajectories.observation[row, col].numpy())\n",
    "plt.subplots_adjust(left=0, right=1, bottom=0, top=1, hspace=0, wspace=0.02)\n",
    "save_fig(\"sub_episodes_plot\")\n",
    "plt.show()"
   ]
  },
  {
   "cell_type": "markdown",
   "metadata": {},
   "source": [
    "Now let's create the dataset:"
   ]
  },
  {
   "cell_type": "code",
   "execution_count": 115,
   "metadata": {},
   "outputs": [],
   "source": [
    "dataset = replay_buffer.as_dataset(\n",
    "    sample_batch_size=64,\n",
    "    num_steps=2,\n",
    "    num_parallel_calls=3).prefetch(3)"
   ]
  },
  {
   "cell_type": "markdown",
   "metadata": {},
   "source": [
    "Convert the main functions to TF Functions for better performance:"
   ]
  },
  {
   "cell_type": "code",
   "execution_count": 116,
   "metadata": {},
   "outputs": [],
   "source": [
    "from tf_agents.utils.common import function\n",
    "\n",
    "collect_driver.run = function(collect_driver.run)\n",
    "agent.train = function(agent.train)"
   ]
  },
  {
   "cell_type": "markdown",
   "metadata": {},
   "source": [
    "And now we are ready to run the main loop!"
   ]
  },
  {
   "cell_type": "code",
   "execution_count": 117,
   "metadata": {},
   "outputs": [],
   "source": [
    "def train_agent(n_iterations):\n",
    "    time_step = None\n",
    "    policy_state = agent.collect_policy.get_initial_state(tf_env.batch_size)\n",
    "    iterator = iter(dataset)\n",
    "    for iteration in range(n_iterations):\n",
    "        time_step, policy_state = collect_driver.run(time_step, policy_state)\n",
    "        trajectories, buffer_info = next(iterator)\n",
    "        train_loss = agent.train(trajectories)\n",
    "        print(\"\\r{} loss:{:.5f}\".format(\n",
    "            iteration, train_loss.loss.numpy()), end=\"\")\n",
    "        if iteration % 1000 == 0:\n",
    "            log_metrics(train_metrics)"
   ]
  },
  {
   "cell_type": "markdown",
   "metadata": {},
   "source": [
    "Run the next cell to train the agent for 10,000 steps. Then look at its behavior by running the following cell. You can run these two cells as many times as you wish. The agent will keep improving!"
   ]
  },
  {
   "cell_type": "code",
   "execution_count": 118,
   "metadata": {},
   "outputs": [
    {
     "name": "stderr",
     "output_type": "stream",
     "text": [
      "W0528 08:49:00.697262 140735810999168 deprecation.py:323] From /Users/ageron/miniconda3/envs/tf2/lib/python3.6/site-packages/tensorflow/python/keras/optimizer_v2/learning_rate_schedule.py:409: div (from tensorflow.python.ops.math_ops) is deprecated and will be removed in a future version.\n",
      "Instructions for updating:\n",
      "Deprecated in favor of operator or tf.math.divide.\n",
      "W0528 08:49:01.475340 140735810999168 deprecation.py:323] From /Users/ageron/miniconda3/envs/tf2/lib/python3.6/site-packages/tensorflow/python/ops/math_grad.py:1220: add_dispatch_support.<locals>.wrapper (from tensorflow.python.ops.array_ops) is deprecated and will be removed in a future version.\n",
      "Instructions for updating:\n",
      "Use tf.where in 2.0, which has the same broadcast rule as np.where\n",
      "I0528 08:49:02.463025 140735810999168 metric_utils.py:47]  \n",
      "\t\t NumberOfEpisodes = 0\n",
      "\t\t EnvironmentSteps = 4\n",
      "\t\t AverageReturn = 0.0\n",
      "\t\t AverageEpisodeLength = 0.0\n"
     ]
    },
    {
     "name": "stdout",
     "output_type": "stream",
     "text": [
      "997 loss:0.01551"
     ]
    },
    {
     "name": "stderr",
     "output_type": "stream",
     "text": [
      "I0528 08:50:16.405580 140735810999168 metric_utils.py:47]  \n",
      "\t\t NumberOfEpisodes = 24\n",
      "\t\t EnvironmentSteps = 4004\n",
      "\t\t AverageReturn = 1.399999976158142\n",
      "\t\t AverageEpisodeLength = 180.5\n"
     ]
    },
    {
     "name": "stdout",
     "output_type": "stream",
     "text": [
      "2000 loss:0.00024"
     ]
    },
    {
     "name": "stderr",
     "output_type": "stream",
     "text": [
      "I0528 08:51:28.353239 140735810999168 metric_utils.py:47]  \n",
      "\t\t NumberOfEpisodes = 47\n",
      "\t\t EnvironmentSteps = 8004\n",
      "\t\t AverageReturn = 0.8999999761581421\n",
      "\t\t AverageEpisodeLength = 165.89999389648438\n"
     ]
    },
    {
     "name": "stdout",
     "output_type": "stream",
     "text": [
      "2997 loss:0.00010"
     ]
    },
    {
     "name": "stderr",
     "output_type": "stream",
     "text": [
      "I0528 08:52:36.316717 140735810999168 metric_utils.py:47]  \n",
      "\t\t NumberOfEpisodes = 69\n",
      "\t\t EnvironmentSteps = 12004\n",
      "\t\t AverageReturn = 0.800000011920929\n",
      "\t\t AverageEpisodeLength = 162.3000030517578\n"
     ]
    },
    {
     "name": "stdout",
     "output_type": "stream",
     "text": [
      "3999 loss:0.00751"
     ]
    },
    {
     "name": "stderr",
     "output_type": "stream",
     "text": [
      "I0528 08:53:47.764101 140735810999168 metric_utils.py:47]  \n",
      "\t\t NumberOfEpisodes = 92\n",
      "\t\t EnvironmentSteps = 16004\n",
      "\t\t AverageReturn = 0.699999988079071\n",
      "\t\t AverageEpisodeLength = 161.89999389648438\n"
     ]
    },
    {
     "name": "stdout",
     "output_type": "stream",
     "text": [
      "4997 loss:0.00032"
     ]
    },
    {
     "name": "stderr",
     "output_type": "stream",
     "text": [
      "I0528 08:54:57.040647 140735810999168 metric_utils.py:47]  \n",
      "\t\t NumberOfEpisodes = 111\n",
      "\t\t EnvironmentSteps = 20004\n",
      "\t\t AverageReturn = 1.0\n",
      "\t\t AverageEpisodeLength = 181.60000610351562\n"
     ]
    },
    {
     "name": "stdout",
     "output_type": "stream",
     "text": [
      "6000 loss:0.00006"
     ]
    },
    {
     "name": "stderr",
     "output_type": "stream",
     "text": [
      "I0528 08:56:07.210252 140735810999168 metric_utils.py:47]  \n",
      "\t\t NumberOfEpisodes = 131\n",
      "\t\t EnvironmentSteps = 24004\n",
      "\t\t AverageReturn = 1.7000000476837158\n",
      "\t\t AverageEpisodeLength = 206.39999389648438\n"
     ]
    },
    {
     "name": "stdout",
     "output_type": "stream",
     "text": [
      "6999 loss:0.00784"
     ]
    },
    {
     "name": "stderr",
     "output_type": "stream",
     "text": [
      "I0528 08:57:18.494511 140735810999168 metric_utils.py:47]  \n",
      "\t\t NumberOfEpisodes = 154\n",
      "\t\t EnvironmentSteps = 28004\n",
      "\t\t AverageReturn = 1.100000023841858\n",
      "\t\t AverageEpisodeLength = 182.6999969482422\n"
     ]
    },
    {
     "name": "stdout",
     "output_type": "stream",
     "text": [
      "7997 loss:0.00002"
     ]
    },
    {
     "name": "stderr",
     "output_type": "stream",
     "text": [
      "I0528 08:58:35.320452 140735810999168 metric_utils.py:47]  \n",
      "\t\t NumberOfEpisodes = 175\n",
      "\t\t EnvironmentSteps = 32004\n",
      "\t\t AverageReturn = 1.7999999523162842\n",
      "\t\t AverageEpisodeLength = 196.60000610351562\n"
     ]
    },
    {
     "name": "stdout",
     "output_type": "stream",
     "text": [
      "8997 loss:0.00749"
     ]
    },
    {
     "name": "stderr",
     "output_type": "stream",
     "text": [
      "I0528 08:59:51.332596 140735810999168 metric_utils.py:47]  \n",
      "\t\t NumberOfEpisodes = 195\n",
      "\t\t EnvironmentSteps = 36004\n",
      "\t\t AverageReturn = 1.100000023841858\n",
      "\t\t AverageEpisodeLength = 185.8000030517578\n"
     ]
    },
    {
     "name": "stdout",
     "output_type": "stream",
     "text": [
      "9999 loss:0.00001"
     ]
    }
   ],
   "source": [
    "train_agent(n_iterations=10000)"
   ]
  },
  {
   "cell_type": "code",
   "execution_count": 119,
   "metadata": {},
   "outputs": [],
   "source": [
    "frames = []\n",
    "def save_frames(trajectory):\n",
    "    global frames\n",
    "    frames.append(tf_env.pyenv.envs[0].render(mode=\"rgb_array\"))\n",
    "\n",
    "prev_lives = tf_env.pyenv.envs[0].ale.lives()\n",
    "def reset_and_fire_on_life_lost(trajectory):\n",
    "    global prev_lives\n",
    "    lives = tf_env.pyenv.envs[0].ale.lives()\n",
    "    if prev_lives != lives:\n",
    "        tf_env.reset()\n",
    "        tf_env.pyenv.envs[0].step(np.array(1))\n",
    "        prev_lives = lives\n",
    "\n",
    "watch_driver = DynamicStepDriver(\n",
    "    tf_env,\n",
    "    agent.policy,\n",
    "    observers=[save_frames, reset_and_fire_on_life_lost, ShowProgress(1000)],\n",
    "    num_steps=1000)\n",
    "final_time_step, final_policy_state = watch_driver.run()\n",
    "\n",
    "plot_animation(frames)"
   ]
  },
  {
   "cell_type": "markdown",
   "metadata": {},
   "source": [
    "If you want to save an animated GIF to show off your agent to your friends, here's one way to do it:"
   ]
  },
  {
   "cell_type": "code",
   "execution_count": 120,
   "metadata": {},
   "outputs": [],
   "source": [
    "import PIL\n",
    "\n",
    "image_path = os.path.join(\"images\", \"rl\", \"breakout.gif\")\n",
    "frame_images = [PIL.Image.fromarray(frame) for frame in frames[:150]]\n",
    "frame_images[0].save(image_path, format='GIF',\n",
    "                     append_images=frame_images[1:],\n",
    "                     save_all=True,\n",
    "                     duration=30,\n",
    "                     loop=0)"
   ]
  },
  {
   "cell_type": "code",
   "execution_count": 121,
   "metadata": {},
   "outputs": [
    {
     "data": {
      "text/html": [
       "<img src=\"images/rl/breakout.gif\" />\n"
      ],
      "text/plain": [
       "<IPython.core.display.HTML object>"
      ]
     },
     "metadata": {},
     "output_type": "display_data"
    }
   ],
   "source": [
    "%%html\n",
    "<img src=\"images/rl/breakout.gif\" />"
   ]
  },
  {
   "cell_type": "markdown",
   "metadata": {},
   "source": [
    "# Extra material"
   ]
  },
  {
   "cell_type": "markdown",
   "metadata": {},
   "source": [
    "## Deque vs Rotating List"
   ]
  },
  {
   "cell_type": "markdown",
   "metadata": {},
   "source": [
    "The `deque` class offers fast append, but fairly slow random access (for large replay memories):"
   ]
  },
  {
   "cell_type": "code",
   "execution_count": 122,
   "metadata": {},
   "outputs": [
    {
     "data": {
      "text/plain": [
       "[121958, 671155, 131932, 365838, 259178]"
      ]
     },
     "execution_count": 122,
     "metadata": {},
     "output_type": "execute_result"
    }
   ],
   "source": [
    "from collections import deque\n",
    "np.random.seed(42)\n",
    "\n",
    "mem = deque(maxlen=1000000)\n",
    "for i in range(1000000):\n",
    "    mem.append(i)\n",
    "[mem[i] for i in np.random.randint(1000000, size=5)]"
   ]
  },
  {
   "cell_type": "code",
   "execution_count": 123,
   "metadata": {},
   "outputs": [
    {
     "name": "stdout",
     "output_type": "stream",
     "text": [
      "76.8 ns ± 0.31 ns per loop (mean ± std. dev. of 7 runs, 10000000 loops each)\n"
     ]
    }
   ],
   "source": [
    "%timeit mem.append(1)"
   ]
  },
  {
   "cell_type": "code",
   "execution_count": 124,
   "metadata": {},
   "outputs": [
    {
     "name": "stdout",
     "output_type": "stream",
     "text": [
      "320 µs ± 23 µs per loop (mean ± std. dev. of 7 runs, 1000 loops each)\n"
     ]
    }
   ],
   "source": [
    "%timeit [mem[i] for i in np.random.randint(1000000, size=5)]"
   ]
  },
  {
   "cell_type": "markdown",
   "metadata": {},
   "source": [
    "Alternatively, you could use a rotating list like this `ReplayMemory` class. This would make random access faster for large replay memories:"
   ]
  },
  {
   "cell_type": "code",
   "execution_count": 125,
   "metadata": {},
   "outputs": [],
   "source": [
    "class ReplayMemory:\n",
    "    def __init__(self, max_size):\n",
    "        self.buffer = np.empty(max_size, dtype=np.object)\n",
    "        self.max_size = max_size\n",
    "        self.index = 0\n",
    "        self.size = 0\n",
    "\n",
    "    def append(self, obj):\n",
    "        self.buffer[self.index] = obj\n",
    "        self.size = min(self.size + 1, self.max_size)\n",
    "        self.index = (self.index + 1) % self.max_size\n",
    "\n",
    "    def sample(self, batch_size):\n",
    "        indices = np.random.randint(self.size, size=batch_size)\n",
    "        return self.buffer[indices]"
   ]
  },
  {
   "cell_type": "code",
   "execution_count": 126,
   "metadata": {},
   "outputs": [
    {
     "data": {
      "text/plain": [
       "array([757386, 904203, 190588, 595754, 865356], dtype=object)"
      ]
     },
     "execution_count": 126,
     "metadata": {},
     "output_type": "execute_result"
    }
   ],
   "source": [
    "mem = ReplayMemory(max_size=1000000)\n",
    "for i in range(1000000):\n",
    "    mem.append(i)\n",
    "mem.sample(5)"
   ]
  },
  {
   "cell_type": "code",
   "execution_count": 127,
   "metadata": {},
   "outputs": [
    {
     "name": "stdout",
     "output_type": "stream",
     "text": [
      "761 ns ± 17.6 ns per loop (mean ± std. dev. of 7 runs, 1000000 loops each)\n"
     ]
    }
   ],
   "source": [
    "%timeit mem.append(1)"
   ]
  },
  {
   "cell_type": "code",
   "execution_count": 128,
   "metadata": {},
   "outputs": [
    {
     "name": "stdout",
     "output_type": "stream",
     "text": [
      "2.97 µs ± 16.4 ns per loop (mean ± std. dev. of 7 runs, 100000 loops each)\n"
     ]
    }
   ],
   "source": [
    "%timeit mem.sample(5)"
   ]
  },
  {
   "cell_type": "markdown",
   "metadata": {},
   "source": [
    "## Creating a Custom TF-Agents Environment"
   ]
  },
  {
   "cell_type": "markdown",
   "metadata": {},
   "source": [
    "To create a custom TF-Agent environment, you just need to write a class that inherits from the `PyEnvironment` class and implements a few methods. For example, the following minimal environment represents a simple 4x4 grid. The agent starts in one corner (0,0) and must move to the opposite corner (3,3). The episode is done if the agent reaches the goal (it gets a +10 reward) or if the agent goes out of bounds (-1 reward). The actions are up (0), down (1), left (2) and right (3)."
   ]
  },
  {
   "cell_type": "code",
   "execution_count": 129,
   "metadata": {},
   "outputs": [],
   "source": [
    "class MyEnvironment(tf_agents.environments.py_environment.PyEnvironment):\n",
    "    def __init__(self, discount=1.0):\n",
    "        super().__init__()\n",
    "        self._action_spec = tf_agents.specs.BoundedArraySpec(\n",
    "            shape=(), dtype=np.int32, name=\"action\", minimum=0, maximum=3)\n",
    "        self._observation_spec = tf_agents.specs.BoundedArraySpec(\n",
    "            shape=(4, 4), dtype=np.int32, name=\"observation\", minimum=0, maximum=1)\n",
    "        self.discount = discount\n",
    "\n",
    "    def action_spec(self):\n",
    "        return self._action_spec\n",
    "\n",
    "    def observation_spec(self):\n",
    "        return self._observation_spec\n",
    "\n",
    "    def _reset(self):\n",
    "        self._state = np.zeros(2, dtype=np.int32)\n",
    "        obs = np.zeros((4, 4), dtype=np.int32)\n",
    "        obs[self._state[0], self._state[1]] = 1\n",
    "        return tf_agents.trajectories.time_step.restart(obs)\n",
    "\n",
    "    def _step(self, action):\n",
    "        self._state += [(-1, 0), (+1, 0), (0, -1), (0, +1)][action]\n",
    "        reward = 0\n",
    "        obs = np.zeros((4, 4), dtype=np.int32)\n",
    "        done = (self._state.min() < 0 or self._state.max() > 3)\n",
    "        if not done:\n",
    "            obs[self._state[0], self._state[1]] = 1\n",
    "        if done or np.all(self._state == np.array([3, 3])):\n",
    "            reward = -1 if done else +10\n",
    "            return tf_agents.trajectories.time_step.termination(obs, reward)\n",
    "        else:\n",
    "            return tf_agents.trajectories.time_step.transition(obs, reward,\n",
    "                                                               self.discount)"
   ]
  },
  {
   "cell_type": "markdown",
   "metadata": {},
   "source": [
    "The action and observation specs will generally be instances of the `ArraySpec` or `BoundedArraySpec` classes from the `tf_agents.specs` package (check out the other specs in this package as well). Optionally, you can also define a `render()` method, a `close()` method to free resources, as well as a `time_step_spec()` method if you don't want the `reward` and `discount` to be 32-bit float scalars. Note that the base class takes care of keeping track of the current time step, which is why we must implement `_reset()` and `_step()` rather than `reset()` and `step()`.\n"
   ]
  },
  {
   "cell_type": "code",
   "execution_count": 130,
   "metadata": {},
   "outputs": [
    {
     "data": {
      "text/plain": [
       "TimeStep(step_type=array(0, dtype=int32), reward=array(0., dtype=float32), discount=array(1., dtype=float32), observation=array([[1, 0, 0, 0],\n",
       "       [0, 0, 0, 0],\n",
       "       [0, 0, 0, 0],\n",
       "       [0, 0, 0, 0]], dtype=int32))"
      ]
     },
     "execution_count": 130,
     "metadata": {},
     "output_type": "execute_result"
    }
   ],
   "source": [
    "my_env = MyEnvironment()\n",
    "time_step = my_env.reset()\n",
    "time_step"
   ]
  },
  {
   "cell_type": "code",
   "execution_count": 131,
   "metadata": {},
   "outputs": [
    {
     "data": {
      "text/plain": [
       "TimeStep(step_type=array(1, dtype=int32), reward=array(0., dtype=float32), discount=array(1., dtype=float32), observation=array([[0, 0, 0, 0],\n",
       "       [1, 0, 0, 0],\n",
       "       [0, 0, 0, 0],\n",
       "       [0, 0, 0, 0]], dtype=int32))"
      ]
     },
     "execution_count": 131,
     "metadata": {},
     "output_type": "execute_result"
    }
   ],
   "source": [
    "time_step = my_env.step(1)\n",
    "time_step"
   ]
  },
  {
   "cell_type": "code",
   "execution_count": null,
   "metadata": {},
   "outputs": [],
   "source": []
  }
 ],
 "metadata": {
  "kernelspec": {
   "display_name": "Python 3",
   "language": "python",
   "name": "python3"
  },
  "language_info": {
   "codemirror_mode": {
    "name": "ipython",
    "version": 3
   },
   "file_extension": ".py",
   "mimetype": "text/x-python",
   "name": "python",
   "nbconvert_exporter": "python",
   "pygments_lexer": "ipython3",
   "version": "3.7.8"
  }
 },
 "nbformat": 4,
 "nbformat_minor": 4
}
